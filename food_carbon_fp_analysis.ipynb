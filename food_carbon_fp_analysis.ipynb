{
 "cells": [
  {
   "cell_type": "code",
   "execution_count": 64,
   "metadata": {},
   "outputs": [],
   "source": [
    "from sqlalchemy import create_engine\n",
    "from local_settings import postgresql as settings"
   ]
  },
  {
   "cell_type": "code",
   "execution_count": 65,
   "metadata": {},
   "outputs": [],
   "source": [
    "def get_engine(user, passwd, host, port, db):\n",
    "    url = f\"mssql+pyodbc://{user}:{passwd}@{host},{port}/{db}?driver=ODBC+Driver+17+for+SQL+Server\"\n",
    "    engine = create_engine(url, pool_size= 50, echo= False)\n",
    "\n",
    "    return engine"
   ]
  },
  {
   "cell_type": "code",
   "execution_count": 66,
   "metadata": {},
   "outputs": [],
   "source": [
    "engine = get_engine(\n",
    "    user= settings['pguser'],\n",
    "    passwd=settings['pgpasswd'],\n",
    "    host=settings['pghost'],\n",
    "    port=settings['pgport'],\n",
    "    db=settings['pgdb']\n",
    ")\n",
    "\n",
    "connection = engine.connect()"
   ]
  },
  {
   "cell_type": "code",
   "execution_count": 67,
   "metadata": {},
   "outputs": [
    {
     "name": "stdout",
     "output_type": "stream",
     "text": [
      "['foodprint_2018']\n"
     ]
    }
   ],
   "source": [
    "from sqlalchemy import inspect, MetaData, Table, func\n",
    "\n",
    "\n",
    "inspector = inspect(engine)\n",
    "print(inspector.get_table_names())"
   ]
  },
  {
   "cell_type": "code",
   "execution_count": 68,
   "metadata": {},
   "outputs": [
    {
     "name": "stdout",
     "output_type": "stream",
     "text": [
      "['Id', 'Country', 'Product', 'Metric', 'Value']\n"
     ]
    }
   ],
   "source": [
    "metadata = MetaData()\n",
    "\n",
    "foodprint_2018 = Table('foodprint_2018', metadata, autoload= True, autoload_with= engine)\n",
    "\n",
    "print(foodprint_2018.columns.keys())"
   ]
  },
  {
   "cell_type": "code",
   "execution_count": 69,
   "metadata": {},
   "outputs": [
    {
     "data": {
      "text/html": [
       "<div>\n",
       "<style scoped>\n",
       "    .dataframe tbody tr th:only-of-type {\n",
       "        vertical-align: middle;\n",
       "    }\n",
       "\n",
       "    .dataframe tbody tr th {\n",
       "        vertical-align: top;\n",
       "    }\n",
       "\n",
       "    .dataframe thead th {\n",
       "        text-align: right;\n",
       "    }\n",
       "</style>\n",
       "<table border=\"1\" class=\"dataframe\">\n",
       "  <thead>\n",
       "    <tr style=\"text-align: right;\">\n",
       "      <th></th>\n",
       "      <th>Id</th>\n",
       "      <th>Country</th>\n",
       "      <th>Product</th>\n",
       "      <th>Metric</th>\n",
       "      <th>Value</th>\n",
       "    </tr>\n",
       "  </thead>\n",
       "  <tbody>\n",
       "    <tr>\n",
       "      <th>0</th>\n",
       "      <td>1</td>\n",
       "      <td>Argentina</td>\n",
       "      <td>Pork</td>\n",
       "      <td>Supplied for Consumption (kg/person/year)</td>\n",
       "      <td>10.51</td>\n",
       "    </tr>\n",
       "    <tr>\n",
       "      <th>1</th>\n",
       "      <td>2</td>\n",
       "      <td>Australia</td>\n",
       "      <td>Pork</td>\n",
       "      <td>Supplied for Consumption (kg/person/year)</td>\n",
       "      <td>24.14</td>\n",
       "    </tr>\n",
       "    <tr>\n",
       "      <th>2</th>\n",
       "      <td>3</td>\n",
       "      <td>Albania</td>\n",
       "      <td>Pork</td>\n",
       "      <td>Supplied for Consumption (kg/person/year)</td>\n",
       "      <td>10.88</td>\n",
       "    </tr>\n",
       "    <tr>\n",
       "      <th>3</th>\n",
       "      <td>4</td>\n",
       "      <td>Iceland</td>\n",
       "      <td>Pork</td>\n",
       "      <td>Supplied for Consumption (kg/person/year)</td>\n",
       "      <td>21.69</td>\n",
       "    </tr>\n",
       "    <tr>\n",
       "      <th>4</th>\n",
       "      <td>5</td>\n",
       "      <td>New Zealand</td>\n",
       "      <td>Pork</td>\n",
       "      <td>Supplied for Consumption (kg/person/year)</td>\n",
       "      <td>22.29</td>\n",
       "    </tr>\n",
       "    <tr>\n",
       "      <th>5</th>\n",
       "      <td>6</td>\n",
       "      <td>USA</td>\n",
       "      <td>Pork</td>\n",
       "      <td>Supplied for Consumption (kg/person/year)</td>\n",
       "      <td>27.64</td>\n",
       "    </tr>\n",
       "    <tr>\n",
       "      <th>6</th>\n",
       "      <td>7</td>\n",
       "      <td>Uruguay</td>\n",
       "      <td>Pork</td>\n",
       "      <td>Supplied for Consumption (kg/person/year)</td>\n",
       "      <td>16.84</td>\n",
       "    </tr>\n",
       "    <tr>\n",
       "      <th>7</th>\n",
       "      <td>8</td>\n",
       "      <td>Luxembourg</td>\n",
       "      <td>Pork</td>\n",
       "      <td>Supplied for Consumption (kg/person/year)</td>\n",
       "      <td>43.58</td>\n",
       "    </tr>\n",
       "    <tr>\n",
       "      <th>8</th>\n",
       "      <td>9</td>\n",
       "      <td>Brazil</td>\n",
       "      <td>Pork</td>\n",
       "      <td>Supplied for Consumption (kg/person/year)</td>\n",
       "      <td>12.6</td>\n",
       "    </tr>\n",
       "    <tr>\n",
       "      <th>9</th>\n",
       "      <td>10</td>\n",
       "      <td>Kazakhstan</td>\n",
       "      <td>Pork</td>\n",
       "      <td>Supplied for Consumption (kg/person/year)</td>\n",
       "      <td>10.36</td>\n",
       "    </tr>\n",
       "  </tbody>\n",
       "</table>\n",
       "</div>"
      ],
      "text/plain": [
       "   Id      Country Product                                     Metric  Value\n",
       "0   1    Argentina    Pork  Supplied for Consumption (kg/person/year)  10.51\n",
       "1   2    Australia    Pork  Supplied for Consumption (kg/person/year)  24.14\n",
       "2   3      Albania    Pork  Supplied for Consumption (kg/person/year)  10.88\n",
       "3   4      Iceland    Pork  Supplied for Consumption (kg/person/year)  21.69\n",
       "4   5  New Zealand    Pork  Supplied for Consumption (kg/person/year)  22.29\n",
       "5   6          USA    Pork  Supplied for Consumption (kg/person/year)  27.64\n",
       "6   7      Uruguay    Pork  Supplied for Consumption (kg/person/year)  16.84\n",
       "7   8   Luxembourg    Pork  Supplied for Consumption (kg/person/year)  43.58\n",
       "8   9       Brazil    Pork  Supplied for Consumption (kg/person/year)   12.6\n",
       "9  10   Kazakhstan    Pork  Supplied for Consumption (kg/person/year)  10.36"
      ]
     },
     "execution_count": 69,
     "metadata": {},
     "output_type": "execute_result"
    }
   ],
   "source": [
    "from sqlalchemy import select\n",
    "import pandas as pd\n",
    "import matplotlib.pyplot as plt\n",
    "import plotly.express as px\n",
    "\n",
    "\n",
    "def sql_query(query):\n",
    "    ### Read SQL queries\n",
    "    return pd.read_sql_query(query, connection)\n",
    "\n",
    "\n",
    "# Print the first 10 rows \n",
    "query = \"\"\"\n",
    "    SELECT TOP 10 * \n",
    "        FROM foodprint_2018\n",
    "    \"\"\"\n",
    "\n",
    "sql_query(query)"
   ]
  },
  {
   "cell_type": "markdown",
   "metadata": {},
   "source": [
    "##### Exploratory Data Analysis"
   ]
  },
  {
   "cell_type": "markdown",
   "metadata": {},
   "source": [
    "* Are there missing values in the dataset?"
   ]
  },
  {
   "cell_type": "code",
   "execution_count": 75,
   "metadata": {},
   "outputs": [
    {
     "name": "stdout",
     "output_type": "stream",
     "text": [
      "Null values in Id: 0\n",
      "Null values in Country: 0\n",
      "Null values in Product: 0\n",
      "Null values in Metric: 0\n",
      "Null values in Value: 0\n"
     ]
    }
   ],
   "source": [
    "for col in foodprint_2018.columns:\n",
    "    stmt = select(func.count()).where(col.is_(None))\n",
    "    result = connection.execute(stmt).scalar()\n",
    "    print(f\"Null values in {col.name}: {result}\")"
   ]
  },
  {
   "cell_type": "markdown",
   "metadata": {},
   "source": [
    "* What are the Products and Metrics under analysis?"
   ]
  },
  {
   "cell_type": "code",
   "execution_count": 25,
   "metadata": {},
   "outputs": [
    {
     "data": {
      "text/html": [
       "<div>\n",
       "<style scoped>\n",
       "    .dataframe tbody tr th:only-of-type {\n",
       "        vertical-align: middle;\n",
       "    }\n",
       "\n",
       "    .dataframe tbody tr th {\n",
       "        vertical-align: top;\n",
       "    }\n",
       "\n",
       "    .dataframe thead th {\n",
       "        text-align: right;\n",
       "    }\n",
       "</style>\n",
       "<table border=\"1\" class=\"dataframe\">\n",
       "  <thead>\n",
       "    <tr style=\"text-align: right;\">\n",
       "      <th></th>\n",
       "      <th>Product</th>\n",
       "      <th>Metric</th>\n",
       "    </tr>\n",
       "  </thead>\n",
       "  <tbody>\n",
       "    <tr>\n",
       "      <th>0</th>\n",
       "      <td>Animal products</td>\n",
       "      <td>Total Kg CO2/year/person</td>\n",
       "    </tr>\n",
       "    <tr>\n",
       "      <th>1</th>\n",
       "      <td>Beef</td>\n",
       "      <td>Kg CO2/person/year</td>\n",
       "    </tr>\n",
       "    <tr>\n",
       "      <th>2</th>\n",
       "      <td>Beef</td>\n",
       "      <td>Supplied for Consumption (kg/person/year)</td>\n",
       "    </tr>\n",
       "    <tr>\n",
       "      <th>3</th>\n",
       "      <td>Difference Animal Non-Animals</td>\n",
       "      <td>Products/person/year in kg</td>\n",
       "    </tr>\n",
       "    <tr>\n",
       "      <th>4</th>\n",
       "      <td>Eggs</td>\n",
       "      <td>Kg CO2/person/year</td>\n",
       "    </tr>\n",
       "    <tr>\n",
       "      <th>5</th>\n",
       "      <td>Eggs</td>\n",
       "      <td>Supplied for Consumption (kg/person/year)</td>\n",
       "    </tr>\n",
       "    <tr>\n",
       "      <th>6</th>\n",
       "      <td>Fish</td>\n",
       "      <td>Kg CO2/person/year</td>\n",
       "    </tr>\n",
       "    <tr>\n",
       "      <th>7</th>\n",
       "      <td>Fish</td>\n",
       "      <td>Supplied for Consumption (kg/person/year)</td>\n",
       "    </tr>\n",
       "    <tr>\n",
       "      <th>8</th>\n",
       "      <td>Lamb &amp; Goat</td>\n",
       "      <td>Kg CO2/person/year</td>\n",
       "    </tr>\n",
       "    <tr>\n",
       "      <th>9</th>\n",
       "      <td>Lamb &amp; Goat</td>\n",
       "      <td>Supplied for Consumption (kg/person/year)</td>\n",
       "    </tr>\n",
       "    <tr>\n",
       "      <th>10</th>\n",
       "      <td>Milk - inc. Cheese</td>\n",
       "      <td>Kg CO2/person/year</td>\n",
       "    </tr>\n",
       "    <tr>\n",
       "      <th>11</th>\n",
       "      <td>Milk - inc. Cheese</td>\n",
       "      <td>Supplied for Consumption (kg/person/year)</td>\n",
       "    </tr>\n",
       "    <tr>\n",
       "      <th>12</th>\n",
       "      <td>Non-animal products</td>\n",
       "      <td>Total Kg CO2/year/person</td>\n",
       "    </tr>\n",
       "    <tr>\n",
       "      <th>13</th>\n",
       "      <td>Nuts inc. Peanut Butter</td>\n",
       "      <td>Kg CO2/person/year</td>\n",
       "    </tr>\n",
       "    <tr>\n",
       "      <th>14</th>\n",
       "      <td>Nuts inc. Peanut Butter</td>\n",
       "      <td>Supplied for Consumption (kg/person/year)</td>\n",
       "    </tr>\n",
       "    <tr>\n",
       "      <th>15</th>\n",
       "      <td>Pork</td>\n",
       "      <td>Kg CO2/person/year</td>\n",
       "    </tr>\n",
       "    <tr>\n",
       "      <th>16</th>\n",
       "      <td>Pork</td>\n",
       "      <td>Supplied for Consumption (kg/person/year)</td>\n",
       "    </tr>\n",
       "    <tr>\n",
       "      <th>17</th>\n",
       "      <td>Poultry</td>\n",
       "      <td>Kg CO2/person/year</td>\n",
       "    </tr>\n",
       "    <tr>\n",
       "      <th>18</th>\n",
       "      <td>Poultry</td>\n",
       "      <td>Supplied for Consumption (kg/person/year)</td>\n",
       "    </tr>\n",
       "    <tr>\n",
       "      <th>19</th>\n",
       "      <td>Rice</td>\n",
       "      <td>Kg CO2/person/year</td>\n",
       "    </tr>\n",
       "    <tr>\n",
       "      <th>20</th>\n",
       "      <td>Rice</td>\n",
       "      <td>Supplied for Consumption (kg/person/year)</td>\n",
       "    </tr>\n",
       "    <tr>\n",
       "      <th>21</th>\n",
       "      <td>Soybeans</td>\n",
       "      <td>Kg CO2/person/year</td>\n",
       "    </tr>\n",
       "    <tr>\n",
       "      <th>22</th>\n",
       "      <td>Soybeans</td>\n",
       "      <td>Supplied for Consumption (kg/person/year)</td>\n",
       "    </tr>\n",
       "    <tr>\n",
       "      <th>23</th>\n",
       "      <td>Wheat &amp; Wheat Products</td>\n",
       "      <td>Kg CO2/person/year</td>\n",
       "    </tr>\n",
       "    <tr>\n",
       "      <th>24</th>\n",
       "      <td>Wheat &amp; Wheat Products</td>\n",
       "      <td>Supplied for Consumption (kg/person/year)</td>\n",
       "    </tr>\n",
       "  </tbody>\n",
       "</table>\n",
       "</div>"
      ],
      "text/plain": [
       "                          Product                                     Metric\n",
       "0                 Animal products                   Total Kg CO2/year/person\n",
       "1                            Beef                         Kg CO2/person/year\n",
       "2                            Beef  Supplied for Consumption (kg/person/year)\n",
       "3   Difference Animal Non-Animals                 Products/person/year in kg\n",
       "4                            Eggs                         Kg CO2/person/year\n",
       "5                            Eggs  Supplied for Consumption (kg/person/year)\n",
       "6                            Fish                         Kg CO2/person/year\n",
       "7                            Fish  Supplied for Consumption (kg/person/year)\n",
       "8                     Lamb & Goat                         Kg CO2/person/year\n",
       "9                     Lamb & Goat  Supplied for Consumption (kg/person/year)\n",
       "10             Milk - inc. Cheese                         Kg CO2/person/year\n",
       "11             Milk - inc. Cheese  Supplied for Consumption (kg/person/year)\n",
       "12            Non-animal products                   Total Kg CO2/year/person\n",
       "13        Nuts inc. Peanut Butter                         Kg CO2/person/year\n",
       "14        Nuts inc. Peanut Butter  Supplied for Consumption (kg/person/year)\n",
       "15                           Pork                         Kg CO2/person/year\n",
       "16                           Pork  Supplied for Consumption (kg/person/year)\n",
       "17                        Poultry                         Kg CO2/person/year\n",
       "18                        Poultry  Supplied for Consumption (kg/person/year)\n",
       "19                           Rice                         Kg CO2/person/year\n",
       "20                           Rice  Supplied for Consumption (kg/person/year)\n",
       "21                       Soybeans                         Kg CO2/person/year\n",
       "22                       Soybeans  Supplied for Consumption (kg/person/year)\n",
       "23         Wheat & Wheat Products                         Kg CO2/person/year\n",
       "24         Wheat & Wheat Products  Supplied for Consumption (kg/person/year)"
      ]
     },
     "execution_count": 25,
     "metadata": {},
     "output_type": "execute_result"
    }
   ],
   "source": [
    "stmt = select(foodprint_2018.columns.Product.distinct(), foodprint_2018.columns.Metric)\n",
    "stmt = stmt.order_by(foodprint_2018.columns.Product, foodprint_2018.columns.Metric)\n",
    "\n",
    "pd.DataFrame(connection.execute(stmt), \n",
    "             columns= [foodprint_2018.columns.keys()[2], foodprint_2018.columns.keys()[3]])"
   ]
  },
  {
   "cell_type": "markdown",
   "metadata": {},
   "source": [
    "* Number of countries analysed for each product"
   ]
  },
  {
   "cell_type": "code",
   "execution_count": 9,
   "metadata": {},
   "outputs": [
    {
     "name": "stdout",
     "output_type": "stream",
     "text": [
      "SELECT foodprint_2018.\"Product\", count(DISTINCT foodprint_2018.\"Country\") AS \"Number of countries\" \n",
      "FROM foodprint_2018 GROUP BY foodprint_2018.\"Product\" ORDER BY foodprint_2018.\"Product\" \n",
      "\n"
     ]
    },
    {
     "data": {
      "text/html": [
       "<div>\n",
       "<style scoped>\n",
       "    .dataframe tbody tr th:only-of-type {\n",
       "        vertical-align: middle;\n",
       "    }\n",
       "\n",
       "    .dataframe tbody tr th {\n",
       "        vertical-align: top;\n",
       "    }\n",
       "\n",
       "    .dataframe thead th {\n",
       "        text-align: right;\n",
       "    }\n",
       "</style>\n",
       "<table border=\"1\" class=\"dataframe\">\n",
       "  <thead>\n",
       "    <tr style=\"text-align: right;\">\n",
       "      <th></th>\n",
       "      <th>Product</th>\n",
       "      <th>Number of countries</th>\n",
       "    </tr>\n",
       "  </thead>\n",
       "  <tbody>\n",
       "    <tr>\n",
       "      <th>0</th>\n",
       "      <td>Animal products</td>\n",
       "      <td>130</td>\n",
       "    </tr>\n",
       "    <tr>\n",
       "      <th>1</th>\n",
       "      <td>Beef</td>\n",
       "      <td>130</td>\n",
       "    </tr>\n",
       "    <tr>\n",
       "      <th>2</th>\n",
       "      <td>Difference Animal Non-Animals</td>\n",
       "      <td>130</td>\n",
       "    </tr>\n",
       "    <tr>\n",
       "      <th>3</th>\n",
       "      <td>Eggs</td>\n",
       "      <td>130</td>\n",
       "    </tr>\n",
       "    <tr>\n",
       "      <th>4</th>\n",
       "      <td>Fish</td>\n",
       "      <td>130</td>\n",
       "    </tr>\n",
       "    <tr>\n",
       "      <th>5</th>\n",
       "      <td>Lamb &amp; Goat</td>\n",
       "      <td>130</td>\n",
       "    </tr>\n",
       "    <tr>\n",
       "      <th>6</th>\n",
       "      <td>Milk - inc. Cheese</td>\n",
       "      <td>130</td>\n",
       "    </tr>\n",
       "    <tr>\n",
       "      <th>7</th>\n",
       "      <td>Non-animal products</td>\n",
       "      <td>130</td>\n",
       "    </tr>\n",
       "    <tr>\n",
       "      <th>8</th>\n",
       "      <td>Nuts inc. Peanut Butter</td>\n",
       "      <td>130</td>\n",
       "    </tr>\n",
       "    <tr>\n",
       "      <th>9</th>\n",
       "      <td>Pork</td>\n",
       "      <td>130</td>\n",
       "    </tr>\n",
       "    <tr>\n",
       "      <th>10</th>\n",
       "      <td>Poultry</td>\n",
       "      <td>130</td>\n",
       "    </tr>\n",
       "    <tr>\n",
       "      <th>11</th>\n",
       "      <td>Rice</td>\n",
       "      <td>130</td>\n",
       "    </tr>\n",
       "    <tr>\n",
       "      <th>12</th>\n",
       "      <td>Soybeans</td>\n",
       "      <td>130</td>\n",
       "    </tr>\n",
       "    <tr>\n",
       "      <th>13</th>\n",
       "      <td>Wheat &amp; Wheat Products</td>\n",
       "      <td>130</td>\n",
       "    </tr>\n",
       "  </tbody>\n",
       "</table>\n",
       "</div>"
      ],
      "text/plain": [
       "                          Product  Number of countries\n",
       "0                 Animal products                  130\n",
       "1                            Beef                  130\n",
       "2   Difference Animal Non-Animals                  130\n",
       "3                            Eggs                  130\n",
       "4                            Fish                  130\n",
       "5                     Lamb & Goat                  130\n",
       "6              Milk - inc. Cheese                  130\n",
       "7             Non-animal products                  130\n",
       "8         Nuts inc. Peanut Butter                  130\n",
       "9                            Pork                  130\n",
       "10                        Poultry                  130\n",
       "11                           Rice                  130\n",
       "12                       Soybeans                  130\n",
       "13         Wheat & Wheat Products                  130"
      ]
     },
     "execution_count": 9,
     "metadata": {},
     "output_type": "execute_result"
    }
   ],
   "source": [
    "stmt = select(foodprint_2018.columns.Product,\n",
    "              func.count(foodprint_2018.columns.Country.distinct()).label('Number of countries'))\n",
    "\n",
    "stmt = stmt.group_by(foodprint_2018.columns.Product)\n",
    "stmt = stmt.order_by(foodprint_2018.columns.Product)\n",
    "\n",
    "print(stmt, '\\n')\n",
    "\n",
    "pd.DataFrame(connection.execute(stmt).fetchall(), columns= ['Product', 'Number of countries'])"
   ]
  },
  {
   "cell_type": "markdown",
   "metadata": {},
   "source": [
    "* Distribution of both metrics"
   ]
  },
  {
   "cell_type": "code",
   "execution_count": 55,
   "metadata": {},
   "outputs": [
    {
     "data": {
      "text/html": [
       "<div>\n",
       "<style scoped>\n",
       "    .dataframe tbody tr th:only-of-type {\n",
       "        vertical-align: middle;\n",
       "    }\n",
       "\n",
       "    .dataframe tbody tr th {\n",
       "        vertical-align: top;\n",
       "    }\n",
       "\n",
       "    .dataframe thead th {\n",
       "        text-align: right;\n",
       "    }\n",
       "</style>\n",
       "<table border=\"1\" class=\"dataframe\">\n",
       "  <thead>\n",
       "    <tr style=\"text-align: right;\">\n",
       "      <th></th>\n",
       "      <th>index</th>\n",
       "      <th>Country</th>\n",
       "      <th>Product</th>\n",
       "      <th>Metric</th>\n",
       "      <th>Value</th>\n",
       "    </tr>\n",
       "  </thead>\n",
       "  <tbody>\n",
       "    <tr>\n",
       "      <th>0</th>\n",
       "      <td>0</td>\n",
       "      <td>Argentina</td>\n",
       "      <td>Pork</td>\n",
       "      <td>Supplied for Consumption (kg/person/year)</td>\n",
       "      <td>10.51</td>\n",
       "    </tr>\n",
       "    <tr>\n",
       "      <th>1</th>\n",
       "      <td>1</td>\n",
       "      <td>Australia</td>\n",
       "      <td>Pork</td>\n",
       "      <td>Supplied for Consumption (kg/person/year)</td>\n",
       "      <td>24.14</td>\n",
       "    </tr>\n",
       "    <tr>\n",
       "      <th>2</th>\n",
       "      <td>2</td>\n",
       "      <td>Albania</td>\n",
       "      <td>Pork</td>\n",
       "      <td>Supplied for Consumption (kg/person/year)</td>\n",
       "      <td>10.88</td>\n",
       "    </tr>\n",
       "    <tr>\n",
       "      <th>3</th>\n",
       "      <td>3</td>\n",
       "      <td>Iceland</td>\n",
       "      <td>Pork</td>\n",
       "      <td>Supplied for Consumption (kg/person/year)</td>\n",
       "      <td>21.69</td>\n",
       "    </tr>\n",
       "    <tr>\n",
       "      <th>4</th>\n",
       "      <td>4</td>\n",
       "      <td>New Zealand</td>\n",
       "      <td>Pork</td>\n",
       "      <td>Supplied for Consumption (kg/person/year)</td>\n",
       "      <td>22.29</td>\n",
       "    </tr>\n",
       "  </tbody>\n",
       "</table>\n",
       "</div>"
      ],
      "text/plain": [
       "   index      Country Product                                     Metric  \\\n",
       "0      0    Argentina    Pork  Supplied for Consumption (kg/person/year)   \n",
       "1      1    Australia    Pork  Supplied for Consumption (kg/person/year)   \n",
       "2      2      Albania    Pork  Supplied for Consumption (kg/person/year)   \n",
       "3      3      Iceland    Pork  Supplied for Consumption (kg/person/year)   \n",
       "4      4  New Zealand    Pork  Supplied for Consumption (kg/person/year)   \n",
       "\n",
       "   Value  \n",
       "0  10.51  \n",
       "1  24.14  \n",
       "2  10.88  \n",
       "3  21.69  \n",
       "4  22.29  "
      ]
     },
     "execution_count": 55,
     "metadata": {},
     "output_type": "execute_result"
    }
   ],
   "source": [
    "fp_df.head()"
   ]
  },
  {
   "cell_type": "code",
   "execution_count": 85,
   "metadata": {},
   "outputs": [
    {
     "data": {
      "application/vnd.plotly.v1+json": {
       "config": {
        "plotlyServerURL": "https://plot.ly"
       },
       "data": [
        {
         "bingroup": "x",
         "hovertemplate": "Value=%{x}<br>count=%{y}<extra></extra>",
         "legendgroup": "",
         "marker": {
          "color": "#636efa",
          "pattern": {
           "shape": ""
          }
         },
         "name": "",
         "orientation": "v",
         "showlegend": false,
         "type": "histogram",
         "x": {
          "bdata": "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",
          "dtype": "f8"
         },
         "xaxis": "x",
         "yaxis": "y"
        }
       ],
       "layout": {
        "barmode": "relative",
        "legend": {
         "tracegroupgap": 0
        },
        "margin": {
         "t": 60
        },
        "template": {
         "data": {
          "bar": [
           {
            "error_x": {
             "color": "#2a3f5f"
            },
            "error_y": {
             "color": "#2a3f5f"
            },
            "marker": {
             "line": {
              "color": "#E5ECF6",
              "width": 0.5
             },
             "pattern": {
              "fillmode": "overlay",
              "size": 10,
              "solidity": 0.2
             }
            },
            "type": "bar"
           }
          ],
          "barpolar": [
           {
            "marker": {
             "line": {
              "color": "#E5ECF6",
              "width": 0.5
             },
             "pattern": {
              "fillmode": "overlay",
              "size": 10,
              "solidity": 0.2
             }
            },
            "type": "barpolar"
           }
          ],
          "carpet": [
           {
            "aaxis": {
             "endlinecolor": "#2a3f5f",
             "gridcolor": "white",
             "linecolor": "white",
             "minorgridcolor": "white",
             "startlinecolor": "#2a3f5f"
            },
            "baxis": {
             "endlinecolor": "#2a3f5f",
             "gridcolor": "white",
             "linecolor": "white",
             "minorgridcolor": "white",
             "startlinecolor": "#2a3f5f"
            },
            "type": "carpet"
           }
          ],
          "choropleth": [
           {
            "colorbar": {
             "outlinewidth": 0,
             "ticks": ""
            },
            "type": "choropleth"
           }
          ],
          "contour": [
           {
            "colorbar": {
             "outlinewidth": 0,
             "ticks": ""
            },
            "colorscale": [
             [
              0,
              "#0d0887"
             ],
             [
              0.1111111111111111,
              "#46039f"
             ],
             [
              0.2222222222222222,
              "#7201a8"
             ],
             [
              0.3333333333333333,
              "#9c179e"
             ],
             [
              0.4444444444444444,
              "#bd3786"
             ],
             [
              0.5555555555555556,
              "#d8576b"
             ],
             [
              0.6666666666666666,
              "#ed7953"
             ],
             [
              0.7777777777777778,
              "#fb9f3a"
             ],
             [
              0.8888888888888888,
              "#fdca26"
             ],
             [
              1,
              "#f0f921"
             ]
            ],
            "type": "contour"
           }
          ],
          "contourcarpet": [
           {
            "colorbar": {
             "outlinewidth": 0,
             "ticks": ""
            },
            "type": "contourcarpet"
           }
          ],
          "heatmap": [
           {
            "colorbar": {
             "outlinewidth": 0,
             "ticks": ""
            },
            "colorscale": [
             [
              0,
              "#0d0887"
             ],
             [
              0.1111111111111111,
              "#46039f"
             ],
             [
              0.2222222222222222,
              "#7201a8"
             ],
             [
              0.3333333333333333,
              "#9c179e"
             ],
             [
              0.4444444444444444,
              "#bd3786"
             ],
             [
              0.5555555555555556,
              "#d8576b"
             ],
             [
              0.6666666666666666,
              "#ed7953"
             ],
             [
              0.7777777777777778,
              "#fb9f3a"
             ],
             [
              0.8888888888888888,
              "#fdca26"
             ],
             [
              1,
              "#f0f921"
             ]
            ],
            "type": "heatmap"
           }
          ],
          "histogram": [
           {
            "marker": {
             "pattern": {
              "fillmode": "overlay",
              "size": 10,
              "solidity": 0.2
             }
            },
            "type": "histogram"
           }
          ],
          "histogram2d": [
           {
            "colorbar": {
             "outlinewidth": 0,
             "ticks": ""
            },
            "colorscale": [
             [
              0,
              "#0d0887"
             ],
             [
              0.1111111111111111,
              "#46039f"
             ],
             [
              0.2222222222222222,
              "#7201a8"
             ],
             [
              0.3333333333333333,
              "#9c179e"
             ],
             [
              0.4444444444444444,
              "#bd3786"
             ],
             [
              0.5555555555555556,
              "#d8576b"
             ],
             [
              0.6666666666666666,
              "#ed7953"
             ],
             [
              0.7777777777777778,
              "#fb9f3a"
             ],
             [
              0.8888888888888888,
              "#fdca26"
             ],
             [
              1,
              "#f0f921"
             ]
            ],
            "type": "histogram2d"
           }
          ],
          "histogram2dcontour": [
           {
            "colorbar": {
             "outlinewidth": 0,
             "ticks": ""
            },
            "colorscale": [
             [
              0,
              "#0d0887"
             ],
             [
              0.1111111111111111,
              "#46039f"
             ],
             [
              0.2222222222222222,
              "#7201a8"
             ],
             [
              0.3333333333333333,
              "#9c179e"
             ],
             [
              0.4444444444444444,
              "#bd3786"
             ],
             [
              0.5555555555555556,
              "#d8576b"
             ],
             [
              0.6666666666666666,
              "#ed7953"
             ],
             [
              0.7777777777777778,
              "#fb9f3a"
             ],
             [
              0.8888888888888888,
              "#fdca26"
             ],
             [
              1,
              "#f0f921"
             ]
            ],
            "type": "histogram2dcontour"
           }
          ],
          "mesh3d": [
           {
            "colorbar": {
             "outlinewidth": 0,
             "ticks": ""
            },
            "type": "mesh3d"
           }
          ],
          "parcoords": [
           {
            "line": {
             "colorbar": {
              "outlinewidth": 0,
              "ticks": ""
             }
            },
            "type": "parcoords"
           }
          ],
          "pie": [
           {
            "automargin": true,
            "type": "pie"
           }
          ],
          "scatter": [
           {
            "fillpattern": {
             "fillmode": "overlay",
             "size": 10,
             "solidity": 0.2
            },
            "type": "scatter"
           }
          ],
          "scatter3d": [
           {
            "line": {
             "colorbar": {
              "outlinewidth": 0,
              "ticks": ""
             }
            },
            "marker": {
             "colorbar": {
              "outlinewidth": 0,
              "ticks": ""
             }
            },
            "type": "scatter3d"
           }
          ],
          "scattercarpet": [
           {
            "marker": {
             "colorbar": {
              "outlinewidth": 0,
              "ticks": ""
             }
            },
            "type": "scattercarpet"
           }
          ],
          "scattergeo": [
           {
            "marker": {
             "colorbar": {
              "outlinewidth": 0,
              "ticks": ""
             }
            },
            "type": "scattergeo"
           }
          ],
          "scattergl": [
           {
            "marker": {
             "colorbar": {
              "outlinewidth": 0,
              "ticks": ""
             }
            },
            "type": "scattergl"
           }
          ],
          "scattermap": [
           {
            "marker": {
             "colorbar": {
              "outlinewidth": 0,
              "ticks": ""
             }
            },
            "type": "scattermap"
           }
          ],
          "scattermapbox": [
           {
            "marker": {
             "colorbar": {
              "outlinewidth": 0,
              "ticks": ""
             }
            },
            "type": "scattermapbox"
           }
          ],
          "scatterpolar": [
           {
            "marker": {
             "colorbar": {
              "outlinewidth": 0,
              "ticks": ""
             }
            },
            "type": "scatterpolar"
           }
          ],
          "scatterpolargl": [
           {
            "marker": {
             "colorbar": {
              "outlinewidth": 0,
              "ticks": ""
             }
            },
            "type": "scatterpolargl"
           }
          ],
          "scatterternary": [
           {
            "marker": {
             "colorbar": {
              "outlinewidth": 0,
              "ticks": ""
             }
            },
            "type": "scatterternary"
           }
          ],
          "surface": [
           {
            "colorbar": {
             "outlinewidth": 0,
             "ticks": ""
            },
            "colorscale": [
             [
              0,
              "#0d0887"
             ],
             [
              0.1111111111111111,
              "#46039f"
             ],
             [
              0.2222222222222222,
              "#7201a8"
             ],
             [
              0.3333333333333333,
              "#9c179e"
             ],
             [
              0.4444444444444444,
              "#bd3786"
             ],
             [
              0.5555555555555556,
              "#d8576b"
             ],
             [
              0.6666666666666666,
              "#ed7953"
             ],
             [
              0.7777777777777778,
              "#fb9f3a"
             ],
             [
              0.8888888888888888,
              "#fdca26"
             ],
             [
              1,
              "#f0f921"
             ]
            ],
            "type": "surface"
           }
          ],
          "table": [
           {
            "cells": {
             "fill": {
              "color": "#EBF0F8"
             },
             "line": {
              "color": "white"
             }
            },
            "header": {
             "fill": {
              "color": "#C8D4E3"
             },
             "line": {
              "color": "white"
             }
            },
            "type": "table"
           }
          ]
         },
         "layout": {
          "annotationdefaults": {
           "arrowcolor": "#2a3f5f",
           "arrowhead": 0,
           "arrowwidth": 1
          },
          "autotypenumbers": "strict",
          "coloraxis": {
           "colorbar": {
            "outlinewidth": 0,
            "ticks": ""
           }
          },
          "colorscale": {
           "diverging": [
            [
             0,
             "#8e0152"
            ],
            [
             0.1,
             "#c51b7d"
            ],
            [
             0.2,
             "#de77ae"
            ],
            [
             0.3,
             "#f1b6da"
            ],
            [
             0.4,
             "#fde0ef"
            ],
            [
             0.5,
             "#f7f7f7"
            ],
            [
             0.6,
             "#e6f5d0"
            ],
            [
             0.7,
             "#b8e186"
            ],
            [
             0.8,
             "#7fbc41"
            ],
            [
             0.9,
             "#4d9221"
            ],
            [
             1,
             "#276419"
            ]
           ],
           "sequential": [
            [
             0,
             "#0d0887"
            ],
            [
             0.1111111111111111,
             "#46039f"
            ],
            [
             0.2222222222222222,
             "#7201a8"
            ],
            [
             0.3333333333333333,
             "#9c179e"
            ],
            [
             0.4444444444444444,
             "#bd3786"
            ],
            [
             0.5555555555555556,
             "#d8576b"
            ],
            [
             0.6666666666666666,
             "#ed7953"
            ],
            [
             0.7777777777777778,
             "#fb9f3a"
            ],
            [
             0.8888888888888888,
             "#fdca26"
            ],
            [
             1,
             "#f0f921"
            ]
           ],
           "sequentialminus": [
            [
             0,
             "#0d0887"
            ],
            [
             0.1111111111111111,
             "#46039f"
            ],
            [
             0.2222222222222222,
             "#7201a8"
            ],
            [
             0.3333333333333333,
             "#9c179e"
            ],
            [
             0.4444444444444444,
             "#bd3786"
            ],
            [
             0.5555555555555556,
             "#d8576b"
            ],
            [
             0.6666666666666666,
             "#ed7953"
            ],
            [
             0.7777777777777778,
             "#fb9f3a"
            ],
            [
             0.8888888888888888,
             "#fdca26"
            ],
            [
             1,
             "#f0f921"
            ]
           ]
          },
          "colorway": [
           "#636efa",
           "#EF553B",
           "#00cc96",
           "#ab63fa",
           "#FFA15A",
           "#19d3f3",
           "#FF6692",
           "#B6E880",
           "#FF97FF",
           "#FECB52"
          ],
          "font": {
           "color": "#2a3f5f"
          },
          "geo": {
           "bgcolor": "white",
           "lakecolor": "white",
           "landcolor": "#E5ECF6",
           "showlakes": true,
           "showland": true,
           "subunitcolor": "white"
          },
          "hoverlabel": {
           "align": "left"
          },
          "hovermode": "closest",
          "mapbox": {
           "style": "light"
          },
          "paper_bgcolor": "white",
          "plot_bgcolor": "#E5ECF6",
          "polar": {
           "angularaxis": {
            "gridcolor": "white",
            "linecolor": "white",
            "ticks": ""
           },
           "bgcolor": "#E5ECF6",
           "radialaxis": {
            "gridcolor": "white",
            "linecolor": "white",
            "ticks": ""
           }
          },
          "scene": {
           "xaxis": {
            "backgroundcolor": "#E5ECF6",
            "gridcolor": "white",
            "gridwidth": 2,
            "linecolor": "white",
            "showbackground": true,
            "ticks": "",
            "zerolinecolor": "white"
           },
           "yaxis": {
            "backgroundcolor": "#E5ECF6",
            "gridcolor": "white",
            "gridwidth": 2,
            "linecolor": "white",
            "showbackground": true,
            "ticks": "",
            "zerolinecolor": "white"
           },
           "zaxis": {
            "backgroundcolor": "#E5ECF6",
            "gridcolor": "white",
            "gridwidth": 2,
            "linecolor": "white",
            "showbackground": true,
            "ticks": "",
            "zerolinecolor": "white"
           }
          },
          "shapedefaults": {
           "line": {
            "color": "#2a3f5f"
           }
          },
          "ternary": {
           "aaxis": {
            "gridcolor": "white",
            "linecolor": "white",
            "ticks": ""
           },
           "baxis": {
            "gridcolor": "white",
            "linecolor": "white",
            "ticks": ""
           },
           "bgcolor": "#E5ECF6",
           "caxis": {
            "gridcolor": "white",
            "linecolor": "white",
            "ticks": ""
           }
          },
          "title": {
           "x": 0.05
          },
          "xaxis": {
           "automargin": true,
           "gridcolor": "white",
           "linecolor": "white",
           "ticks": "",
           "title": {
            "standoff": 15
           },
           "zerolinecolor": "white",
           "zerolinewidth": 2
          },
          "yaxis": {
           "automargin": true,
           "gridcolor": "white",
           "linecolor": "white",
           "ticks": "",
           "title": {
            "standoff": 15
           },
           "zerolinecolor": "white",
           "zerolinewidth": 2
          }
         }
        },
        "xaxis": {
         "anchor": "y",
         "domain": [
          0,
          1
         ],
         "title": {
          "text": "Value"
         }
        },
        "yaxis": {
         "anchor": "x",
         "domain": [
          0,
          1
         ],
         "title": {
          "text": "count"
         }
        }
       }
      }
     },
     "metadata": {},
     "output_type": "display_data"
    }
   ],
   "source": [
    "stmt = select(foodprint_2018)\n",
    "stmt = stmt.where(foodprint_2018.columns.Metric.like('Kg%'))\n",
    "cols = foodprint_2018.columns.keys()\n",
    "\n",
    "fp_df = pd.DataFrame(connection.execute(stmt).fetchall(), columns= cols)\n",
    "del fp_df['Id']\n",
    "\n",
    "fp_df['Value'] = fp_df['Value'].map(lambda x: float(x))\n",
    "\n",
    "fig = px.histogram(\n",
    "    fp_df,\n",
    "    x= \"Value\"\n",
    ")\n",
    "fig.show()"
   ]
  },
  {
   "cell_type": "code",
   "execution_count": 86,
   "metadata": {},
   "outputs": [
    {
     "data": {
      "application/vnd.plotly.v1+json": {
       "config": {
        "plotlyServerURL": "https://plot.ly"
       },
       "data": [
        {
         "bingroup": "x",
         "hovertemplate": "Value=%{x}<br>count=%{y}<extra></extra>",
         "legendgroup": "",
         "marker": {
          "color": "#636efa",
          "pattern": {
           "shape": ""
          }
         },
         "name": "",
         "orientation": "v",
         "showlegend": false,
         "type": "histogram",
         "x": {
          "bdata": "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",
          "dtype": "f8"
         },
         "xaxis": "x",
         "yaxis": "y"
        }
       ],
       "layout": {
        "barmode": "relative",
        "legend": {
         "tracegroupgap": 0
        },
        "margin": {
         "t": 60
        },
        "template": {
         "data": {
          "bar": [
           {
            "error_x": {
             "color": "#2a3f5f"
            },
            "error_y": {
             "color": "#2a3f5f"
            },
            "marker": {
             "line": {
              "color": "#E5ECF6",
              "width": 0.5
             },
             "pattern": {
              "fillmode": "overlay",
              "size": 10,
              "solidity": 0.2
             }
            },
            "type": "bar"
           }
          ],
          "barpolar": [
           {
            "marker": {
             "line": {
              "color": "#E5ECF6",
              "width": 0.5
             },
             "pattern": {
              "fillmode": "overlay",
              "size": 10,
              "solidity": 0.2
             }
            },
            "type": "barpolar"
           }
          ],
          "carpet": [
           {
            "aaxis": {
             "endlinecolor": "#2a3f5f",
             "gridcolor": "white",
             "linecolor": "white",
             "minorgridcolor": "white",
             "startlinecolor": "#2a3f5f"
            },
            "baxis": {
             "endlinecolor": "#2a3f5f",
             "gridcolor": "white",
             "linecolor": "white",
             "minorgridcolor": "white",
             "startlinecolor": "#2a3f5f"
            },
            "type": "carpet"
           }
          ],
          "choropleth": [
           {
            "colorbar": {
             "outlinewidth": 0,
             "ticks": ""
            },
            "type": "choropleth"
           }
          ],
          "contour": [
           {
            "colorbar": {
             "outlinewidth": 0,
             "ticks": ""
            },
            "colorscale": [
             [
              0,
              "#0d0887"
             ],
             [
              0.1111111111111111,
              "#46039f"
             ],
             [
              0.2222222222222222,
              "#7201a8"
             ],
             [
              0.3333333333333333,
              "#9c179e"
             ],
             [
              0.4444444444444444,
              "#bd3786"
             ],
             [
              0.5555555555555556,
              "#d8576b"
             ],
             [
              0.6666666666666666,
              "#ed7953"
             ],
             [
              0.7777777777777778,
              "#fb9f3a"
             ],
             [
              0.8888888888888888,
              "#fdca26"
             ],
             [
              1,
              "#f0f921"
             ]
            ],
            "type": "contour"
           }
          ],
          "contourcarpet": [
           {
            "colorbar": {
             "outlinewidth": 0,
             "ticks": ""
            },
            "type": "contourcarpet"
           }
          ],
          "heatmap": [
           {
            "colorbar": {
             "outlinewidth": 0,
             "ticks": ""
            },
            "colorscale": [
             [
              0,
              "#0d0887"
             ],
             [
              0.1111111111111111,
              "#46039f"
             ],
             [
              0.2222222222222222,
              "#7201a8"
             ],
             [
              0.3333333333333333,
              "#9c179e"
             ],
             [
              0.4444444444444444,
              "#bd3786"
             ],
             [
              0.5555555555555556,
              "#d8576b"
             ],
             [
              0.6666666666666666,
              "#ed7953"
             ],
             [
              0.7777777777777778,
              "#fb9f3a"
             ],
             [
              0.8888888888888888,
              "#fdca26"
             ],
             [
              1,
              "#f0f921"
             ]
            ],
            "type": "heatmap"
           }
          ],
          "histogram": [
           {
            "marker": {
             "pattern": {
              "fillmode": "overlay",
              "size": 10,
              "solidity": 0.2
             }
            },
            "type": "histogram"
           }
          ],
          "histogram2d": [
           {
            "colorbar": {
             "outlinewidth": 0,
             "ticks": ""
            },
            "colorscale": [
             [
              0,
              "#0d0887"
             ],
             [
              0.1111111111111111,
              "#46039f"
             ],
             [
              0.2222222222222222,
              "#7201a8"
             ],
             [
              0.3333333333333333,
              "#9c179e"
             ],
             [
              0.4444444444444444,
              "#bd3786"
             ],
             [
              0.5555555555555556,
              "#d8576b"
             ],
             [
              0.6666666666666666,
              "#ed7953"
             ],
             [
              0.7777777777777778,
              "#fb9f3a"
             ],
             [
              0.8888888888888888,
              "#fdca26"
             ],
             [
              1,
              "#f0f921"
             ]
            ],
            "type": "histogram2d"
           }
          ],
          "histogram2dcontour": [
           {
            "colorbar": {
             "outlinewidth": 0,
             "ticks": ""
            },
            "colorscale": [
             [
              0,
              "#0d0887"
             ],
             [
              0.1111111111111111,
              "#46039f"
             ],
             [
              0.2222222222222222,
              "#7201a8"
             ],
             [
              0.3333333333333333,
              "#9c179e"
             ],
             [
              0.4444444444444444,
              "#bd3786"
             ],
             [
              0.5555555555555556,
              "#d8576b"
             ],
             [
              0.6666666666666666,
              "#ed7953"
             ],
             [
              0.7777777777777778,
              "#fb9f3a"
             ],
             [
              0.8888888888888888,
              "#fdca26"
             ],
             [
              1,
              "#f0f921"
             ]
            ],
            "type": "histogram2dcontour"
           }
          ],
          "mesh3d": [
           {
            "colorbar": {
             "outlinewidth": 0,
             "ticks": ""
            },
            "type": "mesh3d"
           }
          ],
          "parcoords": [
           {
            "line": {
             "colorbar": {
              "outlinewidth": 0,
              "ticks": ""
             }
            },
            "type": "parcoords"
           }
          ],
          "pie": [
           {
            "automargin": true,
            "type": "pie"
           }
          ],
          "scatter": [
           {
            "fillpattern": {
             "fillmode": "overlay",
             "size": 10,
             "solidity": 0.2
            },
            "type": "scatter"
           }
          ],
          "scatter3d": [
           {
            "line": {
             "colorbar": {
              "outlinewidth": 0,
              "ticks": ""
             }
            },
            "marker": {
             "colorbar": {
              "outlinewidth": 0,
              "ticks": ""
             }
            },
            "type": "scatter3d"
           }
          ],
          "scattercarpet": [
           {
            "marker": {
             "colorbar": {
              "outlinewidth": 0,
              "ticks": ""
             }
            },
            "type": "scattercarpet"
           }
          ],
          "scattergeo": [
           {
            "marker": {
             "colorbar": {
              "outlinewidth": 0,
              "ticks": ""
             }
            },
            "type": "scattergeo"
           }
          ],
          "scattergl": [
           {
            "marker": {
             "colorbar": {
              "outlinewidth": 0,
              "ticks": ""
             }
            },
            "type": "scattergl"
           }
          ],
          "scattermap": [
           {
            "marker": {
             "colorbar": {
              "outlinewidth": 0,
              "ticks": ""
             }
            },
            "type": "scattermap"
           }
          ],
          "scattermapbox": [
           {
            "marker": {
             "colorbar": {
              "outlinewidth": 0,
              "ticks": ""
             }
            },
            "type": "scattermapbox"
           }
          ],
          "scatterpolar": [
           {
            "marker": {
             "colorbar": {
              "outlinewidth": 0,
              "ticks": ""
             }
            },
            "type": "scatterpolar"
           }
          ],
          "scatterpolargl": [
           {
            "marker": {
             "colorbar": {
              "outlinewidth": 0,
              "ticks": ""
             }
            },
            "type": "scatterpolargl"
           }
          ],
          "scatterternary": [
           {
            "marker": {
             "colorbar": {
              "outlinewidth": 0,
              "ticks": ""
             }
            },
            "type": "scatterternary"
           }
          ],
          "surface": [
           {
            "colorbar": {
             "outlinewidth": 0,
             "ticks": ""
            },
            "colorscale": [
             [
              0,
              "#0d0887"
             ],
             [
              0.1111111111111111,
              "#46039f"
             ],
             [
              0.2222222222222222,
              "#7201a8"
             ],
             [
              0.3333333333333333,
              "#9c179e"
             ],
             [
              0.4444444444444444,
              "#bd3786"
             ],
             [
              0.5555555555555556,
              "#d8576b"
             ],
             [
              0.6666666666666666,
              "#ed7953"
             ],
             [
              0.7777777777777778,
              "#fb9f3a"
             ],
             [
              0.8888888888888888,
              "#fdca26"
             ],
             [
              1,
              "#f0f921"
             ]
            ],
            "type": "surface"
           }
          ],
          "table": [
           {
            "cells": {
             "fill": {
              "color": "#EBF0F8"
             },
             "line": {
              "color": "white"
             }
            },
            "header": {
             "fill": {
              "color": "#C8D4E3"
             },
             "line": {
              "color": "white"
             }
            },
            "type": "table"
           }
          ]
         },
         "layout": {
          "annotationdefaults": {
           "arrowcolor": "#2a3f5f",
           "arrowhead": 0,
           "arrowwidth": 1
          },
          "autotypenumbers": "strict",
          "coloraxis": {
           "colorbar": {
            "outlinewidth": 0,
            "ticks": ""
           }
          },
          "colorscale": {
           "diverging": [
            [
             0,
             "#8e0152"
            ],
            [
             0.1,
             "#c51b7d"
            ],
            [
             0.2,
             "#de77ae"
            ],
            [
             0.3,
             "#f1b6da"
            ],
            [
             0.4,
             "#fde0ef"
            ],
            [
             0.5,
             "#f7f7f7"
            ],
            [
             0.6,
             "#e6f5d0"
            ],
            [
             0.7,
             "#b8e186"
            ],
            [
             0.8,
             "#7fbc41"
            ],
            [
             0.9,
             "#4d9221"
            ],
            [
             1,
             "#276419"
            ]
           ],
           "sequential": [
            [
             0,
             "#0d0887"
            ],
            [
             0.1111111111111111,
             "#46039f"
            ],
            [
             0.2222222222222222,
             "#7201a8"
            ],
            [
             0.3333333333333333,
             "#9c179e"
            ],
            [
             0.4444444444444444,
             "#bd3786"
            ],
            [
             0.5555555555555556,
             "#d8576b"
            ],
            [
             0.6666666666666666,
             "#ed7953"
            ],
            [
             0.7777777777777778,
             "#fb9f3a"
            ],
            [
             0.8888888888888888,
             "#fdca26"
            ],
            [
             1,
             "#f0f921"
            ]
           ],
           "sequentialminus": [
            [
             0,
             "#0d0887"
            ],
            [
             0.1111111111111111,
             "#46039f"
            ],
            [
             0.2222222222222222,
             "#7201a8"
            ],
            [
             0.3333333333333333,
             "#9c179e"
            ],
            [
             0.4444444444444444,
             "#bd3786"
            ],
            [
             0.5555555555555556,
             "#d8576b"
            ],
            [
             0.6666666666666666,
             "#ed7953"
            ],
            [
             0.7777777777777778,
             "#fb9f3a"
            ],
            [
             0.8888888888888888,
             "#fdca26"
            ],
            [
             1,
             "#f0f921"
            ]
           ]
          },
          "colorway": [
           "#636efa",
           "#EF553B",
           "#00cc96",
           "#ab63fa",
           "#FFA15A",
           "#19d3f3",
           "#FF6692",
           "#B6E880",
           "#FF97FF",
           "#FECB52"
          ],
          "font": {
           "color": "#2a3f5f"
          },
          "geo": {
           "bgcolor": "white",
           "lakecolor": "white",
           "landcolor": "#E5ECF6",
           "showlakes": true,
           "showland": true,
           "subunitcolor": "white"
          },
          "hoverlabel": {
           "align": "left"
          },
          "hovermode": "closest",
          "mapbox": {
           "style": "light"
          },
          "paper_bgcolor": "white",
          "plot_bgcolor": "#E5ECF6",
          "polar": {
           "angularaxis": {
            "gridcolor": "white",
            "linecolor": "white",
            "ticks": ""
           },
           "bgcolor": "#E5ECF6",
           "radialaxis": {
            "gridcolor": "white",
            "linecolor": "white",
            "ticks": ""
           }
          },
          "scene": {
           "xaxis": {
            "backgroundcolor": "#E5ECF6",
            "gridcolor": "white",
            "gridwidth": 2,
            "linecolor": "white",
            "showbackground": true,
            "ticks": "",
            "zerolinecolor": "white"
           },
           "yaxis": {
            "backgroundcolor": "#E5ECF6",
            "gridcolor": "white",
            "gridwidth": 2,
            "linecolor": "white",
            "showbackground": true,
            "ticks": "",
            "zerolinecolor": "white"
           },
           "zaxis": {
            "backgroundcolor": "#E5ECF6",
            "gridcolor": "white",
            "gridwidth": 2,
            "linecolor": "white",
            "showbackground": true,
            "ticks": "",
            "zerolinecolor": "white"
           }
          },
          "shapedefaults": {
           "line": {
            "color": "#2a3f5f"
           }
          },
          "ternary": {
           "aaxis": {
            "gridcolor": "white",
            "linecolor": "white",
            "ticks": ""
           },
           "baxis": {
            "gridcolor": "white",
            "linecolor": "white",
            "ticks": ""
           },
           "bgcolor": "#E5ECF6",
           "caxis": {
            "gridcolor": "white",
            "linecolor": "white",
            "ticks": ""
           }
          },
          "title": {
           "x": 0.05
          },
          "xaxis": {
           "automargin": true,
           "gridcolor": "white",
           "linecolor": "white",
           "ticks": "",
           "title": {
            "standoff": 15
           },
           "zerolinecolor": "white",
           "zerolinewidth": 2
          },
          "yaxis": {
           "automargin": true,
           "gridcolor": "white",
           "linecolor": "white",
           "ticks": "",
           "title": {
            "standoff": 15
           },
           "zerolinecolor": "white",
           "zerolinewidth": 2
          }
         }
        },
        "xaxis": {
         "anchor": "y",
         "domain": [
          0,
          1
         ],
         "title": {
          "text": "Value"
         }
        },
        "yaxis": {
         "anchor": "x",
         "domain": [
          0,
          1
         ],
         "title": {
          "text": "count"
         }
        }
       }
      }
     },
     "metadata": {},
     "output_type": "display_data"
    }
   ],
   "source": [
    "stmt = select(foodprint_2018)\n",
    "stmt = stmt.where(foodprint_2018.columns.Metric.like('Supplied%'))\n",
    "cols = foodprint_2018.columns.keys()\n",
    "\n",
    "fp_df = pd.DataFrame(connection.execute(stmt).fetchall(), columns= cols)\n",
    "del fp_df['Id']\n",
    "\n",
    "fp_df['Value'] = fp_df['Value'].map(lambda x: float(x))\n",
    "\n",
    "fig = px.histogram(\n",
    "    fp_df,\n",
    "    x= \"Value\"\n",
    ")\n",
    "fig.show()"
   ]
  }
 ],
 "metadata": {
  "kernelspec": {
   "display_name": "base",
   "language": "python",
   "name": "python3"
  },
  "language_info": {
   "codemirror_mode": {
    "name": "ipython",
    "version": 3
   },
   "file_extension": ".py",
   "mimetype": "text/x-python",
   "name": "python",
   "nbconvert_exporter": "python",
   "pygments_lexer": "ipython3",
   "version": "3.8.8"
  }
 },
 "nbformat": 4,
 "nbformat_minor": 2
}
