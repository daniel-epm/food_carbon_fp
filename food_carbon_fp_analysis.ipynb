{
 "cells": [
  {
   "cell_type": "code",
   "execution_count": 2,
   "metadata": {},
   "outputs": [],
   "source": [
    "from sqlalchemy import create_engine\n",
    "from sqlalchemy.orm import sessionmaker\n",
    "from local_settings import postgresql as settings\n"
   ]
  },
  {
   "cell_type": "code",
   "execution_count": 3,
   "metadata": {},
   "outputs": [
    {
     "name": "stdout",
     "output_type": "stream",
     "text": [
      "d:\\Daniel\\data_science\\portfolio_projects\\food_carbon_fp\n"
     ]
    }
   ],
   "source": [
    "import os\n",
    "print(os.getcwd())"
   ]
  },
  {
   "cell_type": "code",
   "execution_count": 4,
   "metadata": {},
   "outputs": [],
   "source": [
    "def get_engine(user, passwd, host, port, db):\n",
    "    url = f\"mssql+pyodbc://{user}:{passwd}@{host},{port}/{db}?driver=ODBC+Driver+17+for+SQL+Server\"\n",
    "    engine = create_engine(url, pool_size= 50, echo= False)\n",
    "\n",
    "    return engine"
   ]
  },
  {
   "cell_type": "code",
   "execution_count": 13,
   "metadata": {},
   "outputs": [],
   "source": [
    "engine = get_engine(\n",
    "    user= settings['pguser'],\n",
    "    passwd=settings['pgpasswd'],\n",
    "    host=settings['pghost'],\n",
    "    port=settings['pgport'],\n",
    "    db=settings['pgdb']\n",
    ")\n",
    "\n",
    "connection = engine.connect()"
   ]
  },
  {
   "cell_type": "code",
   "execution_count": 14,
   "metadata": {},
   "outputs": [
    {
     "name": "stdout",
     "output_type": "stream",
     "text": [
      "['food_cfp', 'food_cfp_2018']\n"
     ]
    }
   ],
   "source": [
    "from sqlalchemy import inspect, MetaData, Table\n",
    "\n",
    "\n",
    "inspector = inspect(engine)\n",
    "print(inspector.get_table_names())"
   ]
  },
  {
   "cell_type": "code",
   "execution_count": 16,
   "metadata": {},
   "outputs": [
    {
     "name": "stdout",
     "output_type": "stream",
     "text": [
      "['Country', 'Product', 'Metric', 'Value']\n"
     ]
    }
   ],
   "source": [
    "metadata = MetaData()\n",
    "\n",
    "carbonfp_df = Table('food_cfp_2018', metadata, autoload= True, autoload_with= engine)\n",
    "\n",
    "print(carbonfp_df.columns.keys())"
   ]
  },
  {
   "cell_type": "code",
   "execution_count": 23,
   "metadata": {},
   "outputs": [
    {
     "data": {
      "text/html": [
       "<div>\n",
       "<style scoped>\n",
       "    .dataframe tbody tr th:only-of-type {\n",
       "        vertical-align: middle;\n",
       "    }\n",
       "\n",
       "    .dataframe tbody tr th {\n",
       "        vertical-align: top;\n",
       "    }\n",
       "\n",
       "    .dataframe thead th {\n",
       "        text-align: right;\n",
       "    }\n",
       "</style>\n",
       "<table border=\"1\" class=\"dataframe\">\n",
       "  <thead>\n",
       "    <tr style=\"text-align: right;\">\n",
       "      <th></th>\n",
       "      <th>Country</th>\n",
       "      <th>Product</th>\n",
       "      <th>Metric</th>\n",
       "      <th>Value</th>\n",
       "    </tr>\n",
       "  </thead>\n",
       "  <tbody>\n",
       "    <tr>\n",
       "      <th>0</th>\n",
       "      <td>Albania</td>\n",
       "      <td>Milk - inc. Cheese</td>\n",
       "      <td>Kg CO2/person/year</td>\n",
       "      <td>432.619995</td>\n",
       "    </tr>\n",
       "    <tr>\n",
       "      <th>1</th>\n",
       "      <td>Albania</td>\n",
       "      <td>Pork</td>\n",
       "      <td>Kg CO2/person/year</td>\n",
       "      <td>38.509998</td>\n",
       "    </tr>\n",
       "    <tr>\n",
       "      <th>2</th>\n",
       "      <td>Albania</td>\n",
       "      <td>Fish</td>\n",
       "      <td>Supplied for Consumption (kg/person/year)</td>\n",
       "      <td>12.450000</td>\n",
       "    </tr>\n",
       "    <tr>\n",
       "      <th>3</th>\n",
       "      <td>Albania</td>\n",
       "      <td>Soybeans</td>\n",
       "      <td>Kg CO2/person/year</td>\n",
       "      <td>0.000000</td>\n",
       "    </tr>\n",
       "    <tr>\n",
       "      <th>4</th>\n",
       "      <td>Albania</td>\n",
       "      <td>Fish</td>\n",
       "      <td>Kg CO2/person/year</td>\n",
       "      <td>6.150000</td>\n",
       "    </tr>\n",
       "    <tr>\n",
       "      <th>5</th>\n",
       "      <td>Albania</td>\n",
       "      <td>Rice</td>\n",
       "      <td>Kg CO2/person/year</td>\n",
       "      <td>9.960000</td>\n",
       "    </tr>\n",
       "    <tr>\n",
       "      <th>6</th>\n",
       "      <td>Albania</td>\n",
       "      <td>Fish</td>\n",
       "      <td>Supplied for Consumption (kg/person/year)</td>\n",
       "      <td>3.850000</td>\n",
       "    </tr>\n",
       "    <tr>\n",
       "      <th>7</th>\n",
       "      <td>Albania</td>\n",
       "      <td>Milk - inc. Cheese</td>\n",
       "      <td>Supplied for Consumption (kg/person/year)</td>\n",
       "      <td>303.720001</td>\n",
       "    </tr>\n",
       "    <tr>\n",
       "      <th>8</th>\n",
       "      <td>Albania</td>\n",
       "      <td>Nuts inc. Peanut Butter</td>\n",
       "      <td>Supplied for Consumption (kg/person/year)</td>\n",
       "      <td>4.360000</td>\n",
       "    </tr>\n",
       "    <tr>\n",
       "      <th>9</th>\n",
       "      <td>Albania</td>\n",
       "      <td>Lamb &amp; Goat</td>\n",
       "      <td>Kg CO2/person/year</td>\n",
       "      <td>536.500000</td>\n",
       "    </tr>\n",
       "  </tbody>\n",
       "</table>\n",
       "</div>"
      ],
      "text/plain": [
       "   Country                  Product  \\\n",
       "0  Albania       Milk - inc. Cheese   \n",
       "1  Albania                     Pork   \n",
       "2  Albania                     Fish   \n",
       "3  Albania                 Soybeans   \n",
       "4  Albania                     Fish   \n",
       "5  Albania                     Rice   \n",
       "6  Albania                     Fish   \n",
       "7  Albania       Milk - inc. Cheese   \n",
       "8  Albania  Nuts inc. Peanut Butter   \n",
       "9  Albania              Lamb & Goat   \n",
       "\n",
       "                                      Metric       Value  \n",
       "0                         Kg CO2/person/year  432.619995  \n",
       "1                         Kg CO2/person/year   38.509998  \n",
       "2  Supplied for Consumption (kg/person/year)   12.450000  \n",
       "3                         Kg CO2/person/year    0.000000  \n",
       "4                         Kg CO2/person/year    6.150000  \n",
       "5                         Kg CO2/person/year    9.960000  \n",
       "6  Supplied for Consumption (kg/person/year)    3.850000  \n",
       "7  Supplied for Consumption (kg/person/year)  303.720001  \n",
       "8  Supplied for Consumption (kg/person/year)    4.360000  \n",
       "9                         Kg CO2/person/year  536.500000  "
      ]
     },
     "execution_count": 23,
     "metadata": {},
     "output_type": "execute_result"
    }
   ],
   "source": [
    "from sqlalchemy import select\n",
    "import pandas as pd\n",
    "\n",
    "stmt = select([carbonfp_df])\n",
    "\n",
    "results = connection.execute(stmt).fetchmany(size=10)\n",
    "\n",
    "df = pd.DataFrame(results)\n",
    "df.columns = results[0].keys()\n",
    "\n",
    "df"
   ]
  }
 ],
 "metadata": {
  "kernelspec": {
   "display_name": "base",
   "language": "python",
   "name": "python3"
  },
  "language_info": {
   "codemirror_mode": {
    "name": "ipython",
    "version": 3
   },
   "file_extension": ".py",
   "mimetype": "text/x-python",
   "name": "python",
   "nbconvert_exporter": "python",
   "pygments_lexer": "ipython3",
   "version": "3.8.8"
  }
 },
 "nbformat": 4,
 "nbformat_minor": 2
}
