{
 "cells": [
  {
   "cell_type": "code",
   "execution_count": 178,
   "id": "1f896b7f",
   "metadata": {},
   "outputs": [],
   "source": [
    "# Import libraries\n",
    "import os\n",
    "import pandas as pd\n",
    "from sqlalchemy import create_engine, inspect, MetaData, Table, select, func, and_, or_, case, cast, Numeric\n",
    "from local_settings import postgresql as settings\n",
    "import matplotlib.pyplot as plt\n",
    "import plotly.express as px\n",
    "import plotly.io as pio"
   ]
  },
  {
   "cell_type": "code",
   "execution_count": 2,
   "id": "c6e841e2",
   "metadata": {},
   "outputs": [],
   "source": [
    "# Define a function for creating the sqlalchemy engine\n",
    "def get_engine(user, passwd, host, port, db):\n",
    "    url = f\"postgresql+psycopg2://{user}:{passwd}@{host}:{port}/{db}\"\n",
    "    engine = create_engine(url, pool_size= 50, echo= False)\n",
    "\n",
    "    return engine\n",
    "\n",
    "# Create the engine and respective connection\n",
    "engine = get_engine(\n",
    "    user= settings['pguser'],\n",
    "    passwd= settings['pgpasswd'],\n",
    "    host= settings['pghost'],\n",
    "    port= settings['pgport'],\n",
    "    db= settings['pgdb']\n",
    ")\n",
    "\n",
    "connection = engine.connect()\n"
   ]
  },
  {
   "cell_type": "markdown",
   "id": "d5e5fdae",
   "metadata": {},
   "source": [
    "Once the engine is connected to the remote database, we can use the `inspect` function from SQLAlchemy to examine the contents of the database, i.e. its tables."
   ]
  },
  {
   "cell_type": "code",
   "execution_count": 46,
   "id": "fc7f37bf",
   "metadata": {},
   "outputs": [
    {
     "data": {
      "text/plain": [
       "250"
      ]
     },
     "execution_count": 46,
     "metadata": {},
     "output_type": "execute_result"
    }
   ],
   "source": [
    "path = os.getcwd() + '/food_carbon_footprint_2018_long.csv'\n",
    "foodprint_2018 = pd.read_csv(path, sep= ';')\n",
    "foodprint_2018.to_sql(name= 'foodprint', con= connection, if_exists= 'replace', index= False)"
   ]
  },
  {
   "cell_type": "code",
   "execution_count": 5,
   "id": "f227e336",
   "metadata": {},
   "outputs": [
    {
     "name": "stdout",
     "output_type": "stream",
     "text": [
      "['foodprint']\n"
     ]
    }
   ],
   "source": [
    "inspector = inspect(engine)\n",
    "\n",
    "print(inspector.get_table_names())"
   ]
  },
  {
   "cell_type": "code",
   "execution_count": 5,
   "id": "415ef9a7",
   "metadata": {},
   "outputs": [],
   "source": [
    "metadata= MetaData()\n",
    "foodprint = Table('foodprint', metadata, autoload_replace= True, autoload_with= engine)"
   ]
  },
  {
   "cell_type": "code",
   "execution_count": 3,
   "id": "b9fb3594",
   "metadata": {},
   "outputs": [],
   "source": [
    "# Define a function for retrieving the result proxy\n",
    "\n",
    "def fetch_query_results(input_type, input):\n",
    "    \"\"\"\n",
    "    Fetch query results as a pandas DataFrame.\n",
    "\n",
    "    Parameters:\n",
    "    ----------\n",
    "    input_type : str\n",
    "        'stmt' for a SQLAlchemy statement, or 'query' for a raw SQL string.\n",
    "    input_value : object\n",
    "        SQLAlchemy statement or raw SQL string depending on input_type.\n",
    "\n",
    "    Returns:\n",
    "    -------\n",
    "    pd.DataFrame\n",
    "        Query results as a DataFrame.\n",
    "    \"\"\"\n",
    "    \n",
    "    if input_type == 'stmt':\n",
    "        results = connection.execute(input).fetchall()\n",
    "        return pd.DataFrame(results)\n",
    "    elif input_type == 'query':\n",
    "        return pd.read_sql_query(input, connection)\n",
    "    else:\n",
    "        print(\"Invalid input_type. Please choose 'stmt' for SQLAlchemy statements or 'query' for raw SQL strings.\")"
   ]
  },
  {
   "cell_type": "code",
   "execution_count": 6,
   "id": "b9458b66",
   "metadata": {},
   "outputs": [
    {
     "name": "stdout",
     "output_type": "stream",
     "text": [
      "SELECT foodprint.country, foodprint.product, foodprint.metric, foodprint.value \n",
      "FROM foodprint \n",
      "\n"
     ]
    },
    {
     "data": {
      "text/html": [
       "<div>\n",
       "<style scoped>\n",
       "    .dataframe tbody tr th:only-of-type {\n",
       "        vertical-align: middle;\n",
       "    }\n",
       "\n",
       "    .dataframe tbody tr th {\n",
       "        vertical-align: top;\n",
       "    }\n",
       "\n",
       "    .dataframe thead th {\n",
       "        text-align: right;\n",
       "    }\n",
       "</style>\n",
       "<table border=\"1\" class=\"dataframe\">\n",
       "  <thead>\n",
       "    <tr style=\"text-align: right;\">\n",
       "      <th></th>\n",
       "      <th>country</th>\n",
       "      <th>product</th>\n",
       "      <th>metric</th>\n",
       "      <th>value</th>\n",
       "    </tr>\n",
       "  </thead>\n",
       "  <tbody>\n",
       "    <tr>\n",
       "      <th>0</th>\n",
       "      <td>Argentina</td>\n",
       "      <td>Pork</td>\n",
       "      <td>Supplied for Consumption (kg/person/year)</td>\n",
       "      <td>10.51</td>\n",
       "    </tr>\n",
       "    <tr>\n",
       "      <th>1</th>\n",
       "      <td>Australia</td>\n",
       "      <td>Pork</td>\n",
       "      <td>Supplied for Consumption (kg/person/year)</td>\n",
       "      <td>24.14</td>\n",
       "    </tr>\n",
       "    <tr>\n",
       "      <th>2</th>\n",
       "      <td>Albania</td>\n",
       "      <td>Pork</td>\n",
       "      <td>Supplied for Consumption (kg/person/year)</td>\n",
       "      <td>10.88</td>\n",
       "    </tr>\n",
       "    <tr>\n",
       "      <th>3</th>\n",
       "      <td>Iceland</td>\n",
       "      <td>Pork</td>\n",
       "      <td>Supplied for Consumption (kg/person/year)</td>\n",
       "      <td>21.69</td>\n",
       "    </tr>\n",
       "    <tr>\n",
       "      <th>4</th>\n",
       "      <td>New Zealand</td>\n",
       "      <td>Pork</td>\n",
       "      <td>Supplied for Consumption (kg/person/year)</td>\n",
       "      <td>22.29</td>\n",
       "    </tr>\n",
       "  </tbody>\n",
       "</table>\n",
       "</div>"
      ],
      "text/plain": [
       "       country product                                     metric  value\n",
       "0    Argentina    Pork  Supplied for Consumption (kg/person/year)  10.51\n",
       "1    Australia    Pork  Supplied for Consumption (kg/person/year)  24.14\n",
       "2      Albania    Pork  Supplied for Consumption (kg/person/year)  10.88\n",
       "3      Iceland    Pork  Supplied for Consumption (kg/person/year)  21.69\n",
       "4  New Zealand    Pork  Supplied for Consumption (kg/person/year)  22.29"
      ]
     },
     "execution_count": 6,
     "metadata": {},
     "output_type": "execute_result"
    }
   ],
   "source": [
    "stmt = select(foodprint)\n",
    "\n",
    "print(stmt, '\\n')\n",
    "\n",
    "fetch_query_results(input_type= 'stmt', input= stmt).head(5)"
   ]
  },
  {
   "cell_type": "code",
   "execution_count": 14,
   "id": "f4fbe5a8",
   "metadata": {},
   "outputs": [
    {
     "name": "stdout",
     "output_type": "stream",
     "text": [
      "(3250, 4)\n"
     ]
    }
   ],
   "source": [
    "# Dimensions of the foodprint table\n",
    "stmt = select(func.count()).select_from(foodprint)\n",
    "\n",
    "print(f\"({connection.execute(stmt).scalar()}, {len(foodprint.columns)})\")"
   ]
  },
  {
   "cell_type": "code",
   "execution_count": 15,
   "id": "34a3d79b",
   "metadata": {},
   "outputs": [
    {
     "name": "stdout",
     "output_type": "stream",
     "text": [
      "country: TEXT\n",
      "product: TEXT\n",
      "metric: TEXT\n",
      "value: DOUBLE PRECISION\n"
     ]
    }
   ],
   "source": [
    "# Data type of each column\n",
    "for column in foodprint.columns:\n",
    "    print(f\"{column.key}: {column.type}\")"
   ]
  },
  {
   "cell_type": "code",
   "execution_count": 16,
   "id": "f27475ae",
   "metadata": {},
   "outputs": [
    {
     "name": "stdout",
     "output_type": "stream",
     "text": [
      "Missing values: \n",
      "\n",
      "country: 0\n",
      "product: 0\n",
      "metric: 0\n",
      "value: 0\n"
     ]
    }
   ],
   "source": [
    "# Missing data in each column\n",
    "print(\"Missing values: \\n\")\n",
    "for column in foodprint.columns:\n",
    "    stmt = select(func.count()).where(column.is_(None))\n",
    "    result = connection.execute(stmt).scalar()\n",
    "    print(f\"{column.key}: {result}\")"
   ]
  },
  {
   "cell_type": "code",
   "execution_count": 6,
   "id": "05c3c4c6",
   "metadata": {},
   "outputs": [
    {
     "data": {
      "text/html": [
       "<div>\n",
       "<style scoped>\n",
       "    .dataframe tbody tr th:only-of-type {\n",
       "        vertical-align: middle;\n",
       "    }\n",
       "\n",
       "    .dataframe tbody tr th {\n",
       "        vertical-align: top;\n",
       "    }\n",
       "\n",
       "    .dataframe thead th {\n",
       "        text-align: right;\n",
       "    }\n",
       "</style>\n",
       "<table border=\"1\" class=\"dataframe\">\n",
       "  <thead>\n",
       "    <tr style=\"text-align: right;\">\n",
       "      <th></th>\n",
       "      <th>product</th>\n",
       "      <th>metric</th>\n",
       "      <th>number_of_countries</th>\n",
       "    </tr>\n",
       "  </thead>\n",
       "  <tbody>\n",
       "    <tr>\n",
       "      <th>0</th>\n",
       "      <td>Animal products</td>\n",
       "      <td>Total Kg CO2/year/person</td>\n",
       "      <td>130</td>\n",
       "    </tr>\n",
       "    <tr>\n",
       "      <th>1</th>\n",
       "      <td>Beef</td>\n",
       "      <td>Kg CO2/person/year</td>\n",
       "      <td>130</td>\n",
       "    </tr>\n",
       "    <tr>\n",
       "      <th>2</th>\n",
       "      <td>Beef</td>\n",
       "      <td>Supplied for Consumption (kg/person/year)</td>\n",
       "      <td>130</td>\n",
       "    </tr>\n",
       "    <tr>\n",
       "      <th>3</th>\n",
       "      <td>Difference Animal Non-Animals</td>\n",
       "      <td>Products/person/year in kg</td>\n",
       "      <td>130</td>\n",
       "    </tr>\n",
       "    <tr>\n",
       "      <th>4</th>\n",
       "      <td>Eggs</td>\n",
       "      <td>Kg CO2/person/year</td>\n",
       "      <td>130</td>\n",
       "    </tr>\n",
       "    <tr>\n",
       "      <th>5</th>\n",
       "      <td>Eggs</td>\n",
       "      <td>Supplied for Consumption (kg/person/year)</td>\n",
       "      <td>130</td>\n",
       "    </tr>\n",
       "    <tr>\n",
       "      <th>6</th>\n",
       "      <td>Fish</td>\n",
       "      <td>Kg CO2/person/year</td>\n",
       "      <td>130</td>\n",
       "    </tr>\n",
       "    <tr>\n",
       "      <th>7</th>\n",
       "      <td>Fish</td>\n",
       "      <td>Supplied for Consumption (kg/person/year)</td>\n",
       "      <td>130</td>\n",
       "    </tr>\n",
       "    <tr>\n",
       "      <th>8</th>\n",
       "      <td>Lamb &amp; Goat</td>\n",
       "      <td>Kg CO2/person/year</td>\n",
       "      <td>130</td>\n",
       "    </tr>\n",
       "    <tr>\n",
       "      <th>9</th>\n",
       "      <td>Lamb &amp; Goat</td>\n",
       "      <td>Supplied for Consumption (kg/person/year)</td>\n",
       "      <td>130</td>\n",
       "    </tr>\n",
       "    <tr>\n",
       "      <th>10</th>\n",
       "      <td>Milk - inc. Cheese</td>\n",
       "      <td>Kg CO2/person/year</td>\n",
       "      <td>130</td>\n",
       "    </tr>\n",
       "    <tr>\n",
       "      <th>11</th>\n",
       "      <td>Milk - inc. Cheese</td>\n",
       "      <td>Supplied for Consumption (kg/person/year)</td>\n",
       "      <td>130</td>\n",
       "    </tr>\n",
       "    <tr>\n",
       "      <th>12</th>\n",
       "      <td>Non-animal products</td>\n",
       "      <td>Total Kg CO2/year/person</td>\n",
       "      <td>130</td>\n",
       "    </tr>\n",
       "    <tr>\n",
       "      <th>13</th>\n",
       "      <td>Nuts inc. Peanut Butter</td>\n",
       "      <td>Kg CO2/person/year</td>\n",
       "      <td>130</td>\n",
       "    </tr>\n",
       "    <tr>\n",
       "      <th>14</th>\n",
       "      <td>Nuts inc. Peanut Butter</td>\n",
       "      <td>Supplied for Consumption (kg/person/year)</td>\n",
       "      <td>130</td>\n",
       "    </tr>\n",
       "    <tr>\n",
       "      <th>15</th>\n",
       "      <td>Pork</td>\n",
       "      <td>Kg CO2/person/year</td>\n",
       "      <td>130</td>\n",
       "    </tr>\n",
       "    <tr>\n",
       "      <th>16</th>\n",
       "      <td>Pork</td>\n",
       "      <td>Supplied for Consumption (kg/person/year)</td>\n",
       "      <td>130</td>\n",
       "    </tr>\n",
       "    <tr>\n",
       "      <th>17</th>\n",
       "      <td>Poultry</td>\n",
       "      <td>Kg CO2/person/year</td>\n",
       "      <td>130</td>\n",
       "    </tr>\n",
       "    <tr>\n",
       "      <th>18</th>\n",
       "      <td>Poultry</td>\n",
       "      <td>Supplied for Consumption (kg/person/year)</td>\n",
       "      <td>130</td>\n",
       "    </tr>\n",
       "    <tr>\n",
       "      <th>19</th>\n",
       "      <td>Rice</td>\n",
       "      <td>Kg CO2/person/year</td>\n",
       "      <td>130</td>\n",
       "    </tr>\n",
       "    <tr>\n",
       "      <th>20</th>\n",
       "      <td>Rice</td>\n",
       "      <td>Supplied for Consumption (kg/person/year)</td>\n",
       "      <td>130</td>\n",
       "    </tr>\n",
       "    <tr>\n",
       "      <th>21</th>\n",
       "      <td>Soybeans</td>\n",
       "      <td>Kg CO2/person/year</td>\n",
       "      <td>130</td>\n",
       "    </tr>\n",
       "    <tr>\n",
       "      <th>22</th>\n",
       "      <td>Soybeans</td>\n",
       "      <td>Supplied for Consumption (kg/person/year)</td>\n",
       "      <td>130</td>\n",
       "    </tr>\n",
       "    <tr>\n",
       "      <th>23</th>\n",
       "      <td>Wheat &amp; Wheat Products</td>\n",
       "      <td>Kg CO2/person/year</td>\n",
       "      <td>130</td>\n",
       "    </tr>\n",
       "    <tr>\n",
       "      <th>24</th>\n",
       "      <td>Wheat &amp; Wheat Products</td>\n",
       "      <td>Supplied for Consumption (kg/person/year)</td>\n",
       "      <td>130</td>\n",
       "    </tr>\n",
       "  </tbody>\n",
       "</table>\n",
       "</div>"
      ],
      "text/plain": [
       "                          product                                     metric  \\\n",
       "0                 Animal products                   Total Kg CO2/year/person   \n",
       "1                            Beef                         Kg CO2/person/year   \n",
       "2                            Beef  Supplied for Consumption (kg/person/year)   \n",
       "3   Difference Animal Non-Animals                 Products/person/year in kg   \n",
       "4                            Eggs                         Kg CO2/person/year   \n",
       "5                            Eggs  Supplied for Consumption (kg/person/year)   \n",
       "6                            Fish                         Kg CO2/person/year   \n",
       "7                            Fish  Supplied for Consumption (kg/person/year)   \n",
       "8                     Lamb & Goat                         Kg CO2/person/year   \n",
       "9                     Lamb & Goat  Supplied for Consumption (kg/person/year)   \n",
       "10             Milk - inc. Cheese                         Kg CO2/person/year   \n",
       "11             Milk - inc. Cheese  Supplied for Consumption (kg/person/year)   \n",
       "12            Non-animal products                   Total Kg CO2/year/person   \n",
       "13        Nuts inc. Peanut Butter                         Kg CO2/person/year   \n",
       "14        Nuts inc. Peanut Butter  Supplied for Consumption (kg/person/year)   \n",
       "15                           Pork                         Kg CO2/person/year   \n",
       "16                           Pork  Supplied for Consumption (kg/person/year)   \n",
       "17                        Poultry                         Kg CO2/person/year   \n",
       "18                        Poultry  Supplied for Consumption (kg/person/year)   \n",
       "19                           Rice                         Kg CO2/person/year   \n",
       "20                           Rice  Supplied for Consumption (kg/person/year)   \n",
       "21                       Soybeans                         Kg CO2/person/year   \n",
       "22                       Soybeans  Supplied for Consumption (kg/person/year)   \n",
       "23         Wheat & Wheat Products                         Kg CO2/person/year   \n",
       "24         Wheat & Wheat Products  Supplied for Consumption (kg/person/year)   \n",
       "\n",
       "    number_of_countries  \n",
       "0                   130  \n",
       "1                   130  \n",
       "2                   130  \n",
       "3                   130  \n",
       "4                   130  \n",
       "5                   130  \n",
       "6                   130  \n",
       "7                   130  \n",
       "8                   130  \n",
       "9                   130  \n",
       "10                  130  \n",
       "11                  130  \n",
       "12                  130  \n",
       "13                  130  \n",
       "14                  130  \n",
       "15                  130  \n",
       "16                  130  \n",
       "17                  130  \n",
       "18                  130  \n",
       "19                  130  \n",
       "20                  130  \n",
       "21                  130  \n",
       "22                  130  \n",
       "23                  130  \n",
       "24                  130  "
      ]
     },
     "execution_count": 6,
     "metadata": {},
     "output_type": "execute_result"
    }
   ],
   "source": [
    "# Number of countries under analysis for each product and metric\n",
    "\n",
    "query = \"\"\"\n",
    "    SELECT product,\n",
    "           metric,\n",
    "           COUNT(country) AS number_of_countries\n",
    "        FROM foodprint\n",
    "        GROUP BY product, metric\n",
    "        ORDER BY product, metric\n",
    "\"\"\"\n",
    "\n",
    "fetch_query_results('query', query)\n"
   ]
  },
  {
   "cell_type": "markdown",
   "id": "e0d02f45",
   "metadata": {},
   "source": [
    "In the `product` and `metric` fields, there are a few values that do not correspond directly to individual items in these categories, as they aggregate information at a global level. Specifically, the values `Animal products`, `Non-animal products` and `Difference Animal Non-Animals` appear in the `product` field. The first two are associated with the metric `Total Kg CO₂/year/person` in the `metric` field, and the latter to a `Products/person/year in kg` metric.\n",
    "\n",
    "To address this particular feature of the dataset, it can be transformed by filtering out these values and then creating a new categorical field that distinguishes between the `Animal` and `Non-animal` product categories. Regarding the `Difference Animal Non-Animals` item, it can be assessed based on these two categories in the new field."
   ]
  },
  {
   "cell_type": "code",
   "execution_count": 7,
   "id": "c3bf9065",
   "metadata": {},
   "outputs": [
    {
     "name": "stdout",
     "output_type": "stream",
     "text": [
      "SELECT foodprint.country, foodprint.product, CASE WHEN (foodprint.product IN (__[POSTCOMPILE_product_1])) THEN :param_1 WHEN (foodprint.product IN (__[POSTCOMPILE_product_2])) THEN :param_2 END AS product_category, foodprint.metric, foodprint.value \n",
      "FROM foodprint \n",
      "WHERE (foodprint.product NOT IN (__[POSTCOMPILE_product_3])) \n",
      "\n"
     ]
    },
    {
     "data": {
      "text/html": [
       "<div>\n",
       "<style scoped>\n",
       "    .dataframe tbody tr th:only-of-type {\n",
       "        vertical-align: middle;\n",
       "    }\n",
       "\n",
       "    .dataframe tbody tr th {\n",
       "        vertical-align: top;\n",
       "    }\n",
       "\n",
       "    .dataframe thead th {\n",
       "        text-align: right;\n",
       "    }\n",
       "</style>\n",
       "<table border=\"1\" class=\"dataframe\">\n",
       "  <thead>\n",
       "    <tr style=\"text-align: right;\">\n",
       "      <th></th>\n",
       "      <th>country</th>\n",
       "      <th>product</th>\n",
       "      <th>product_category</th>\n",
       "      <th>metric</th>\n",
       "      <th>value</th>\n",
       "    </tr>\n",
       "  </thead>\n",
       "  <tbody>\n",
       "    <tr>\n",
       "      <th>0</th>\n",
       "      <td>Argentina</td>\n",
       "      <td>Pork</td>\n",
       "      <td>Animal</td>\n",
       "      <td>Supplied for Consumption (kg/person/year)</td>\n",
       "      <td>10.51</td>\n",
       "    </tr>\n",
       "    <tr>\n",
       "      <th>1</th>\n",
       "      <td>Australia</td>\n",
       "      <td>Pork</td>\n",
       "      <td>Animal</td>\n",
       "      <td>Supplied for Consumption (kg/person/year)</td>\n",
       "      <td>24.14</td>\n",
       "    </tr>\n",
       "    <tr>\n",
       "      <th>2</th>\n",
       "      <td>Albania</td>\n",
       "      <td>Pork</td>\n",
       "      <td>Animal</td>\n",
       "      <td>Supplied for Consumption (kg/person/year)</td>\n",
       "      <td>10.88</td>\n",
       "    </tr>\n",
       "    <tr>\n",
       "      <th>3</th>\n",
       "      <td>Iceland</td>\n",
       "      <td>Pork</td>\n",
       "      <td>Animal</td>\n",
       "      <td>Supplied for Consumption (kg/person/year)</td>\n",
       "      <td>21.69</td>\n",
       "    </tr>\n",
       "    <tr>\n",
       "      <th>4</th>\n",
       "      <td>New Zealand</td>\n",
       "      <td>Pork</td>\n",
       "      <td>Animal</td>\n",
       "      <td>Supplied for Consumption (kg/person/year)</td>\n",
       "      <td>22.29</td>\n",
       "    </tr>\n",
       "  </tbody>\n",
       "</table>\n",
       "</div>"
      ],
      "text/plain": [
       "       country product product_category  \\\n",
       "0    Argentina    Pork           Animal   \n",
       "1    Australia    Pork           Animal   \n",
       "2      Albania    Pork           Animal   \n",
       "3      Iceland    Pork           Animal   \n",
       "4  New Zealand    Pork           Animal   \n",
       "\n",
       "                                      metric  value  \n",
       "0  Supplied for Consumption (kg/person/year)  10.51  \n",
       "1  Supplied for Consumption (kg/person/year)  24.14  \n",
       "2  Supplied for Consumption (kg/person/year)  10.88  \n",
       "3  Supplied for Consumption (kg/person/year)  21.69  \n",
       "4  Supplied for Consumption (kg/person/year)  22.29  "
      ]
     },
     "execution_count": 7,
     "metadata": {},
     "output_type": "execute_result"
    }
   ],
   "source": [
    "animal = ['Beef', 'Eggs', 'Fish', 'Lamb & Goat', 'Milk - inc. Cheese', 'Pork', 'Poultry']\n",
    "non_animal = ['Wheat & Wheat Products', 'Rice', 'Soybeans', 'Nuts inc. Peanut Butter']\n",
    "filter_out = ['Animal products', 'Non-animal products', 'Difference Animal Non-Animals']\n",
    "\n",
    "stmt = select(foodprint.columns.country,\n",
    "              foodprint.columns.product,\n",
    "              case(\n",
    "                    (foodprint.columns.product.in_(animal), 'Animal'),\n",
    "                    (foodprint.columns.product.in_(non_animal), 'Non-animal'),\n",
    "                    else_= None).label('product_category'),\n",
    "              foodprint.columns.metric,\n",
    "              foodprint.columns.value\n",
    ")\n",
    "\n",
    "stmt = stmt.where(foodprint.columns.product.not_in(filter_out))\n",
    "\n",
    "print(stmt, '\\n')\n",
    "\n",
    "fetch_query_results('stmt', stmt).head()"
   ]
  },
  {
   "cell_type": "markdown",
   "id": "748c37ce",
   "metadata": {},
   "source": []
  },
  {
   "cell_type": "code",
   "execution_count": 12,
   "id": "87e4e1da",
   "metadata": {},
   "outputs": [
    {
     "data": {
      "text/plain": [
       "2860"
      ]
     },
     "execution_count": 12,
     "metadata": {},
     "output_type": "execute_result"
    }
   ],
   "source": [
    "# Update the foodprint table in the remote database\n",
    "(\n",
    "    fetch_query_results('stmt', stmt)\n",
    "    .to_sql(\"foodprint1\", engine, if_exists= 'replace', index= False, chunksize= 1000, method= 'multi')\n",
    ")"
   ]
  },
  {
   "cell_type": "code",
   "execution_count": 7,
   "id": "6389ea4d",
   "metadata": {},
   "outputs": [
    {
     "name": "stdout",
     "output_type": "stream",
     "text": [
      "['foodprint1', 'foodprint']\n"
     ]
    }
   ],
   "source": [
    "# Inspect the existence of foodprint_bkp in the remote database\n",
    "inspector = inspect(engine)\n",
    "print(inspector.get_table_names())\n"
   ]
  },
  {
   "cell_type": "markdown",
   "id": "46b6ec37",
   "metadata": {},
   "source": [
    "After making sure of the existence of the original and the altered table in the `foodprint_2018` remote database, instantiate the `foodprint1` table in the SQLAlchemy context, and take a look at the first 10 rows:"
   ]
  },
  {
   "cell_type": "code",
   "execution_count": 8,
   "id": "b7d2922f",
   "metadata": {},
   "outputs": [
    {
     "data": {
      "text/html": [
       "<div>\n",
       "<style scoped>\n",
       "    .dataframe tbody tr th:only-of-type {\n",
       "        vertical-align: middle;\n",
       "    }\n",
       "\n",
       "    .dataframe tbody tr th {\n",
       "        vertical-align: top;\n",
       "    }\n",
       "\n",
       "    .dataframe thead th {\n",
       "        text-align: right;\n",
       "    }\n",
       "</style>\n",
       "<table border=\"1\" class=\"dataframe\">\n",
       "  <thead>\n",
       "    <tr style=\"text-align: right;\">\n",
       "      <th></th>\n",
       "      <th>country</th>\n",
       "      <th>product</th>\n",
       "      <th>product_category</th>\n",
       "      <th>metric</th>\n",
       "      <th>value</th>\n",
       "    </tr>\n",
       "  </thead>\n",
       "  <tbody>\n",
       "    <tr>\n",
       "      <th>0</th>\n",
       "      <td>Argentina</td>\n",
       "      <td>Pork</td>\n",
       "      <td>Animal</td>\n",
       "      <td>Supplied for Consumption (kg/person/year)</td>\n",
       "      <td>10.51</td>\n",
       "    </tr>\n",
       "    <tr>\n",
       "      <th>1</th>\n",
       "      <td>Australia</td>\n",
       "      <td>Pork</td>\n",
       "      <td>Animal</td>\n",
       "      <td>Supplied for Consumption (kg/person/year)</td>\n",
       "      <td>24.14</td>\n",
       "    </tr>\n",
       "    <tr>\n",
       "      <th>2</th>\n",
       "      <td>Albania</td>\n",
       "      <td>Pork</td>\n",
       "      <td>Animal</td>\n",
       "      <td>Supplied for Consumption (kg/person/year)</td>\n",
       "      <td>10.88</td>\n",
       "    </tr>\n",
       "    <tr>\n",
       "      <th>3</th>\n",
       "      <td>Iceland</td>\n",
       "      <td>Pork</td>\n",
       "      <td>Animal</td>\n",
       "      <td>Supplied for Consumption (kg/person/year)</td>\n",
       "      <td>21.69</td>\n",
       "    </tr>\n",
       "    <tr>\n",
       "      <th>4</th>\n",
       "      <td>New Zealand</td>\n",
       "      <td>Pork</td>\n",
       "      <td>Animal</td>\n",
       "      <td>Supplied for Consumption (kg/person/year)</td>\n",
       "      <td>22.29</td>\n",
       "    </tr>\n",
       "    <tr>\n",
       "      <th>5</th>\n",
       "      <td>USA</td>\n",
       "      <td>Pork</td>\n",
       "      <td>Animal</td>\n",
       "      <td>Supplied for Consumption (kg/person/year)</td>\n",
       "      <td>27.64</td>\n",
       "    </tr>\n",
       "    <tr>\n",
       "      <th>6</th>\n",
       "      <td>Uruguay</td>\n",
       "      <td>Pork</td>\n",
       "      <td>Animal</td>\n",
       "      <td>Supplied for Consumption (kg/person/year)</td>\n",
       "      <td>16.84</td>\n",
       "    </tr>\n",
       "    <tr>\n",
       "      <th>7</th>\n",
       "      <td>Luxembourg</td>\n",
       "      <td>Pork</td>\n",
       "      <td>Animal</td>\n",
       "      <td>Supplied for Consumption (kg/person/year)</td>\n",
       "      <td>43.58</td>\n",
       "    </tr>\n",
       "    <tr>\n",
       "      <th>8</th>\n",
       "      <td>Brazil</td>\n",
       "      <td>Pork</td>\n",
       "      <td>Animal</td>\n",
       "      <td>Supplied for Consumption (kg/person/year)</td>\n",
       "      <td>12.60</td>\n",
       "    </tr>\n",
       "    <tr>\n",
       "      <th>9</th>\n",
       "      <td>Kazakhstan</td>\n",
       "      <td>Pork</td>\n",
       "      <td>Animal</td>\n",
       "      <td>Supplied for Consumption (kg/person/year)</td>\n",
       "      <td>10.36</td>\n",
       "    </tr>\n",
       "  </tbody>\n",
       "</table>\n",
       "</div>"
      ],
      "text/plain": [
       "       country product product_category  \\\n",
       "0    Argentina    Pork           Animal   \n",
       "1    Australia    Pork           Animal   \n",
       "2      Albania    Pork           Animal   \n",
       "3      Iceland    Pork           Animal   \n",
       "4  New Zealand    Pork           Animal   \n",
       "5          USA    Pork           Animal   \n",
       "6      Uruguay    Pork           Animal   \n",
       "7   Luxembourg    Pork           Animal   \n",
       "8       Brazil    Pork           Animal   \n",
       "9   Kazakhstan    Pork           Animal   \n",
       "\n",
       "                                      metric  value  \n",
       "0  Supplied for Consumption (kg/person/year)  10.51  \n",
       "1  Supplied for Consumption (kg/person/year)  24.14  \n",
       "2  Supplied for Consumption (kg/person/year)  10.88  \n",
       "3  Supplied for Consumption (kg/person/year)  21.69  \n",
       "4  Supplied for Consumption (kg/person/year)  22.29  \n",
       "5  Supplied for Consumption (kg/person/year)  27.64  \n",
       "6  Supplied for Consumption (kg/person/year)  16.84  \n",
       "7  Supplied for Consumption (kg/person/year)  43.58  \n",
       "8  Supplied for Consumption (kg/person/year)  12.60  \n",
       "9  Supplied for Consumption (kg/person/year)  10.36  "
      ]
     },
     "execution_count": 8,
     "metadata": {},
     "output_type": "execute_result"
    }
   ],
   "source": [
    "foodprint1 = Table('foodprint1', metadata, autoload_replace= True, autoload_with= engine)\n",
    "\n",
    "query = \"\"\"\n",
    "    SELECT *\n",
    "        FROM foodprint1\n",
    "        LIMIT 10\n",
    "\"\"\"\n",
    "\n",
    "fetch_query_results('query', query)"
   ]
  },
  {
   "cell_type": "code",
   "execution_count": 15,
   "id": "b31eaf8e",
   "metadata": {},
   "outputs": [
    {
     "name": "stdout",
     "output_type": "stream",
     "text": [
      "country: TEXT\n",
      "product: TEXT\n",
      "product_category: TEXT\n",
      "metric: TEXT\n",
      "value: DOUBLE PRECISION\n"
     ]
    }
   ],
   "source": [
    "# Data type pf each column in foodprint1\n",
    "for col in foodprint1.columns:\n",
    "    print(f\"{col.key}: {col.type}\")"
   ]
  },
  {
   "cell_type": "code",
   "execution_count": 27,
   "id": "7448e301",
   "metadata": {},
   "outputs": [],
   "source": [
    "connection.rollback()"
   ]
  },
  {
   "cell_type": "code",
   "execution_count": 32,
   "id": "b22a0554",
   "metadata": {},
   "outputs": [
    {
     "name": "stdout",
     "output_type": "stream",
     "text": [
      "SELECT foodprint1.country, sum(foodprint1.value) AS sum \n",
      "FROM foodprint1 \n",
      "WHERE foodprint1.country = :country_1 AND foodprint1.product_category = :product_category_1 AND lower(foodprint1.metric) LIKE lower(:metric_1) GROUP BY foodprint1.country \n",
      "\n"
     ]
    },
    {
     "data": {
      "text/html": [
       "<div>\n",
       "<style scoped>\n",
       "    .dataframe tbody tr th:only-of-type {\n",
       "        vertical-align: middle;\n",
       "    }\n",
       "\n",
       "    .dataframe tbody tr th {\n",
       "        vertical-align: top;\n",
       "    }\n",
       "\n",
       "    .dataframe thead th {\n",
       "        text-align: right;\n",
       "    }\n",
       "</style>\n",
       "<table border=\"1\" class=\"dataframe\">\n",
       "  <thead>\n",
       "    <tr style=\"text-align: right;\">\n",
       "      <th></th>\n",
       "      <th>country</th>\n",
       "      <th>sum</th>\n",
       "    </tr>\n",
       "  </thead>\n",
       "  <tbody>\n",
       "    <tr>\n",
       "      <th>0</th>\n",
       "      <td>Argentina</td>\n",
       "      <td>31.75</td>\n",
       "    </tr>\n",
       "  </tbody>\n",
       "</table>\n",
       "</div>"
      ],
      "text/plain": [
       "     country    sum\n",
       "0  Argentina  31.75"
      ]
     },
     "execution_count": 32,
     "metadata": {},
     "output_type": "execute_result"
    }
   ],
   "source": [
    "stmt = select(foodprint1.columns.country, \n",
    "              func.sum(foodprint1.columns.value).label('sum'))\n",
    "\n",
    "stmt = stmt.where(and_(foodprint1.columns.country == 'Argentina', \n",
    "                       foodprint1.columns.product_category == 'Non-animal',\n",
    "                       foodprint1.columns.metric.ilike('Kg %')))\n",
    "                       \n",
    "stmt = stmt.group_by(foodprint1.columns.country)\n",
    "\n",
    "print(stmt, '\\n')\n",
    "\n",
    "fetch_query_results('stmt', stmt)"
   ]
  },
  {
   "cell_type": "markdown",
   "id": "643fc6d6",
   "metadata": {},
   "source": [
    "Analysis by product"
   ]
  },
  {
   "cell_type": "code",
   "execution_count": 44,
   "id": "8aa0381d",
   "metadata": {},
   "outputs": [],
   "source": [
    "connection.rollback()"
   ]
  },
  {
   "cell_type": "code",
   "execution_count": 38,
   "id": "d09389b7",
   "metadata": {},
   "outputs": [
    {
     "data": {
      "text/html": [
       "<div>\n",
       "<style scoped>\n",
       "    .dataframe tbody tr th:only-of-type {\n",
       "        vertical-align: middle;\n",
       "    }\n",
       "\n",
       "    .dataframe tbody tr th {\n",
       "        vertical-align: top;\n",
       "    }\n",
       "\n",
       "    .dataframe thead th {\n",
       "        text-align: right;\n",
       "    }\n",
       "</style>\n",
       "<table border=\"1\" class=\"dataframe\">\n",
       "  <thead>\n",
       "    <tr style=\"text-align: right;\">\n",
       "      <th></th>\n",
       "      <th>country</th>\n",
       "      <th>product</th>\n",
       "      <th>product_category</th>\n",
       "      <th>metric</th>\n",
       "      <th>value</th>\n",
       "    </tr>\n",
       "  </thead>\n",
       "  <tbody>\n",
       "    <tr>\n",
       "      <th>0</th>\n",
       "      <td>Argentina</td>\n",
       "      <td>Pork</td>\n",
       "      <td>Animal</td>\n",
       "      <td>Supplied for Consumption (kg/person/year)</td>\n",
       "      <td>10.51</td>\n",
       "    </tr>\n",
       "    <tr>\n",
       "      <th>1</th>\n",
       "      <td>Australia</td>\n",
       "      <td>Pork</td>\n",
       "      <td>Animal</td>\n",
       "      <td>Supplied for Consumption (kg/person/year)</td>\n",
       "      <td>24.14</td>\n",
       "    </tr>\n",
       "    <tr>\n",
       "      <th>2</th>\n",
       "      <td>Albania</td>\n",
       "      <td>Pork</td>\n",
       "      <td>Animal</td>\n",
       "      <td>Supplied for Consumption (kg/person/year)</td>\n",
       "      <td>10.88</td>\n",
       "    </tr>\n",
       "    <tr>\n",
       "      <th>3</th>\n",
       "      <td>Iceland</td>\n",
       "      <td>Pork</td>\n",
       "      <td>Animal</td>\n",
       "      <td>Supplied for Consumption (kg/person/year)</td>\n",
       "      <td>21.69</td>\n",
       "    </tr>\n",
       "    <tr>\n",
       "      <th>4</th>\n",
       "      <td>New Zealand</td>\n",
       "      <td>Pork</td>\n",
       "      <td>Animal</td>\n",
       "      <td>Supplied for Consumption (kg/person/year)</td>\n",
       "      <td>22.29</td>\n",
       "    </tr>\n",
       "    <tr>\n",
       "      <th>5</th>\n",
       "      <td>USA</td>\n",
       "      <td>Pork</td>\n",
       "      <td>Animal</td>\n",
       "      <td>Supplied for Consumption (kg/person/year)</td>\n",
       "      <td>27.64</td>\n",
       "    </tr>\n",
       "    <tr>\n",
       "      <th>6</th>\n",
       "      <td>Uruguay</td>\n",
       "      <td>Pork</td>\n",
       "      <td>Animal</td>\n",
       "      <td>Supplied for Consumption (kg/person/year)</td>\n",
       "      <td>16.84</td>\n",
       "    </tr>\n",
       "    <tr>\n",
       "      <th>7</th>\n",
       "      <td>Luxembourg</td>\n",
       "      <td>Pork</td>\n",
       "      <td>Animal</td>\n",
       "      <td>Supplied for Consumption (kg/person/year)</td>\n",
       "      <td>43.58</td>\n",
       "    </tr>\n",
       "    <tr>\n",
       "      <th>8</th>\n",
       "      <td>Brazil</td>\n",
       "      <td>Pork</td>\n",
       "      <td>Animal</td>\n",
       "      <td>Supplied for Consumption (kg/person/year)</td>\n",
       "      <td>12.60</td>\n",
       "    </tr>\n",
       "    <tr>\n",
       "      <th>9</th>\n",
       "      <td>Kazakhstan</td>\n",
       "      <td>Pork</td>\n",
       "      <td>Animal</td>\n",
       "      <td>Supplied for Consumption (kg/person/year)</td>\n",
       "      <td>10.36</td>\n",
       "    </tr>\n",
       "  </tbody>\n",
       "</table>\n",
       "</div>"
      ],
      "text/plain": [
       "       country product product_category  \\\n",
       "0    Argentina    Pork           Animal   \n",
       "1    Australia    Pork           Animal   \n",
       "2      Albania    Pork           Animal   \n",
       "3      Iceland    Pork           Animal   \n",
       "4  New Zealand    Pork           Animal   \n",
       "5          USA    Pork           Animal   \n",
       "6      Uruguay    Pork           Animal   \n",
       "7   Luxembourg    Pork           Animal   \n",
       "8       Brazil    Pork           Animal   \n",
       "9   Kazakhstan    Pork           Animal   \n",
       "\n",
       "                                      metric  value  \n",
       "0  Supplied for Consumption (kg/person/year)  10.51  \n",
       "1  Supplied for Consumption (kg/person/year)  24.14  \n",
       "2  Supplied for Consumption (kg/person/year)  10.88  \n",
       "3  Supplied for Consumption (kg/person/year)  21.69  \n",
       "4  Supplied for Consumption (kg/person/year)  22.29  \n",
       "5  Supplied for Consumption (kg/person/year)  27.64  \n",
       "6  Supplied for Consumption (kg/person/year)  16.84  \n",
       "7  Supplied for Consumption (kg/person/year)  43.58  \n",
       "8  Supplied for Consumption (kg/person/year)  12.60  \n",
       "9  Supplied for Consumption (kg/person/year)  10.36  "
      ]
     },
     "execution_count": 38,
     "metadata": {},
     "output_type": "execute_result"
    }
   ],
   "source": [
    "stmt = select(foodprint1)\n",
    "stmt = stmt.limit(10)\n",
    "\n",
    "fetch_query_results('stmt', stmt)"
   ]
  },
  {
   "cell_type": "code",
   "execution_count": 109,
   "id": "14ccb2bc",
   "metadata": {},
   "outputs": [
    {
     "data": {
      "text/html": [
       "<div>\n",
       "<style scoped>\n",
       "    .dataframe tbody tr th:only-of-type {\n",
       "        vertical-align: middle;\n",
       "    }\n",
       "\n",
       "    .dataframe tbody tr th {\n",
       "        vertical-align: top;\n",
       "    }\n",
       "\n",
       "    .dataframe thead th {\n",
       "        text-align: right;\n",
       "    }\n",
       "</style>\n",
       "<table border=\"1\" class=\"dataframe\">\n",
       "  <thead>\n",
       "    <tr style=\"text-align: right;\">\n",
       "      <th></th>\n",
       "      <th>product_category</th>\n",
       "      <th>metric</th>\n",
       "      <th>sum</th>\n",
       "      <th>percentage</th>\n",
       "      <th>mean</th>\n",
       "    </tr>\n",
       "  </thead>\n",
       "  <tbody>\n",
       "    <tr>\n",
       "      <th>0</th>\n",
       "      <td>Animal</td>\n",
       "      <td>Kg CO2/person/year</td>\n",
       "      <td>98706.08</td>\n",
       "      <td>0.927958</td>\n",
       "      <td>108.468220</td>\n",
       "    </tr>\n",
       "    <tr>\n",
       "      <th>1</th>\n",
       "      <td>Non-animal</td>\n",
       "      <td>Kg CO2/person/year</td>\n",
       "      <td>7663.03</td>\n",
       "      <td>0.072042</td>\n",
       "      <td>14.736596</td>\n",
       "    </tr>\n",
       "  </tbody>\n",
       "</table>\n",
       "</div>"
      ],
      "text/plain": [
       "  product_category              metric       sum  percentage        mean\n",
       "0           Animal  Kg CO2/person/year  98706.08    0.927958  108.468220\n",
       "1       Non-animal  Kg CO2/person/year   7663.03    0.072042   14.736596"
      ]
     },
     "execution_count": 109,
     "metadata": {},
     "output_type": "execute_result"
    }
   ],
   "source": [
    "# Animal vs Non-animal emissions\n",
    "\n",
    "query = \"\"\"\n",
    "    SELECT  product_category\n",
    "           ,metric\n",
    "           ,SUM(value) AS sum\n",
    "           ,SUM(value) / (SUM(SUM(value)) OVER()) AS Percentage\n",
    "           ,AVG(value) AS mean\n",
    "        FROM foodprint1\n",
    "        WHERE metric ILIKE 'Kg CO2/person/year'\n",
    "        GROUP BY product_category, metric\n",
    "\"\"\"\n",
    "\n",
    "df = fetch_query_results('query', query)\n",
    "df\n"
   ]
  },
  {
   "cell_type": "markdown",
   "id": "df1a4f25",
   "metadata": {},
   "source": [
    "Diet is a significant driver of greenhouse gas emissions, with food production systems contributing substantially to global CO₂ outputs. The environmental impact of different food sources varies widely, particularly between animal-based and plant-based products. Understanding the relative contributions of these sources to per capita emissions is essential for informing sustainable dietary strategies and climate policy.  \n",
    "The pie chart below presents a comparative breakdown of these contributions, offering insight into the role of food consumption in national carbon footprints."
   ]
  },
  {
   "cell_type": "code",
   "execution_count": 179,
   "id": "0d0ce2e7",
   "metadata": {},
   "outputs": [
    {
     "data": {
      "application/vnd.plotly.v1+json": {
       "config": {
        "plotlyServerURL": "https://plot.ly"
       },
       "data": [
        {
         "customdata": [
          [
           "Animal"
          ],
          [
           "Non-animal"
          ]
         ],
         "domain": {
          "x": [
           0,
           1
          ],
          "y": [
           0,
           1
          ]
         },
         "hovertemplate": "product_category=%{customdata[0]}<br>sum=%{value}<extra></extra>",
         "labels": [
          "Animal",
          "Non-animal"
         ],
         "legendgroup": "",
         "marker": {
          "colors": [
           "B82E2E",
           "54A24B"
          ]
         },
         "name": "",
         "showlegend": true,
         "textfont": {
          "size": 15
         },
         "textinfo": "percent+label",
         "type": "pie",
         "values": [
          98706.08000000009,
          7663.030000000014
         ]
        }
       ],
       "layout": {
        "legend": {
         "tracegroupgap": 0
        },
        "margin": {
         "b": 50,
         "t": 80
        },
        "showlegend": false,
        "template": {
         "data": {
          "bar": [
           {
            "error_x": {
             "color": "#2a3f5f"
            },
            "error_y": {
             "color": "#2a3f5f"
            },
            "marker": {
             "line": {
              "color": "#E5ECF6",
              "width": 0.5
             },
             "pattern": {
              "fillmode": "overlay",
              "size": 10,
              "solidity": 0.2
             }
            },
            "type": "bar"
           }
          ],
          "barpolar": [
           {
            "marker": {
             "line": {
              "color": "#E5ECF6",
              "width": 0.5
             },
             "pattern": {
              "fillmode": "overlay",
              "size": 10,
              "solidity": 0.2
             }
            },
            "type": "barpolar"
           }
          ],
          "carpet": [
           {
            "aaxis": {
             "endlinecolor": "#2a3f5f",
             "gridcolor": "white",
             "linecolor": "white",
             "minorgridcolor": "white",
             "startlinecolor": "#2a3f5f"
            },
            "baxis": {
             "endlinecolor": "#2a3f5f",
             "gridcolor": "white",
             "linecolor": "white",
             "minorgridcolor": "white",
             "startlinecolor": "#2a3f5f"
            },
            "type": "carpet"
           }
          ],
          "choropleth": [
           {
            "colorbar": {
             "outlinewidth": 0,
             "ticks": ""
            },
            "type": "choropleth"
           }
          ],
          "contour": [
           {
            "colorbar": {
             "outlinewidth": 0,
             "ticks": ""
            },
            "colorscale": [
             [
              0,
              "#0d0887"
             ],
             [
              0.1111111111111111,
              "#46039f"
             ],
             [
              0.2222222222222222,
              "#7201a8"
             ],
             [
              0.3333333333333333,
              "#9c179e"
             ],
             [
              0.4444444444444444,
              "#bd3786"
             ],
             [
              0.5555555555555556,
              "#d8576b"
             ],
             [
              0.6666666666666666,
              "#ed7953"
             ],
             [
              0.7777777777777778,
              "#fb9f3a"
             ],
             [
              0.8888888888888888,
              "#fdca26"
             ],
             [
              1,
              "#f0f921"
             ]
            ],
            "type": "contour"
           }
          ],
          "contourcarpet": [
           {
            "colorbar": {
             "outlinewidth": 0,
             "ticks": ""
            },
            "type": "contourcarpet"
           }
          ],
          "heatmap": [
           {
            "colorbar": {
             "outlinewidth": 0,
             "ticks": ""
            },
            "colorscale": [
             [
              0,
              "#0d0887"
             ],
             [
              0.1111111111111111,
              "#46039f"
             ],
             [
              0.2222222222222222,
              "#7201a8"
             ],
             [
              0.3333333333333333,
              "#9c179e"
             ],
             [
              0.4444444444444444,
              "#bd3786"
             ],
             [
              0.5555555555555556,
              "#d8576b"
             ],
             [
              0.6666666666666666,
              "#ed7953"
             ],
             [
              0.7777777777777778,
              "#fb9f3a"
             ],
             [
              0.8888888888888888,
              "#fdca26"
             ],
             [
              1,
              "#f0f921"
             ]
            ],
            "type": "heatmap"
           }
          ],
          "heatmapgl": [
           {
            "colorbar": {
             "outlinewidth": 0,
             "ticks": ""
            },
            "colorscale": [
             [
              0,
              "#0d0887"
             ],
             [
              0.1111111111111111,
              "#46039f"
             ],
             [
              0.2222222222222222,
              "#7201a8"
             ],
             [
              0.3333333333333333,
              "#9c179e"
             ],
             [
              0.4444444444444444,
              "#bd3786"
             ],
             [
              0.5555555555555556,
              "#d8576b"
             ],
             [
              0.6666666666666666,
              "#ed7953"
             ],
             [
              0.7777777777777778,
              "#fb9f3a"
             ],
             [
              0.8888888888888888,
              "#fdca26"
             ],
             [
              1,
              "#f0f921"
             ]
            ],
            "type": "heatmapgl"
           }
          ],
          "histogram": [
           {
            "marker": {
             "pattern": {
              "fillmode": "overlay",
              "size": 10,
              "solidity": 0.2
             }
            },
            "type": "histogram"
           }
          ],
          "histogram2d": [
           {
            "colorbar": {
             "outlinewidth": 0,
             "ticks": ""
            },
            "colorscale": [
             [
              0,
              "#0d0887"
             ],
             [
              0.1111111111111111,
              "#46039f"
             ],
             [
              0.2222222222222222,
              "#7201a8"
             ],
             [
              0.3333333333333333,
              "#9c179e"
             ],
             [
              0.4444444444444444,
              "#bd3786"
             ],
             [
              0.5555555555555556,
              "#d8576b"
             ],
             [
              0.6666666666666666,
              "#ed7953"
             ],
             [
              0.7777777777777778,
              "#fb9f3a"
             ],
             [
              0.8888888888888888,
              "#fdca26"
             ],
             [
              1,
              "#f0f921"
             ]
            ],
            "type": "histogram2d"
           }
          ],
          "histogram2dcontour": [
           {
            "colorbar": {
             "outlinewidth": 0,
             "ticks": ""
            },
            "colorscale": [
             [
              0,
              "#0d0887"
             ],
             [
              0.1111111111111111,
              "#46039f"
             ],
             [
              0.2222222222222222,
              "#7201a8"
             ],
             [
              0.3333333333333333,
              "#9c179e"
             ],
             [
              0.4444444444444444,
              "#bd3786"
             ],
             [
              0.5555555555555556,
              "#d8576b"
             ],
             [
              0.6666666666666666,
              "#ed7953"
             ],
             [
              0.7777777777777778,
              "#fb9f3a"
             ],
             [
              0.8888888888888888,
              "#fdca26"
             ],
             [
              1,
              "#f0f921"
             ]
            ],
            "type": "histogram2dcontour"
           }
          ],
          "mesh3d": [
           {
            "colorbar": {
             "outlinewidth": 0,
             "ticks": ""
            },
            "type": "mesh3d"
           }
          ],
          "parcoords": [
           {
            "line": {
             "colorbar": {
              "outlinewidth": 0,
              "ticks": ""
             }
            },
            "type": "parcoords"
           }
          ],
          "pie": [
           {
            "automargin": true,
            "type": "pie"
           }
          ],
          "scatter": [
           {
            "fillpattern": {
             "fillmode": "overlay",
             "size": 10,
             "solidity": 0.2
            },
            "type": "scatter"
           }
          ],
          "scatter3d": [
           {
            "line": {
             "colorbar": {
              "outlinewidth": 0,
              "ticks": ""
             }
            },
            "marker": {
             "colorbar": {
              "outlinewidth": 0,
              "ticks": ""
             }
            },
            "type": "scatter3d"
           }
          ],
          "scattercarpet": [
           {
            "marker": {
             "colorbar": {
              "outlinewidth": 0,
              "ticks": ""
             }
            },
            "type": "scattercarpet"
           }
          ],
          "scattergeo": [
           {
            "marker": {
             "colorbar": {
              "outlinewidth": 0,
              "ticks": ""
             }
            },
            "type": "scattergeo"
           }
          ],
          "scattergl": [
           {
            "marker": {
             "colorbar": {
              "outlinewidth": 0,
              "ticks": ""
             }
            },
            "type": "scattergl"
           }
          ],
          "scattermapbox": [
           {
            "marker": {
             "colorbar": {
              "outlinewidth": 0,
              "ticks": ""
             }
            },
            "type": "scattermapbox"
           }
          ],
          "scatterpolar": [
           {
            "marker": {
             "colorbar": {
              "outlinewidth": 0,
              "ticks": ""
             }
            },
            "type": "scatterpolar"
           }
          ],
          "scatterpolargl": [
           {
            "marker": {
             "colorbar": {
              "outlinewidth": 0,
              "ticks": ""
             }
            },
            "type": "scatterpolargl"
           }
          ],
          "scatterternary": [
           {
            "marker": {
             "colorbar": {
              "outlinewidth": 0,
              "ticks": ""
             }
            },
            "type": "scatterternary"
           }
          ],
          "surface": [
           {
            "colorbar": {
             "outlinewidth": 0,
             "ticks": ""
            },
            "colorscale": [
             [
              0,
              "#0d0887"
             ],
             [
              0.1111111111111111,
              "#46039f"
             ],
             [
              0.2222222222222222,
              "#7201a8"
             ],
             [
              0.3333333333333333,
              "#9c179e"
             ],
             [
              0.4444444444444444,
              "#bd3786"
             ],
             [
              0.5555555555555556,
              "#d8576b"
             ],
             [
              0.6666666666666666,
              "#ed7953"
             ],
             [
              0.7777777777777778,
              "#fb9f3a"
             ],
             [
              0.8888888888888888,
              "#fdca26"
             ],
             [
              1,
              "#f0f921"
             ]
            ],
            "type": "surface"
           }
          ],
          "table": [
           {
            "cells": {
             "fill": {
              "color": "#EBF0F8"
             },
             "line": {
              "color": "white"
             }
            },
            "header": {
             "fill": {
              "color": "#C8D4E3"
             },
             "line": {
              "color": "white"
             }
            },
            "type": "table"
           }
          ]
         },
         "layout": {
          "annotationdefaults": {
           "arrowcolor": "#2a3f5f",
           "arrowhead": 0,
           "arrowwidth": 1
          },
          "autotypenumbers": "strict",
          "coloraxis": {
           "colorbar": {
            "outlinewidth": 0,
            "ticks": ""
           }
          },
          "colorscale": {
           "diverging": [
            [
             0,
             "#8e0152"
            ],
            [
             0.1,
             "#c51b7d"
            ],
            [
             0.2,
             "#de77ae"
            ],
            [
             0.3,
             "#f1b6da"
            ],
            [
             0.4,
             "#fde0ef"
            ],
            [
             0.5,
             "#f7f7f7"
            ],
            [
             0.6,
             "#e6f5d0"
            ],
            [
             0.7,
             "#b8e186"
            ],
            [
             0.8,
             "#7fbc41"
            ],
            [
             0.9,
             "#4d9221"
            ],
            [
             1,
             "#276419"
            ]
           ],
           "sequential": [
            [
             0,
             "#0d0887"
            ],
            [
             0.1111111111111111,
             "#46039f"
            ],
            [
             0.2222222222222222,
             "#7201a8"
            ],
            [
             0.3333333333333333,
             "#9c179e"
            ],
            [
             0.4444444444444444,
             "#bd3786"
            ],
            [
             0.5555555555555556,
             "#d8576b"
            ],
            [
             0.6666666666666666,
             "#ed7953"
            ],
            [
             0.7777777777777778,
             "#fb9f3a"
            ],
            [
             0.8888888888888888,
             "#fdca26"
            ],
            [
             1,
             "#f0f921"
            ]
           ],
           "sequentialminus": [
            [
             0,
             "#0d0887"
            ],
            [
             0.1111111111111111,
             "#46039f"
            ],
            [
             0.2222222222222222,
             "#7201a8"
            ],
            [
             0.3333333333333333,
             "#9c179e"
            ],
            [
             0.4444444444444444,
             "#bd3786"
            ],
            [
             0.5555555555555556,
             "#d8576b"
            ],
            [
             0.6666666666666666,
             "#ed7953"
            ],
            [
             0.7777777777777778,
             "#fb9f3a"
            ],
            [
             0.8888888888888888,
             "#fdca26"
            ],
            [
             1,
             "#f0f921"
            ]
           ]
          },
          "colorway": [
           "#636efa",
           "#EF553B",
           "#00cc96",
           "#ab63fa",
           "#FFA15A",
           "#19d3f3",
           "#FF6692",
           "#B6E880",
           "#FF97FF",
           "#FECB52"
          ],
          "font": {
           "color": "#2a3f5f"
          },
          "geo": {
           "bgcolor": "white",
           "lakecolor": "white",
           "landcolor": "#E5ECF6",
           "showlakes": true,
           "showland": true,
           "subunitcolor": "white"
          },
          "hoverlabel": {
           "align": "left"
          },
          "hovermode": "closest",
          "mapbox": {
           "style": "light"
          },
          "paper_bgcolor": "white",
          "plot_bgcolor": "#E5ECF6",
          "polar": {
           "angularaxis": {
            "gridcolor": "white",
            "linecolor": "white",
            "ticks": ""
           },
           "bgcolor": "#E5ECF6",
           "radialaxis": {
            "gridcolor": "white",
            "linecolor": "white",
            "ticks": ""
           }
          },
          "scene": {
           "xaxis": {
            "backgroundcolor": "#E5ECF6",
            "gridcolor": "white",
            "gridwidth": 2,
            "linecolor": "white",
            "showbackground": true,
            "ticks": "",
            "zerolinecolor": "white"
           },
           "yaxis": {
            "backgroundcolor": "#E5ECF6",
            "gridcolor": "white",
            "gridwidth": 2,
            "linecolor": "white",
            "showbackground": true,
            "ticks": "",
            "zerolinecolor": "white"
           },
           "zaxis": {
            "backgroundcolor": "#E5ECF6",
            "gridcolor": "white",
            "gridwidth": 2,
            "linecolor": "white",
            "showbackground": true,
            "ticks": "",
            "zerolinecolor": "white"
           }
          },
          "shapedefaults": {
           "line": {
            "color": "#2a3f5f"
           }
          },
          "ternary": {
           "aaxis": {
            "gridcolor": "white",
            "linecolor": "white",
            "ticks": ""
           },
           "baxis": {
            "gridcolor": "white",
            "linecolor": "white",
            "ticks": ""
           },
           "bgcolor": "#E5ECF6",
           "caxis": {
            "gridcolor": "white",
            "linecolor": "white",
            "ticks": ""
           }
          },
          "title": {
           "x": 0.05
          },
          "xaxis": {
           "automargin": true,
           "gridcolor": "white",
           "linecolor": "white",
           "ticks": "",
           "title": {
            "standoff": 15
           },
           "zerolinecolor": "white",
           "zerolinewidth": 2
          },
          "yaxis": {
           "automargin": true,
           "gridcolor": "white",
           "linecolor": "white",
           "ticks": "",
           "title": {
            "standoff": 15
           },
           "zerolinecolor": "white",
           "zerolinewidth": 2
          }
         }
        },
        "title": {
         "font": {
          "size": 17
         },
         "text": "Share of Annual CO₂ Emissions per Capita by Food Source"
        }
       }
      }
     },
     "metadata": {},
     "output_type": "display_data"
    }
   ],
   "source": [
    "pio.renderers.default = 'vscode'\n",
    "\n",
    "fig = px.pie(df, \n",
    "             values= 'sum', \n",
    "             names= 'product_category',\n",
    "             title= 'Share of Annual CO₂ Emissions per Capita by Food Source',\n",
    "             color= 'product_category',\n",
    "             color_discrete_map= {\n",
    "                 'Animal': 'B82E2E',\n",
    "                 'Non-animal': '54A24B'\n",
    "             })\n",
    "fig.update_traces(\n",
    "    textinfo='percent+label',\n",
    "    textfont_size=15 \n",
    ")\n",
    "fig.update_layout(\n",
    "    title_font_size=17,\n",
    "    showlegend= False,\n",
    "    margin=dict(b=50, t= 80)\n",
    ")\n",
    "fig.show()"
   ]
  },
  {
   "cell_type": "markdown",
   "id": "1d4a2f6b",
   "metadata": {},
   "source": [
    "The chart visually contrasts the proportional contributions of animal- and non-animal-based food products to per capita CO₂ emissions [Kg] worldwide. It reveals a clear disparity: animal products account for the majority of emissions, underscoring their heavier environmental footprint. This imbalance is rooted in the resource-intensive nature of animal agriculture, which typically involves higher land use, feed production, and methane output compared to plant-based alternatives. By quantifying these differences, the chart emphasizes how dietary composition—specifically the dominance of animal-based foods—plays a critical role in shaping the carbon footprint of global food systems."
   ]
  },
  {
   "cell_type": "code",
   "execution_count": 59,
   "id": "a922588a",
   "metadata": {},
   "outputs": [
    {
     "data": {
      "text/html": [
       "<div>\n",
       "<style scoped>\n",
       "    .dataframe tbody tr th:only-of-type {\n",
       "        vertical-align: middle;\n",
       "    }\n",
       "\n",
       "    .dataframe tbody tr th {\n",
       "        vertical-align: top;\n",
       "    }\n",
       "\n",
       "    .dataframe thead th {\n",
       "        text-align: right;\n",
       "    }\n",
       "</style>\n",
       "<table border=\"1\" class=\"dataframe\">\n",
       "  <thead>\n",
       "    <tr style=\"text-align: right;\">\n",
       "      <th></th>\n",
       "      <th>country</th>\n",
       "      <th>product_category</th>\n",
       "      <th>metric</th>\n",
       "      <th>value</th>\n",
       "    </tr>\n",
       "  </thead>\n",
       "  <tbody>\n",
       "    <tr>\n",
       "      <th>0</th>\n",
       "      <td>Kuwait</td>\n",
       "      <td>Animal</td>\n",
       "      <td>Supplied for Consumption (kg/person/year)</td>\n",
       "      <td>0.0</td>\n",
       "    </tr>\n",
       "    <tr>\n",
       "      <th>1</th>\n",
       "      <td>United Arab Emirates</td>\n",
       "      <td>Animal</td>\n",
       "      <td>Supplied for Consumption (kg/person/year)</td>\n",
       "      <td>0.0</td>\n",
       "    </tr>\n",
       "    <tr>\n",
       "      <th>2</th>\n",
       "      <td>Algeria</td>\n",
       "      <td>Animal</td>\n",
       "      <td>Supplied for Consumption (kg/person/year)</td>\n",
       "      <td>0.0</td>\n",
       "    </tr>\n",
       "    <tr>\n",
       "      <th>3</th>\n",
       "      <td>Pakistan</td>\n",
       "      <td>Animal</td>\n",
       "      <td>Supplied for Consumption (kg/person/year)</td>\n",
       "      <td>0.0</td>\n",
       "    </tr>\n",
       "    <tr>\n",
       "      <th>4</th>\n",
       "      <td>Saudi Arabia</td>\n",
       "      <td>Animal</td>\n",
       "      <td>Supplied for Consumption (kg/person/year)</td>\n",
       "      <td>0.0</td>\n",
       "    </tr>\n",
       "    <tr>\n",
       "      <th>...</th>\n",
       "      <td>...</td>\n",
       "      <td>...</td>\n",
       "      <td>...</td>\n",
       "      <td>...</td>\n",
       "    </tr>\n",
       "    <tr>\n",
       "      <th>70</th>\n",
       "      <td>Ghana</td>\n",
       "      <td>Non-animal</td>\n",
       "      <td>Kg CO2/person/year</td>\n",
       "      <td>0.0</td>\n",
       "    </tr>\n",
       "    <tr>\n",
       "      <th>71</th>\n",
       "      <td>Togo</td>\n",
       "      <td>Non-animal</td>\n",
       "      <td>Kg CO2/person/year</td>\n",
       "      <td>0.0</td>\n",
       "    </tr>\n",
       "    <tr>\n",
       "      <th>72</th>\n",
       "      <td>Gambia</td>\n",
       "      <td>Non-animal</td>\n",
       "      <td>Kg CO2/person/year</td>\n",
       "      <td>0.0</td>\n",
       "    </tr>\n",
       "    <tr>\n",
       "      <th>73</th>\n",
       "      <td>Sierra Leone</td>\n",
       "      <td>Non-animal</td>\n",
       "      <td>Kg CO2/person/year</td>\n",
       "      <td>0.0</td>\n",
       "    </tr>\n",
       "    <tr>\n",
       "      <th>74</th>\n",
       "      <td>Sri Lanka</td>\n",
       "      <td>Non-animal</td>\n",
       "      <td>Kg CO2/person/year</td>\n",
       "      <td>0.0</td>\n",
       "    </tr>\n",
       "  </tbody>\n",
       "</table>\n",
       "<p>75 rows × 4 columns</p>\n",
       "</div>"
      ],
      "text/plain": [
       "                 country product_category  \\\n",
       "0                 Kuwait           Animal   \n",
       "1   United Arab Emirates           Animal   \n",
       "2                Algeria           Animal   \n",
       "3               Pakistan           Animal   \n",
       "4           Saudi Arabia           Animal   \n",
       "..                   ...              ...   \n",
       "70                 Ghana       Non-animal   \n",
       "71                  Togo       Non-animal   \n",
       "72                Gambia       Non-animal   \n",
       "73          Sierra Leone       Non-animal   \n",
       "74             Sri Lanka       Non-animal   \n",
       "\n",
       "                                       metric  value  \n",
       "0   Supplied for Consumption (kg/person/year)    0.0  \n",
       "1   Supplied for Consumption (kg/person/year)    0.0  \n",
       "2   Supplied for Consumption (kg/person/year)    0.0  \n",
       "3   Supplied for Consumption (kg/person/year)    0.0  \n",
       "4   Supplied for Consumption (kg/person/year)    0.0  \n",
       "..                                        ...    ...  \n",
       "70                         Kg CO2/person/year    0.0  \n",
       "71                         Kg CO2/person/year    0.0  \n",
       "72                         Kg CO2/person/year    0.0  \n",
       "73                         Kg CO2/person/year    0.0  \n",
       "74                         Kg CO2/person/year    0.0  \n",
       "\n",
       "[75 rows x 4 columns]"
      ]
     },
     "execution_count": 59,
     "metadata": {},
     "output_type": "execute_result"
    }
   ],
   "source": [
    "query = \"\"\"\n",
    "    SELECT country,\n",
    "           product_Category,\n",
    "           metric,\n",
    "           value\n",
    "        FROM foodprint1\n",
    "        WHERE value = 0\n",
    "\"\"\"\n",
    "\n",
    "fetch_query_results('query', query)"
   ]
  }
 ],
 "metadata": {
  "kernelspec": {
   "display_name": "DataScience",
   "language": "python",
   "name": "python3"
  },
  "language_info": {
   "codemirror_mode": {
    "name": "ipython",
    "version": 3
   },
   "file_extension": ".py",
   "mimetype": "text/x-python",
   "name": "python",
   "nbconvert_exporter": "python",
   "pygments_lexer": "ipython3",
   "version": "3.8.11"
  }
 },
 "nbformat": 4,
 "nbformat_minor": 5
}
