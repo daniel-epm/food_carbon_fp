{
 "cells": [
  {
   "cell_type": "code",
   "execution_count": 50,
   "id": "1f896b7f",
   "metadata": {},
   "outputs": [],
   "source": [
    "import os\n",
    "import pandas as pd\n",
    "from sqlalchemy import create_engine, inspect, MetaData, Table, select, func\n",
    "from local_settings import postgresql as settings"
   ]
  },
  {
   "cell_type": "code",
   "execution_count": 43,
   "id": "c6e841e2",
   "metadata": {},
   "outputs": [],
   "source": [
    "def get_engine(user, passwd, host, port, db):\n",
    "    url = f\"postgresql+psycopg2://{user}:{password}@{host}:{port}/{database}\"\n",
    "    engine = create_engine(url, pool_size= 50, echo= False)\n",
    "\n",
    "    return engine"
   ]
  },
  {
   "cell_type": "code",
   "execution_count": 44,
   "id": "b1f8f774",
   "metadata": {},
   "outputs": [],
   "source": [
    "engine = get_engine(\n",
    "    user= settings['pguser'],\n",
    "    passwd=settings['pgpasswd'],\n",
    "    host=settings['pghost'],\n",
    "    port=settings['pgport'],\n",
    "    db=settings['pgdb']\n",
    ")\n",
    "\n",
    "connection = engine.connect()"
   ]
  },
  {
   "cell_type": "code",
   "execution_count": 45,
   "id": "657b1cb9",
   "metadata": {},
   "outputs": [
    {
     "name": "stdout",
     "output_type": "stream",
     "text": [
      "[]\n"
     ]
    }
   ],
   "source": [
    "inspector = inspect(engine)\n",
    "\n",
    "print(inspector.get_table_names())"
   ]
  },
  {
   "cell_type": "code",
   "execution_count": 46,
   "id": "fc7f37bf",
   "metadata": {},
   "outputs": [
    {
     "data": {
      "text/plain": [
       "250"
      ]
     },
     "execution_count": 46,
     "metadata": {},
     "output_type": "execute_result"
    }
   ],
   "source": [
    "path = os.getcwd() + '/food_carbon_footprint_2018_long.csv'\n",
    "foodprint_2018 = pd.read_csv(path, sep= ';')\n",
    "foodprint_2018.to_sql(name= 'foodprint', con= connection, if_exists= 'replace', index= False)"
   ]
  },
  {
   "cell_type": "code",
   "execution_count": 47,
   "id": "f227e336",
   "metadata": {},
   "outputs": [
    {
     "name": "stdout",
     "output_type": "stream",
     "text": [
      "['foodprint']\n"
     ]
    }
   ],
   "source": [
    "inspector = inspect(engine)\n",
    "\n",
    "print(inspector.get_table_names())"
   ]
  },
  {
   "cell_type": "code",
   "execution_count": 51,
   "id": "415ef9a7",
   "metadata": {},
   "outputs": [],
   "source": [
    "metadata= MetaData()\n",
    "foodprint = Table('foodprint', metadata, autoload_replace= True, autoload_with= engine)"
   ]
  },
  {
   "cell_type": "code",
   "execution_count": 55,
   "id": "b9458b66",
   "metadata": {},
   "outputs": [
    {
     "name": "stdout",
     "output_type": "stream",
     "text": [
      "SELECT foodprint.country, foodprint.product, foodprint.metric, foodprint.value \n",
      "FROM foodprint \n",
      "\n",
      "       country product                                     metric  value\n",
      "0    Argentina    Pork  Supplied for Consumption (kg/person/year)  10.51\n",
      "1    Australia    Pork  Supplied for Consumption (kg/person/year)  24.14\n",
      "2      Albania    Pork  Supplied for Consumption (kg/person/year)  10.88\n",
      "3      Iceland    Pork  Supplied for Consumption (kg/person/year)  21.69\n",
      "4  New Zealand    Pork  Supplied for Consumption (kg/person/year)  22.29\n"
     ]
    }
   ],
   "source": [
    "stmt = select(foodprint)\n",
    "\n",
    "print(stmt, '\\n')\n",
    "print(pd.DataFrame(connection.execute(stmt).fetchall()).head(5))\n"
   ]
  }
 ],
 "metadata": {
  "kernelspec": {
   "display_name": "DataScience",
   "language": "python",
   "name": "python3"
  },
  "language_info": {
   "codemirror_mode": {
    "name": "ipython",
    "version": 3
   },
   "file_extension": ".py",
   "mimetype": "text/x-python",
   "name": "python",
   "nbconvert_exporter": "python",
   "pygments_lexer": "ipython3",
   "version": "3.8.11"
  }
 },
 "nbformat": 4,
 "nbformat_minor": 5
}
