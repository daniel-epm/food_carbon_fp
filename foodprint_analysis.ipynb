{
 "cells": [
  {
   "cell_type": "code",
   "execution_count": 87,
   "id": "1f896b7f",
   "metadata": {},
   "outputs": [],
   "source": [
    "# Import libraries\n",
    "import os\n",
    "import pandas as pd\n",
    "from sqlalchemy import create_engine, inspect, MetaData, Table, select, func, case, cast, Numeric\n",
    "from local_settings import postgresql as settings\n",
    "import matplotlib.pyplot as plt\n",
    "import plotly.express as px"
   ]
  },
  {
   "cell_type": "code",
   "execution_count": 8,
   "id": "39bd6aa2",
   "metadata": {},
   "outputs": [
    {
     "name": "stdout",
     "output_type": "stream",
     "text": [
      "Port is open\n"
     ]
    }
   ],
   "source": [
    "import socket\n",
    "\n",
    "sock = socket.socket(socket.AF_INET, socket.SOCK_STREAM)\n",
    "result = sock.connect_ex(('172.28.240.1', 5432))\n",
    "print(\"Port is open\" if result == 0 else \"Port is closed\")\n",
    "sock.close()\n"
   ]
  },
  {
   "cell_type": "code",
   "execution_count": 10,
   "id": "c6e841e2",
   "metadata": {},
   "outputs": [],
   "source": [
    "# Define a function for creating the sqlalchemy engine\n",
    "def get_engine(user, passwd, host, port, db):\n",
    "    url = f\"postgresql+psycopg2://{user}:{passwd}@{host}:{port}/{db}\"\n",
    "    engine = create_engine(url, pool_size= 50, echo= False)\n",
    "\n",
    "    return engine\n",
    "\n",
    "# Create the engine and respective connection\n",
    "engine = get_engine(\n",
    "    user= settings['pguser'],\n",
    "    passwd= settings['pgpasswd'],\n",
    "    host= settings['pghost'],\n",
    "    port= settings['pgport'],\n",
    "    db= settings['pgdb']\n",
    ")\n",
    "\n",
    "connection = engine.connect()\n"
   ]
  },
  {
   "cell_type": "markdown",
   "id": "d5e5fdae",
   "metadata": {},
   "source": [
    "Once the engine is connected to the remote database, we can use the `inspect` function from SQLAlchemy to examine the contents of the database, i.e. its tables."
   ]
  },
  {
   "cell_type": "code",
   "execution_count": 46,
   "id": "fc7f37bf",
   "metadata": {},
   "outputs": [
    {
     "data": {
      "text/plain": [
       "250"
      ]
     },
     "execution_count": 46,
     "metadata": {},
     "output_type": "execute_result"
    }
   ],
   "source": [
    "path = os.getcwd() + '/food_carbon_footprint_2018_long.csv'\n",
    "foodprint_2018 = pd.read_csv(path, sep= ';')\n",
    "foodprint_2018.to_sql(name= 'foodprint', con= connection, if_exists= 'replace', index= False)"
   ]
  },
  {
   "cell_type": "code",
   "execution_count": 5,
   "id": "f227e336",
   "metadata": {},
   "outputs": [
    {
     "name": "stdout",
     "output_type": "stream",
     "text": [
      "['foodprint']\n"
     ]
    }
   ],
   "source": [
    "inspector = inspect(engine)\n",
    "\n",
    "print(inspector.get_table_names())"
   ]
  },
  {
   "cell_type": "code",
   "execution_count": 11,
   "id": "415ef9a7",
   "metadata": {},
   "outputs": [],
   "source": [
    "metadata= MetaData()\n",
    "foodprint = Table('foodprint', metadata, autoload_replace= True, autoload_with= engine)"
   ]
  },
  {
   "cell_type": "code",
   "execution_count": 12,
   "id": "b9fb3594",
   "metadata": {},
   "outputs": [],
   "source": [
    "# Define a function for retrieving the result proxy\n",
    "\n",
    "def fetch_query_results(input_type, input):\n",
    "    \"\"\"\n",
    "    Fetch query results as a pandas DataFrame.\n",
    "\n",
    "    Parameters:\n",
    "    ----------\n",
    "    input_type : str\n",
    "        'stmt' for a SQLAlchemy statement, or 'query' for a raw SQL string.\n",
    "    input_value : object\n",
    "        SQLAlchemy statement or raw SQL string depending on input_type.\n",
    "\n",
    "    Returns:\n",
    "    -------\n",
    "    pd.DataFrame\n",
    "        Query results as a DataFrame.\n",
    "    \"\"\"\n",
    "    \n",
    "    if input_type == 'stmt':\n",
    "        results = connection.execute(input).fetchall()\n",
    "        return pd.DataFrame(results)\n",
    "    elif input_type == 'query':\n",
    "        return pd.read_sql_query(input, connection)\n",
    "    else:\n",
    "        print(\"Invalid input_type. Please choose 'stmt' for SQLAlchemy statements or 'query' for raw SQL strings.\")"
   ]
  },
  {
   "cell_type": "code",
   "execution_count": 13,
   "id": "b9458b66",
   "metadata": {},
   "outputs": [
    {
     "name": "stdout",
     "output_type": "stream",
     "text": [
      "SELECT foodprint.country, foodprint.product, foodprint.metric, foodprint.value \n",
      "FROM foodprint \n",
      "\n"
     ]
    },
    {
     "data": {
      "text/html": [
       "<div>\n",
       "<style scoped>\n",
       "    .dataframe tbody tr th:only-of-type {\n",
       "        vertical-align: middle;\n",
       "    }\n",
       "\n",
       "    .dataframe tbody tr th {\n",
       "        vertical-align: top;\n",
       "    }\n",
       "\n",
       "    .dataframe thead th {\n",
       "        text-align: right;\n",
       "    }\n",
       "</style>\n",
       "<table border=\"1\" class=\"dataframe\">\n",
       "  <thead>\n",
       "    <tr style=\"text-align: right;\">\n",
       "      <th></th>\n",
       "      <th>country</th>\n",
       "      <th>product</th>\n",
       "      <th>metric</th>\n",
       "      <th>value</th>\n",
       "    </tr>\n",
       "  </thead>\n",
       "  <tbody>\n",
       "    <tr>\n",
       "      <th>0</th>\n",
       "      <td>Argentina</td>\n",
       "      <td>Pork</td>\n",
       "      <td>Supplied for Consumption (kg/person/year)</td>\n",
       "      <td>10.51</td>\n",
       "    </tr>\n",
       "    <tr>\n",
       "      <th>1</th>\n",
       "      <td>Australia</td>\n",
       "      <td>Pork</td>\n",
       "      <td>Supplied for Consumption (kg/person/year)</td>\n",
       "      <td>24.14</td>\n",
       "    </tr>\n",
       "    <tr>\n",
       "      <th>2</th>\n",
       "      <td>Albania</td>\n",
       "      <td>Pork</td>\n",
       "      <td>Supplied for Consumption (kg/person/year)</td>\n",
       "      <td>10.88</td>\n",
       "    </tr>\n",
       "    <tr>\n",
       "      <th>3</th>\n",
       "      <td>Iceland</td>\n",
       "      <td>Pork</td>\n",
       "      <td>Supplied for Consumption (kg/person/year)</td>\n",
       "      <td>21.69</td>\n",
       "    </tr>\n",
       "    <tr>\n",
       "      <th>4</th>\n",
       "      <td>New Zealand</td>\n",
       "      <td>Pork</td>\n",
       "      <td>Supplied for Consumption (kg/person/year)</td>\n",
       "      <td>22.29</td>\n",
       "    </tr>\n",
       "  </tbody>\n",
       "</table>\n",
       "</div>"
      ],
      "text/plain": [
       "       country product                                     metric  value\n",
       "0    Argentina    Pork  Supplied for Consumption (kg/person/year)  10.51\n",
       "1    Australia    Pork  Supplied for Consumption (kg/person/year)  24.14\n",
       "2      Albania    Pork  Supplied for Consumption (kg/person/year)  10.88\n",
       "3      Iceland    Pork  Supplied for Consumption (kg/person/year)  21.69\n",
       "4  New Zealand    Pork  Supplied for Consumption (kg/person/year)  22.29"
      ]
     },
     "execution_count": 13,
     "metadata": {},
     "output_type": "execute_result"
    }
   ],
   "source": [
    "stmt = select(foodprint)\n",
    "\n",
    "print(stmt, '\\n')\n",
    "\n",
    "fetch_query_results(input_type= 'stmt', input= stmt).head(5)"
   ]
  },
  {
   "cell_type": "code",
   "execution_count": 14,
   "id": "f4fbe5a8",
   "metadata": {},
   "outputs": [
    {
     "name": "stdout",
     "output_type": "stream",
     "text": [
      "(3250, 4)\n"
     ]
    }
   ],
   "source": [
    "# Dimensions of the foodprint table\n",
    "stmt = select(func.count()).select_from(foodprint)\n",
    "\n",
    "print(f\"({connection.execute(stmt).scalar()}, {len(foodprint.columns)})\")"
   ]
  },
  {
   "cell_type": "code",
   "execution_count": 15,
   "id": "34a3d79b",
   "metadata": {},
   "outputs": [
    {
     "name": "stdout",
     "output_type": "stream",
     "text": [
      "country: TEXT\n",
      "product: TEXT\n",
      "metric: TEXT\n",
      "value: DOUBLE PRECISION\n"
     ]
    }
   ],
   "source": [
    "# Data type of each column\n",
    "for column in foodprint.columns:\n",
    "    print(f\"{column.key}: {column.type}\")"
   ]
  },
  {
   "cell_type": "code",
   "execution_count": 16,
   "id": "f27475ae",
   "metadata": {},
   "outputs": [
    {
     "name": "stdout",
     "output_type": "stream",
     "text": [
      "Missing values: \n",
      "\n",
      "country: 0\n",
      "product: 0\n",
      "metric: 0\n",
      "value: 0\n"
     ]
    }
   ],
   "source": [
    "# Missing data in each column\n",
    "print(\"Missing values: \\n\")\n",
    "for column in foodprint.columns:\n",
    "    stmt = select(func.count()).where(column.is_(None))\n",
    "    result = connection.execute(stmt).scalar()\n",
    "    print(f\"{column.key}: {result}\")"
   ]
  },
  {
   "cell_type": "code",
   "execution_count": 17,
   "id": "05c3c4c6",
   "metadata": {},
   "outputs": [
    {
     "data": {
      "text/html": [
       "<div>\n",
       "<style scoped>\n",
       "    .dataframe tbody tr th:only-of-type {\n",
       "        vertical-align: middle;\n",
       "    }\n",
       "\n",
       "    .dataframe tbody tr th {\n",
       "        vertical-align: top;\n",
       "    }\n",
       "\n",
       "    .dataframe thead th {\n",
       "        text-align: right;\n",
       "    }\n",
       "</style>\n",
       "<table border=\"1\" class=\"dataframe\">\n",
       "  <thead>\n",
       "    <tr style=\"text-align: right;\">\n",
       "      <th></th>\n",
       "      <th>product</th>\n",
       "      <th>metric</th>\n",
       "      <th>number_of_countries</th>\n",
       "    </tr>\n",
       "  </thead>\n",
       "  <tbody>\n",
       "    <tr>\n",
       "      <th>0</th>\n",
       "      <td>Animal products</td>\n",
       "      <td>Total Kg CO2/year/person</td>\n",
       "      <td>130</td>\n",
       "    </tr>\n",
       "    <tr>\n",
       "      <th>1</th>\n",
       "      <td>Beef</td>\n",
       "      <td>Kg CO2/person/year</td>\n",
       "      <td>130</td>\n",
       "    </tr>\n",
       "    <tr>\n",
       "      <th>2</th>\n",
       "      <td>Beef</td>\n",
       "      <td>Supplied for Consumption (kg/person/year)</td>\n",
       "      <td>130</td>\n",
       "    </tr>\n",
       "    <tr>\n",
       "      <th>3</th>\n",
       "      <td>Difference Animal Non-Animals</td>\n",
       "      <td>Products/person/year in kg</td>\n",
       "      <td>130</td>\n",
       "    </tr>\n",
       "    <tr>\n",
       "      <th>4</th>\n",
       "      <td>Eggs</td>\n",
       "      <td>Kg CO2/person/year</td>\n",
       "      <td>130</td>\n",
       "    </tr>\n",
       "    <tr>\n",
       "      <th>5</th>\n",
       "      <td>Eggs</td>\n",
       "      <td>Supplied for Consumption (kg/person/year)</td>\n",
       "      <td>130</td>\n",
       "    </tr>\n",
       "    <tr>\n",
       "      <th>6</th>\n",
       "      <td>Fish</td>\n",
       "      <td>Kg CO2/person/year</td>\n",
       "      <td>130</td>\n",
       "    </tr>\n",
       "    <tr>\n",
       "      <th>7</th>\n",
       "      <td>Fish</td>\n",
       "      <td>Supplied for Consumption (kg/person/year)</td>\n",
       "      <td>130</td>\n",
       "    </tr>\n",
       "    <tr>\n",
       "      <th>8</th>\n",
       "      <td>Lamb &amp; Goat</td>\n",
       "      <td>Kg CO2/person/year</td>\n",
       "      <td>130</td>\n",
       "    </tr>\n",
       "    <tr>\n",
       "      <th>9</th>\n",
       "      <td>Lamb &amp; Goat</td>\n",
       "      <td>Supplied for Consumption (kg/person/year)</td>\n",
       "      <td>130</td>\n",
       "    </tr>\n",
       "    <tr>\n",
       "      <th>10</th>\n",
       "      <td>Milk - inc. Cheese</td>\n",
       "      <td>Kg CO2/person/year</td>\n",
       "      <td>130</td>\n",
       "    </tr>\n",
       "    <tr>\n",
       "      <th>11</th>\n",
       "      <td>Milk - inc. Cheese</td>\n",
       "      <td>Supplied for Consumption (kg/person/year)</td>\n",
       "      <td>130</td>\n",
       "    </tr>\n",
       "    <tr>\n",
       "      <th>12</th>\n",
       "      <td>Non-animal products</td>\n",
       "      <td>Total Kg CO2/year/person</td>\n",
       "      <td>130</td>\n",
       "    </tr>\n",
       "    <tr>\n",
       "      <th>13</th>\n",
       "      <td>Nuts inc. Peanut Butter</td>\n",
       "      <td>Kg CO2/person/year</td>\n",
       "      <td>130</td>\n",
       "    </tr>\n",
       "    <tr>\n",
       "      <th>14</th>\n",
       "      <td>Nuts inc. Peanut Butter</td>\n",
       "      <td>Supplied for Consumption (kg/person/year)</td>\n",
       "      <td>130</td>\n",
       "    </tr>\n",
       "    <tr>\n",
       "      <th>15</th>\n",
       "      <td>Pork</td>\n",
       "      <td>Kg CO2/person/year</td>\n",
       "      <td>130</td>\n",
       "    </tr>\n",
       "    <tr>\n",
       "      <th>16</th>\n",
       "      <td>Pork</td>\n",
       "      <td>Supplied for Consumption (kg/person/year)</td>\n",
       "      <td>130</td>\n",
       "    </tr>\n",
       "    <tr>\n",
       "      <th>17</th>\n",
       "      <td>Poultry</td>\n",
       "      <td>Kg CO2/person/year</td>\n",
       "      <td>130</td>\n",
       "    </tr>\n",
       "    <tr>\n",
       "      <th>18</th>\n",
       "      <td>Poultry</td>\n",
       "      <td>Supplied for Consumption (kg/person/year)</td>\n",
       "      <td>130</td>\n",
       "    </tr>\n",
       "    <tr>\n",
       "      <th>19</th>\n",
       "      <td>Rice</td>\n",
       "      <td>Kg CO2/person/year</td>\n",
       "      <td>130</td>\n",
       "    </tr>\n",
       "    <tr>\n",
       "      <th>20</th>\n",
       "      <td>Rice</td>\n",
       "      <td>Supplied for Consumption (kg/person/year)</td>\n",
       "      <td>130</td>\n",
       "    </tr>\n",
       "    <tr>\n",
       "      <th>21</th>\n",
       "      <td>Soybeans</td>\n",
       "      <td>Kg CO2/person/year</td>\n",
       "      <td>130</td>\n",
       "    </tr>\n",
       "    <tr>\n",
       "      <th>22</th>\n",
       "      <td>Soybeans</td>\n",
       "      <td>Supplied for Consumption (kg/person/year)</td>\n",
       "      <td>130</td>\n",
       "    </tr>\n",
       "    <tr>\n",
       "      <th>23</th>\n",
       "      <td>Wheat &amp; Wheat Products</td>\n",
       "      <td>Kg CO2/person/year</td>\n",
       "      <td>130</td>\n",
       "    </tr>\n",
       "    <tr>\n",
       "      <th>24</th>\n",
       "      <td>Wheat &amp; Wheat Products</td>\n",
       "      <td>Supplied for Consumption (kg/person/year)</td>\n",
       "      <td>130</td>\n",
       "    </tr>\n",
       "  </tbody>\n",
       "</table>\n",
       "</div>"
      ],
      "text/plain": [
       "                          product                                     metric  \\\n",
       "0                 Animal products                   Total Kg CO2/year/person   \n",
       "1                            Beef                         Kg CO2/person/year   \n",
       "2                            Beef  Supplied for Consumption (kg/person/year)   \n",
       "3   Difference Animal Non-Animals                 Products/person/year in kg   \n",
       "4                            Eggs                         Kg CO2/person/year   \n",
       "5                            Eggs  Supplied for Consumption (kg/person/year)   \n",
       "6                            Fish                         Kg CO2/person/year   \n",
       "7                            Fish  Supplied for Consumption (kg/person/year)   \n",
       "8                     Lamb & Goat                         Kg CO2/person/year   \n",
       "9                     Lamb & Goat  Supplied for Consumption (kg/person/year)   \n",
       "10             Milk - inc. Cheese                         Kg CO2/person/year   \n",
       "11             Milk - inc. Cheese  Supplied for Consumption (kg/person/year)   \n",
       "12            Non-animal products                   Total Kg CO2/year/person   \n",
       "13        Nuts inc. Peanut Butter                         Kg CO2/person/year   \n",
       "14        Nuts inc. Peanut Butter  Supplied for Consumption (kg/person/year)   \n",
       "15                           Pork                         Kg CO2/person/year   \n",
       "16                           Pork  Supplied for Consumption (kg/person/year)   \n",
       "17                        Poultry                         Kg CO2/person/year   \n",
       "18                        Poultry  Supplied for Consumption (kg/person/year)   \n",
       "19                           Rice                         Kg CO2/person/year   \n",
       "20                           Rice  Supplied for Consumption (kg/person/year)   \n",
       "21                       Soybeans                         Kg CO2/person/year   \n",
       "22                       Soybeans  Supplied for Consumption (kg/person/year)   \n",
       "23         Wheat & Wheat Products                         Kg CO2/person/year   \n",
       "24         Wheat & Wheat Products  Supplied for Consumption (kg/person/year)   \n",
       "\n",
       "    number_of_countries  \n",
       "0                   130  \n",
       "1                   130  \n",
       "2                   130  \n",
       "3                   130  \n",
       "4                   130  \n",
       "5                   130  \n",
       "6                   130  \n",
       "7                   130  \n",
       "8                   130  \n",
       "9                   130  \n",
       "10                  130  \n",
       "11                  130  \n",
       "12                  130  \n",
       "13                  130  \n",
       "14                  130  \n",
       "15                  130  \n",
       "16                  130  \n",
       "17                  130  \n",
       "18                  130  \n",
       "19                  130  \n",
       "20                  130  \n",
       "21                  130  \n",
       "22                  130  \n",
       "23                  130  \n",
       "24                  130  "
      ]
     },
     "execution_count": 17,
     "metadata": {},
     "output_type": "execute_result"
    }
   ],
   "source": [
    "# Number of countries under analysis for each product and metric\n",
    "\n",
    "query = \"\"\"\n",
    "    SELECT product,\n",
    "           metric,\n",
    "           COUNT(country) AS number_of_countries\n",
    "        FROM foodprint\n",
    "        GROUP BY product, metric\n",
    "        ORDER BY product, metric\n",
    "\"\"\"\n",
    "\n",
    "fetch_query_results('query', query)\n"
   ]
  },
  {
   "cell_type": "markdown",
   "id": "e0d02f45",
   "metadata": {},
   "source": [
    "In the `product` and `metric` fields, there are a few values that do not correspond directly to individual items in these categories, as they aggregate information at a global level. Specifically, the values `Animal products`, `Non-animal products` and `Difference Animal Non-Animals` appear in the `product` field. The first two are associated with the metric `Total Kg CO₂/year/person` in the `metric` field, and the latter to a `Products/person/year in kg` metric.\n",
    "\n",
    "To address this particular feature of the dataset, it can be transformed by filtering out these values and then creating a new categorical field that distinguishes between the `Animal` and `Non-animal` product categories. Regarding the `Difference Animal Non-Animals` item, it can be assessed based on these two categories in the new field."
   ]
  },
  {
   "cell_type": "code",
   "execution_count": 18,
   "id": "c3bf9065",
   "metadata": {},
   "outputs": [
    {
     "name": "stdout",
     "output_type": "stream",
     "text": [
      "SELECT foodprint.country, foodprint.product, CASE WHEN (foodprint.product IN (__[POSTCOMPILE_product_1])) THEN :param_1 WHEN (foodprint.product IN (__[POSTCOMPILE_product_2])) THEN :param_2 END AS product_category, foodprint.metric, foodprint.value \n",
      "FROM foodprint \n",
      "WHERE (foodprint.product NOT IN (__[POSTCOMPILE_product_3])) \n",
      "\n"
     ]
    },
    {
     "data": {
      "text/html": [
       "<div>\n",
       "<style scoped>\n",
       "    .dataframe tbody tr th:only-of-type {\n",
       "        vertical-align: middle;\n",
       "    }\n",
       "\n",
       "    .dataframe tbody tr th {\n",
       "        vertical-align: top;\n",
       "    }\n",
       "\n",
       "    .dataframe thead th {\n",
       "        text-align: right;\n",
       "    }\n",
       "</style>\n",
       "<table border=\"1\" class=\"dataframe\">\n",
       "  <thead>\n",
       "    <tr style=\"text-align: right;\">\n",
       "      <th></th>\n",
       "      <th>country</th>\n",
       "      <th>product</th>\n",
       "      <th>product_category</th>\n",
       "      <th>metric</th>\n",
       "      <th>value</th>\n",
       "    </tr>\n",
       "  </thead>\n",
       "  <tbody>\n",
       "    <tr>\n",
       "      <th>0</th>\n",
       "      <td>Argentina</td>\n",
       "      <td>Pork</td>\n",
       "      <td>Animal</td>\n",
       "      <td>Supplied for Consumption (kg/person/year)</td>\n",
       "      <td>10.51</td>\n",
       "    </tr>\n",
       "    <tr>\n",
       "      <th>1</th>\n",
       "      <td>Australia</td>\n",
       "      <td>Pork</td>\n",
       "      <td>Animal</td>\n",
       "      <td>Supplied for Consumption (kg/person/year)</td>\n",
       "      <td>24.14</td>\n",
       "    </tr>\n",
       "    <tr>\n",
       "      <th>2</th>\n",
       "      <td>Albania</td>\n",
       "      <td>Pork</td>\n",
       "      <td>Animal</td>\n",
       "      <td>Supplied for Consumption (kg/person/year)</td>\n",
       "      <td>10.88</td>\n",
       "    </tr>\n",
       "    <tr>\n",
       "      <th>3</th>\n",
       "      <td>Iceland</td>\n",
       "      <td>Pork</td>\n",
       "      <td>Animal</td>\n",
       "      <td>Supplied for Consumption (kg/person/year)</td>\n",
       "      <td>21.69</td>\n",
       "    </tr>\n",
       "    <tr>\n",
       "      <th>4</th>\n",
       "      <td>New Zealand</td>\n",
       "      <td>Pork</td>\n",
       "      <td>Animal</td>\n",
       "      <td>Supplied for Consumption (kg/person/year)</td>\n",
       "      <td>22.29</td>\n",
       "    </tr>\n",
       "  </tbody>\n",
       "</table>\n",
       "</div>"
      ],
      "text/plain": [
       "       country product product_category  \\\n",
       "0    Argentina    Pork           Animal   \n",
       "1    Australia    Pork           Animal   \n",
       "2      Albania    Pork           Animal   \n",
       "3      Iceland    Pork           Animal   \n",
       "4  New Zealand    Pork           Animal   \n",
       "\n",
       "                                      metric  value  \n",
       "0  Supplied for Consumption (kg/person/year)  10.51  \n",
       "1  Supplied for Consumption (kg/person/year)  24.14  \n",
       "2  Supplied for Consumption (kg/person/year)  10.88  \n",
       "3  Supplied for Consumption (kg/person/year)  21.69  \n",
       "4  Supplied for Consumption (kg/person/year)  22.29  "
      ]
     },
     "execution_count": 18,
     "metadata": {},
     "output_type": "execute_result"
    }
   ],
   "source": [
    "animal = ['Beef', 'Eggs', 'Fish', 'Lamb & Goat', 'Milk - inc. Cheese', 'Pork', 'Poultry']\n",
    "non_animal = ['Wheat & Wheat Products', 'Rice', 'Soybeans', 'Nuts inc. Peanut Butter']\n",
    "filter_out = ['Animal products', 'Non-animal products', 'Difference Animal Non-Animals']\n",
    "\n",
    "stmt = select(foodprint.columns.country,\n",
    "              foodprint.columns.product,\n",
    "              case(\n",
    "                    (foodprint.columns.product.in_(animal), 'Animal'),\n",
    "                    (foodprint.columns.product.in_(non_animal), 'Non-animal'),\n",
    "                    else_= None).label('product_category'),\n",
    "              foodprint.columns.metric,\n",
    "              foodprint.columns.value\n",
    ")\n",
    "\n",
    "stmt = stmt.where(foodprint.columns.product.not_in(filter_out))\n",
    "\n",
    "print(stmt, '\\n')\n",
    "\n",
    "fetch_query_results('stmt', stmt).head()"
   ]
  },
  {
   "cell_type": "markdown",
   "id": "748c37ce",
   "metadata": {},
   "source": []
  },
  {
   "cell_type": "code",
   "execution_count": 12,
   "id": "87e4e1da",
   "metadata": {},
   "outputs": [
    {
     "data": {
      "text/plain": [
       "2860"
      ]
     },
     "execution_count": 12,
     "metadata": {},
     "output_type": "execute_result"
    }
   ],
   "source": [
    "# Update the foodprint table in the remote database\n",
    "(\n",
    "    fetch_query_results('stmt', stmt)\n",
    "    .to_sql(\"foodprint1\", engine, if_exists= 'replace', index= False, chunksize= 1000, method= 'multi')\n",
    ")"
   ]
  },
  {
   "cell_type": "code",
   "execution_count": 19,
   "id": "6389ea4d",
   "metadata": {},
   "outputs": [
    {
     "name": "stdout",
     "output_type": "stream",
     "text": [
      "['foodprint1', 'foodprint']\n"
     ]
    }
   ],
   "source": [
    "# Inspect the existence of foodprint_bkp in the remote database\n",
    "inspector = inspect(engine)\n",
    "print(inspector.get_table_names())\n"
   ]
  },
  {
   "cell_type": "markdown",
   "id": "46b6ec37",
   "metadata": {},
   "source": [
    "After making sure of the existence of the original and the altered table in the `foodprint_2018` remote database, instantiate the `foodprint1` table in the SQLAlchemy context, and take a look at the first 10 rows:"
   ]
  },
  {
   "cell_type": "code",
   "execution_count": 25,
   "id": "b7d2922f",
   "metadata": {},
   "outputs": [
    {
     "data": {
      "text/html": [
       "<div>\n",
       "<style scoped>\n",
       "    .dataframe tbody tr th:only-of-type {\n",
       "        vertical-align: middle;\n",
       "    }\n",
       "\n",
       "    .dataframe tbody tr th {\n",
       "        vertical-align: top;\n",
       "    }\n",
       "\n",
       "    .dataframe thead th {\n",
       "        text-align: right;\n",
       "    }\n",
       "</style>\n",
       "<table border=\"1\" class=\"dataframe\">\n",
       "  <thead>\n",
       "    <tr style=\"text-align: right;\">\n",
       "      <th></th>\n",
       "      <th>country</th>\n",
       "      <th>product</th>\n",
       "      <th>product_category</th>\n",
       "      <th>metric</th>\n",
       "      <th>value</th>\n",
       "    </tr>\n",
       "  </thead>\n",
       "  <tbody>\n",
       "    <tr>\n",
       "      <th>0</th>\n",
       "      <td>Argentina</td>\n",
       "      <td>Pork</td>\n",
       "      <td>Animal</td>\n",
       "      <td>Supplied for Consumption (kg/person/year)</td>\n",
       "      <td>10.51</td>\n",
       "    </tr>\n",
       "    <tr>\n",
       "      <th>1</th>\n",
       "      <td>Australia</td>\n",
       "      <td>Pork</td>\n",
       "      <td>Animal</td>\n",
       "      <td>Supplied for Consumption (kg/person/year)</td>\n",
       "      <td>24.14</td>\n",
       "    </tr>\n",
       "    <tr>\n",
       "      <th>2</th>\n",
       "      <td>Albania</td>\n",
       "      <td>Pork</td>\n",
       "      <td>Animal</td>\n",
       "      <td>Supplied for Consumption (kg/person/year)</td>\n",
       "      <td>10.88</td>\n",
       "    </tr>\n",
       "    <tr>\n",
       "      <th>3</th>\n",
       "      <td>Iceland</td>\n",
       "      <td>Pork</td>\n",
       "      <td>Animal</td>\n",
       "      <td>Supplied for Consumption (kg/person/year)</td>\n",
       "      <td>21.69</td>\n",
       "    </tr>\n",
       "    <tr>\n",
       "      <th>4</th>\n",
       "      <td>New Zealand</td>\n",
       "      <td>Pork</td>\n",
       "      <td>Animal</td>\n",
       "      <td>Supplied for Consumption (kg/person/year)</td>\n",
       "      <td>22.29</td>\n",
       "    </tr>\n",
       "    <tr>\n",
       "      <th>5</th>\n",
       "      <td>USA</td>\n",
       "      <td>Pork</td>\n",
       "      <td>Animal</td>\n",
       "      <td>Supplied for Consumption (kg/person/year)</td>\n",
       "      <td>27.64</td>\n",
       "    </tr>\n",
       "    <tr>\n",
       "      <th>6</th>\n",
       "      <td>Uruguay</td>\n",
       "      <td>Pork</td>\n",
       "      <td>Animal</td>\n",
       "      <td>Supplied for Consumption (kg/person/year)</td>\n",
       "      <td>16.84</td>\n",
       "    </tr>\n",
       "    <tr>\n",
       "      <th>7</th>\n",
       "      <td>Luxembourg</td>\n",
       "      <td>Pork</td>\n",
       "      <td>Animal</td>\n",
       "      <td>Supplied for Consumption (kg/person/year)</td>\n",
       "      <td>43.58</td>\n",
       "    </tr>\n",
       "    <tr>\n",
       "      <th>8</th>\n",
       "      <td>Brazil</td>\n",
       "      <td>Pork</td>\n",
       "      <td>Animal</td>\n",
       "      <td>Supplied for Consumption (kg/person/year)</td>\n",
       "      <td>12.60</td>\n",
       "    </tr>\n",
       "    <tr>\n",
       "      <th>9</th>\n",
       "      <td>Kazakhstan</td>\n",
       "      <td>Pork</td>\n",
       "      <td>Animal</td>\n",
       "      <td>Supplied for Consumption (kg/person/year)</td>\n",
       "      <td>10.36</td>\n",
       "    </tr>\n",
       "  </tbody>\n",
       "</table>\n",
       "</div>"
      ],
      "text/plain": [
       "       country product product_category  \\\n",
       "0    Argentina    Pork           Animal   \n",
       "1    Australia    Pork           Animal   \n",
       "2      Albania    Pork           Animal   \n",
       "3      Iceland    Pork           Animal   \n",
       "4  New Zealand    Pork           Animal   \n",
       "5          USA    Pork           Animal   \n",
       "6      Uruguay    Pork           Animal   \n",
       "7   Luxembourg    Pork           Animal   \n",
       "8       Brazil    Pork           Animal   \n",
       "9   Kazakhstan    Pork           Animal   \n",
       "\n",
       "                                      metric  value  \n",
       "0  Supplied for Consumption (kg/person/year)  10.51  \n",
       "1  Supplied for Consumption (kg/person/year)  24.14  \n",
       "2  Supplied for Consumption (kg/person/year)  10.88  \n",
       "3  Supplied for Consumption (kg/person/year)  21.69  \n",
       "4  Supplied for Consumption (kg/person/year)  22.29  \n",
       "5  Supplied for Consumption (kg/person/year)  27.64  \n",
       "6  Supplied for Consumption (kg/person/year)  16.84  \n",
       "7  Supplied for Consumption (kg/person/year)  43.58  \n",
       "8  Supplied for Consumption (kg/person/year)  12.60  \n",
       "9  Supplied for Consumption (kg/person/year)  10.36  "
      ]
     },
     "execution_count": 25,
     "metadata": {},
     "output_type": "execute_result"
    }
   ],
   "source": [
    "foodprint1 = Table('foodprint1', metadata, autoload_replace= True, autoload_with= engine)\n",
    "\n",
    "query = \"\"\"\n",
    "    SELECT *\n",
    "        FROM foodprint1\n",
    "        LIMIT 10\n",
    "\"\"\"\n",
    "\n",
    "fetch_query_results('query', query)"
   ]
  },
  {
   "cell_type": "code",
   "execution_count": 95,
   "id": "81d216ef",
   "metadata": {},
   "outputs": [
    {
     "data": {
      "text/html": [
       "<div>\n",
       "<style scoped>\n",
       "    .dataframe tbody tr th:only-of-type {\n",
       "        vertical-align: middle;\n",
       "    }\n",
       "\n",
       "    .dataframe tbody tr th {\n",
       "        vertical-align: top;\n",
       "    }\n",
       "\n",
       "    .dataframe thead th {\n",
       "        text-align: right;\n",
       "    }\n",
       "</style>\n",
       "<table border=\"1\" class=\"dataframe\">\n",
       "  <thead>\n",
       "    <tr style=\"text-align: right;\">\n",
       "      <th></th>\n",
       "      <th>product_category</th>\n",
       "      <th>metric</th>\n",
       "      <th>total</th>\n",
       "    </tr>\n",
       "  </thead>\n",
       "  <tbody>\n",
       "    <tr>\n",
       "      <th>0</th>\n",
       "      <td>Animal</td>\n",
       "      <td>Supplied for Consumption (kg/person/year)</td>\n",
       "      <td>26427.96</td>\n",
       "    </tr>\n",
       "    <tr>\n",
       "      <th>1</th>\n",
       "      <td>Non-animal</td>\n",
       "      <td>Kg CO2/person/year</td>\n",
       "      <td>7663.03</td>\n",
       "    </tr>\n",
       "    <tr>\n",
       "      <th>2</th>\n",
       "      <td>Non-animal</td>\n",
       "      <td>Supplied for Consumption (kg/person/year)</td>\n",
       "      <td>13769.92</td>\n",
       "    </tr>\n",
       "    <tr>\n",
       "      <th>3</th>\n",
       "      <td>Animal</td>\n",
       "      <td>Kg CO2/person/year</td>\n",
       "      <td>98706.08</td>\n",
       "    </tr>\n",
       "  </tbody>\n",
       "</table>\n",
       "</div>"
      ],
      "text/plain": [
       "  product_category                                     metric     total\n",
       "0           Animal  Supplied for Consumption (kg/person/year)  26427.96\n",
       "1       Non-animal                         Kg CO2/person/year   7663.03\n",
       "2       Non-animal  Supplied for Consumption (kg/person/year)  13769.92\n",
       "3           Animal                         Kg CO2/person/year  98706.08"
      ]
     },
     "execution_count": 95,
     "metadata": {},
     "output_type": "execute_result"
    }
   ],
   "source": [
    "query = \"\"\"\n",
    "    SELECT  product_category\n",
    "           ,metric\n",
    "           ,SUM(value) AS Total\n",
    "        FROM foodprint1\n",
    "        GROUP BY product_category, metric  \n",
    "\"\"\"\n",
    "\n",
    "fetch_query_results('query', query)"
   ]
  },
  {
   "cell_type": "code",
   "execution_count": 68,
   "id": "36275cd9",
   "metadata": {},
   "outputs": [
    {
     "name": "stdout",
     "output_type": "stream",
     "text": [
      "SELECT foodprint1.product_category, foodprint1.metric, sum(foodprint1.value) AS \"Total\" \n",
      "FROM foodprint1 GROUP BY foodprint1.product_category, foodprint1.metric ORDER BY foodprint1.product_category, foodprint1.metric  \n",
      "\n"
     ]
    },
    {
     "data": {
      "text/html": [
       "<div>\n",
       "<style scoped>\n",
       "    .dataframe tbody tr th:only-of-type {\n",
       "        vertical-align: middle;\n",
       "    }\n",
       "\n",
       "    .dataframe tbody tr th {\n",
       "        vertical-align: top;\n",
       "    }\n",
       "\n",
       "    .dataframe thead th {\n",
       "        text-align: right;\n",
       "    }\n",
       "</style>\n",
       "<table border=\"1\" class=\"dataframe\">\n",
       "  <thead>\n",
       "    <tr style=\"text-align: right;\">\n",
       "      <th></th>\n",
       "      <th>product_category</th>\n",
       "      <th>metric</th>\n",
       "      <th>Total</th>\n",
       "    </tr>\n",
       "  </thead>\n",
       "  <tbody>\n",
       "    <tr>\n",
       "      <th>0</th>\n",
       "      <td>Animal</td>\n",
       "      <td>Kg CO2/person/year</td>\n",
       "      <td>98706.08</td>\n",
       "    </tr>\n",
       "    <tr>\n",
       "      <th>1</th>\n",
       "      <td>Animal</td>\n",
       "      <td>Supplied for Consumption (kg/person/year)</td>\n",
       "      <td>26427.96</td>\n",
       "    </tr>\n",
       "    <tr>\n",
       "      <th>2</th>\n",
       "      <td>Non-animal</td>\n",
       "      <td>Kg CO2/person/year</td>\n",
       "      <td>7663.03</td>\n",
       "    </tr>\n",
       "    <tr>\n",
       "      <th>3</th>\n",
       "      <td>Non-animal</td>\n",
       "      <td>Supplied for Consumption (kg/person/year)</td>\n",
       "      <td>13769.92</td>\n",
       "    </tr>\n",
       "  </tbody>\n",
       "</table>\n",
       "</div>"
      ],
      "text/plain": [
       "  product_category                                     metric     Total\n",
       "0           Animal                         Kg CO2/person/year  98706.08\n",
       "1           Animal  Supplied for Consumption (kg/person/year)  26427.96\n",
       "2       Non-animal                         Kg CO2/person/year   7663.03\n",
       "3       Non-animal  Supplied for Consumption (kg/person/year)  13769.92"
      ]
     },
     "execution_count": 68,
     "metadata": {},
     "output_type": "execute_result"
    }
   ],
   "source": [
    "# Metrics comparison for both categories\n",
    "\n",
    "stmt = select(foodprint1.columns.product_category,\n",
    "              foodprint1.columns.metric,\n",
    "              func.sum(foodprint1.columns.value).label('Total'))\n",
    "\n",
    "stmt = stmt.group_by(foodprint1.columns.product_category, foodprint1.columns.metric)\n",
    "stmt = stmt.order_by(foodprint1.columns.product_category, foodprint1.columns.metric)\n",
    "\n",
    "print(stmt, ' \\n')\n",
    "\n",
    "df = fetch_query_results('stmt', stmt)\n",
    "df['Total'] = pd.to_numeric(df['Total'], errors= 'coerce')\n",
    "df"
   ]
  },
  {
   "cell_type": "code",
   "execution_count": 91,
   "id": "abe56eb3",
   "metadata": {},
   "outputs": [],
   "source": [
    "connection.rollback()"
   ]
  },
  {
   "cell_type": "code",
   "execution_count": 89,
   "id": "bb90a64e",
   "metadata": {},
   "outputs": [],
   "source": [
    "stmt = select(foodprint1.columns.country,\n",
    "              foodprint1.columns.product_category,\n",
    "              foodprint1.columns.metric,\n",
    "              cast(foodprint1.columns.value, Numeric(10,4)).label('value'))\n",
    "\n",
    "df = fetch_query_results('stmt', stmt)"
   ]
  },
  {
   "cell_type": "code",
   "execution_count": 94,
   "id": "05978bc9",
   "metadata": {},
   "outputs": [
    {
     "data": {
      "application/vnd.plotly.v1+json": {
       "config": {
        "plotlyServerURL": "https://plot.ly"
       },
       "data": [
        {
         "alignmentgroup": "True",
         "customdata": [
          [
           "Argentina"
          ],
          [
           "Australia"
          ],
          [
           "Albania"
          ],
          [
           "Iceland"
          ],
          [
           "New Zealand"
          ],
          [
           "USA"
          ],
          [
           "Uruguay"
          ],
          [
           "Luxembourg"
          ],
          [
           "Brazil"
          ],
          [
           "Kazakhstan"
          ],
          [
           "Sweden"
          ],
          [
           "Bermuda"
          ],
          [
           "Denmark"
          ],
          [
           "Finland"
          ],
          [
           "Ireland"
          ],
          [
           "Greece"
          ],
          [
           "France"
          ],
          [
           "Canada"
          ],
          [
           "Norway"
          ],
          [
           "Hong Kong SAR. China"
          ],
          [
           "French Polynesia"
          ],
          [
           "Israel"
          ],
          [
           "Switzerland"
          ],
          [
           "Netherlands"
          ],
          [
           "Kuwait"
          ],
          [
           "United Kingdom"
          ],
          [
           "Austria"
          ],
          [
           "Oman"
          ],
          [
           "Italy"
          ],
          [
           "Bahamas"
          ],
          [
           "Portugal"
          ],
          [
           "Malta"
          ],
          [
           "Armenia"
          ],
          [
           "Slovenia"
          ],
          [
           "Chile"
          ],
          [
           "Venezuela"
          ],
          [
           "Belgium"
          ],
          [
           "Germany"
          ],
          [
           "Russia"
          ],
          [
           "Croatia"
          ],
          [
           "Belarus"
          ],
          [
           "Spain"
          ],
          [
           "Paraguay"
          ],
          [
           "New Caledonia"
          ],
          [
           "South Africa"
          ],
          [
           "Barbados"
          ],
          [
           "Lithuania"
          ],
          [
           "Turkey"
          ],
          [
           "Estonia"
          ],
          [
           "Mexico"
          ],
          [
           "Costa Rica"
          ],
          [
           "Bolivia"
          ],
          [
           "Ecuador"
          ],
          [
           "Panama"
          ],
          [
           "Czech Republic"
          ],
          [
           "Romania"
          ],
          [
           "Colombia"
          ],
          [
           "Maldives"
          ],
          [
           "Cyprus"
          ],
          [
           "Serbia"
          ],
          [
           "United Arab Emirates"
          ],
          [
           "Algeria"
          ],
          [
           "Ukraine"
          ],
          [
           "Pakistan"
          ],
          [
           "Swaziland"
          ],
          [
           "Latvia"
          ],
          [
           "Bosnia and Herzegovina"
          ],
          [
           "Fiji"
          ],
          [
           "South Korea"
          ],
          [
           "Poland"
          ],
          [
           "Saudi Arabia"
          ],
          [
           "Botswana"
          ],
          [
           "Macedonia"
          ],
          [
           "Hungary"
          ],
          [
           "Trinidad and Tobago"
          ],
          [
           "Tunisia"
          ],
          [
           "Egypt"
          ],
          [
           "Mauritius"
          ],
          [
           "Bulgaria"
          ],
          [
           "Morocco"
          ],
          [
           "Slovakia"
          ],
          [
           "Niger"
          ],
          [
           "Kenya"
          ],
          [
           "Jordan"
          ],
          [
           "Japan"
          ],
          [
           "Georgia"
          ],
          [
           "Grenada"
          ],
          [
           "El Salvador"
          ],
          [
           "Cuba"
          ],
          [
           "China"
          ],
          [
           "Honduras"
          ],
          [
           "Taiwan. ROC"
          ],
          [
           "Angola"
          ],
          [
           "Jamaica"
          ],
          [
           "Namibia"
          ],
          [
           "Belize"
          ],
          [
           "Malaysia"
          ],
          [
           "Zimbabwe"
          ],
          [
           "Guatemala"
          ],
          [
           "Uganda"
          ],
          [
           "Nepal"
          ],
          [
           "Iran"
          ],
          [
           "Tanzania"
          ],
          [
           "Senegal"
          ],
          [
           "Peru"
          ],
          [
           "Nicaragua"
          ],
          [
           "Vietnam"
          ],
          [
           "Ethiopia"
          ],
          [
           "Myanmar"
          ],
          [
           "Congo"
          ],
          [
           "Zambia"
          ],
          [
           "Cameroon"
          ],
          [
           "Madagascar"
          ],
          [
           "Malawi"
          ],
          [
           "Guinea"
          ],
          [
           "Nigeria"
          ],
          [
           "Rwanda"
          ],
          [
           "Philippines"
          ],
          [
           "Ghana"
          ],
          [
           "Togo"
          ],
          [
           "Gambia"
          ],
          [
           "India"
          ],
          [
           "Thailand"
          ],
          [
           "Mozambique"
          ],
          [
           "Cambodia"
          ],
          [
           "Sierra Leone"
          ],
          [
           "Sri Lanka"
          ],
          [
           "Indonesia"
          ],
          [
           "Liberia"
          ],
          [
           "Bangladesh"
          ],
          [
           "Argentina"
          ],
          [
           "Australia"
          ],
          [
           "Albania"
          ],
          [
           "Iceland"
          ],
          [
           "New Zealand"
          ],
          [
           "USA"
          ],
          [
           "Uruguay"
          ],
          [
           "Luxembourg"
          ],
          [
           "Brazil"
          ],
          [
           "Kazakhstan"
          ],
          [
           "Sweden"
          ],
          [
           "Bermuda"
          ],
          [
           "Denmark"
          ],
          [
           "Finland"
          ],
          [
           "Ireland"
          ],
          [
           "Greece"
          ],
          [
           "France"
          ],
          [
           "Canada"
          ],
          [
           "Norway"
          ],
          [
           "Hong Kong SAR. China"
          ],
          [
           "French Polynesia"
          ],
          [
           "Israel"
          ],
          [
           "Switzerland"
          ],
          [
           "Netherlands"
          ],
          [
           "Kuwait"
          ],
          [
           "United Kingdom"
          ],
          [
           "Austria"
          ],
          [
           "Oman"
          ],
          [
           "Italy"
          ],
          [
           "Bahamas"
          ],
          [
           "Portugal"
          ],
          [
           "Malta"
          ],
          [
           "Armenia"
          ],
          [
           "Slovenia"
          ],
          [
           "Chile"
          ],
          [
           "Venezuela"
          ],
          [
           "Belgium"
          ],
          [
           "Germany"
          ],
          [
           "Russia"
          ],
          [
           "Croatia"
          ],
          [
           "Belarus"
          ],
          [
           "Spain"
          ],
          [
           "Paraguay"
          ],
          [
           "New Caledonia"
          ],
          [
           "South Africa"
          ],
          [
           "Barbados"
          ],
          [
           "Lithuania"
          ],
          [
           "Turkey"
          ],
          [
           "Estonia"
          ],
          [
           "Mexico"
          ],
          [
           "Costa Rica"
          ],
          [
           "Bolivia"
          ],
          [
           "Ecuador"
          ],
          [
           "Panama"
          ],
          [
           "Czech Republic"
          ],
          [
           "Romania"
          ],
          [
           "Colombia"
          ],
          [
           "Maldives"
          ],
          [
           "Cyprus"
          ],
          [
           "Serbia"
          ],
          [
           "United Arab Emirates"
          ],
          [
           "Algeria"
          ],
          [
           "Ukraine"
          ],
          [
           "Pakistan"
          ],
          [
           "Swaziland"
          ],
          [
           "Latvia"
          ],
          [
           "Bosnia and Herzegovina"
          ],
          [
           "Fiji"
          ],
          [
           "South Korea"
          ],
          [
           "Poland"
          ],
          [
           "Saudi Arabia"
          ],
          [
           "Botswana"
          ],
          [
           "Macedonia"
          ],
          [
           "Hungary"
          ],
          [
           "Trinidad and Tobago"
          ],
          [
           "Tunisia"
          ],
          [
           "Egypt"
          ],
          [
           "Mauritius"
          ],
          [
           "Bulgaria"
          ],
          [
           "Morocco"
          ],
          [
           "Slovakia"
          ],
          [
           "Niger"
          ],
          [
           "Kenya"
          ],
          [
           "Jordan"
          ],
          [
           "Japan"
          ],
          [
           "Georgia"
          ],
          [
           "Grenada"
          ],
          [
           "El Salvador"
          ],
          [
           "Cuba"
          ],
          [
           "China"
          ],
          [
           "Honduras"
          ],
          [
           "Taiwan. ROC"
          ],
          [
           "Angola"
          ],
          [
           "Jamaica"
          ],
          [
           "Namibia"
          ],
          [
           "Belize"
          ],
          [
           "Malaysia"
          ],
          [
           "Zimbabwe"
          ],
          [
           "Guatemala"
          ],
          [
           "Uganda"
          ],
          [
           "Nepal"
          ],
          [
           "Iran"
          ],
          [
           "Tanzania"
          ],
          [
           "Senegal"
          ],
          [
           "Peru"
          ],
          [
           "Nicaragua"
          ],
          [
           "Vietnam"
          ],
          [
           "Ethiopia"
          ],
          [
           "Myanmar"
          ],
          [
           "Congo"
          ],
          [
           "Zambia"
          ],
          [
           "Cameroon"
          ],
          [
           "Madagascar"
          ],
          [
           "Malawi"
          ],
          [
           "Guinea"
          ],
          [
           "Nigeria"
          ],
          [
           "Rwanda"
          ],
          [
           "Philippines"
          ],
          [
           "Ghana"
          ],
          [
           "Togo"
          ],
          [
           "Gambia"
          ],
          [
           "India"
          ],
          [
           "Thailand"
          ],
          [
           "Mozambique"
          ],
          [
           "Cambodia"
          ],
          [
           "Sierra Leone"
          ],
          [
           "Sri Lanka"
          ],
          [
           "Indonesia"
          ],
          [
           "Liberia"
          ],
          [
           "Bangladesh"
          ],
          [
           "Argentina"
          ],
          [
           "Australia"
          ],
          [
           "Albania"
          ],
          [
           "Iceland"
          ],
          [
           "New Zealand"
          ],
          [
           "USA"
          ],
          [
           "Uruguay"
          ],
          [
           "Luxembourg"
          ],
          [
           "Brazil"
          ],
          [
           "Kazakhstan"
          ],
          [
           "Sweden"
          ],
          [
           "Bermuda"
          ],
          [
           "Denmark"
          ],
          [
           "Finland"
          ],
          [
           "Ireland"
          ],
          [
           "Greece"
          ],
          [
           "France"
          ],
          [
           "Canada"
          ],
          [
           "Norway"
          ],
          [
           "Hong Kong SAR. China"
          ],
          [
           "French Polynesia"
          ],
          [
           "Israel"
          ],
          [
           "Switzerland"
          ],
          [
           "Netherlands"
          ],
          [
           "Kuwait"
          ],
          [
           "United Kingdom"
          ],
          [
           "Austria"
          ],
          [
           "Oman"
          ],
          [
           "Italy"
          ],
          [
           "Bahamas"
          ],
          [
           "Portugal"
          ],
          [
           "Malta"
          ],
          [
           "Armenia"
          ],
          [
           "Slovenia"
          ],
          [
           "Chile"
          ],
          [
           "Venezuela"
          ],
          [
           "Belgium"
          ],
          [
           "Germany"
          ],
          [
           "Russia"
          ],
          [
           "Croatia"
          ],
          [
           "Belarus"
          ],
          [
           "Spain"
          ],
          [
           "Paraguay"
          ],
          [
           "New Caledonia"
          ],
          [
           "South Africa"
          ],
          [
           "Barbados"
          ],
          [
           "Lithuania"
          ],
          [
           "Turkey"
          ],
          [
           "Estonia"
          ],
          [
           "Mexico"
          ],
          [
           "Costa Rica"
          ],
          [
           "Bolivia"
          ],
          [
           "Ecuador"
          ],
          [
           "Panama"
          ],
          [
           "Czech Republic"
          ],
          [
           "Romania"
          ],
          [
           "Colombia"
          ],
          [
           "Maldives"
          ],
          [
           "Cyprus"
          ],
          [
           "Serbia"
          ],
          [
           "United Arab Emirates"
          ],
          [
           "Algeria"
          ],
          [
           "Ukraine"
          ],
          [
           "Pakistan"
          ],
          [
           "Swaziland"
          ],
          [
           "Latvia"
          ],
          [
           "Bosnia and Herzegovina"
          ],
          [
           "Fiji"
          ],
          [
           "South Korea"
          ],
          [
           "Poland"
          ],
          [
           "Saudi Arabia"
          ],
          [
           "Botswana"
          ],
          [
           "Macedonia"
          ],
          [
           "Hungary"
          ],
          [
           "Trinidad and Tobago"
          ],
          [
           "Tunisia"
          ],
          [
           "Egypt"
          ],
          [
           "Mauritius"
          ],
          [
           "Bulgaria"
          ],
          [
           "Morocco"
          ],
          [
           "Slovakia"
          ],
          [
           "Niger"
          ],
          [
           "Kenya"
          ],
          [
           "Jordan"
          ],
          [
           "Japan"
          ],
          [
           "Georgia"
          ],
          [
           "Grenada"
          ],
          [
           "El Salvador"
          ],
          [
           "Cuba"
          ],
          [
           "China"
          ],
          [
           "Honduras"
          ],
          [
           "Taiwan. ROC"
          ],
          [
           "Angola"
          ],
          [
           "Jamaica"
          ],
          [
           "Namibia"
          ],
          [
           "Belize"
          ],
          [
           "Malaysia"
          ],
          [
           "Zimbabwe"
          ],
          [
           "Guatemala"
          ],
          [
           "Uganda"
          ],
          [
           "Nepal"
          ],
          [
           "Iran"
          ],
          [
           "Tanzania"
          ],
          [
           "Senegal"
          ],
          [
           "Peru"
          ],
          [
           "Nicaragua"
          ],
          [
           "Vietnam"
          ],
          [
           "Ethiopia"
          ],
          [
           "Myanmar"
          ],
          [
           "Congo"
          ],
          [
           "Zambia"
          ],
          [
           "Cameroon"
          ],
          [
           "Madagascar"
          ],
          [
           "Malawi"
          ],
          [
           "Guinea"
          ],
          [
           "Nigeria"
          ],
          [
           "Rwanda"
          ],
          [
           "Philippines"
          ],
          [
           "Ghana"
          ],
          [
           "Togo"
          ],
          [
           "Gambia"
          ],
          [
           "India"
          ],
          [
           "Thailand"
          ],
          [
           "Mozambique"
          ],
          [
           "Cambodia"
          ],
          [
           "Sierra Leone"
          ],
          [
           "Sri Lanka"
          ],
          [
           "Indonesia"
          ],
          [
           "Liberia"
          ],
          [
           "Bangladesh"
          ],
          [
           "Belize"
          ],
          [
           "Argentina"
          ],
          [
           "Australia"
          ],
          [
           "Albania"
          ],
          [
           "Iceland"
          ],
          [
           "New Zealand"
          ],
          [
           "USA"
          ],
          [
           "Uruguay"
          ],
          [
           "Luxembourg"
          ],
          [
           "Brazil"
          ],
          [
           "Kazakhstan"
          ],
          [
           "Sweden"
          ],
          [
           "Bermuda"
          ],
          [
           "Denmark"
          ],
          [
           "Finland"
          ],
          [
           "Ireland"
          ],
          [
           "Greece"
          ],
          [
           "France"
          ],
          [
           "Canada"
          ],
          [
           "Norway"
          ],
          [
           "Hong Kong SAR. China"
          ],
          [
           "French Polynesia"
          ],
          [
           "Israel"
          ],
          [
           "Switzerland"
          ],
          [
           "Netherlands"
          ],
          [
           "Kuwait"
          ],
          [
           "United Kingdom"
          ],
          [
           "Austria"
          ],
          [
           "Oman"
          ],
          [
           "Italy"
          ],
          [
           "Bahamas"
          ],
          [
           "Portugal"
          ],
          [
           "Malta"
          ],
          [
           "Armenia"
          ],
          [
           "Slovenia"
          ],
          [
           "Chile"
          ],
          [
           "Venezuela"
          ],
          [
           "Belgium"
          ],
          [
           "Germany"
          ],
          [
           "Russia"
          ],
          [
           "Croatia"
          ],
          [
           "Belarus"
          ],
          [
           "Spain"
          ],
          [
           "Paraguay"
          ],
          [
           "New Caledonia"
          ],
          [
           "South Africa"
          ],
          [
           "Barbados"
          ],
          [
           "Lithuania"
          ],
          [
           "Turkey"
          ],
          [
           "Estonia"
          ],
          [
           "Mexico"
          ],
          [
           "Costa Rica"
          ],
          [
           "Bolivia"
          ],
          [
           "Ecuador"
          ],
          [
           "Panama"
          ],
          [
           "Czech Republic"
          ],
          [
           "Romania"
          ],
          [
           "Colombia"
          ],
          [
           "Maldives"
          ],
          [
           "Cyprus"
          ],
          [
           "Serbia"
          ],
          [
           "United Arab Emirates"
          ],
          [
           "Algeria"
          ],
          [
           "Ukraine"
          ],
          [
           "Pakistan"
          ],
          [
           "Swaziland"
          ],
          [
           "Latvia"
          ],
          [
           "Bosnia and Herzegovina"
          ],
          [
           "Fiji"
          ],
          [
           "South Korea"
          ],
          [
           "Poland"
          ],
          [
           "Saudi Arabia"
          ],
          [
           "Botswana"
          ],
          [
           "Macedonia"
          ],
          [
           "Hungary"
          ],
          [
           "Trinidad and Tobago"
          ],
          [
           "Tunisia"
          ],
          [
           "Egypt"
          ],
          [
           "Mauritius"
          ],
          [
           "Bulgaria"
          ],
          [
           "Morocco"
          ],
          [
           "Slovakia"
          ],
          [
           "Niger"
          ],
          [
           "Kenya"
          ],
          [
           "Jordan"
          ],
          [
           "Japan"
          ],
          [
           "Georgia"
          ],
          [
           "Grenada"
          ],
          [
           "El Salvador"
          ],
          [
           "Cuba"
          ],
          [
           "China"
          ],
          [
           "Honduras"
          ],
          [
           "Taiwan. ROC"
          ],
          [
           "Angola"
          ],
          [
           "Jamaica"
          ],
          [
           "Namibia"
          ],
          [
           "Belize"
          ],
          [
           "Malaysia"
          ],
          [
           "Zimbabwe"
          ],
          [
           "Guatemala"
          ],
          [
           "Uganda"
          ],
          [
           "Nepal"
          ],
          [
           "Iran"
          ],
          [
           "Tanzania"
          ],
          [
           "Senegal"
          ],
          [
           "Peru"
          ],
          [
           "Nicaragua"
          ],
          [
           "Vietnam"
          ],
          [
           "Ethiopia"
          ],
          [
           "Myanmar"
          ],
          [
           "Congo"
          ],
          [
           "Zambia"
          ],
          [
           "Cameroon"
          ],
          [
           "Madagascar"
          ],
          [
           "Malawi"
          ],
          [
           "Guinea"
          ],
          [
           "Nigeria"
          ],
          [
           "Rwanda"
          ],
          [
           "Philippines"
          ],
          [
           "Ghana"
          ],
          [
           "Togo"
          ],
          [
           "Gambia"
          ],
          [
           "India"
          ],
          [
           "Thailand"
          ],
          [
           "Mozambique"
          ],
          [
           "Cambodia"
          ],
          [
           "Sierra Leone"
          ],
          [
           "Sri Lanka"
          ],
          [
           "Indonesia"
          ],
          [
           "Liberia"
          ],
          [
           "Bangladesh"
          ],
          [
           "Argentina"
          ],
          [
           "Australia"
          ],
          [
           "Albania"
          ],
          [
           "Iceland"
          ],
          [
           "New Zealand"
          ],
          [
           "USA"
          ],
          [
           "Uruguay"
          ],
          [
           "Luxembourg"
          ],
          [
           "Brazil"
          ],
          [
           "Kazakhstan"
          ],
          [
           "Sweden"
          ],
          [
           "Bermuda"
          ],
          [
           "Denmark"
          ],
          [
           "Finland"
          ],
          [
           "Ireland"
          ],
          [
           "Greece"
          ],
          [
           "France"
          ],
          [
           "Canada"
          ],
          [
           "Norway"
          ],
          [
           "Hong Kong SAR. China"
          ],
          [
           "French Polynesia"
          ],
          [
           "Israel"
          ],
          [
           "Switzerland"
          ],
          [
           "Netherlands"
          ],
          [
           "Kuwait"
          ],
          [
           "United Kingdom"
          ],
          [
           "Austria"
          ],
          [
           "Oman"
          ],
          [
           "Italy"
          ],
          [
           "Bahamas"
          ],
          [
           "Portugal"
          ],
          [
           "Malta"
          ],
          [
           "Armenia"
          ],
          [
           "Slovenia"
          ],
          [
           "Chile"
          ],
          [
           "Venezuela"
          ],
          [
           "Belgium"
          ],
          [
           "Germany"
          ],
          [
           "Russia"
          ],
          [
           "Croatia"
          ],
          [
           "Belarus"
          ],
          [
           "Spain"
          ],
          [
           "Paraguay"
          ],
          [
           "New Caledonia"
          ],
          [
           "South Africa"
          ],
          [
           "Barbados"
          ],
          [
           "Lithuania"
          ],
          [
           "Turkey"
          ],
          [
           "Estonia"
          ],
          [
           "Mexico"
          ],
          [
           "Costa Rica"
          ],
          [
           "Bolivia"
          ],
          [
           "Ecuador"
          ],
          [
           "Panama"
          ],
          [
           "Czech Republic"
          ],
          [
           "Romania"
          ],
          [
           "Colombia"
          ],
          [
           "Maldives"
          ],
          [
           "Cyprus"
          ],
          [
           "Serbia"
          ],
          [
           "United Arab Emirates"
          ],
          [
           "Algeria"
          ],
          [
           "Ukraine"
          ],
          [
           "Pakistan"
          ],
          [
           "Swaziland"
          ],
          [
           "Latvia"
          ],
          [
           "Bosnia and Herzegovina"
          ],
          [
           "Fiji"
          ],
          [
           "South Korea"
          ],
          [
           "Poland"
          ],
          [
           "Saudi Arabia"
          ],
          [
           "Botswana"
          ],
          [
           "Macedonia"
          ],
          [
           "Hungary"
          ],
          [
           "Trinidad and Tobago"
          ],
          [
           "Tunisia"
          ],
          [
           "Egypt"
          ],
          [
           "Mauritius"
          ],
          [
           "Bulgaria"
          ],
          [
           "Morocco"
          ],
          [
           "Slovakia"
          ],
          [
           "Niger"
          ],
          [
           "Kenya"
          ],
          [
           "Jordan"
          ],
          [
           "Japan"
          ],
          [
           "Georgia"
          ],
          [
           "Grenada"
          ],
          [
           "El Salvador"
          ],
          [
           "Cuba"
          ],
          [
           "China"
          ],
          [
           "Honduras"
          ],
          [
           "Taiwan. ROC"
          ],
          [
           "Angola"
          ],
          [
           "Jamaica"
          ],
          [
           "Namibia"
          ],
          [
           "Belize"
          ],
          [
           "Malaysia"
          ],
          [
           "Zimbabwe"
          ],
          [
           "Guatemala"
          ],
          [
           "Uganda"
          ],
          [
           "Nepal"
          ],
          [
           "Iran"
          ],
          [
           "Tanzania"
          ],
          [
           "Senegal"
          ],
          [
           "Peru"
          ],
          [
           "Nicaragua"
          ],
          [
           "Vietnam"
          ],
          [
           "Ethiopia"
          ],
          [
           "Myanmar"
          ],
          [
           "Congo"
          ],
          [
           "Zambia"
          ],
          [
           "Cameroon"
          ],
          [
           "Madagascar"
          ],
          [
           "Malawi"
          ],
          [
           "Guinea"
          ],
          [
           "Nigeria"
          ],
          [
           "Rwanda"
          ],
          [
           "Philippines"
          ],
          [
           "Ghana"
          ],
          [
           "Togo"
          ],
          [
           "Gambia"
          ],
          [
           "India"
          ],
          [
           "Thailand"
          ],
          [
           "Mozambique"
          ],
          [
           "Cambodia"
          ],
          [
           "Sierra Leone"
          ],
          [
           "Sri Lanka"
          ],
          [
           "Indonesia"
          ],
          [
           "Liberia"
          ],
          [
           "Bangladesh"
          ],
          [
           "Argentina"
          ],
          [
           "Australia"
          ],
          [
           "Albania"
          ],
          [
           "Iceland"
          ],
          [
           "New Zealand"
          ],
          [
           "USA"
          ],
          [
           "Uruguay"
          ],
          [
           "Luxembourg"
          ],
          [
           "Brazil"
          ],
          [
           "Kazakhstan"
          ],
          [
           "Sweden"
          ],
          [
           "Bermuda"
          ],
          [
           "Denmark"
          ],
          [
           "Finland"
          ],
          [
           "Ireland"
          ],
          [
           "Greece"
          ],
          [
           "France"
          ],
          [
           "Canada"
          ],
          [
           "Norway"
          ],
          [
           "Hong Kong SAR. China"
          ],
          [
           "French Polynesia"
          ],
          [
           "Israel"
          ],
          [
           "Switzerland"
          ],
          [
           "Netherlands"
          ],
          [
           "Kuwait"
          ],
          [
           "United Kingdom"
          ],
          [
           "Austria"
          ],
          [
           "Oman"
          ],
          [
           "Italy"
          ],
          [
           "Bahamas"
          ],
          [
           "Portugal"
          ],
          [
           "Malta"
          ],
          [
           "Armenia"
          ],
          [
           "Slovenia"
          ],
          [
           "Chile"
          ],
          [
           "Venezuela"
          ],
          [
           "Belgium"
          ],
          [
           "Germany"
          ],
          [
           "Russia"
          ],
          [
           "Croatia"
          ],
          [
           "Belarus"
          ],
          [
           "Spain"
          ],
          [
           "Paraguay"
          ],
          [
           "New Caledonia"
          ],
          [
           "South Africa"
          ],
          [
           "Barbados"
          ],
          [
           "Lithuania"
          ],
          [
           "Turkey"
          ],
          [
           "Estonia"
          ],
          [
           "Mexico"
          ],
          [
           "Costa Rica"
          ],
          [
           "Bolivia"
          ],
          [
           "Ecuador"
          ],
          [
           "Panama"
          ],
          [
           "Czech Republic"
          ],
          [
           "Romania"
          ],
          [
           "Colombia"
          ],
          [
           "Maldives"
          ],
          [
           "Cyprus"
          ],
          [
           "Serbia"
          ],
          [
           "United Arab Emirates"
          ],
          [
           "Algeria"
          ],
          [
           "Ukraine"
          ],
          [
           "Pakistan"
          ],
          [
           "Swaziland"
          ],
          [
           "Latvia"
          ],
          [
           "Bosnia and Herzegovina"
          ],
          [
           "Fiji"
          ],
          [
           "South Korea"
          ],
          [
           "Poland"
          ],
          [
           "Saudi Arabia"
          ],
          [
           "Botswana"
          ],
          [
           "Macedonia"
          ],
          [
           "Hungary"
          ],
          [
           "Trinidad and Tobago"
          ],
          [
           "Tunisia"
          ],
          [
           "Egypt"
          ],
          [
           "Mauritius"
          ],
          [
           "Bulgaria"
          ],
          [
           "Morocco"
          ],
          [
           "Slovakia"
          ],
          [
           "Niger"
          ],
          [
           "Kenya"
          ],
          [
           "Jordan"
          ],
          [
           "Japan"
          ],
          [
           "Georgia"
          ],
          [
           "Grenada"
          ],
          [
           "El Salvador"
          ],
          [
           "Cuba"
          ],
          [
           "China"
          ],
          [
           "Honduras"
          ],
          [
           "Taiwan. ROC"
          ],
          [
           "Angola"
          ],
          [
           "Jamaica"
          ],
          [
           "Namibia"
          ],
          [
           "Malaysia"
          ],
          [
           "Zimbabwe"
          ],
          [
           "Guatemala"
          ],
          [
           "Uganda"
          ],
          [
           "Nepal"
          ],
          [
           "Iran"
          ],
          [
           "Tanzania"
          ],
          [
           "Senegal"
          ],
          [
           "Peru"
          ],
          [
           "Nicaragua"
          ],
          [
           "Vietnam"
          ],
          [
           "Ethiopia"
          ],
          [
           "Myanmar"
          ],
          [
           "Congo"
          ],
          [
           "Zambia"
          ],
          [
           "Cameroon"
          ],
          [
           "Madagascar"
          ],
          [
           "Malawi"
          ],
          [
           "Guinea"
          ],
          [
           "Nigeria"
          ],
          [
           "Rwanda"
          ],
          [
           "Philippines"
          ],
          [
           "Ghana"
          ],
          [
           "Togo"
          ],
          [
           "Gambia"
          ],
          [
           "India"
          ],
          [
           "Thailand"
          ],
          [
           "Mozambique"
          ],
          [
           "Cambodia"
          ],
          [
           "Sierra Leone"
          ],
          [
           "Sri Lanka"
          ],
          [
           "Indonesia"
          ],
          [
           "Liberia"
          ],
          [
           "Bangladesh"
          ],
          [
           "Argentina"
          ],
          [
           "Australia"
          ],
          [
           "Albania"
          ],
          [
           "Iceland"
          ],
          [
           "New Zealand"
          ],
          [
           "USA"
          ],
          [
           "Uruguay"
          ],
          [
           "Luxembourg"
          ],
          [
           "Brazil"
          ],
          [
           "Kazakhstan"
          ],
          [
           "Sweden"
          ],
          [
           "Bermuda"
          ],
          [
           "Denmark"
          ],
          [
           "Finland"
          ],
          [
           "Ireland"
          ],
          [
           "Greece"
          ],
          [
           "France"
          ],
          [
           "Canada"
          ],
          [
           "Norway"
          ],
          [
           "Hong Kong SAR. China"
          ],
          [
           "French Polynesia"
          ],
          [
           "Israel"
          ],
          [
           "Switzerland"
          ],
          [
           "Netherlands"
          ],
          [
           "Kuwait"
          ],
          [
           "United Kingdom"
          ],
          [
           "Austria"
          ],
          [
           "Oman"
          ],
          [
           "Italy"
          ],
          [
           "Bahamas"
          ],
          [
           "Portugal"
          ],
          [
           "Malta"
          ],
          [
           "Armenia"
          ],
          [
           "Slovenia"
          ],
          [
           "Chile"
          ],
          [
           "Venezuela"
          ],
          [
           "Belgium"
          ],
          [
           "Germany"
          ],
          [
           "Russia"
          ],
          [
           "Croatia"
          ],
          [
           "Belarus"
          ],
          [
           "Spain"
          ],
          [
           "Paraguay"
          ],
          [
           "New Caledonia"
          ],
          [
           "South Africa"
          ],
          [
           "Barbados"
          ],
          [
           "Lithuania"
          ],
          [
           "Turkey"
          ],
          [
           "Estonia"
          ],
          [
           "Mexico"
          ],
          [
           "Costa Rica"
          ],
          [
           "Bolivia"
          ],
          [
           "Ecuador"
          ],
          [
           "Panama"
          ],
          [
           "Czech Republic"
          ],
          [
           "Romania"
          ],
          [
           "Colombia"
          ],
          [
           "Maldives"
          ],
          [
           "Cyprus"
          ],
          [
           "Serbia"
          ],
          [
           "United Arab Emirates"
          ],
          [
           "Algeria"
          ],
          [
           "Ukraine"
          ],
          [
           "Pakistan"
          ],
          [
           "Swaziland"
          ],
          [
           "Latvia"
          ],
          [
           "Bosnia and Herzegovina"
          ],
          [
           "Fiji"
          ],
          [
           "South Korea"
          ],
          [
           "Poland"
          ],
          [
           "Saudi Arabia"
          ],
          [
           "Botswana"
          ],
          [
           "Macedonia"
          ],
          [
           "Hungary"
          ],
          [
           "Trinidad and Tobago"
          ],
          [
           "Tunisia"
          ],
          [
           "Egypt"
          ],
          [
           "Mauritius"
          ],
          [
           "Bulgaria"
          ],
          [
           "Morocco"
          ],
          [
           "Slovakia"
          ],
          [
           "Niger"
          ],
          [
           "Kenya"
          ],
          [
           "Jordan"
          ],
          [
           "Japan"
          ],
          [
           "Georgia"
          ],
          [
           "Grenada"
          ],
          [
           "El Salvador"
          ],
          [
           "Cuba"
          ],
          [
           "China"
          ],
          [
           "Honduras"
          ],
          [
           "Taiwan. ROC"
          ],
          [
           "Angola"
          ],
          [
           "Jamaica"
          ],
          [
           "Namibia"
          ],
          [
           "Belize"
          ],
          [
           "Malaysia"
          ],
          [
           "Zimbabwe"
          ],
          [
           "Guatemala"
          ],
          [
           "Uganda"
          ],
          [
           "Nepal"
          ],
          [
           "Iran"
          ],
          [
           "Tanzania"
          ],
          [
           "Senegal"
          ],
          [
           "Peru"
          ],
          [
           "Nicaragua"
          ],
          [
           "Vietnam"
          ],
          [
           "Ethiopia"
          ],
          [
           "Myanmar"
          ],
          [
           "Congo"
          ],
          [
           "Zambia"
          ],
          [
           "Cameroon"
          ],
          [
           "Madagascar"
          ],
          [
           "Malawi"
          ],
          [
           "Guinea"
          ],
          [
           "Nigeria"
          ],
          [
           "Rwanda"
          ],
          [
           "Philippines"
          ],
          [
           "Ghana"
          ],
          [
           "Togo"
          ],
          [
           "Gambia"
          ],
          [
           "India"
          ],
          [
           "Thailand"
          ],
          [
           "Mozambique"
          ],
          [
           "Cambodia"
          ],
          [
           "Sierra Leone"
          ],
          [
           "Sri Lanka"
          ],
          [
           "Indonesia"
          ],
          [
           "Liberia"
          ],
          [
           "Bangladesh"
          ]
         ],
         "hovertemplate": "Category=%{x}<br>value=%{y}<br>country=%{customdata[0]}<extra></extra>",
         "legendgroup": "Animal",
         "marker": {
          "color": "#636efa"
         },
         "name": "Animal",
         "notched": false,
         "offsetgroup": "Animal",
         "orientation": "v",
         "showlegend": true,
         "type": "box",
         "x": [
          "Animal",
          "Animal",
          "Animal",
          "Animal",
          "Animal",
          "Animal",
          "Animal",
          "Animal",
          "Animal",
          "Animal",
          "Animal",
          "Animal",
          "Animal",
          "Animal",
          "Animal",
          "Animal",
          "Animal",
          "Animal",
          "Animal",
          "Animal",
          "Animal",
          "Animal",
          "Animal",
          "Animal",
          "Animal",
          "Animal",
          "Animal",
          "Animal",
          "Animal",
          "Animal",
          "Animal",
          "Animal",
          "Animal",
          "Animal",
          "Animal",
          "Animal",
          "Animal",
          "Animal",
          "Animal",
          "Animal",
          "Animal",
          "Animal",
          "Animal",
          "Animal",
          "Animal",
          "Animal",
          "Animal",
          "Animal",
          "Animal",
          "Animal",
          "Animal",
          "Animal",
          "Animal",
          "Animal",
          "Animal",
          "Animal",
          "Animal",
          "Animal",
          "Animal",
          "Animal",
          "Animal",
          "Animal",
          "Animal",
          "Animal",
          "Animal",
          "Animal",
          "Animal",
          "Animal",
          "Animal",
          "Animal",
          "Animal",
          "Animal",
          "Animal",
          "Animal",
          "Animal",
          "Animal",
          "Animal",
          "Animal",
          "Animal",
          "Animal",
          "Animal",
          "Animal",
          "Animal",
          "Animal",
          "Animal",
          "Animal",
          "Animal",
          "Animal",
          "Animal",
          "Animal",
          "Animal",
          "Animal",
          "Animal",
          "Animal",
          "Animal",
          "Animal",
          "Animal",
          "Animal",
          "Animal",
          "Animal",
          "Animal",
          "Animal",
          "Animal",
          "Animal",
          "Animal",
          "Animal",
          "Animal",
          "Animal",
          "Animal",
          "Animal",
          "Animal",
          "Animal",
          "Animal",
          "Animal",
          "Animal",
          "Animal",
          "Animal",
          "Animal",
          "Animal",
          "Animal",
          "Animal",
          "Animal",
          "Animal",
          "Animal",
          "Animal",
          "Animal",
          "Animal",
          "Animal",
          "Animal",
          "Animal",
          "Animal",
          "Animal",
          "Animal",
          "Animal",
          "Animal",
          "Animal",
          "Animal",
          "Animal",
          "Animal",
          "Animal",
          "Animal",
          "Animal",
          "Animal",
          "Animal",
          "Animal",
          "Animal",
          "Animal",
          "Animal",
          "Animal",
          "Animal",
          "Animal",
          "Animal",
          "Animal",
          "Animal",
          "Animal",
          "Animal",
          "Animal",
          "Animal",
          "Animal",
          "Animal",
          "Animal",
          "Animal",
          "Animal",
          "Animal",
          "Animal",
          "Animal",
          "Animal",
          "Animal",
          "Animal",
          "Animal",
          "Animal",
          "Animal",
          "Animal",
          "Animal",
          "Animal",
          "Animal",
          "Animal",
          "Animal",
          "Animal",
          "Animal",
          "Animal",
          "Animal",
          "Animal",
          "Animal",
          "Animal",
          "Animal",
          "Animal",
          "Animal",
          "Animal",
          "Animal",
          "Animal",
          "Animal",
          "Animal",
          "Animal",
          "Animal",
          "Animal",
          "Animal",
          "Animal",
          "Animal",
          "Animal",
          "Animal",
          "Animal",
          "Animal",
          "Animal",
          "Animal",
          "Animal",
          "Animal",
          "Animal",
          "Animal",
          "Animal",
          "Animal",
          "Animal",
          "Animal",
          "Animal",
          "Animal",
          "Animal",
          "Animal",
          "Animal",
          "Animal",
          "Animal",
          "Animal",
          "Animal",
          "Animal",
          "Animal",
          "Animal",
          "Animal",
          "Animal",
          "Animal",
          "Animal",
          "Animal",
          "Animal",
          "Animal",
          "Animal",
          "Animal",
          "Animal",
          "Animal",
          "Animal",
          "Animal",
          "Animal",
          "Animal",
          "Animal",
          "Animal",
          "Animal",
          "Animal",
          "Animal",
          "Animal",
          "Animal",
          "Animal",
          "Animal",
          "Animal",
          "Animal",
          "Animal",
          "Animal",
          "Animal",
          "Animal",
          "Animal",
          "Animal",
          "Animal",
          "Animal",
          "Animal",
          "Animal",
          "Animal",
          "Animal",
          "Animal",
          "Animal",
          "Animal",
          "Animal",
          "Animal",
          "Animal",
          "Animal",
          "Animal",
          "Animal",
          "Animal",
          "Animal",
          "Animal",
          "Animal",
          "Animal",
          "Animal",
          "Animal",
          "Animal",
          "Animal",
          "Animal",
          "Animal",
          "Animal",
          "Animal",
          "Animal",
          "Animal",
          "Animal",
          "Animal",
          "Animal",
          "Animal",
          "Animal",
          "Animal",
          "Animal",
          "Animal",
          "Animal",
          "Animal",
          "Animal",
          "Animal",
          "Animal",
          "Animal",
          "Animal",
          "Animal",
          "Animal",
          "Animal",
          "Animal",
          "Animal",
          "Animal",
          "Animal",
          "Animal",
          "Animal",
          "Animal",
          "Animal",
          "Animal",
          "Animal",
          "Animal",
          "Animal",
          "Animal",
          "Animal",
          "Animal",
          "Animal",
          "Animal",
          "Animal",
          "Animal",
          "Animal",
          "Animal",
          "Animal",
          "Animal",
          "Animal",
          "Animal",
          "Animal",
          "Animal",
          "Animal",
          "Animal",
          "Animal",
          "Animal",
          "Animal",
          "Animal",
          "Animal",
          "Animal",
          "Animal",
          "Animal",
          "Animal",
          "Animal",
          "Animal",
          "Animal",
          "Animal",
          "Animal",
          "Animal",
          "Animal",
          "Animal",
          "Animal",
          "Animal",
          "Animal",
          "Animal",
          "Animal",
          "Animal",
          "Animal",
          "Animal",
          "Animal",
          "Animal",
          "Animal",
          "Animal",
          "Animal",
          "Animal",
          "Animal",
          "Animal",
          "Animal",
          "Animal",
          "Animal",
          "Animal",
          "Animal",
          "Animal",
          "Animal",
          "Animal",
          "Animal",
          "Animal",
          "Animal",
          "Animal",
          "Animal",
          "Animal",
          "Animal",
          "Animal",
          "Animal",
          "Animal",
          "Animal",
          "Animal",
          "Animal",
          "Animal",
          "Animal",
          "Animal",
          "Animal",
          "Animal",
          "Animal",
          "Animal",
          "Animal",
          "Animal",
          "Animal",
          "Animal",
          "Animal",
          "Animal",
          "Animal",
          "Animal",
          "Animal",
          "Animal",
          "Animal",
          "Animal",
          "Animal",
          "Animal",
          "Animal",
          "Animal",
          "Animal",
          "Animal",
          "Animal",
          "Animal",
          "Animal",
          "Animal",
          "Animal",
          "Animal",
          "Animal",
          "Animal",
          "Animal",
          "Animal",
          "Animal",
          "Animal",
          "Animal",
          "Animal",
          "Animal",
          "Animal",
          "Animal",
          "Animal",
          "Animal",
          "Animal",
          "Animal",
          "Animal",
          "Animal",
          "Animal",
          "Animal",
          "Animal",
          "Animal",
          "Animal",
          "Animal",
          "Animal",
          "Animal",
          "Animal",
          "Animal",
          "Animal",
          "Animal",
          "Animal",
          "Animal",
          "Animal",
          "Animal",
          "Animal",
          "Animal",
          "Animal",
          "Animal",
          "Animal",
          "Animal",
          "Animal",
          "Animal",
          "Animal",
          "Animal",
          "Animal",
          "Animal",
          "Animal",
          "Animal",
          "Animal",
          "Animal",
          "Animal",
          "Animal",
          "Animal",
          "Animal",
          "Animal",
          "Animal",
          "Animal",
          "Animal",
          "Animal",
          "Animal",
          "Animal",
          "Animal",
          "Animal",
          "Animal",
          "Animal",
          "Animal",
          "Animal",
          "Animal",
          "Animal",
          "Animal",
          "Animal",
          "Animal",
          "Animal",
          "Animal",
          "Animal",
          "Animal",
          "Animal",
          "Animal",
          "Animal",
          "Animal",
          "Animal",
          "Animal",
          "Animal",
          "Animal",
          "Animal",
          "Animal",
          "Animal",
          "Animal",
          "Animal",
          "Animal",
          "Animal",
          "Animal",
          "Animal",
          "Animal",
          "Animal",
          "Animal",
          "Animal",
          "Animal",
          "Animal",
          "Animal",
          "Animal",
          "Animal",
          "Animal",
          "Animal",
          "Animal",
          "Animal",
          "Animal",
          "Animal",
          "Animal",
          "Animal",
          "Animal",
          "Animal",
          "Animal",
          "Animal",
          "Animal",
          "Animal",
          "Animal",
          "Animal",
          "Animal",
          "Animal",
          "Animal",
          "Animal",
          "Animal",
          "Animal",
          "Animal",
          "Animal",
          "Animal",
          "Animal",
          "Animal",
          "Animal",
          "Animal",
          "Animal",
          "Animal",
          "Animal",
          "Animal",
          "Animal",
          "Animal",
          "Animal",
          "Animal",
          "Animal",
          "Animal",
          "Animal",
          "Animal",
          "Animal",
          "Animal",
          "Animal",
          "Animal",
          "Animal",
          "Animal",
          "Animal",
          "Animal",
          "Animal",
          "Animal",
          "Animal",
          "Animal",
          "Animal",
          "Animal",
          "Animal",
          "Animal",
          "Animal",
          "Animal",
          "Animal",
          "Animal",
          "Animal",
          "Animal",
          "Animal",
          "Animal",
          "Animal",
          "Animal",
          "Animal",
          "Animal",
          "Animal",
          "Animal",
          "Animal",
          "Animal",
          "Animal",
          "Animal",
          "Animal",
          "Animal",
          "Animal",
          "Animal",
          "Animal",
          "Animal",
          "Animal",
          "Animal",
          "Animal",
          "Animal",
          "Animal",
          "Animal",
          "Animal",
          "Animal",
          "Animal",
          "Animal",
          "Animal",
          "Animal",
          "Animal",
          "Animal",
          "Animal",
          "Animal",
          "Animal",
          "Animal",
          "Animal",
          "Animal",
          "Animal",
          "Animal",
          "Animal",
          "Animal",
          "Animal",
          "Animal",
          "Animal",
          "Animal",
          "Animal",
          "Animal",
          "Animal",
          "Animal",
          "Animal",
          "Animal",
          "Animal",
          "Animal",
          "Animal",
          "Animal",
          "Animal",
          "Animal",
          "Animal",
          "Animal",
          "Animal",
          "Animal",
          "Animal",
          "Animal",
          "Animal",
          "Animal",
          "Animal",
          "Animal",
          "Animal",
          "Animal",
          "Animal",
          "Animal",
          "Animal",
          "Animal",
          "Animal",
          "Animal",
          "Animal",
          "Animal",
          "Animal",
          "Animal",
          "Animal",
          "Animal",
          "Animal",
          "Animal",
          "Animal",
          "Animal",
          "Animal",
          "Animal",
          "Animal",
          "Animal",
          "Animal",
          "Animal",
          "Animal",
          "Animal",
          "Animal",
          "Animal",
          "Animal",
          "Animal",
          "Animal",
          "Animal",
          "Animal",
          "Animal",
          "Animal",
          "Animal",
          "Animal",
          "Animal",
          "Animal",
          "Animal",
          "Animal",
          "Animal",
          "Animal",
          "Animal",
          "Animal",
          "Animal",
          "Animal",
          "Animal",
          "Animal",
          "Animal",
          "Animal",
          "Animal",
          "Animal",
          "Animal",
          "Animal",
          "Animal",
          "Animal",
          "Animal",
          "Animal",
          "Animal",
          "Animal",
          "Animal",
          "Animal",
          "Animal",
          "Animal",
          "Animal",
          "Animal",
          "Animal",
          "Animal",
          "Animal",
          "Animal",
          "Animal",
          "Animal",
          "Animal",
          "Animal",
          "Animal",
          "Animal",
          "Animal",
          "Animal",
          "Animal",
          "Animal",
          "Animal",
          "Animal",
          "Animal",
          "Animal",
          "Animal",
          "Animal",
          "Animal",
          "Animal",
          "Animal",
          "Animal",
          "Animal",
          "Animal",
          "Animal",
          "Animal",
          "Animal",
          "Animal",
          "Animal",
          "Animal",
          "Animal",
          "Animal",
          "Animal",
          "Animal",
          "Animal",
          "Animal",
          "Animal",
          "Animal",
          "Animal",
          "Animal",
          "Animal",
          "Animal",
          "Animal",
          "Animal",
          "Animal",
          "Animal",
          "Animal",
          "Animal",
          "Animal",
          "Animal",
          "Animal",
          "Animal",
          "Animal",
          "Animal",
          "Animal",
          "Animal",
          "Animal",
          "Animal",
          "Animal",
          "Animal",
          "Animal",
          "Animal",
          "Animal",
          "Animal",
          "Animal",
          "Animal",
          "Animal",
          "Animal",
          "Animal",
          "Animal",
          "Animal",
          "Animal",
          "Animal",
          "Animal",
          "Animal",
          "Animal",
          "Animal",
          "Animal",
          "Animal",
          "Animal",
          "Animal",
          "Animal",
          "Animal",
          "Animal",
          "Animal",
          "Animal",
          "Animal",
          "Animal",
          "Animal",
          "Animal",
          "Animal",
          "Animal",
          "Animal",
          "Animal",
          "Animal",
          "Animal",
          "Animal",
          "Animal",
          "Animal",
          "Animal",
          "Animal",
          "Animal",
          "Animal",
          "Animal",
          "Animal",
          "Animal",
          "Animal",
          "Animal",
          "Animal",
          "Animal",
          "Animal",
          "Animal",
          "Animal",
          "Animal",
          "Animal",
          "Animal",
          "Animal",
          "Animal",
          "Animal",
          "Animal",
          "Animal",
          "Animal",
          "Animal",
          "Animal",
          "Animal",
          "Animal",
          "Animal",
          "Animal",
          "Animal",
          "Animal",
          "Animal",
          "Animal",
          "Animal",
          "Animal",
          "Animal",
          "Animal",
          "Animal",
          "Animal",
          "Animal",
          "Animal",
          "Animal",
          "Animal",
          "Animal",
          "Animal",
          "Animal",
          "Animal",
          "Animal",
          "Animal",
          "Animal",
          "Animal",
          "Animal",
          "Animal",
          "Animal",
          "Animal",
          "Animal",
          "Animal",
          "Animal",
          "Animal",
          "Animal",
          "Animal",
          "Animal",
          "Animal",
          "Animal",
          "Animal",
          "Animal",
          "Animal",
          "Animal",
          "Animal",
          "Animal",
          "Animal",
          "Animal",
          "Animal",
          "Animal",
          "Animal",
          "Animal",
          "Animal",
          "Animal",
          "Animal",
          "Animal",
          "Animal",
          "Animal",
          "Animal",
          "Animal",
          "Animal",
          "Animal",
          "Animal",
          "Animal",
          "Animal",
          "Animal",
          "Animal"
         ],
         "x0": " ",
         "xaxis": "x",
         "y": [
          37.2,
          85.44,
          38.51,
          76.77,
          78.9,
          97.83,
          59.61,
          154.25,
          44.6,
          36.67,
          130.96,
          99.96,
          88.03,
          127.92,
          114.68,
          100.2,
          116.98,
          80.74,
          83.21,
          237.54,
          52.21,
          7.04,
          111.46,
          128.7,
          0,
          91.28,
          186.04,
          0.04,
          142.57,
          115.88,
          134.18,
          121.19,
          34.23,
          99.78,
          87.35,
          25.59,
          136.8,
          183.38,
          90.82,
          151.46,
          142.89,
          173.15,
          92.88,
          70.44,
          14.72,
          29.38,
          161.65,
          0.04,
          105.05,
          53.91,
          36.39,
          31.47,
          51.11,
          47.71,
          145.72,
          89.58,
          23.04,
          4.32,
          135.85,
          113.41,
          0,
          0,
          72.77,
          0,
          8.6,
          123.74,
          33.2,
          15.26,
          115.95,
          163.49,
          0,
          2.62,
          36.63,
          123.63,
          31.57,
          0,
          0.07,
          14.44,
          92.95,
          0.04,
          112.49,
          0.32,
          1.03,
          0.07,
          72.98,
          31.61,
          40.78,
          11.43,
          70.15,
          136.02,
          22.94,
          139.35,
          31.47,
          14.12,
          14.9,
          59.46,
          27.47,
          9.38,
          17.17,
          11.93,
          2.37,
          0,
          1.13,
          3.33,
          13.63,
          11.96,
          123.88,
          0.07,
          40.03,
          8.46,
          5.88,
          5.2,
          9.06,
          19.29,
          0.57,
          5.2,
          2.69,
          65.13,
          4.81,
          5.56,
          0.64,
          0.99,
          46.01,
          18.16,
          23.08,
          4.32,
          0.18,
          10.55,
          14.19,
          0,
          41.53,
          49.54,
          14.21,
          28.86,
          37.58,
          53.72,
          29.49,
          22.96,
          48.34,
          19.74,
          17.87,
          35.04,
          28.73,
          21.34,
          28.21,
          16.91,
          24.63,
          39.4,
          22.57,
          58.93,
          53.23,
          67.14,
          17.6,
          25.67,
          57.59,
          33.89,
          19.99,
          33.85,
          19.99,
          49.13,
          32.38,
          28.36,
          14.34,
          25.2,
          39.23,
          42.19,
          13.11,
          19.07,
          29.54,
          9.15,
          33.61,
          30.75,
          6.86,
          47.65,
          40.36,
          45.78,
          28.83,
          20.17,
          22.68,
          32.35,
          26.29,
          36.86,
          23.47,
          33.1,
          20.51,
          16.52,
          29.62,
          19.84,
          26.26,
          11.43,
          44.09,
          7.97,
          26.03,
          5.38,
          6.64,
          22.05,
          14.15,
          21.76,
          17.19,
          29.44,
          52.69,
          5.73,
          20.16,
          25.54,
          62.59,
          19.87,
          15.5,
          41.37,
          22.21,
          22.31,
          16.25,
          1.16,
          0.5,
          35.87,
          20.86,
          13.19,
          46.74,
          21.31,
          21.65,
          14.18,
          21.8,
          34.51,
          18.62,
          56.41,
          13.09,
          30.41,
          44.05,
          5.34,
          17.67,
          1.62,
          1.68,
          27.26,
          1.98,
          4.96,
          12.59,
          22.89,
          13.28,
          0.71,
          23.49,
          13.99,
          3.53,
          3.53,
          3.37,
          1.48,
          1.97,
          1.86,
          1.44,
          12.79,
          9.27,
          7.12,
          2.86,
          2.02,
          14.71,
          1.51,
          1.98,
          5.34,
          5.33,
          8.06,
          9.57,
          1.5,
          1712,
          1044.85,
          694.3,
          412.26,
          693.99,
          1118.29,
          897.96,
          922.03,
          1211.17,
          721.46,
          758.49,
          1022.94,
          878.22,
          593.09,
          689.67,
          496.81,
          734.73,
          933.45,
          611.91,
          796.75,
          953.51,
          888.09,
          656.04,
          545.26,
          402.08,
          559.15,
          528.9,
          465.95,
          573.96,
          614.69,
          507.61,
          593.09,
          606.67,
          568.71,
          736.27,
          798.91,
          482.31,
          406.09,
          523.97,
          382.95,
          527.98,
          374.92,
          611.29,
          495.89,
          556.37,
          405.16,
          138.55,
          359.19,
          221.87,
          473.05,
          469.97,
          610.37,
          512.55,
          629.5,
          251.49,
          147.5,
          504.84,
          291.3,
          178.67,
          217.55,
          174.04,
          172.8,
          276.49,
          272.17,
          465.95,
          157.68,
          281.42,
          276.49,
          448.37,
          71.59,
          199.03,
          242.23,
          237.3,
          153.06,
          189.16,
          170.64,
          397.45,
          184.84,
          118.49,
          248.1,
          160.15,
          276.8,
          294.38,
          173.11,
          282.35,
          186.38,
          106.77,
          183.6,
          197.18,
          157.99,
          221.87,
          160.77,
          259.82,
          122.51,
          115.72,
          149.97,
          201.19,
          227.42,
          172.8,
          158.92,
          243.47,
          110.47,
          187.92,
          180.52,
          144.72,
          145.96,
          229.58,
          111.4,
          152.44,
          134.23,
          146.88,
          128.68,
          231.74,
          72.52,
          193.17,
          71.9,
          78.07,
          125.28,
          33.64,
          47.21,
          66.65,
          24.99,
          79,
          32.09,
          149.66,
          61.41,
          42.58,
          79.92,
          24.07,
          39.5,
          4.46,
          54.63,
          345.65,
          536.5,
          739.62,
          662.23,
          15.06,
          288.21,
          58.48,
          21.71,
          334.79,
          49.38,
          94.9,
          32.22,
          18.56,
          143.58,
          436.7,
          114.87,
          33.97,
          187.01,
          77.74,
          99.11,
          65.49,
          49.73,
          32.92,
          546.66,
          157.24,
          40.62,
          450.71,
          32.22,
          182.8,
          83.35,
          41.67,
          105.76,
          27.67,
          14.71,
          11.21,
          46.23,
          25.56,
          49.03,
          59.88,
          3.85,
          75.64,
          19.61,
          68.29,
          149.89,
          142.88,
          8.4,
          163.89,
          15.41,
          31.17,
          0.7,
          60.23,
          15.41,
          0.35,
          11.91,
          119.42,
          7.35,
          24.51,
          176.85,
          124.67,
          317.98,
          269.3,
          14.36,
          86.15,
          67.94,
          11.91,
          16.46,
          206.62,
          4.9,
          0.7,
          229.03,
          131.67,
          32.92,
          3.85,
          97.71,
          187.01,
          55.33,
          142.88,
          57.08,
          152.69,
          5.6,
          146.03,
          65.14,
          198.91,
          4.9,
          22.06,
          43.77,
          0.7,
          43.42,
          109.61,
          1.4,
          32.22,
          37.82,
          44.13,
          79.5,
          4.9,
          32.92,
          33.62,
          8.05,
          43.77,
          73.54,
          129.22,
          44.83,
          111.71,
          35.02,
          0.35,
          4.9,
          54.98,
          31.17,
          14.01,
          23.81,
          49.03,
          19.96,
          72.49,
          56.03,
          95.25,
          67.59,
          19.61,
          60.93,
          55.33,
          24.86,
          20.31,
          1.75,
          31.52,
          0,
          22.76,
          3.15,
          16.11,
          16.81,
          46.58,
          6.96,
          28.25,
          6.15,
          118.81,
          32.51,
          19.72,
          10.43,
          36.87,
          15.98,
          8.32,
          38.1,
          53.04,
          26.33,
          53.97,
          27.77,
          23.02,
          36.58,
          23.25,
          60.96,
          67.76,
          62.19,
          35.41,
          21.52,
          29.76,
          19.14,
          24.73,
          19.42,
          34.42,
          24.91,
          30.02,
          72.47,
          39.25,
          6.96,
          12.39,
          12.21,
          13.32,
          30.29,
          17.82,
          33.24,
          25.28,
          25.15,
          46.03,
          5.75,
          30.94,
          8.88,
          59.73,
          67.68,
          8.91,
          20.41,
          12.07,
          18.07,
          3.48,
          8.25,
          17.64,
          13.17,
          9.69,
          9.6,
          286.94,
          23.73,
          8.93,
          32.59,
          5.97,
          24.32,
          2.99,
          2.01,
          34.01,
          6.48,
          55.9,
          52.83,
          16.75,
          19.14,
          6.35,
          8.73,
          7.87,
          32.8,
          20.17,
          34.26,
          31.39,
          9.96,
          27.85,
          13.4,
          4.31,
          6.82,
          8.19,
          49.66,
          16.64,
          44.63,
          9.98,
          7.6,
          33.55,
          4.31,
          29.2,
          24.33,
          35.05,
          17.08,
          12.09,
          78.92,
          4.47,
          1.72,
          19.96,
          3.46,
          15.65,
          8.78,
          36.63,
          25.13,
          5.73,
          42.34,
          0.38,
          86.64,
          41.86,
          9.9,
          23.49,
          7.04,
          11.7,
          14.66,
          25.59,
          6.2,
          45.52,
          41.59,
          18.67,
          36.93,
          7.52,
          31.06,
          12.36,
          63.21,
          51.14,
          39.79,
          40.95,
          6.59,
          28.85,
          10.46,
          7.82,
          11.44,
          7.57,
          9.1,
          13.39,
          12.07,
          13.45,
          8.25,
          7.62,
          12.28,
          13.71,
          14.1,
          8.77,
          8.23,
          9.31,
          12.06,
          11.9,
          10.48,
          13.32,
          8.04,
          10.43,
          9.67,
          12.89,
          11.57,
          10.18,
          13.49,
          7.17,
          12.25,
          5.7,
          8.31,
          10.69,
          10.74,
          8.6,
          9.16,
          5.17,
          11.57,
          11.21,
          14.17,
          7.79,
          14.57,
          12.24,
          17.3,
          8.13,
          6.62,
          8.83,
          12.04,
          7.53,
          11.63,
          16.85,
          9.69,
          4.76,
          7.36,
          4.16,
          10.71,
          11.89,
          9.9,
          9.91,
          8.25,
          8.17,
          7.56,
          7.4,
          16.54,
          2.71,
          1.38,
          12.89,
          4.12,
          5.92,
          10.33,
          6.92,
          4.93,
          1.79,
          5.86,
          11.44,
          3.86,
          7.05,
          4.22,
          5.81,
          7.68,
          6.14,
          14.74,
          0.28,
          1.69,
          3.6,
          17.59,
          5.62,
          9.5,
          8.74,
          9.02,
          17.23,
          4.77,
          12.02,
          1.02,
          2.09,
          1.5,
          15.22,
          1.61,
          13.42,
          0.89,
          1.3,
          7.07,
          0.53,
          1.5,
          8.05,
          4.5,
          3.53,
          0.33,
          5.92,
          0.55,
          3.05,
          0.37,
          0.65,
          0.99,
          1.79,
          3.18,
          0.15,
          3.69,
          1.11,
          0.79,
          0.91,
          2.37,
          11.34,
          1.56,
          1.26,
          1.76,
          4.2,
          4.48,
          1.88,
          1.91,
          277.87,
          334.01,
          432.62,
          321.66,
          195.5,
          362.78,
          299.89,
          363.65,
          212.63,
          410.4,
          486.05,
          136.12,
          394.99,
          613.57,
          415.73,
          363.59,
          343.72,
          267.46,
          372.25,
          150.77,
          133.27,
          275.76,
          453.94,
          486.39,
          224.57,
          330.75,
          367.62,
          216.91,
          351.66,
          149.22,
          292.06,
          270.72,
          297.74,
          334.75,
          165.39,
          167.78,
          336.43,
          368.49,
          232.99,
          329.06,
          190.49,
          234.01,
          107.86,
          153.84,
          79.41,
          157.37,
          420.85,
          276.25,
          405.74,
          159.35,
          261.06,
          65.58,
          198.85,
          100.12,
          278.04,
          339.48,
          154.5,
          158.78,
          161.4,
          211.57,
          188.96,
          201.6,
          206.58,
          260.85,
          80.62,
          248,
          247.89,
          57.26,
          41.38,
          292.56,
          119.15,
          167.71,
          224.96,
          226.55,
          147.85,
          163.05,
          84.69,
          167.04,
          221.79,
          77.89,
          203.89,
          83.93,
          135.12,
          110.65,
          102.64,
          212.61,
          123.75,
          177.11,
          142.35,
          46.52,
          130.09,
          59.43,
          17.52,
          129.81,
          104.05,
          114.38,
          36.01,
          45.44,
          66.38,
          53.09,
          74.21,
          66.51,
          57.39,
          24.02,
          88.53,
          121.3,
          23.3,
          62.87,
          44.84,
          15.23,
          13.83,
          21.75,
          35.38,
          11.37,
          29.37,
          11.27,
          10.3,
          22.31,
          12.93,
          11.34,
          65.11,
          120.36,
          41.81,
          6.82,
          4.94,
          9.97,
          49.83,
          21.11,
          4.33,
          31.21
         ],
         "y0": " ",
         "yaxis": "y"
        },
        {
         "alignmentgroup": "True",
         "customdata": [
          [
           "Mauritius"
          ],
          [
           "Argentina"
          ],
          [
           "Australia"
          ],
          [
           "Albania"
          ],
          [
           "Iceland"
          ],
          [
           "New Zealand"
          ],
          [
           "USA"
          ],
          [
           "Uruguay"
          ],
          [
           "Luxembourg"
          ],
          [
           "Brazil"
          ],
          [
           "Kazakhstan"
          ],
          [
           "Sweden"
          ],
          [
           "Bermuda"
          ],
          [
           "Denmark"
          ],
          [
           "Finland"
          ],
          [
           "Ireland"
          ],
          [
           "Greece"
          ],
          [
           "France"
          ],
          [
           "Canada"
          ],
          [
           "Norway"
          ],
          [
           "Hong Kong SAR. China"
          ],
          [
           "French Polynesia"
          ],
          [
           "Israel"
          ],
          [
           "Switzerland"
          ],
          [
           "Netherlands"
          ],
          [
           "Kuwait"
          ],
          [
           "United Kingdom"
          ],
          [
           "Austria"
          ],
          [
           "Oman"
          ],
          [
           "Italy"
          ],
          [
           "Bahamas"
          ],
          [
           "Portugal"
          ],
          [
           "Malta"
          ],
          [
           "Armenia"
          ],
          [
           "Slovenia"
          ],
          [
           "Chile"
          ],
          [
           "Venezuela"
          ],
          [
           "Belgium"
          ],
          [
           "Germany"
          ],
          [
           "Russia"
          ],
          [
           "Croatia"
          ],
          [
           "Belarus"
          ],
          [
           "Spain"
          ],
          [
           "Paraguay"
          ],
          [
           "New Caledonia"
          ],
          [
           "South Africa"
          ],
          [
           "Barbados"
          ],
          [
           "Lithuania"
          ],
          [
           "Turkey"
          ],
          [
           "Estonia"
          ],
          [
           "Mexico"
          ],
          [
           "Costa Rica"
          ],
          [
           "Bolivia"
          ],
          [
           "Ecuador"
          ],
          [
           "Panama"
          ],
          [
           "Czech Republic"
          ],
          [
           "Romania"
          ],
          [
           "Colombia"
          ],
          [
           "Maldives"
          ],
          [
           "Cyprus"
          ],
          [
           "Serbia"
          ],
          [
           "United Arab Emirates"
          ],
          [
           "Algeria"
          ],
          [
           "Ukraine"
          ],
          [
           "Pakistan"
          ],
          [
           "Swaziland"
          ],
          [
           "Latvia"
          ],
          [
           "Bosnia and Herzegovina"
          ],
          [
           "Fiji"
          ],
          [
           "South Korea"
          ],
          [
           "Poland"
          ],
          [
           "Saudi Arabia"
          ],
          [
           "Botswana"
          ],
          [
           "Macedonia"
          ],
          [
           "Hungary"
          ],
          [
           "Trinidad and Tobago"
          ],
          [
           "Tunisia"
          ],
          [
           "Egypt"
          ],
          [
           "Bulgaria"
          ],
          [
           "Morocco"
          ],
          [
           "Slovakia"
          ],
          [
           "Niger"
          ],
          [
           "Kenya"
          ],
          [
           "Jordan"
          ],
          [
           "Japan"
          ],
          [
           "Georgia"
          ],
          [
           "Grenada"
          ],
          [
           "El Salvador"
          ],
          [
           "Cuba"
          ],
          [
           "China"
          ],
          [
           "Honduras"
          ],
          [
           "Taiwan. ROC"
          ],
          [
           "Angola"
          ],
          [
           "Jamaica"
          ],
          [
           "Namibia"
          ],
          [
           "Belize"
          ],
          [
           "Malaysia"
          ],
          [
           "Zimbabwe"
          ],
          [
           "Guatemala"
          ],
          [
           "Uganda"
          ],
          [
           "Nepal"
          ],
          [
           "Iran"
          ],
          [
           "Tanzania"
          ],
          [
           "Senegal"
          ],
          [
           "Peru"
          ],
          [
           "Nicaragua"
          ],
          [
           "Vietnam"
          ],
          [
           "Ethiopia"
          ],
          [
           "Myanmar"
          ],
          [
           "Congo"
          ],
          [
           "Zambia"
          ],
          [
           "Cameroon"
          ],
          [
           "Madagascar"
          ],
          [
           "Malawi"
          ],
          [
           "Guinea"
          ],
          [
           "Nigeria"
          ],
          [
           "Rwanda"
          ],
          [
           "Philippines"
          ],
          [
           "Ghana"
          ],
          [
           "Togo"
          ],
          [
           "Gambia"
          ],
          [
           "India"
          ],
          [
           "Thailand"
          ],
          [
           "Mozambique"
          ],
          [
           "Cambodia"
          ],
          [
           "Sierra Leone"
          ],
          [
           "Sri Lanka"
          ],
          [
           "Indonesia"
          ],
          [
           "Liberia"
          ],
          [
           "Bangladesh"
          ],
          [
           "Argentina"
          ],
          [
           "Australia"
          ],
          [
           "Albania"
          ],
          [
           "Iceland"
          ],
          [
           "New Zealand"
          ],
          [
           "USA"
          ],
          [
           "Uruguay"
          ],
          [
           "Luxembourg"
          ],
          [
           "Brazil"
          ],
          [
           "Kazakhstan"
          ],
          [
           "Sweden"
          ],
          [
           "Bermuda"
          ],
          [
           "Denmark"
          ],
          [
           "Finland"
          ],
          [
           "Ireland"
          ],
          [
           "Greece"
          ],
          [
           "France"
          ],
          [
           "Canada"
          ],
          [
           "Norway"
          ],
          [
           "Hong Kong SAR. China"
          ],
          [
           "French Polynesia"
          ],
          [
           "Israel"
          ],
          [
           "Switzerland"
          ],
          [
           "Netherlands"
          ],
          [
           "Kuwait"
          ],
          [
           "United Kingdom"
          ],
          [
           "Austria"
          ],
          [
           "Oman"
          ],
          [
           "Italy"
          ],
          [
           "Bahamas"
          ],
          [
           "Portugal"
          ],
          [
           "Malta"
          ],
          [
           "Armenia"
          ],
          [
           "Slovenia"
          ],
          [
           "Chile"
          ],
          [
           "Venezuela"
          ],
          [
           "Belgium"
          ],
          [
           "Germany"
          ],
          [
           "Russia"
          ],
          [
           "Croatia"
          ],
          [
           "Belarus"
          ],
          [
           "Spain"
          ],
          [
           "Paraguay"
          ],
          [
           "New Caledonia"
          ],
          [
           "South Africa"
          ],
          [
           "Barbados"
          ],
          [
           "Lithuania"
          ],
          [
           "Turkey"
          ],
          [
           "Estonia"
          ],
          [
           "Mexico"
          ],
          [
           "Costa Rica"
          ],
          [
           "Bolivia"
          ],
          [
           "Ecuador"
          ],
          [
           "Panama"
          ],
          [
           "Czech Republic"
          ],
          [
           "Romania"
          ],
          [
           "Colombia"
          ],
          [
           "Maldives"
          ],
          [
           "Cyprus"
          ],
          [
           "Serbia"
          ],
          [
           "United Arab Emirates"
          ],
          [
           "Algeria"
          ],
          [
           "Ukraine"
          ],
          [
           "Pakistan"
          ],
          [
           "Swaziland"
          ],
          [
           "Latvia"
          ],
          [
           "Bosnia and Herzegovina"
          ],
          [
           "Fiji"
          ],
          [
           "South Korea"
          ],
          [
           "Poland"
          ],
          [
           "Saudi Arabia"
          ],
          [
           "Botswana"
          ],
          [
           "Macedonia"
          ],
          [
           "Hungary"
          ],
          [
           "Trinidad and Tobago"
          ],
          [
           "Tunisia"
          ],
          [
           "Egypt"
          ],
          [
           "Mauritius"
          ],
          [
           "Bulgaria"
          ],
          [
           "Morocco"
          ],
          [
           "Slovakia"
          ],
          [
           "Niger"
          ],
          [
           "Kenya"
          ],
          [
           "Jordan"
          ],
          [
           "Japan"
          ],
          [
           "Georgia"
          ],
          [
           "Grenada"
          ],
          [
           "El Salvador"
          ],
          [
           "Cuba"
          ],
          [
           "China"
          ],
          [
           "Honduras"
          ],
          [
           "Taiwan. ROC"
          ],
          [
           "Angola"
          ],
          [
           "Jamaica"
          ],
          [
           "Namibia"
          ],
          [
           "Belize"
          ],
          [
           "Malaysia"
          ],
          [
           "Zimbabwe"
          ],
          [
           "Guatemala"
          ],
          [
           "Uganda"
          ],
          [
           "Nepal"
          ],
          [
           "Iran"
          ],
          [
           "Tanzania"
          ],
          [
           "Senegal"
          ],
          [
           "Peru"
          ],
          [
           "Nicaragua"
          ],
          [
           "Vietnam"
          ],
          [
           "Ethiopia"
          ],
          [
           "Myanmar"
          ],
          [
           "Congo"
          ],
          [
           "Zambia"
          ],
          [
           "Cameroon"
          ],
          [
           "Madagascar"
          ],
          [
           "Malawi"
          ],
          [
           "Guinea"
          ],
          [
           "Nigeria"
          ],
          [
           "Rwanda"
          ],
          [
           "Philippines"
          ],
          [
           "Ghana"
          ],
          [
           "Togo"
          ],
          [
           "Gambia"
          ],
          [
           "India"
          ],
          [
           "Thailand"
          ],
          [
           "Mozambique"
          ],
          [
           "Cambodia"
          ],
          [
           "Sierra Leone"
          ],
          [
           "Sri Lanka"
          ],
          [
           "Indonesia"
          ],
          [
           "Liberia"
          ],
          [
           "Bangladesh"
          ],
          [
           "Argentina"
          ],
          [
           "Australia"
          ],
          [
           "Albania"
          ],
          [
           "Iceland"
          ],
          [
           "New Zealand"
          ],
          [
           "USA"
          ],
          [
           "Uruguay"
          ],
          [
           "Luxembourg"
          ],
          [
           "Brazil"
          ],
          [
           "Kazakhstan"
          ],
          [
           "Sweden"
          ],
          [
           "Bermuda"
          ],
          [
           "Denmark"
          ],
          [
           "Finland"
          ],
          [
           "Ireland"
          ],
          [
           "Greece"
          ],
          [
           "France"
          ],
          [
           "Canada"
          ],
          [
           "Norway"
          ],
          [
           "Hong Kong SAR. China"
          ],
          [
           "French Polynesia"
          ],
          [
           "Israel"
          ],
          [
           "Switzerland"
          ],
          [
           "Netherlands"
          ],
          [
           "Kuwait"
          ],
          [
           "United Kingdom"
          ],
          [
           "Austria"
          ],
          [
           "Oman"
          ],
          [
           "Italy"
          ],
          [
           "Bahamas"
          ],
          [
           "Portugal"
          ],
          [
           "Malta"
          ],
          [
           "Armenia"
          ],
          [
           "Slovenia"
          ],
          [
           "Chile"
          ],
          [
           "Venezuela"
          ],
          [
           "Belgium"
          ],
          [
           "Germany"
          ],
          [
           "Russia"
          ],
          [
           "Croatia"
          ],
          [
           "Belarus"
          ],
          [
           "Spain"
          ],
          [
           "Paraguay"
          ],
          [
           "New Caledonia"
          ],
          [
           "South Africa"
          ],
          [
           "Barbados"
          ],
          [
           "Lithuania"
          ],
          [
           "Turkey"
          ],
          [
           "Estonia"
          ],
          [
           "Mexico"
          ],
          [
           "Costa Rica"
          ],
          [
           "Bolivia"
          ],
          [
           "Ecuador"
          ],
          [
           "Panama"
          ],
          [
           "Czech Republic"
          ],
          [
           "Romania"
          ],
          [
           "Colombia"
          ],
          [
           "Maldives"
          ],
          [
           "Cyprus"
          ],
          [
           "Serbia"
          ],
          [
           "United Arab Emirates"
          ],
          [
           "Algeria"
          ],
          [
           "Ukraine"
          ],
          [
           "Pakistan"
          ],
          [
           "Swaziland"
          ],
          [
           "Latvia"
          ],
          [
           "Bosnia and Herzegovina"
          ],
          [
           "Fiji"
          ],
          [
           "South Korea"
          ],
          [
           "Poland"
          ],
          [
           "Saudi Arabia"
          ],
          [
           "Botswana"
          ],
          [
           "Macedonia"
          ],
          [
           "Hungary"
          ],
          [
           "Trinidad and Tobago"
          ],
          [
           "Tunisia"
          ],
          [
           "Egypt"
          ],
          [
           "Mauritius"
          ],
          [
           "Bulgaria"
          ],
          [
           "Morocco"
          ],
          [
           "Slovakia"
          ],
          [
           "Niger"
          ],
          [
           "Kenya"
          ],
          [
           "Jordan"
          ],
          [
           "Japan"
          ],
          [
           "Georgia"
          ],
          [
           "Grenada"
          ],
          [
           "El Salvador"
          ],
          [
           "Cuba"
          ],
          [
           "China"
          ],
          [
           "Honduras"
          ],
          [
           "Taiwan. ROC"
          ],
          [
           "Angola"
          ],
          [
           "Jamaica"
          ],
          [
           "Namibia"
          ],
          [
           "Belize"
          ],
          [
           "Malaysia"
          ],
          [
           "Zimbabwe"
          ],
          [
           "Guatemala"
          ],
          [
           "Uganda"
          ],
          [
           "Nepal"
          ],
          [
           "Iran"
          ],
          [
           "Tanzania"
          ],
          [
           "Senegal"
          ],
          [
           "Peru"
          ],
          [
           "Nicaragua"
          ],
          [
           "Vietnam"
          ],
          [
           "Ethiopia"
          ],
          [
           "Myanmar"
          ],
          [
           "Congo"
          ],
          [
           "Zambia"
          ],
          [
           "Cameroon"
          ],
          [
           "Madagascar"
          ],
          [
           "Malawi"
          ],
          [
           "Guinea"
          ],
          [
           "Nigeria"
          ],
          [
           "Rwanda"
          ],
          [
           "Philippines"
          ],
          [
           "Ghana"
          ],
          [
           "Togo"
          ],
          [
           "Gambia"
          ],
          [
           "India"
          ],
          [
           "Thailand"
          ],
          [
           "Mozambique"
          ],
          [
           "Cambodia"
          ],
          [
           "Sierra Leone"
          ],
          [
           "Sri Lanka"
          ],
          [
           "Indonesia"
          ],
          [
           "Liberia"
          ],
          [
           "Bangladesh"
          ],
          [
           "Bermuda"
          ],
          [
           "Denmark"
          ],
          [
           "Argentina"
          ],
          [
           "Australia"
          ],
          [
           "Albania"
          ],
          [
           "Iceland"
          ],
          [
           "New Zealand"
          ],
          [
           "USA"
          ],
          [
           "Uruguay"
          ],
          [
           "Luxembourg"
          ],
          [
           "Brazil"
          ],
          [
           "Kazakhstan"
          ],
          [
           "Sweden"
          ],
          [
           "Finland"
          ],
          [
           "Ireland"
          ],
          [
           "Greece"
          ],
          [
           "France"
          ],
          [
           "Canada"
          ],
          [
           "Norway"
          ],
          [
           "Hong Kong SAR. China"
          ],
          [
           "French Polynesia"
          ],
          [
           "Israel"
          ],
          [
           "Switzerland"
          ],
          [
           "Netherlands"
          ],
          [
           "Kuwait"
          ],
          [
           "United Kingdom"
          ],
          [
           "Austria"
          ],
          [
           "Oman"
          ],
          [
           "Italy"
          ],
          [
           "Bahamas"
          ],
          [
           "Portugal"
          ],
          [
           "Malta"
          ],
          [
           "Armenia"
          ],
          [
           "Slovenia"
          ],
          [
           "Chile"
          ],
          [
           "Venezuela"
          ],
          [
           "Belgium"
          ],
          [
           "Germany"
          ],
          [
           "Russia"
          ],
          [
           "Croatia"
          ],
          [
           "Belarus"
          ],
          [
           "Spain"
          ],
          [
           "Paraguay"
          ],
          [
           "New Caledonia"
          ],
          [
           "South Africa"
          ],
          [
           "Barbados"
          ],
          [
           "Lithuania"
          ],
          [
           "Turkey"
          ],
          [
           "Estonia"
          ],
          [
           "Mexico"
          ],
          [
           "Costa Rica"
          ],
          [
           "Bolivia"
          ],
          [
           "Ecuador"
          ],
          [
           "Panama"
          ],
          [
           "Czech Republic"
          ],
          [
           "Romania"
          ],
          [
           "Colombia"
          ],
          [
           "Maldives"
          ],
          [
           "Cyprus"
          ],
          [
           "Serbia"
          ],
          [
           "United Arab Emirates"
          ],
          [
           "Algeria"
          ],
          [
           "Ukraine"
          ],
          [
           "Pakistan"
          ],
          [
           "Swaziland"
          ],
          [
           "Latvia"
          ],
          [
           "Bosnia and Herzegovina"
          ],
          [
           "Fiji"
          ],
          [
           "South Korea"
          ],
          [
           "Poland"
          ],
          [
           "Saudi Arabia"
          ],
          [
           "Botswana"
          ],
          [
           "Macedonia"
          ],
          [
           "Hungary"
          ],
          [
           "Trinidad and Tobago"
          ],
          [
           "Tunisia"
          ],
          [
           "Egypt"
          ],
          [
           "Mauritius"
          ],
          [
           "Bulgaria"
          ],
          [
           "Morocco"
          ],
          [
           "Slovakia"
          ],
          [
           "Niger"
          ],
          [
           "Kenya"
          ],
          [
           "Jordan"
          ],
          [
           "Japan"
          ],
          [
           "Georgia"
          ],
          [
           "Grenada"
          ],
          [
           "El Salvador"
          ],
          [
           "Cuba"
          ],
          [
           "China"
          ],
          [
           "Honduras"
          ],
          [
           "Taiwan. ROC"
          ],
          [
           "Angola"
          ],
          [
           "Jamaica"
          ],
          [
           "Namibia"
          ],
          [
           "Belize"
          ],
          [
           "Malaysia"
          ],
          [
           "Zimbabwe"
          ],
          [
           "Guatemala"
          ],
          [
           "Uganda"
          ],
          [
           "Nepal"
          ],
          [
           "Iran"
          ],
          [
           "Tanzania"
          ],
          [
           "Senegal"
          ],
          [
           "Peru"
          ],
          [
           "Nicaragua"
          ],
          [
           "Vietnam"
          ],
          [
           "Ethiopia"
          ],
          [
           "Myanmar"
          ],
          [
           "Congo"
          ],
          [
           "Zambia"
          ],
          [
           "Cameroon"
          ],
          [
           "Madagascar"
          ],
          [
           "Malawi"
          ],
          [
           "Guinea"
          ],
          [
           "Nigeria"
          ],
          [
           "Rwanda"
          ],
          [
           "Philippines"
          ],
          [
           "Ghana"
          ],
          [
           "Togo"
          ],
          [
           "Gambia"
          ],
          [
           "India"
          ],
          [
           "Thailand"
          ],
          [
           "Mozambique"
          ],
          [
           "Cambodia"
          ],
          [
           "Sierra Leone"
          ],
          [
           "Sri Lanka"
          ],
          [
           "Indonesia"
          ],
          [
           "Liberia"
          ],
          [
           "Bangladesh"
          ]
         ],
         "hovertemplate": "Category=%{x}<br>value=%{y}<br>country=%{customdata[0]}<extra></extra>",
         "legendgroup": "Non-animal",
         "marker": {
          "color": "#EF553B"
         },
         "name": "Non-animal",
         "notched": false,
         "offsetgroup": "Non-animal",
         "orientation": "v",
         "showlegend": true,
         "type": "box",
         "x": [
          "Non-animal",
          "Non-animal",
          "Non-animal",
          "Non-animal",
          "Non-animal",
          "Non-animal",
          "Non-animal",
          "Non-animal",
          "Non-animal",
          "Non-animal",
          "Non-animal",
          "Non-animal",
          "Non-animal",
          "Non-animal",
          "Non-animal",
          "Non-animal",
          "Non-animal",
          "Non-animal",
          "Non-animal",
          "Non-animal",
          "Non-animal",
          "Non-animal",
          "Non-animal",
          "Non-animal",
          "Non-animal",
          "Non-animal",
          "Non-animal",
          "Non-animal",
          "Non-animal",
          "Non-animal",
          "Non-animal",
          "Non-animal",
          "Non-animal",
          "Non-animal",
          "Non-animal",
          "Non-animal",
          "Non-animal",
          "Non-animal",
          "Non-animal",
          "Non-animal",
          "Non-animal",
          "Non-animal",
          "Non-animal",
          "Non-animal",
          "Non-animal",
          "Non-animal",
          "Non-animal",
          "Non-animal",
          "Non-animal",
          "Non-animal",
          "Non-animal",
          "Non-animal",
          "Non-animal",
          "Non-animal",
          "Non-animal",
          "Non-animal",
          "Non-animal",
          "Non-animal",
          "Non-animal",
          "Non-animal",
          "Non-animal",
          "Non-animal",
          "Non-animal",
          "Non-animal",
          "Non-animal",
          "Non-animal",
          "Non-animal",
          "Non-animal",
          "Non-animal",
          "Non-animal",
          "Non-animal",
          "Non-animal",
          "Non-animal",
          "Non-animal",
          "Non-animal",
          "Non-animal",
          "Non-animal",
          "Non-animal",
          "Non-animal",
          "Non-animal",
          "Non-animal",
          "Non-animal",
          "Non-animal",
          "Non-animal",
          "Non-animal",
          "Non-animal",
          "Non-animal",
          "Non-animal",
          "Non-animal",
          "Non-animal",
          "Non-animal",
          "Non-animal",
          "Non-animal",
          "Non-animal",
          "Non-animal",
          "Non-animal",
          "Non-animal",
          "Non-animal",
          "Non-animal",
          "Non-animal",
          "Non-animal",
          "Non-animal",
          "Non-animal",
          "Non-animal",
          "Non-animal",
          "Non-animal",
          "Non-animal",
          "Non-animal",
          "Non-animal",
          "Non-animal",
          "Non-animal",
          "Non-animal",
          "Non-animal",
          "Non-animal",
          "Non-animal",
          "Non-animal",
          "Non-animal",
          "Non-animal",
          "Non-animal",
          "Non-animal",
          "Non-animal",
          "Non-animal",
          "Non-animal",
          "Non-animal",
          "Non-animal",
          "Non-animal",
          "Non-animal",
          "Non-animal",
          "Non-animal",
          "Non-animal",
          "Non-animal",
          "Non-animal",
          "Non-animal",
          "Non-animal",
          "Non-animal",
          "Non-animal",
          "Non-animal",
          "Non-animal",
          "Non-animal",
          "Non-animal",
          "Non-animal",
          "Non-animal",
          "Non-animal",
          "Non-animal",
          "Non-animal",
          "Non-animal",
          "Non-animal",
          "Non-animal",
          "Non-animal",
          "Non-animal",
          "Non-animal",
          "Non-animal",
          "Non-animal",
          "Non-animal",
          "Non-animal",
          "Non-animal",
          "Non-animal",
          "Non-animal",
          "Non-animal",
          "Non-animal",
          "Non-animal",
          "Non-animal",
          "Non-animal",
          "Non-animal",
          "Non-animal",
          "Non-animal",
          "Non-animal",
          "Non-animal",
          "Non-animal",
          "Non-animal",
          "Non-animal",
          "Non-animal",
          "Non-animal",
          "Non-animal",
          "Non-animal",
          "Non-animal",
          "Non-animal",
          "Non-animal",
          "Non-animal",
          "Non-animal",
          "Non-animal",
          "Non-animal",
          "Non-animal",
          "Non-animal",
          "Non-animal",
          "Non-animal",
          "Non-animal",
          "Non-animal",
          "Non-animal",
          "Non-animal",
          "Non-animal",
          "Non-animal",
          "Non-animal",
          "Non-animal",
          "Non-animal",
          "Non-animal",
          "Non-animal",
          "Non-animal",
          "Non-animal",
          "Non-animal",
          "Non-animal",
          "Non-animal",
          "Non-animal",
          "Non-animal",
          "Non-animal",
          "Non-animal",
          "Non-animal",
          "Non-animal",
          "Non-animal",
          "Non-animal",
          "Non-animal",
          "Non-animal",
          "Non-animal",
          "Non-animal",
          "Non-animal",
          "Non-animal",
          "Non-animal",
          "Non-animal",
          "Non-animal",
          "Non-animal",
          "Non-animal",
          "Non-animal",
          "Non-animal",
          "Non-animal",
          "Non-animal",
          "Non-animal",
          "Non-animal",
          "Non-animal",
          "Non-animal",
          "Non-animal",
          "Non-animal",
          "Non-animal",
          "Non-animal",
          "Non-animal",
          "Non-animal",
          "Non-animal",
          "Non-animal",
          "Non-animal",
          "Non-animal",
          "Non-animal",
          "Non-animal",
          "Non-animal",
          "Non-animal",
          "Non-animal",
          "Non-animal",
          "Non-animal",
          "Non-animal",
          "Non-animal",
          "Non-animal",
          "Non-animal",
          "Non-animal",
          "Non-animal",
          "Non-animal",
          "Non-animal",
          "Non-animal",
          "Non-animal",
          "Non-animal",
          "Non-animal",
          "Non-animal",
          "Non-animal",
          "Non-animal",
          "Non-animal",
          "Non-animal",
          "Non-animal",
          "Non-animal",
          "Non-animal",
          "Non-animal",
          "Non-animal",
          "Non-animal",
          "Non-animal",
          "Non-animal",
          "Non-animal",
          "Non-animal",
          "Non-animal",
          "Non-animal",
          "Non-animal",
          "Non-animal",
          "Non-animal",
          "Non-animal",
          "Non-animal",
          "Non-animal",
          "Non-animal",
          "Non-animal",
          "Non-animal",
          "Non-animal",
          "Non-animal",
          "Non-animal",
          "Non-animal",
          "Non-animal",
          "Non-animal",
          "Non-animal",
          "Non-animal",
          "Non-animal",
          "Non-animal",
          "Non-animal",
          "Non-animal",
          "Non-animal",
          "Non-animal",
          "Non-animal",
          "Non-animal",
          "Non-animal",
          "Non-animal",
          "Non-animal",
          "Non-animal",
          "Non-animal",
          "Non-animal",
          "Non-animal",
          "Non-animal",
          "Non-animal",
          "Non-animal",
          "Non-animal",
          "Non-animal",
          "Non-animal",
          "Non-animal",
          "Non-animal",
          "Non-animal",
          "Non-animal",
          "Non-animal",
          "Non-animal",
          "Non-animal",
          "Non-animal",
          "Non-animal",
          "Non-animal",
          "Non-animal",
          "Non-animal",
          "Non-animal",
          "Non-animal",
          "Non-animal",
          "Non-animal",
          "Non-animal",
          "Non-animal",
          "Non-animal",
          "Non-animal",
          "Non-animal",
          "Non-animal",
          "Non-animal",
          "Non-animal",
          "Non-animal",
          "Non-animal",
          "Non-animal",
          "Non-animal",
          "Non-animal",
          "Non-animal",
          "Non-animal",
          "Non-animal",
          "Non-animal",
          "Non-animal",
          "Non-animal",
          "Non-animal",
          "Non-animal",
          "Non-animal",
          "Non-animal",
          "Non-animal",
          "Non-animal",
          "Non-animal",
          "Non-animal",
          "Non-animal",
          "Non-animal",
          "Non-animal",
          "Non-animal",
          "Non-animal",
          "Non-animal",
          "Non-animal",
          "Non-animal",
          "Non-animal",
          "Non-animal",
          "Non-animal",
          "Non-animal",
          "Non-animal",
          "Non-animal",
          "Non-animal",
          "Non-animal",
          "Non-animal",
          "Non-animal",
          "Non-animal",
          "Non-animal",
          "Non-animal",
          "Non-animal",
          "Non-animal",
          "Non-animal",
          "Non-animal",
          "Non-animal",
          "Non-animal",
          "Non-animal",
          "Non-animal",
          "Non-animal",
          "Non-animal",
          "Non-animal",
          "Non-animal",
          "Non-animal",
          "Non-animal",
          "Non-animal",
          "Non-animal",
          "Non-animal",
          "Non-animal",
          "Non-animal",
          "Non-animal",
          "Non-animal",
          "Non-animal",
          "Non-animal",
          "Non-animal",
          "Non-animal",
          "Non-animal",
          "Non-animal",
          "Non-animal",
          "Non-animal",
          "Non-animal",
          "Non-animal",
          "Non-animal",
          "Non-animal",
          "Non-animal",
          "Non-animal",
          "Non-animal",
          "Non-animal",
          "Non-animal",
          "Non-animal",
          "Non-animal",
          "Non-animal",
          "Non-animal",
          "Non-animal",
          "Non-animal",
          "Non-animal",
          "Non-animal",
          "Non-animal",
          "Non-animal",
          "Non-animal",
          "Non-animal",
          "Non-animal",
          "Non-animal",
          "Non-animal",
          "Non-animal",
          "Non-animal",
          "Non-animal",
          "Non-animal",
          "Non-animal",
          "Non-animal",
          "Non-animal",
          "Non-animal",
          "Non-animal",
          "Non-animal",
          "Non-animal",
          "Non-animal",
          "Non-animal",
          "Non-animal",
          "Non-animal",
          "Non-animal",
          "Non-animal",
          "Non-animal",
          "Non-animal",
          "Non-animal",
          "Non-animal",
          "Non-animal",
          "Non-animal",
          "Non-animal",
          "Non-animal",
          "Non-animal",
          "Non-animal",
          "Non-animal",
          "Non-animal",
          "Non-animal",
          "Non-animal",
          "Non-animal",
          "Non-animal",
          "Non-animal",
          "Non-animal",
          "Non-animal",
          "Non-animal",
          "Non-animal",
          "Non-animal",
          "Non-animal",
          "Non-animal",
          "Non-animal",
          "Non-animal",
          "Non-animal",
          "Non-animal",
          "Non-animal",
          "Non-animal",
          "Non-animal",
          "Non-animal",
          "Non-animal",
          "Non-animal",
          "Non-animal",
          "Non-animal",
          "Non-animal",
          "Non-animal",
          "Non-animal",
          "Non-animal",
          "Non-animal",
          "Non-animal",
          "Non-animal",
          "Non-animal",
          "Non-animal",
          "Non-animal",
          "Non-animal",
          "Non-animal",
          "Non-animal",
          "Non-animal",
          "Non-animal",
          "Non-animal",
          "Non-animal",
          "Non-animal",
          "Non-animal",
          "Non-animal",
          "Non-animal",
          "Non-animal",
          "Non-animal",
          "Non-animal",
          "Non-animal",
          "Non-animal",
          "Non-animal",
          "Non-animal",
          "Non-animal",
          "Non-animal",
          "Non-animal",
          "Non-animal",
          "Non-animal",
          "Non-animal",
          "Non-animal",
          "Non-animal",
          "Non-animal"
         ],
         "x0": " ",
         "xaxis": "x",
         "y": [
          21.74,
          19.66,
          13.44,
          26.44,
          13.91,
          14.67,
          15.34,
          20.85,
          19.68,
          10.11,
          17.6,
          15.18,
          10.47,
          18.69,
          15.64,
          20.59,
          23.65,
          20.68,
          16.2,
          18.52,
          10.13,
          13.1,
          21.14,
          17.07,
          13.38,
          18.45,
          18.81,
          15.47,
          12.22,
          27.91,
          7.62,
          17.98,
          26.62,
          24.91,
          19.72,
          19.97,
          9.38,
          21.34,
          15.91,
          24.98,
          20.33,
          11.53,
          17.9,
          6.01,
          15.59,
          11.47,
          12.53,
          23.19,
          32.41,
          17.04,
          6.71,
          7.5,
          9.53,
          7.47,
          7.43,
          17.67,
          25.72,
          5.68,
          14.83,
          15.88,
          20.19,
          19.32,
          35.36,
          20.05,
          21.67,
          7.08,
          13.76,
          17.84,
          16.06,
          9.7,
          20.75,
          17.06,
          7.28,
          19.99,
          20.97,
          17.2,
          37.66,
          28,
          23.11,
          34.27,
          23.57,
          0.91,
          6.61,
          26.08,
          8.59,
          31.17,
          11.36,
          5.38,
          10.42,
          12.08,
          7.12,
          9.71,
          7.77,
          13.48,
          6.91,
          10.31,
          9.73,
          5.97,
          6.85,
          1.93,
          9.62,
          29.24,
          3.04,
          7.12,
          10.7,
          5.37,
          2,
          5.96,
          1.19,
          7.64,
          2.31,
          4.31,
          1.72,
          2.24,
          3.54,
          3.97,
          2.16,
          4.41,
          2.76,
          2.46,
          7.23,
          11.55,
          2.08,
          2.79,
          0.52,
          1.66,
          7.06,
          4.85,
          2.09,
          3.33,
          11.22,
          14.12,
          9.96,
          4.98,
          11.72,
          8.8,
          14.72,
          5.37,
          41.12,
          9.37,
          7.63,
          6.88,
          6.35,
          5.66,
          3.84,
          8.5,
          6.24,
          16.19,
          5.58,
          55.64,
          45.54,
          21.51,
          3.11,
          3.75,
          56.09,
          8.18,
          4.73,
          72.37,
          7.35,
          30.67,
          19.02,
          6.35,
          4.07,
          5.05,
          11.33,
          29.93,
          11.02,
          4.27,
          6.03,
          3.38,
          4.06,
          10.65,
          6.28,
          22.36,
          22.28,
          20.04,
          3.93,
          13.74,
          3.28,
          7.22,
          58.47,
          34.54,
          57.68,
          85,
          6.13,
          3.31,
          35.86,
          64.92,
          6.32,
          1.56,
          71.98,
          3.8,
          3.84,
          15.68,
          27.07,
          2.83,
          2.41,
          58.38,
          109,
          1.22,
          46.09,
          9.03,
          3.6,
          2.75,
          20.96,
          1.37,
          50.89,
          58.3,
          2.87,
          1.41,
          3.69,
          16.85,
          16.56,
          25.17,
          76.59,
          3.38,
          12.23,
          13.48,
          86.64,
          100.05,
          18.45,
          58.67,
          10.39,
          30.01,
          8.07,
          36.37,
          103.98,
          12.91,
          7.24,
          5.94,
          112.29,
          38.33,
          26.89,
          92.51,
          62.6,
          55.45,
          184.99,
          2.88,
          169.94,
          21.13,
          3.9,
          30.52,
          131.21,
          6.08,
          124.28,
          36.13,
          11.13,
          152.85,
          40.99,
          33.26,
          79.14,
          88.93,
          146.62,
          29.96,
          203.6,
          132.19,
          140.41,
          172.27,
          121.25,
          219.76,
          0,
          0.09,
          0,
          0.05,
          0.2,
          0.02,
          0,
          0.02,
          1.63,
          0.01,
          0.06,
          0.1,
          0.01,
          0.04,
          0.11,
          0.01,
          0.02,
          0.42,
          0.05,
          1.26,
          0.35,
          0.05,
          0.2,
          0.05,
          0.03,
          0.02,
          0.93,
          0.09,
          0,
          0.04,
          0,
          0.02,
          0,
          0.34,
          0.02,
          0,
          0.03,
          0.4,
          0.02,
          0,
          0.14,
          0.01,
          0,
          0.25,
          0.57,
          0.05,
          0.01,
          0.77,
          0.02,
          0.01,
          0.69,
          0,
          0,
          1.59,
          0.37,
          0,
          0.4,
          0.09,
          0.02,
          0,
          0.04,
          0,
          0.01,
          0,
          0.25,
          0.02,
          0.67,
          0.14,
          3.76,
          0.03,
          0.02,
          0.52,
          0.21,
          0,
          0.02,
          0.85,
          0.29,
          0.14,
          0.02,
          0,
          0.01,
          0,
          0.09,
          0.01,
          3.3,
          0,
          0,
          0.36,
          2.85,
          1.65,
          0,
          7.63,
          0.23,
          0,
          0.03,
          0.85,
          0.02,
          0.24,
          0.14,
          0,
          0,
          0,
          0.02,
          0,
          0.72,
          0,
          2.59,
          0.2,
          0.17,
          0,
          3.29,
          0.29,
          0,
          0.79,
          0,
          1.17,
          0.87,
          0.01,
          0,
          0,
          0,
          0.18,
          0.96,
          0.01,
          1.95,
          0,
          0,
          0.5,
          0.28,
          0.27,
          10.12,
          10.51,
          0.87,
          15.45,
          7.72,
          6.87,
          14.55,
          13.91,
          1.68,
          1.65,
          1.19,
          9.1,
          11.03,
          6.07,
          7.26,
          18.59,
          9.54,
          14.18,
          9.35,
          24.44,
          4.14,
          13.65,
          16.41,
          14.05,
          9.26,
          7.4,
          13.95,
          2.97,
          13.51,
          7.13,
          6.92,
          9.95,
          4.51,
          9.35,
          3.93,
          0.62,
          12.96,
          14.09,
          2.87,
          6.87,
          5.95,
          13.17,
          2.83,
          5.24,
          1.84,
          7.36,
          3.77,
          14.11,
          7.59,
          4.44,
          2.44,
          16.21,
          1.73,
          1.86,
          4.37,
          3.19,
          0.74,
          28.02,
          8.14,
          5.86,
          40.76,
          3.68,
          4.74,
          1.47,
          11.4,
          6.69,
          3.54,
          2.3,
          8.64,
          3.95,
          5.72,
          1.91,
          10.39,
          1.13,
          6.69,
          11.22,
          3.22,
          4.12,
          4,
          5.72,
          6.55,
          12.3,
          2.9,
          6.3,
          4.58,
          4.37,
          0.32,
          1.95,
          0.41,
          11.31,
          1.33,
          16.04,
          4,
          3.22,
          1.26,
          9.88,
          5.13,
          3.93,
          3.54,
          6.67,
          4.28,
          21.52,
          10.51,
          7.13,
          1.15,
          4.18,
          11.12,
          2.14,
          7.97,
          5.45,
          8.92,
          16.44,
          0.62,
          8.99,
          7.33,
          12.27,
          1.03,
          3.68,
          9.84,
          6.35,
          9.33,
          3.4,
          2.66,
          4.62,
          2.21,
          9.86,
          1.93,
          8.71,
          2.32,
          1.27
         ],
         "y0": " ",
         "yaxis": "y"
        }
       ],
       "layout": {
        "boxmode": "overlay",
        "legend": {
         "title": {
          "text": "Category"
         },
         "tracegroupgap": 0
        },
        "template": {
         "data": {
          "bar": [
           {
            "error_x": {
             "color": "#2a3f5f"
            },
            "error_y": {
             "color": "#2a3f5f"
            },
            "marker": {
             "line": {
              "color": "#E5ECF6",
              "width": 0.5
             },
             "pattern": {
              "fillmode": "overlay",
              "size": 10,
              "solidity": 0.2
             }
            },
            "type": "bar"
           }
          ],
          "barpolar": [
           {
            "marker": {
             "line": {
              "color": "#E5ECF6",
              "width": 0.5
             },
             "pattern": {
              "fillmode": "overlay",
              "size": 10,
              "solidity": 0.2
             }
            },
            "type": "barpolar"
           }
          ],
          "carpet": [
           {
            "aaxis": {
             "endlinecolor": "#2a3f5f",
             "gridcolor": "white",
             "linecolor": "white",
             "minorgridcolor": "white",
             "startlinecolor": "#2a3f5f"
            },
            "baxis": {
             "endlinecolor": "#2a3f5f",
             "gridcolor": "white",
             "linecolor": "white",
             "minorgridcolor": "white",
             "startlinecolor": "#2a3f5f"
            },
            "type": "carpet"
           }
          ],
          "choropleth": [
           {
            "colorbar": {
             "outlinewidth": 0,
             "ticks": ""
            },
            "type": "choropleth"
           }
          ],
          "contour": [
           {
            "colorbar": {
             "outlinewidth": 0,
             "ticks": ""
            },
            "colorscale": [
             [
              0,
              "#0d0887"
             ],
             [
              0.1111111111111111,
              "#46039f"
             ],
             [
              0.2222222222222222,
              "#7201a8"
             ],
             [
              0.3333333333333333,
              "#9c179e"
             ],
             [
              0.4444444444444444,
              "#bd3786"
             ],
             [
              0.5555555555555556,
              "#d8576b"
             ],
             [
              0.6666666666666666,
              "#ed7953"
             ],
             [
              0.7777777777777778,
              "#fb9f3a"
             ],
             [
              0.8888888888888888,
              "#fdca26"
             ],
             [
              1,
              "#f0f921"
             ]
            ],
            "type": "contour"
           }
          ],
          "contourcarpet": [
           {
            "colorbar": {
             "outlinewidth": 0,
             "ticks": ""
            },
            "type": "contourcarpet"
           }
          ],
          "heatmap": [
           {
            "colorbar": {
             "outlinewidth": 0,
             "ticks": ""
            },
            "colorscale": [
             [
              0,
              "#0d0887"
             ],
             [
              0.1111111111111111,
              "#46039f"
             ],
             [
              0.2222222222222222,
              "#7201a8"
             ],
             [
              0.3333333333333333,
              "#9c179e"
             ],
             [
              0.4444444444444444,
              "#bd3786"
             ],
             [
              0.5555555555555556,
              "#d8576b"
             ],
             [
              0.6666666666666666,
              "#ed7953"
             ],
             [
              0.7777777777777778,
              "#fb9f3a"
             ],
             [
              0.8888888888888888,
              "#fdca26"
             ],
             [
              1,
              "#f0f921"
             ]
            ],
            "type": "heatmap"
           }
          ],
          "heatmapgl": [
           {
            "colorbar": {
             "outlinewidth": 0,
             "ticks": ""
            },
            "colorscale": [
             [
              0,
              "#0d0887"
             ],
             [
              0.1111111111111111,
              "#46039f"
             ],
             [
              0.2222222222222222,
              "#7201a8"
             ],
             [
              0.3333333333333333,
              "#9c179e"
             ],
             [
              0.4444444444444444,
              "#bd3786"
             ],
             [
              0.5555555555555556,
              "#d8576b"
             ],
             [
              0.6666666666666666,
              "#ed7953"
             ],
             [
              0.7777777777777778,
              "#fb9f3a"
             ],
             [
              0.8888888888888888,
              "#fdca26"
             ],
             [
              1,
              "#f0f921"
             ]
            ],
            "type": "heatmapgl"
           }
          ],
          "histogram": [
           {
            "marker": {
             "pattern": {
              "fillmode": "overlay",
              "size": 10,
              "solidity": 0.2
             }
            },
            "type": "histogram"
           }
          ],
          "histogram2d": [
           {
            "colorbar": {
             "outlinewidth": 0,
             "ticks": ""
            },
            "colorscale": [
             [
              0,
              "#0d0887"
             ],
             [
              0.1111111111111111,
              "#46039f"
             ],
             [
              0.2222222222222222,
              "#7201a8"
             ],
             [
              0.3333333333333333,
              "#9c179e"
             ],
             [
              0.4444444444444444,
              "#bd3786"
             ],
             [
              0.5555555555555556,
              "#d8576b"
             ],
             [
              0.6666666666666666,
              "#ed7953"
             ],
             [
              0.7777777777777778,
              "#fb9f3a"
             ],
             [
              0.8888888888888888,
              "#fdca26"
             ],
             [
              1,
              "#f0f921"
             ]
            ],
            "type": "histogram2d"
           }
          ],
          "histogram2dcontour": [
           {
            "colorbar": {
             "outlinewidth": 0,
             "ticks": ""
            },
            "colorscale": [
             [
              0,
              "#0d0887"
             ],
             [
              0.1111111111111111,
              "#46039f"
             ],
             [
              0.2222222222222222,
              "#7201a8"
             ],
             [
              0.3333333333333333,
              "#9c179e"
             ],
             [
              0.4444444444444444,
              "#bd3786"
             ],
             [
              0.5555555555555556,
              "#d8576b"
             ],
             [
              0.6666666666666666,
              "#ed7953"
             ],
             [
              0.7777777777777778,
              "#fb9f3a"
             ],
             [
              0.8888888888888888,
              "#fdca26"
             ],
             [
              1,
              "#f0f921"
             ]
            ],
            "type": "histogram2dcontour"
           }
          ],
          "mesh3d": [
           {
            "colorbar": {
             "outlinewidth": 0,
             "ticks": ""
            },
            "type": "mesh3d"
           }
          ],
          "parcoords": [
           {
            "line": {
             "colorbar": {
              "outlinewidth": 0,
              "ticks": ""
             }
            },
            "type": "parcoords"
           }
          ],
          "pie": [
           {
            "automargin": true,
            "type": "pie"
           }
          ],
          "scatter": [
           {
            "fillpattern": {
             "fillmode": "overlay",
             "size": 10,
             "solidity": 0.2
            },
            "type": "scatter"
           }
          ],
          "scatter3d": [
           {
            "line": {
             "colorbar": {
              "outlinewidth": 0,
              "ticks": ""
             }
            },
            "marker": {
             "colorbar": {
              "outlinewidth": 0,
              "ticks": ""
             }
            },
            "type": "scatter3d"
           }
          ],
          "scattercarpet": [
           {
            "marker": {
             "colorbar": {
              "outlinewidth": 0,
              "ticks": ""
             }
            },
            "type": "scattercarpet"
           }
          ],
          "scattergeo": [
           {
            "marker": {
             "colorbar": {
              "outlinewidth": 0,
              "ticks": ""
             }
            },
            "type": "scattergeo"
           }
          ],
          "scattergl": [
           {
            "marker": {
             "colorbar": {
              "outlinewidth": 0,
              "ticks": ""
             }
            },
            "type": "scattergl"
           }
          ],
          "scattermapbox": [
           {
            "marker": {
             "colorbar": {
              "outlinewidth": 0,
              "ticks": ""
             }
            },
            "type": "scattermapbox"
           }
          ],
          "scatterpolar": [
           {
            "marker": {
             "colorbar": {
              "outlinewidth": 0,
              "ticks": ""
             }
            },
            "type": "scatterpolar"
           }
          ],
          "scatterpolargl": [
           {
            "marker": {
             "colorbar": {
              "outlinewidth": 0,
              "ticks": ""
             }
            },
            "type": "scatterpolargl"
           }
          ],
          "scatterternary": [
           {
            "marker": {
             "colorbar": {
              "outlinewidth": 0,
              "ticks": ""
             }
            },
            "type": "scatterternary"
           }
          ],
          "surface": [
           {
            "colorbar": {
             "outlinewidth": 0,
             "ticks": ""
            },
            "colorscale": [
             [
              0,
              "#0d0887"
             ],
             [
              0.1111111111111111,
              "#46039f"
             ],
             [
              0.2222222222222222,
              "#7201a8"
             ],
             [
              0.3333333333333333,
              "#9c179e"
             ],
             [
              0.4444444444444444,
              "#bd3786"
             ],
             [
              0.5555555555555556,
              "#d8576b"
             ],
             [
              0.6666666666666666,
              "#ed7953"
             ],
             [
              0.7777777777777778,
              "#fb9f3a"
             ],
             [
              0.8888888888888888,
              "#fdca26"
             ],
             [
              1,
              "#f0f921"
             ]
            ],
            "type": "surface"
           }
          ],
          "table": [
           {
            "cells": {
             "fill": {
              "color": "#EBF0F8"
             },
             "line": {
              "color": "white"
             }
            },
            "header": {
             "fill": {
              "color": "#C8D4E3"
             },
             "line": {
              "color": "white"
             }
            },
            "type": "table"
           }
          ]
         },
         "layout": {
          "annotationdefaults": {
           "arrowcolor": "#2a3f5f",
           "arrowhead": 0,
           "arrowwidth": 1
          },
          "autotypenumbers": "strict",
          "coloraxis": {
           "colorbar": {
            "outlinewidth": 0,
            "ticks": ""
           }
          },
          "colorscale": {
           "diverging": [
            [
             0,
             "#8e0152"
            ],
            [
             0.1,
             "#c51b7d"
            ],
            [
             0.2,
             "#de77ae"
            ],
            [
             0.3,
             "#f1b6da"
            ],
            [
             0.4,
             "#fde0ef"
            ],
            [
             0.5,
             "#f7f7f7"
            ],
            [
             0.6,
             "#e6f5d0"
            ],
            [
             0.7,
             "#b8e186"
            ],
            [
             0.8,
             "#7fbc41"
            ],
            [
             0.9,
             "#4d9221"
            ],
            [
             1,
             "#276419"
            ]
           ],
           "sequential": [
            [
             0,
             "#0d0887"
            ],
            [
             0.1111111111111111,
             "#46039f"
            ],
            [
             0.2222222222222222,
             "#7201a8"
            ],
            [
             0.3333333333333333,
             "#9c179e"
            ],
            [
             0.4444444444444444,
             "#bd3786"
            ],
            [
             0.5555555555555556,
             "#d8576b"
            ],
            [
             0.6666666666666666,
             "#ed7953"
            ],
            [
             0.7777777777777778,
             "#fb9f3a"
            ],
            [
             0.8888888888888888,
             "#fdca26"
            ],
            [
             1,
             "#f0f921"
            ]
           ],
           "sequentialminus": [
            [
             0,
             "#0d0887"
            ],
            [
             0.1111111111111111,
             "#46039f"
            ],
            [
             0.2222222222222222,
             "#7201a8"
            ],
            [
             0.3333333333333333,
             "#9c179e"
            ],
            [
             0.4444444444444444,
             "#bd3786"
            ],
            [
             0.5555555555555556,
             "#d8576b"
            ],
            [
             0.6666666666666666,
             "#ed7953"
            ],
            [
             0.7777777777777778,
             "#fb9f3a"
            ],
            [
             0.8888888888888888,
             "#fdca26"
            ],
            [
             1,
             "#f0f921"
            ]
           ]
          },
          "colorway": [
           "#636efa",
           "#EF553B",
           "#00cc96",
           "#ab63fa",
           "#FFA15A",
           "#19d3f3",
           "#FF6692",
           "#B6E880",
           "#FF97FF",
           "#FECB52"
          ],
          "font": {
           "color": "#2a3f5f"
          },
          "geo": {
           "bgcolor": "white",
           "lakecolor": "white",
           "landcolor": "#E5ECF6",
           "showlakes": true,
           "showland": true,
           "subunitcolor": "white"
          },
          "hoverlabel": {
           "align": "left"
          },
          "hovermode": "closest",
          "mapbox": {
           "style": "light"
          },
          "paper_bgcolor": "white",
          "plot_bgcolor": "#E5ECF6",
          "polar": {
           "angularaxis": {
            "gridcolor": "white",
            "linecolor": "white",
            "ticks": ""
           },
           "bgcolor": "#E5ECF6",
           "radialaxis": {
            "gridcolor": "white",
            "linecolor": "white",
            "ticks": ""
           }
          },
          "scene": {
           "xaxis": {
            "backgroundcolor": "#E5ECF6",
            "gridcolor": "white",
            "gridwidth": 2,
            "linecolor": "white",
            "showbackground": true,
            "ticks": "",
            "zerolinecolor": "white"
           },
           "yaxis": {
            "backgroundcolor": "#E5ECF6",
            "gridcolor": "white",
            "gridwidth": 2,
            "linecolor": "white",
            "showbackground": true,
            "ticks": "",
            "zerolinecolor": "white"
           },
           "zaxis": {
            "backgroundcolor": "#E5ECF6",
            "gridcolor": "white",
            "gridwidth": 2,
            "linecolor": "white",
            "showbackground": true,
            "ticks": "",
            "zerolinecolor": "white"
           }
          },
          "shapedefaults": {
           "line": {
            "color": "#2a3f5f"
           }
          },
          "ternary": {
           "aaxis": {
            "gridcolor": "white",
            "linecolor": "white",
            "ticks": ""
           },
           "baxis": {
            "gridcolor": "white",
            "linecolor": "white",
            "ticks": ""
           },
           "bgcolor": "#E5ECF6",
           "caxis": {
            "gridcolor": "white",
            "linecolor": "white",
            "ticks": ""
           }
          },
          "title": {
           "x": 0.05
          },
          "xaxis": {
           "automargin": true,
           "gridcolor": "white",
           "linecolor": "white",
           "ticks": "",
           "title": {
            "standoff": 15
           },
           "zerolinecolor": "white",
           "zerolinewidth": 2
          },
          "yaxis": {
           "automargin": true,
           "gridcolor": "white",
           "linecolor": "white",
           "ticks": "",
           "title": {
            "standoff": 15
           },
           "zerolinecolor": "white",
           "zerolinewidth": 2
          }
         }
        },
        "title": {
         "text": "Kg CO₂/person/year by Product Category"
        },
        "xaxis": {
         "anchor": "y",
         "categoryarray": [
          "Animal",
          "Non-animal"
         ],
         "categoryorder": "array",
         "domain": [
          0,
          1
         ],
         "title": {
          "text": "Category"
         }
        },
        "yaxis": {
         "anchor": "x",
         "domain": [
          0,
          1
         ],
         "title": {
          "text": "value"
         }
        }
       }
      },
      "text/html": [
       "<div>                            <div id=\"6690eb27-0e78-4657-ba07-f63fb912b5e6\" class=\"plotly-graph-div\" style=\"height:525px; width:100%;\"></div>            <script type=\"text/javascript\">                require([\"plotly\"], function(Plotly) {                    window.PLOTLYENV=window.PLOTLYENV || {};                                    if (document.getElementById(\"6690eb27-0e78-4657-ba07-f63fb912b5e6\")) {                    Plotly.newPlot(                        \"6690eb27-0e78-4657-ba07-f63fb912b5e6\",                        [{\"alignmentgroup\":\"True\",\"customdata\":[[\"Argentina\"],[\"Australia\"],[\"Albania\"],[\"Iceland\"],[\"New Zealand\"],[\"USA\"],[\"Uruguay\"],[\"Luxembourg\"],[\"Brazil\"],[\"Kazakhstan\"],[\"Sweden\"],[\"Bermuda\"],[\"Denmark\"],[\"Finland\"],[\"Ireland\"],[\"Greece\"],[\"France\"],[\"Canada\"],[\"Norway\"],[\"Hong Kong SAR. China\"],[\"French Polynesia\"],[\"Israel\"],[\"Switzerland\"],[\"Netherlands\"],[\"Kuwait\"],[\"United Kingdom\"],[\"Austria\"],[\"Oman\"],[\"Italy\"],[\"Bahamas\"],[\"Portugal\"],[\"Malta\"],[\"Armenia\"],[\"Slovenia\"],[\"Chile\"],[\"Venezuela\"],[\"Belgium\"],[\"Germany\"],[\"Russia\"],[\"Croatia\"],[\"Belarus\"],[\"Spain\"],[\"Paraguay\"],[\"New Caledonia\"],[\"South Africa\"],[\"Barbados\"],[\"Lithuania\"],[\"Turkey\"],[\"Estonia\"],[\"Mexico\"],[\"Costa Rica\"],[\"Bolivia\"],[\"Ecuador\"],[\"Panama\"],[\"Czech Republic\"],[\"Romania\"],[\"Colombia\"],[\"Maldives\"],[\"Cyprus\"],[\"Serbia\"],[\"United Arab Emirates\"],[\"Algeria\"],[\"Ukraine\"],[\"Pakistan\"],[\"Swaziland\"],[\"Latvia\"],[\"Bosnia and Herzegovina\"],[\"Fiji\"],[\"South Korea\"],[\"Poland\"],[\"Saudi Arabia\"],[\"Botswana\"],[\"Macedonia\"],[\"Hungary\"],[\"Trinidad and Tobago\"],[\"Tunisia\"],[\"Egypt\"],[\"Mauritius\"],[\"Bulgaria\"],[\"Morocco\"],[\"Slovakia\"],[\"Niger\"],[\"Kenya\"],[\"Jordan\"],[\"Japan\"],[\"Georgia\"],[\"Grenada\"],[\"El Salvador\"],[\"Cuba\"],[\"China\"],[\"Honduras\"],[\"Taiwan. ROC\"],[\"Angola\"],[\"Jamaica\"],[\"Namibia\"],[\"Belize\"],[\"Malaysia\"],[\"Zimbabwe\"],[\"Guatemala\"],[\"Uganda\"],[\"Nepal\"],[\"Iran\"],[\"Tanzania\"],[\"Senegal\"],[\"Peru\"],[\"Nicaragua\"],[\"Vietnam\"],[\"Ethiopia\"],[\"Myanmar\"],[\"Congo\"],[\"Zambia\"],[\"Cameroon\"],[\"Madagascar\"],[\"Malawi\"],[\"Guinea\"],[\"Nigeria\"],[\"Rwanda\"],[\"Philippines\"],[\"Ghana\"],[\"Togo\"],[\"Gambia\"],[\"India\"],[\"Thailand\"],[\"Mozambique\"],[\"Cambodia\"],[\"Sierra Leone\"],[\"Sri Lanka\"],[\"Indonesia\"],[\"Liberia\"],[\"Bangladesh\"],[\"Argentina\"],[\"Australia\"],[\"Albania\"],[\"Iceland\"],[\"New Zealand\"],[\"USA\"],[\"Uruguay\"],[\"Luxembourg\"],[\"Brazil\"],[\"Kazakhstan\"],[\"Sweden\"],[\"Bermuda\"],[\"Denmark\"],[\"Finland\"],[\"Ireland\"],[\"Greece\"],[\"France\"],[\"Canada\"],[\"Norway\"],[\"Hong Kong SAR. China\"],[\"French Polynesia\"],[\"Israel\"],[\"Switzerland\"],[\"Netherlands\"],[\"Kuwait\"],[\"United Kingdom\"],[\"Austria\"],[\"Oman\"],[\"Italy\"],[\"Bahamas\"],[\"Portugal\"],[\"Malta\"],[\"Armenia\"],[\"Slovenia\"],[\"Chile\"],[\"Venezuela\"],[\"Belgium\"],[\"Germany\"],[\"Russia\"],[\"Croatia\"],[\"Belarus\"],[\"Spain\"],[\"Paraguay\"],[\"New Caledonia\"],[\"South Africa\"],[\"Barbados\"],[\"Lithuania\"],[\"Turkey\"],[\"Estonia\"],[\"Mexico\"],[\"Costa Rica\"],[\"Bolivia\"],[\"Ecuador\"],[\"Panama\"],[\"Czech Republic\"],[\"Romania\"],[\"Colombia\"],[\"Maldives\"],[\"Cyprus\"],[\"Serbia\"],[\"United Arab Emirates\"],[\"Algeria\"],[\"Ukraine\"],[\"Pakistan\"],[\"Swaziland\"],[\"Latvia\"],[\"Bosnia and Herzegovina\"],[\"Fiji\"],[\"South Korea\"],[\"Poland\"],[\"Saudi Arabia\"],[\"Botswana\"],[\"Macedonia\"],[\"Hungary\"],[\"Trinidad and Tobago\"],[\"Tunisia\"],[\"Egypt\"],[\"Mauritius\"],[\"Bulgaria\"],[\"Morocco\"],[\"Slovakia\"],[\"Niger\"],[\"Kenya\"],[\"Jordan\"],[\"Japan\"],[\"Georgia\"],[\"Grenada\"],[\"El Salvador\"],[\"Cuba\"],[\"China\"],[\"Honduras\"],[\"Taiwan. ROC\"],[\"Angola\"],[\"Jamaica\"],[\"Namibia\"],[\"Belize\"],[\"Malaysia\"],[\"Zimbabwe\"],[\"Guatemala\"],[\"Uganda\"],[\"Nepal\"],[\"Iran\"],[\"Tanzania\"],[\"Senegal\"],[\"Peru\"],[\"Nicaragua\"],[\"Vietnam\"],[\"Ethiopia\"],[\"Myanmar\"],[\"Congo\"],[\"Zambia\"],[\"Cameroon\"],[\"Madagascar\"],[\"Malawi\"],[\"Guinea\"],[\"Nigeria\"],[\"Rwanda\"],[\"Philippines\"],[\"Ghana\"],[\"Togo\"],[\"Gambia\"],[\"India\"],[\"Thailand\"],[\"Mozambique\"],[\"Cambodia\"],[\"Sierra Leone\"],[\"Sri Lanka\"],[\"Indonesia\"],[\"Liberia\"],[\"Bangladesh\"],[\"Argentina\"],[\"Australia\"],[\"Albania\"],[\"Iceland\"],[\"New Zealand\"],[\"USA\"],[\"Uruguay\"],[\"Luxembourg\"],[\"Brazil\"],[\"Kazakhstan\"],[\"Sweden\"],[\"Bermuda\"],[\"Denmark\"],[\"Finland\"],[\"Ireland\"],[\"Greece\"],[\"France\"],[\"Canada\"],[\"Norway\"],[\"Hong Kong SAR. China\"],[\"French Polynesia\"],[\"Israel\"],[\"Switzerland\"],[\"Netherlands\"],[\"Kuwait\"],[\"United Kingdom\"],[\"Austria\"],[\"Oman\"],[\"Italy\"],[\"Bahamas\"],[\"Portugal\"],[\"Malta\"],[\"Armenia\"],[\"Slovenia\"],[\"Chile\"],[\"Venezuela\"],[\"Belgium\"],[\"Germany\"],[\"Russia\"],[\"Croatia\"],[\"Belarus\"],[\"Spain\"],[\"Paraguay\"],[\"New Caledonia\"],[\"South Africa\"],[\"Barbados\"],[\"Lithuania\"],[\"Turkey\"],[\"Estonia\"],[\"Mexico\"],[\"Costa Rica\"],[\"Bolivia\"],[\"Ecuador\"],[\"Panama\"],[\"Czech Republic\"],[\"Romania\"],[\"Colombia\"],[\"Maldives\"],[\"Cyprus\"],[\"Serbia\"],[\"United Arab Emirates\"],[\"Algeria\"],[\"Ukraine\"],[\"Pakistan\"],[\"Swaziland\"],[\"Latvia\"],[\"Bosnia and Herzegovina\"],[\"Fiji\"],[\"South Korea\"],[\"Poland\"],[\"Saudi Arabia\"],[\"Botswana\"],[\"Macedonia\"],[\"Hungary\"],[\"Trinidad and Tobago\"],[\"Tunisia\"],[\"Egypt\"],[\"Mauritius\"],[\"Bulgaria\"],[\"Morocco\"],[\"Slovakia\"],[\"Niger\"],[\"Kenya\"],[\"Jordan\"],[\"Japan\"],[\"Georgia\"],[\"Grenada\"],[\"El Salvador\"],[\"Cuba\"],[\"China\"],[\"Honduras\"],[\"Taiwan. ROC\"],[\"Angola\"],[\"Jamaica\"],[\"Namibia\"],[\"Belize\"],[\"Malaysia\"],[\"Zimbabwe\"],[\"Guatemala\"],[\"Uganda\"],[\"Nepal\"],[\"Iran\"],[\"Tanzania\"],[\"Senegal\"],[\"Peru\"],[\"Nicaragua\"],[\"Vietnam\"],[\"Ethiopia\"],[\"Myanmar\"],[\"Congo\"],[\"Zambia\"],[\"Cameroon\"],[\"Madagascar\"],[\"Malawi\"],[\"Guinea\"],[\"Nigeria\"],[\"Rwanda\"],[\"Philippines\"],[\"Ghana\"],[\"Togo\"],[\"Gambia\"],[\"India\"],[\"Thailand\"],[\"Mozambique\"],[\"Cambodia\"],[\"Sierra Leone\"],[\"Sri Lanka\"],[\"Indonesia\"],[\"Liberia\"],[\"Bangladesh\"],[\"Belize\"],[\"Argentina\"],[\"Australia\"],[\"Albania\"],[\"Iceland\"],[\"New Zealand\"],[\"USA\"],[\"Uruguay\"],[\"Luxembourg\"],[\"Brazil\"],[\"Kazakhstan\"],[\"Sweden\"],[\"Bermuda\"],[\"Denmark\"],[\"Finland\"],[\"Ireland\"],[\"Greece\"],[\"France\"],[\"Canada\"],[\"Norway\"],[\"Hong Kong SAR. China\"],[\"French Polynesia\"],[\"Israel\"],[\"Switzerland\"],[\"Netherlands\"],[\"Kuwait\"],[\"United Kingdom\"],[\"Austria\"],[\"Oman\"],[\"Italy\"],[\"Bahamas\"],[\"Portugal\"],[\"Malta\"],[\"Armenia\"],[\"Slovenia\"],[\"Chile\"],[\"Venezuela\"],[\"Belgium\"],[\"Germany\"],[\"Russia\"],[\"Croatia\"],[\"Belarus\"],[\"Spain\"],[\"Paraguay\"],[\"New Caledonia\"],[\"South Africa\"],[\"Barbados\"],[\"Lithuania\"],[\"Turkey\"],[\"Estonia\"],[\"Mexico\"],[\"Costa Rica\"],[\"Bolivia\"],[\"Ecuador\"],[\"Panama\"],[\"Czech Republic\"],[\"Romania\"],[\"Colombia\"],[\"Maldives\"],[\"Cyprus\"],[\"Serbia\"],[\"United Arab Emirates\"],[\"Algeria\"],[\"Ukraine\"],[\"Pakistan\"],[\"Swaziland\"],[\"Latvia\"],[\"Bosnia and Herzegovina\"],[\"Fiji\"],[\"South Korea\"],[\"Poland\"],[\"Saudi Arabia\"],[\"Botswana\"],[\"Macedonia\"],[\"Hungary\"],[\"Trinidad and Tobago\"],[\"Tunisia\"],[\"Egypt\"],[\"Mauritius\"],[\"Bulgaria\"],[\"Morocco\"],[\"Slovakia\"],[\"Niger\"],[\"Kenya\"],[\"Jordan\"],[\"Japan\"],[\"Georgia\"],[\"Grenada\"],[\"El Salvador\"],[\"Cuba\"],[\"China\"],[\"Honduras\"],[\"Taiwan. ROC\"],[\"Angola\"],[\"Jamaica\"],[\"Namibia\"],[\"Belize\"],[\"Malaysia\"],[\"Zimbabwe\"],[\"Guatemala\"],[\"Uganda\"],[\"Nepal\"],[\"Iran\"],[\"Tanzania\"],[\"Senegal\"],[\"Peru\"],[\"Nicaragua\"],[\"Vietnam\"],[\"Ethiopia\"],[\"Myanmar\"],[\"Congo\"],[\"Zambia\"],[\"Cameroon\"],[\"Madagascar\"],[\"Malawi\"],[\"Guinea\"],[\"Nigeria\"],[\"Rwanda\"],[\"Philippines\"],[\"Ghana\"],[\"Togo\"],[\"Gambia\"],[\"India\"],[\"Thailand\"],[\"Mozambique\"],[\"Cambodia\"],[\"Sierra Leone\"],[\"Sri Lanka\"],[\"Indonesia\"],[\"Liberia\"],[\"Bangladesh\"],[\"Argentina\"],[\"Australia\"],[\"Albania\"],[\"Iceland\"],[\"New Zealand\"],[\"USA\"],[\"Uruguay\"],[\"Luxembourg\"],[\"Brazil\"],[\"Kazakhstan\"],[\"Sweden\"],[\"Bermuda\"],[\"Denmark\"],[\"Finland\"],[\"Ireland\"],[\"Greece\"],[\"France\"],[\"Canada\"],[\"Norway\"],[\"Hong Kong SAR. China\"],[\"French Polynesia\"],[\"Israel\"],[\"Switzerland\"],[\"Netherlands\"],[\"Kuwait\"],[\"United Kingdom\"],[\"Austria\"],[\"Oman\"],[\"Italy\"],[\"Bahamas\"],[\"Portugal\"],[\"Malta\"],[\"Armenia\"],[\"Slovenia\"],[\"Chile\"],[\"Venezuela\"],[\"Belgium\"],[\"Germany\"],[\"Russia\"],[\"Croatia\"],[\"Belarus\"],[\"Spain\"],[\"Paraguay\"],[\"New Caledonia\"],[\"South Africa\"],[\"Barbados\"],[\"Lithuania\"],[\"Turkey\"],[\"Estonia\"],[\"Mexico\"],[\"Costa Rica\"],[\"Bolivia\"],[\"Ecuador\"],[\"Panama\"],[\"Czech Republic\"],[\"Romania\"],[\"Colombia\"],[\"Maldives\"],[\"Cyprus\"],[\"Serbia\"],[\"United Arab Emirates\"],[\"Algeria\"],[\"Ukraine\"],[\"Pakistan\"],[\"Swaziland\"],[\"Latvia\"],[\"Bosnia and Herzegovina\"],[\"Fiji\"],[\"South Korea\"],[\"Poland\"],[\"Saudi Arabia\"],[\"Botswana\"],[\"Macedonia\"],[\"Hungary\"],[\"Trinidad and Tobago\"],[\"Tunisia\"],[\"Egypt\"],[\"Mauritius\"],[\"Bulgaria\"],[\"Morocco\"],[\"Slovakia\"],[\"Niger\"],[\"Kenya\"],[\"Jordan\"],[\"Japan\"],[\"Georgia\"],[\"Grenada\"],[\"El Salvador\"],[\"Cuba\"],[\"China\"],[\"Honduras\"],[\"Taiwan. ROC\"],[\"Angola\"],[\"Jamaica\"],[\"Namibia\"],[\"Belize\"],[\"Malaysia\"],[\"Zimbabwe\"],[\"Guatemala\"],[\"Uganda\"],[\"Nepal\"],[\"Iran\"],[\"Tanzania\"],[\"Senegal\"],[\"Peru\"],[\"Nicaragua\"],[\"Vietnam\"],[\"Ethiopia\"],[\"Myanmar\"],[\"Congo\"],[\"Zambia\"],[\"Cameroon\"],[\"Madagascar\"],[\"Malawi\"],[\"Guinea\"],[\"Nigeria\"],[\"Rwanda\"],[\"Philippines\"],[\"Ghana\"],[\"Togo\"],[\"Gambia\"],[\"India\"],[\"Thailand\"],[\"Mozambique\"],[\"Cambodia\"],[\"Sierra Leone\"],[\"Sri Lanka\"],[\"Indonesia\"],[\"Liberia\"],[\"Bangladesh\"],[\"Argentina\"],[\"Australia\"],[\"Albania\"],[\"Iceland\"],[\"New Zealand\"],[\"USA\"],[\"Uruguay\"],[\"Luxembourg\"],[\"Brazil\"],[\"Kazakhstan\"],[\"Sweden\"],[\"Bermuda\"],[\"Denmark\"],[\"Finland\"],[\"Ireland\"],[\"Greece\"],[\"France\"],[\"Canada\"],[\"Norway\"],[\"Hong Kong SAR. China\"],[\"French Polynesia\"],[\"Israel\"],[\"Switzerland\"],[\"Netherlands\"],[\"Kuwait\"],[\"United Kingdom\"],[\"Austria\"],[\"Oman\"],[\"Italy\"],[\"Bahamas\"],[\"Portugal\"],[\"Malta\"],[\"Armenia\"],[\"Slovenia\"],[\"Chile\"],[\"Venezuela\"],[\"Belgium\"],[\"Germany\"],[\"Russia\"],[\"Croatia\"],[\"Belarus\"],[\"Spain\"],[\"Paraguay\"],[\"New Caledonia\"],[\"South Africa\"],[\"Barbados\"],[\"Lithuania\"],[\"Turkey\"],[\"Estonia\"],[\"Mexico\"],[\"Costa Rica\"],[\"Bolivia\"],[\"Ecuador\"],[\"Panama\"],[\"Czech Republic\"],[\"Romania\"],[\"Colombia\"],[\"Maldives\"],[\"Cyprus\"],[\"Serbia\"],[\"United Arab Emirates\"],[\"Algeria\"],[\"Ukraine\"],[\"Pakistan\"],[\"Swaziland\"],[\"Latvia\"],[\"Bosnia and Herzegovina\"],[\"Fiji\"],[\"South Korea\"],[\"Poland\"],[\"Saudi Arabia\"],[\"Botswana\"],[\"Macedonia\"],[\"Hungary\"],[\"Trinidad and Tobago\"],[\"Tunisia\"],[\"Egypt\"],[\"Mauritius\"],[\"Bulgaria\"],[\"Morocco\"],[\"Slovakia\"],[\"Niger\"],[\"Kenya\"],[\"Jordan\"],[\"Japan\"],[\"Georgia\"],[\"Grenada\"],[\"El Salvador\"],[\"Cuba\"],[\"China\"],[\"Honduras\"],[\"Taiwan. ROC\"],[\"Angola\"],[\"Jamaica\"],[\"Namibia\"],[\"Malaysia\"],[\"Zimbabwe\"],[\"Guatemala\"],[\"Uganda\"],[\"Nepal\"],[\"Iran\"],[\"Tanzania\"],[\"Senegal\"],[\"Peru\"],[\"Nicaragua\"],[\"Vietnam\"],[\"Ethiopia\"],[\"Myanmar\"],[\"Congo\"],[\"Zambia\"],[\"Cameroon\"],[\"Madagascar\"],[\"Malawi\"],[\"Guinea\"],[\"Nigeria\"],[\"Rwanda\"],[\"Philippines\"],[\"Ghana\"],[\"Togo\"],[\"Gambia\"],[\"India\"],[\"Thailand\"],[\"Mozambique\"],[\"Cambodia\"],[\"Sierra Leone\"],[\"Sri Lanka\"],[\"Indonesia\"],[\"Liberia\"],[\"Bangladesh\"],[\"Argentina\"],[\"Australia\"],[\"Albania\"],[\"Iceland\"],[\"New Zealand\"],[\"USA\"],[\"Uruguay\"],[\"Luxembourg\"],[\"Brazil\"],[\"Kazakhstan\"],[\"Sweden\"],[\"Bermuda\"],[\"Denmark\"],[\"Finland\"],[\"Ireland\"],[\"Greece\"],[\"France\"],[\"Canada\"],[\"Norway\"],[\"Hong Kong SAR. China\"],[\"French Polynesia\"],[\"Israel\"],[\"Switzerland\"],[\"Netherlands\"],[\"Kuwait\"],[\"United Kingdom\"],[\"Austria\"],[\"Oman\"],[\"Italy\"],[\"Bahamas\"],[\"Portugal\"],[\"Malta\"],[\"Armenia\"],[\"Slovenia\"],[\"Chile\"],[\"Venezuela\"],[\"Belgium\"],[\"Germany\"],[\"Russia\"],[\"Croatia\"],[\"Belarus\"],[\"Spain\"],[\"Paraguay\"],[\"New Caledonia\"],[\"South Africa\"],[\"Barbados\"],[\"Lithuania\"],[\"Turkey\"],[\"Estonia\"],[\"Mexico\"],[\"Costa Rica\"],[\"Bolivia\"],[\"Ecuador\"],[\"Panama\"],[\"Czech Republic\"],[\"Romania\"],[\"Colombia\"],[\"Maldives\"],[\"Cyprus\"],[\"Serbia\"],[\"United Arab Emirates\"],[\"Algeria\"],[\"Ukraine\"],[\"Pakistan\"],[\"Swaziland\"],[\"Latvia\"],[\"Bosnia and Herzegovina\"],[\"Fiji\"],[\"South Korea\"],[\"Poland\"],[\"Saudi Arabia\"],[\"Botswana\"],[\"Macedonia\"],[\"Hungary\"],[\"Trinidad and Tobago\"],[\"Tunisia\"],[\"Egypt\"],[\"Mauritius\"],[\"Bulgaria\"],[\"Morocco\"],[\"Slovakia\"],[\"Niger\"],[\"Kenya\"],[\"Jordan\"],[\"Japan\"],[\"Georgia\"],[\"Grenada\"],[\"El Salvador\"],[\"Cuba\"],[\"China\"],[\"Honduras\"],[\"Taiwan. ROC\"],[\"Angola\"],[\"Jamaica\"],[\"Namibia\"],[\"Belize\"],[\"Malaysia\"],[\"Zimbabwe\"],[\"Guatemala\"],[\"Uganda\"],[\"Nepal\"],[\"Iran\"],[\"Tanzania\"],[\"Senegal\"],[\"Peru\"],[\"Nicaragua\"],[\"Vietnam\"],[\"Ethiopia\"],[\"Myanmar\"],[\"Congo\"],[\"Zambia\"],[\"Cameroon\"],[\"Madagascar\"],[\"Malawi\"],[\"Guinea\"],[\"Nigeria\"],[\"Rwanda\"],[\"Philippines\"],[\"Ghana\"],[\"Togo\"],[\"Gambia\"],[\"India\"],[\"Thailand\"],[\"Mozambique\"],[\"Cambodia\"],[\"Sierra Leone\"],[\"Sri Lanka\"],[\"Indonesia\"],[\"Liberia\"],[\"Bangladesh\"]],\"hovertemplate\":\"Category=%{x}\\u003cbr\\u003evalue=%{y}\\u003cbr\\u003ecountry=%{customdata[0]}\\u003cextra\\u003e\\u003c\\u002fextra\\u003e\",\"legendgroup\":\"Animal\",\"marker\":{\"color\":\"#636efa\"},\"name\":\"Animal\",\"notched\":false,\"offsetgroup\":\"Animal\",\"orientation\":\"v\",\"showlegend\":true,\"x\":[\"Animal\",\"Animal\",\"Animal\",\"Animal\",\"Animal\",\"Animal\",\"Animal\",\"Animal\",\"Animal\",\"Animal\",\"Animal\",\"Animal\",\"Animal\",\"Animal\",\"Animal\",\"Animal\",\"Animal\",\"Animal\",\"Animal\",\"Animal\",\"Animal\",\"Animal\",\"Animal\",\"Animal\",\"Animal\",\"Animal\",\"Animal\",\"Animal\",\"Animal\",\"Animal\",\"Animal\",\"Animal\",\"Animal\",\"Animal\",\"Animal\",\"Animal\",\"Animal\",\"Animal\",\"Animal\",\"Animal\",\"Animal\",\"Animal\",\"Animal\",\"Animal\",\"Animal\",\"Animal\",\"Animal\",\"Animal\",\"Animal\",\"Animal\",\"Animal\",\"Animal\",\"Animal\",\"Animal\",\"Animal\",\"Animal\",\"Animal\",\"Animal\",\"Animal\",\"Animal\",\"Animal\",\"Animal\",\"Animal\",\"Animal\",\"Animal\",\"Animal\",\"Animal\",\"Animal\",\"Animal\",\"Animal\",\"Animal\",\"Animal\",\"Animal\",\"Animal\",\"Animal\",\"Animal\",\"Animal\",\"Animal\",\"Animal\",\"Animal\",\"Animal\",\"Animal\",\"Animal\",\"Animal\",\"Animal\",\"Animal\",\"Animal\",\"Animal\",\"Animal\",\"Animal\",\"Animal\",\"Animal\",\"Animal\",\"Animal\",\"Animal\",\"Animal\",\"Animal\",\"Animal\",\"Animal\",\"Animal\",\"Animal\",\"Animal\",\"Animal\",\"Animal\",\"Animal\",\"Animal\",\"Animal\",\"Animal\",\"Animal\",\"Animal\",\"Animal\",\"Animal\",\"Animal\",\"Animal\",\"Animal\",\"Animal\",\"Animal\",\"Animal\",\"Animal\",\"Animal\",\"Animal\",\"Animal\",\"Animal\",\"Animal\",\"Animal\",\"Animal\",\"Animal\",\"Animal\",\"Animal\",\"Animal\",\"Animal\",\"Animal\",\"Animal\",\"Animal\",\"Animal\",\"Animal\",\"Animal\",\"Animal\",\"Animal\",\"Animal\",\"Animal\",\"Animal\",\"Animal\",\"Animal\",\"Animal\",\"Animal\",\"Animal\",\"Animal\",\"Animal\",\"Animal\",\"Animal\",\"Animal\",\"Animal\",\"Animal\",\"Animal\",\"Animal\",\"Animal\",\"Animal\",\"Animal\",\"Animal\",\"Animal\",\"Animal\",\"Animal\",\"Animal\",\"Animal\",\"Animal\",\"Animal\",\"Animal\",\"Animal\",\"Animal\",\"Animal\",\"Animal\",\"Animal\",\"Animal\",\"Animal\",\"Animal\",\"Animal\",\"Animal\",\"Animal\",\"Animal\",\"Animal\",\"Animal\",\"Animal\",\"Animal\",\"Animal\",\"Animal\",\"Animal\",\"Animal\",\"Animal\",\"Animal\",\"Animal\",\"Animal\",\"Animal\",\"Animal\",\"Animal\",\"Animal\",\"Animal\",\"Animal\",\"Animal\",\"Animal\",\"Animal\",\"Animal\",\"Animal\",\"Animal\",\"Animal\",\"Animal\",\"Animal\",\"Animal\",\"Animal\",\"Animal\",\"Animal\",\"Animal\",\"Animal\",\"Animal\",\"Animal\",\"Animal\",\"Animal\",\"Animal\",\"Animal\",\"Animal\",\"Animal\",\"Animal\",\"Animal\",\"Animal\",\"Animal\",\"Animal\",\"Animal\",\"Animal\",\"Animal\",\"Animal\",\"Animal\",\"Animal\",\"Animal\",\"Animal\",\"Animal\",\"Animal\",\"Animal\",\"Animal\",\"Animal\",\"Animal\",\"Animal\",\"Animal\",\"Animal\",\"Animal\",\"Animal\",\"Animal\",\"Animal\",\"Animal\",\"Animal\",\"Animal\",\"Animal\",\"Animal\",\"Animal\",\"Animal\",\"Animal\",\"Animal\",\"Animal\",\"Animal\",\"Animal\",\"Animal\",\"Animal\",\"Animal\",\"Animal\",\"Animal\",\"Animal\",\"Animal\",\"Animal\",\"Animal\",\"Animal\",\"Animal\",\"Animal\",\"Animal\",\"Animal\",\"Animal\",\"Animal\",\"Animal\",\"Animal\",\"Animal\",\"Animal\",\"Animal\",\"Animal\",\"Animal\",\"Animal\",\"Animal\",\"Animal\",\"Animal\",\"Animal\",\"Animal\",\"Animal\",\"Animal\",\"Animal\",\"Animal\",\"Animal\",\"Animal\",\"Animal\",\"Animal\",\"Animal\",\"Animal\",\"Animal\",\"Animal\",\"Animal\",\"Animal\",\"Animal\",\"Animal\",\"Animal\",\"Animal\",\"Animal\",\"Animal\",\"Animal\",\"Animal\",\"Animal\",\"Animal\",\"Animal\",\"Animal\",\"Animal\",\"Animal\",\"Animal\",\"Animal\",\"Animal\",\"Animal\",\"Animal\",\"Animal\",\"Animal\",\"Animal\",\"Animal\",\"Animal\",\"Animal\",\"Animal\",\"Animal\",\"Animal\",\"Animal\",\"Animal\",\"Animal\",\"Animal\",\"Animal\",\"Animal\",\"Animal\",\"Animal\",\"Animal\",\"Animal\",\"Animal\",\"Animal\",\"Animal\",\"Animal\",\"Animal\",\"Animal\",\"Animal\",\"Animal\",\"Animal\",\"Animal\",\"Animal\",\"Animal\",\"Animal\",\"Animal\",\"Animal\",\"Animal\",\"Animal\",\"Animal\",\"Animal\",\"Animal\",\"Animal\",\"Animal\",\"Animal\",\"Animal\",\"Animal\",\"Animal\",\"Animal\",\"Animal\",\"Animal\",\"Animal\",\"Animal\",\"Animal\",\"Animal\",\"Animal\",\"Animal\",\"Animal\",\"Animal\",\"Animal\",\"Animal\",\"Animal\",\"Animal\",\"Animal\",\"Animal\",\"Animal\",\"Animal\",\"Animal\",\"Animal\",\"Animal\",\"Animal\",\"Animal\",\"Animal\",\"Animal\",\"Animal\",\"Animal\",\"Animal\",\"Animal\",\"Animal\",\"Animal\",\"Animal\",\"Animal\",\"Animal\",\"Animal\",\"Animal\",\"Animal\",\"Animal\",\"Animal\",\"Animal\",\"Animal\",\"Animal\",\"Animal\",\"Animal\",\"Animal\",\"Animal\",\"Animal\",\"Animal\",\"Animal\",\"Animal\",\"Animal\",\"Animal\",\"Animal\",\"Animal\",\"Animal\",\"Animal\",\"Animal\",\"Animal\",\"Animal\",\"Animal\",\"Animal\",\"Animal\",\"Animal\",\"Animal\",\"Animal\",\"Animal\",\"Animal\",\"Animal\",\"Animal\",\"Animal\",\"Animal\",\"Animal\",\"Animal\",\"Animal\",\"Animal\",\"Animal\",\"Animal\",\"Animal\",\"Animal\",\"Animal\",\"Animal\",\"Animal\",\"Animal\",\"Animal\",\"Animal\",\"Animal\",\"Animal\",\"Animal\",\"Animal\",\"Animal\",\"Animal\",\"Animal\",\"Animal\",\"Animal\",\"Animal\",\"Animal\",\"Animal\",\"Animal\",\"Animal\",\"Animal\",\"Animal\",\"Animal\",\"Animal\",\"Animal\",\"Animal\",\"Animal\",\"Animal\",\"Animal\",\"Animal\",\"Animal\",\"Animal\",\"Animal\",\"Animal\",\"Animal\",\"Animal\",\"Animal\",\"Animal\",\"Animal\",\"Animal\",\"Animal\",\"Animal\",\"Animal\",\"Animal\",\"Animal\",\"Animal\",\"Animal\",\"Animal\",\"Animal\",\"Animal\",\"Animal\",\"Animal\",\"Animal\",\"Animal\",\"Animal\",\"Animal\",\"Animal\",\"Animal\",\"Animal\",\"Animal\",\"Animal\",\"Animal\",\"Animal\",\"Animal\",\"Animal\",\"Animal\",\"Animal\",\"Animal\",\"Animal\",\"Animal\",\"Animal\",\"Animal\",\"Animal\",\"Animal\",\"Animal\",\"Animal\",\"Animal\",\"Animal\",\"Animal\",\"Animal\",\"Animal\",\"Animal\",\"Animal\",\"Animal\",\"Animal\",\"Animal\",\"Animal\",\"Animal\",\"Animal\",\"Animal\",\"Animal\",\"Animal\",\"Animal\",\"Animal\",\"Animal\",\"Animal\",\"Animal\",\"Animal\",\"Animal\",\"Animal\",\"Animal\",\"Animal\",\"Animal\",\"Animal\",\"Animal\",\"Animal\",\"Animal\",\"Animal\",\"Animal\",\"Animal\",\"Animal\",\"Animal\",\"Animal\",\"Animal\",\"Animal\",\"Animal\",\"Animal\",\"Animal\",\"Animal\",\"Animal\",\"Animal\",\"Animal\",\"Animal\",\"Animal\",\"Animal\",\"Animal\",\"Animal\",\"Animal\",\"Animal\",\"Animal\",\"Animal\",\"Animal\",\"Animal\",\"Animal\",\"Animal\",\"Animal\",\"Animal\",\"Animal\",\"Animal\",\"Animal\",\"Animal\",\"Animal\",\"Animal\",\"Animal\",\"Animal\",\"Animal\",\"Animal\",\"Animal\",\"Animal\",\"Animal\",\"Animal\",\"Animal\",\"Animal\",\"Animal\",\"Animal\",\"Animal\",\"Animal\",\"Animal\",\"Animal\",\"Animal\",\"Animal\",\"Animal\",\"Animal\",\"Animal\",\"Animal\",\"Animal\",\"Animal\",\"Animal\",\"Animal\",\"Animal\",\"Animal\",\"Animal\",\"Animal\",\"Animal\",\"Animal\",\"Animal\",\"Animal\",\"Animal\",\"Animal\",\"Animal\",\"Animal\",\"Animal\",\"Animal\",\"Animal\",\"Animal\",\"Animal\",\"Animal\",\"Animal\",\"Animal\",\"Animal\",\"Animal\",\"Animal\",\"Animal\",\"Animal\",\"Animal\",\"Animal\",\"Animal\",\"Animal\",\"Animal\",\"Animal\",\"Animal\",\"Animal\",\"Animal\",\"Animal\",\"Animal\",\"Animal\",\"Animal\",\"Animal\",\"Animal\",\"Animal\",\"Animal\",\"Animal\",\"Animal\",\"Animal\",\"Animal\",\"Animal\",\"Animal\",\"Animal\",\"Animal\",\"Animal\",\"Animal\",\"Animal\",\"Animal\",\"Animal\",\"Animal\",\"Animal\",\"Animal\",\"Animal\",\"Animal\",\"Animal\",\"Animal\",\"Animal\",\"Animal\",\"Animal\",\"Animal\",\"Animal\",\"Animal\",\"Animal\",\"Animal\",\"Animal\",\"Animal\",\"Animal\",\"Animal\",\"Animal\",\"Animal\",\"Animal\",\"Animal\",\"Animal\",\"Animal\",\"Animal\",\"Animal\",\"Animal\",\"Animal\",\"Animal\",\"Animal\",\"Animal\",\"Animal\",\"Animal\",\"Animal\",\"Animal\",\"Animal\",\"Animal\",\"Animal\",\"Animal\",\"Animal\",\"Animal\",\"Animal\",\"Animal\",\"Animal\",\"Animal\",\"Animal\",\"Animal\",\"Animal\",\"Animal\",\"Animal\",\"Animal\",\"Animal\",\"Animal\",\"Animal\",\"Animal\",\"Animal\",\"Animal\",\"Animal\",\"Animal\",\"Animal\",\"Animal\",\"Animal\",\"Animal\",\"Animal\",\"Animal\",\"Animal\",\"Animal\",\"Animal\",\"Animal\",\"Animal\",\"Animal\",\"Animal\",\"Animal\",\"Animal\",\"Animal\",\"Animal\",\"Animal\",\"Animal\",\"Animal\",\"Animal\",\"Animal\",\"Animal\",\"Animal\",\"Animal\",\"Animal\",\"Animal\",\"Animal\",\"Animal\",\"Animal\",\"Animal\",\"Animal\",\"Animal\",\"Animal\",\"Animal\",\"Animal\",\"Animal\",\"Animal\",\"Animal\",\"Animal\",\"Animal\",\"Animal\",\"Animal\",\"Animal\",\"Animal\",\"Animal\",\"Animal\",\"Animal\",\"Animal\",\"Animal\",\"Animal\",\"Animal\",\"Animal\",\"Animal\",\"Animal\",\"Animal\",\"Animal\",\"Animal\",\"Animal\",\"Animal\",\"Animal\",\"Animal\",\"Animal\",\"Animal\",\"Animal\",\"Animal\",\"Animal\",\"Animal\",\"Animal\",\"Animal\",\"Animal\",\"Animal\",\"Animal\",\"Animal\",\"Animal\",\"Animal\",\"Animal\",\"Animal\",\"Animal\",\"Animal\",\"Animal\",\"Animal\",\"Animal\",\"Animal\",\"Animal\",\"Animal\",\"Animal\",\"Animal\",\"Animal\",\"Animal\",\"Animal\",\"Animal\",\"Animal\",\"Animal\",\"Animal\",\"Animal\",\"Animal\",\"Animal\",\"Animal\",\"Animal\",\"Animal\",\"Animal\",\"Animal\",\"Animal\",\"Animal\",\"Animal\",\"Animal\",\"Animal\",\"Animal\",\"Animal\",\"Animal\",\"Animal\",\"Animal\",\"Animal\",\"Animal\",\"Animal\",\"Animal\",\"Animal\",\"Animal\",\"Animal\",\"Animal\",\"Animal\",\"Animal\",\"Animal\",\"Animal\",\"Animal\",\"Animal\",\"Animal\",\"Animal\",\"Animal\",\"Animal\",\"Animal\",\"Animal\",\"Animal\",\"Animal\",\"Animal\",\"Animal\",\"Animal\",\"Animal\",\"Animal\",\"Animal\",\"Animal\",\"Animal\",\"Animal\",\"Animal\",\"Animal\",\"Animal\",\"Animal\",\"Animal\",\"Animal\",\"Animal\",\"Animal\",\"Animal\",\"Animal\",\"Animal\",\"Animal\",\"Animal\",\"Animal\",\"Animal\",\"Animal\",\"Animal\",\"Animal\",\"Animal\",\"Animal\",\"Animal\",\"Animal\",\"Animal\",\"Animal\",\"Animal\",\"Animal\",\"Animal\",\"Animal\",\"Animal\",\"Animal\",\"Animal\",\"Animal\",\"Animal\",\"Animal\",\"Animal\",\"Animal\"],\"x0\":\" \",\"xaxis\":\"x\",\"y\":[37.2,85.44,38.51,76.77,78.9,97.83,59.61,154.25,44.6,36.67,130.96,99.96,88.03,127.92,114.68,100.2,116.98,80.74,83.21,237.54,52.21,7.04,111.46,128.7,0.0,91.28,186.04,0.04,142.57,115.88,134.18,121.19,34.23,99.78,87.35,25.59,136.8,183.38,90.82,151.46,142.89,173.15,92.88,70.44,14.72,29.38,161.65,0.04,105.05,53.91,36.39,31.47,51.11,47.71,145.72,89.58,23.04,4.32,135.85,113.41,0.0,0.0,72.77,0.0,8.6,123.74,33.2,15.26,115.95,163.49,0.0,2.62,36.63,123.63,31.57,0.0,0.07,14.44,92.95,0.04,112.49,0.32,1.03,0.07,72.98,31.61,40.78,11.43,70.15,136.02,22.94,139.35,31.47,14.12,14.9,59.46,27.47,9.38,17.17,11.93,2.37,0.0,1.13,3.33,13.63,11.96,123.88,0.07,40.03,8.46,5.88,5.2,9.06,19.29,0.57,5.2,2.69,65.13,4.81,5.56,0.64,0.99,46.01,18.16,23.08,4.32,0.18,10.55,14.19,0.0,41.53,49.54,14.21,28.86,37.58,53.72,29.49,22.96,48.34,19.74,17.87,35.04,28.73,21.34,28.21,16.91,24.63,39.4,22.57,58.93,53.23,67.14,17.6,25.67,57.59,33.89,19.99,33.85,19.99,49.13,32.38,28.36,14.34,25.2,39.23,42.19,13.11,19.07,29.54,9.15,33.61,30.75,6.86,47.65,40.36,45.78,28.83,20.17,22.68,32.35,26.29,36.86,23.47,33.1,20.51,16.52,29.62,19.84,26.26,11.43,44.09,7.97,26.03,5.38,6.64,22.05,14.15,21.76,17.19,29.44,52.69,5.73,20.16,25.54,62.59,19.87,15.5,41.37,22.21,22.31,16.25,1.16,0.5,35.87,20.86,13.19,46.74,21.31,21.65,14.18,21.8,34.51,18.62,56.41,13.09,30.41,44.05,5.34,17.67,1.62,1.68,27.26,1.98,4.96,12.59,22.89,13.28,0.71,23.49,13.99,3.53,3.53,3.37,1.48,1.97,1.86,1.44,12.79,9.27,7.12,2.86,2.02,14.71,1.51,1.98,5.34,5.33,8.06,9.57,1.5,1712.0,1044.85,694.3,412.26,693.99,1118.29,897.96,922.03,1211.17,721.46,758.49,1022.94,878.22,593.09,689.67,496.81,734.73,933.45,611.91,796.75,953.51,888.09,656.04,545.26,402.08,559.15,528.9,465.95,573.96,614.69,507.61,593.09,606.67,568.71,736.27,798.91,482.31,406.09,523.97,382.95,527.98,374.92,611.29,495.89,556.37,405.16,138.55,359.19,221.87,473.05,469.97,610.37,512.55,629.5,251.49,147.5,504.84,291.3,178.67,217.55,174.04,172.8,276.49,272.17,465.95,157.68,281.42,276.49,448.37,71.59,199.03,242.23,237.3,153.06,189.16,170.64,397.45,184.84,118.49,248.1,160.15,276.8,294.38,173.11,282.35,186.38,106.77,183.6,197.18,157.99,221.87,160.77,259.82,122.51,115.72,149.97,201.19,227.42,172.8,158.92,243.47,110.47,187.92,180.52,144.72,145.96,229.58,111.4,152.44,134.23,146.88,128.68,231.74,72.52,193.17,71.9,78.07,125.28,33.64,47.21,66.65,24.99,79.0,32.09,149.66,61.41,42.58,79.92,24.07,39.5,4.46,54.63,345.65,536.5,739.62,662.23,15.06,288.21,58.48,21.71,334.79,49.38,94.9,32.22,18.56,143.58,436.7,114.87,33.97,187.01,77.74,99.11,65.49,49.73,32.92,546.66,157.24,40.62,450.71,32.22,182.8,83.35,41.67,105.76,27.67,14.71,11.21,46.23,25.56,49.03,59.88,3.85,75.64,19.61,68.29,149.89,142.88,8.4,163.89,15.41,31.17,0.7,60.23,15.41,0.35,11.91,119.42,7.35,24.51,176.85,124.67,317.98,269.3,14.36,86.15,67.94,11.91,16.46,206.62,4.9,0.7,229.03,131.67,32.92,3.85,97.71,187.01,55.33,142.88,57.08,152.69,5.6,146.03,65.14,198.91,4.9,22.06,43.77,0.7,43.42,109.61,1.4,32.22,37.82,44.13,79.5,4.9,32.92,33.62,8.05,43.77,73.54,129.22,44.83,111.71,35.02,0.35,4.9,54.98,31.17,14.01,23.81,49.03,19.96,72.49,56.03,95.25,67.59,19.61,60.93,55.33,24.86,20.31,1.75,31.52,0.0,22.76,3.15,16.11,16.81,46.58,6.96,28.25,6.15,118.81,32.51,19.72,10.43,36.87,15.98,8.32,38.1,53.04,26.33,53.97,27.77,23.02,36.58,23.25,60.96,67.76,62.19,35.41,21.52,29.76,19.14,24.73,19.42,34.42,24.91,30.02,72.47,39.25,6.96,12.39,12.21,13.32,30.29,17.82,33.24,25.28,25.15,46.03,5.75,30.94,8.88,59.73,67.68,8.91,20.41,12.07,18.07,3.48,8.25,17.64,13.17,9.69,9.6,286.94,23.73,8.93,32.59,5.97,24.32,2.99,2.01,34.01,6.48,55.9,52.83,16.75,19.14,6.35,8.73,7.87,32.8,20.17,34.26,31.39,9.96,27.85,13.4,4.31,6.82,8.19,49.66,16.64,44.63,9.98,7.6,33.55,4.31,29.2,24.33,35.05,17.08,12.09,78.92,4.47,1.72,19.96,3.46,15.65,8.78,36.63,25.13,5.73,42.34,0.38,86.64,41.86,9.9,23.49,7.04,11.7,14.66,25.59,6.2,45.52,41.59,18.67,36.93,7.52,31.06,12.36,63.21,51.14,39.79,40.95,6.59,28.85,10.46,7.82,11.44,7.57,9.1,13.39,12.07,13.45,8.25,7.62,12.28,13.71,14.1,8.77,8.23,9.31,12.06,11.9,10.48,13.32,8.04,10.43,9.67,12.89,11.57,10.18,13.49,7.17,12.25,5.7,8.31,10.69,10.74,8.6,9.16,5.17,11.57,11.21,14.17,7.79,14.57,12.24,17.3,8.13,6.62,8.83,12.04,7.53,11.63,16.85,9.69,4.76,7.36,4.16,10.71,11.89,9.9,9.91,8.25,8.17,7.56,7.4,16.54,2.71,1.38,12.89,4.12,5.92,10.33,6.92,4.93,1.79,5.86,11.44,3.86,7.05,4.22,5.81,7.68,6.14,14.74,0.28,1.69,3.6,17.59,5.62,9.5,8.74,9.02,17.23,4.77,12.02,1.02,2.09,1.5,15.22,1.61,13.42,0.89,1.3,7.07,0.53,1.5,8.05,4.5,3.53,0.33,5.92,0.55,3.05,0.37,0.65,0.99,1.79,3.18,0.15,3.69,1.11,0.79,0.91,2.37,11.34,1.56,1.26,1.76,4.2,4.48,1.88,1.91,277.87,334.01,432.62,321.66,195.5,362.78,299.89,363.65,212.63,410.4,486.05,136.12,394.99,613.57,415.73,363.59,343.72,267.46,372.25,150.77,133.27,275.76,453.94,486.39,224.57,330.75,367.62,216.91,351.66,149.22,292.06,270.72,297.74,334.75,165.39,167.78,336.43,368.49,232.99,329.06,190.49,234.01,107.86,153.84,79.41,157.37,420.85,276.25,405.74,159.35,261.06,65.58,198.85,100.12,278.04,339.48,154.5,158.78,161.4,211.57,188.96,201.6,206.58,260.85,80.62,248.0,247.89,57.26,41.38,292.56,119.15,167.71,224.96,226.55,147.85,163.05,84.69,167.04,221.79,77.89,203.89,83.93,135.12,110.65,102.64,212.61,123.75,177.11,142.35,46.52,130.09,59.43,17.52,129.81,104.05,114.38,36.01,45.44,66.38,53.09,74.21,66.51,57.39,24.02,88.53,121.3,23.3,62.87,44.84,15.23,13.83,21.75,35.38,11.37,29.37,11.27,10.3,22.31,12.93,11.34,65.11,120.36,41.81,6.82,4.94,9.97,49.83,21.11,4.33,31.21],\"y0\":\" \",\"yaxis\":\"y\",\"type\":\"box\"},{\"alignmentgroup\":\"True\",\"customdata\":[[\"Mauritius\"],[\"Argentina\"],[\"Australia\"],[\"Albania\"],[\"Iceland\"],[\"New Zealand\"],[\"USA\"],[\"Uruguay\"],[\"Luxembourg\"],[\"Brazil\"],[\"Kazakhstan\"],[\"Sweden\"],[\"Bermuda\"],[\"Denmark\"],[\"Finland\"],[\"Ireland\"],[\"Greece\"],[\"France\"],[\"Canada\"],[\"Norway\"],[\"Hong Kong SAR. China\"],[\"French Polynesia\"],[\"Israel\"],[\"Switzerland\"],[\"Netherlands\"],[\"Kuwait\"],[\"United Kingdom\"],[\"Austria\"],[\"Oman\"],[\"Italy\"],[\"Bahamas\"],[\"Portugal\"],[\"Malta\"],[\"Armenia\"],[\"Slovenia\"],[\"Chile\"],[\"Venezuela\"],[\"Belgium\"],[\"Germany\"],[\"Russia\"],[\"Croatia\"],[\"Belarus\"],[\"Spain\"],[\"Paraguay\"],[\"New Caledonia\"],[\"South Africa\"],[\"Barbados\"],[\"Lithuania\"],[\"Turkey\"],[\"Estonia\"],[\"Mexico\"],[\"Costa Rica\"],[\"Bolivia\"],[\"Ecuador\"],[\"Panama\"],[\"Czech Republic\"],[\"Romania\"],[\"Colombia\"],[\"Maldives\"],[\"Cyprus\"],[\"Serbia\"],[\"United Arab Emirates\"],[\"Algeria\"],[\"Ukraine\"],[\"Pakistan\"],[\"Swaziland\"],[\"Latvia\"],[\"Bosnia and Herzegovina\"],[\"Fiji\"],[\"South Korea\"],[\"Poland\"],[\"Saudi Arabia\"],[\"Botswana\"],[\"Macedonia\"],[\"Hungary\"],[\"Trinidad and Tobago\"],[\"Tunisia\"],[\"Egypt\"],[\"Bulgaria\"],[\"Morocco\"],[\"Slovakia\"],[\"Niger\"],[\"Kenya\"],[\"Jordan\"],[\"Japan\"],[\"Georgia\"],[\"Grenada\"],[\"El Salvador\"],[\"Cuba\"],[\"China\"],[\"Honduras\"],[\"Taiwan. ROC\"],[\"Angola\"],[\"Jamaica\"],[\"Namibia\"],[\"Belize\"],[\"Malaysia\"],[\"Zimbabwe\"],[\"Guatemala\"],[\"Uganda\"],[\"Nepal\"],[\"Iran\"],[\"Tanzania\"],[\"Senegal\"],[\"Peru\"],[\"Nicaragua\"],[\"Vietnam\"],[\"Ethiopia\"],[\"Myanmar\"],[\"Congo\"],[\"Zambia\"],[\"Cameroon\"],[\"Madagascar\"],[\"Malawi\"],[\"Guinea\"],[\"Nigeria\"],[\"Rwanda\"],[\"Philippines\"],[\"Ghana\"],[\"Togo\"],[\"Gambia\"],[\"India\"],[\"Thailand\"],[\"Mozambique\"],[\"Cambodia\"],[\"Sierra Leone\"],[\"Sri Lanka\"],[\"Indonesia\"],[\"Liberia\"],[\"Bangladesh\"],[\"Argentina\"],[\"Australia\"],[\"Albania\"],[\"Iceland\"],[\"New Zealand\"],[\"USA\"],[\"Uruguay\"],[\"Luxembourg\"],[\"Brazil\"],[\"Kazakhstan\"],[\"Sweden\"],[\"Bermuda\"],[\"Denmark\"],[\"Finland\"],[\"Ireland\"],[\"Greece\"],[\"France\"],[\"Canada\"],[\"Norway\"],[\"Hong Kong SAR. China\"],[\"French Polynesia\"],[\"Israel\"],[\"Switzerland\"],[\"Netherlands\"],[\"Kuwait\"],[\"United Kingdom\"],[\"Austria\"],[\"Oman\"],[\"Italy\"],[\"Bahamas\"],[\"Portugal\"],[\"Malta\"],[\"Armenia\"],[\"Slovenia\"],[\"Chile\"],[\"Venezuela\"],[\"Belgium\"],[\"Germany\"],[\"Russia\"],[\"Croatia\"],[\"Belarus\"],[\"Spain\"],[\"Paraguay\"],[\"New Caledonia\"],[\"South Africa\"],[\"Barbados\"],[\"Lithuania\"],[\"Turkey\"],[\"Estonia\"],[\"Mexico\"],[\"Costa Rica\"],[\"Bolivia\"],[\"Ecuador\"],[\"Panama\"],[\"Czech Republic\"],[\"Romania\"],[\"Colombia\"],[\"Maldives\"],[\"Cyprus\"],[\"Serbia\"],[\"United Arab Emirates\"],[\"Algeria\"],[\"Ukraine\"],[\"Pakistan\"],[\"Swaziland\"],[\"Latvia\"],[\"Bosnia and Herzegovina\"],[\"Fiji\"],[\"South Korea\"],[\"Poland\"],[\"Saudi Arabia\"],[\"Botswana\"],[\"Macedonia\"],[\"Hungary\"],[\"Trinidad and Tobago\"],[\"Tunisia\"],[\"Egypt\"],[\"Mauritius\"],[\"Bulgaria\"],[\"Morocco\"],[\"Slovakia\"],[\"Niger\"],[\"Kenya\"],[\"Jordan\"],[\"Japan\"],[\"Georgia\"],[\"Grenada\"],[\"El Salvador\"],[\"Cuba\"],[\"China\"],[\"Honduras\"],[\"Taiwan. ROC\"],[\"Angola\"],[\"Jamaica\"],[\"Namibia\"],[\"Belize\"],[\"Malaysia\"],[\"Zimbabwe\"],[\"Guatemala\"],[\"Uganda\"],[\"Nepal\"],[\"Iran\"],[\"Tanzania\"],[\"Senegal\"],[\"Peru\"],[\"Nicaragua\"],[\"Vietnam\"],[\"Ethiopia\"],[\"Myanmar\"],[\"Congo\"],[\"Zambia\"],[\"Cameroon\"],[\"Madagascar\"],[\"Malawi\"],[\"Guinea\"],[\"Nigeria\"],[\"Rwanda\"],[\"Philippines\"],[\"Ghana\"],[\"Togo\"],[\"Gambia\"],[\"India\"],[\"Thailand\"],[\"Mozambique\"],[\"Cambodia\"],[\"Sierra Leone\"],[\"Sri Lanka\"],[\"Indonesia\"],[\"Liberia\"],[\"Bangladesh\"],[\"Argentina\"],[\"Australia\"],[\"Albania\"],[\"Iceland\"],[\"New Zealand\"],[\"USA\"],[\"Uruguay\"],[\"Luxembourg\"],[\"Brazil\"],[\"Kazakhstan\"],[\"Sweden\"],[\"Bermuda\"],[\"Denmark\"],[\"Finland\"],[\"Ireland\"],[\"Greece\"],[\"France\"],[\"Canada\"],[\"Norway\"],[\"Hong Kong SAR. China\"],[\"French Polynesia\"],[\"Israel\"],[\"Switzerland\"],[\"Netherlands\"],[\"Kuwait\"],[\"United Kingdom\"],[\"Austria\"],[\"Oman\"],[\"Italy\"],[\"Bahamas\"],[\"Portugal\"],[\"Malta\"],[\"Armenia\"],[\"Slovenia\"],[\"Chile\"],[\"Venezuela\"],[\"Belgium\"],[\"Germany\"],[\"Russia\"],[\"Croatia\"],[\"Belarus\"],[\"Spain\"],[\"Paraguay\"],[\"New Caledonia\"],[\"South Africa\"],[\"Barbados\"],[\"Lithuania\"],[\"Turkey\"],[\"Estonia\"],[\"Mexico\"],[\"Costa Rica\"],[\"Bolivia\"],[\"Ecuador\"],[\"Panama\"],[\"Czech Republic\"],[\"Romania\"],[\"Colombia\"],[\"Maldives\"],[\"Cyprus\"],[\"Serbia\"],[\"United Arab Emirates\"],[\"Algeria\"],[\"Ukraine\"],[\"Pakistan\"],[\"Swaziland\"],[\"Latvia\"],[\"Bosnia and Herzegovina\"],[\"Fiji\"],[\"South Korea\"],[\"Poland\"],[\"Saudi Arabia\"],[\"Botswana\"],[\"Macedonia\"],[\"Hungary\"],[\"Trinidad and Tobago\"],[\"Tunisia\"],[\"Egypt\"],[\"Mauritius\"],[\"Bulgaria\"],[\"Morocco\"],[\"Slovakia\"],[\"Niger\"],[\"Kenya\"],[\"Jordan\"],[\"Japan\"],[\"Georgia\"],[\"Grenada\"],[\"El Salvador\"],[\"Cuba\"],[\"China\"],[\"Honduras\"],[\"Taiwan. ROC\"],[\"Angola\"],[\"Jamaica\"],[\"Namibia\"],[\"Belize\"],[\"Malaysia\"],[\"Zimbabwe\"],[\"Guatemala\"],[\"Uganda\"],[\"Nepal\"],[\"Iran\"],[\"Tanzania\"],[\"Senegal\"],[\"Peru\"],[\"Nicaragua\"],[\"Vietnam\"],[\"Ethiopia\"],[\"Myanmar\"],[\"Congo\"],[\"Zambia\"],[\"Cameroon\"],[\"Madagascar\"],[\"Malawi\"],[\"Guinea\"],[\"Nigeria\"],[\"Rwanda\"],[\"Philippines\"],[\"Ghana\"],[\"Togo\"],[\"Gambia\"],[\"India\"],[\"Thailand\"],[\"Mozambique\"],[\"Cambodia\"],[\"Sierra Leone\"],[\"Sri Lanka\"],[\"Indonesia\"],[\"Liberia\"],[\"Bangladesh\"],[\"Bermuda\"],[\"Denmark\"],[\"Argentina\"],[\"Australia\"],[\"Albania\"],[\"Iceland\"],[\"New Zealand\"],[\"USA\"],[\"Uruguay\"],[\"Luxembourg\"],[\"Brazil\"],[\"Kazakhstan\"],[\"Sweden\"],[\"Finland\"],[\"Ireland\"],[\"Greece\"],[\"France\"],[\"Canada\"],[\"Norway\"],[\"Hong Kong SAR. China\"],[\"French Polynesia\"],[\"Israel\"],[\"Switzerland\"],[\"Netherlands\"],[\"Kuwait\"],[\"United Kingdom\"],[\"Austria\"],[\"Oman\"],[\"Italy\"],[\"Bahamas\"],[\"Portugal\"],[\"Malta\"],[\"Armenia\"],[\"Slovenia\"],[\"Chile\"],[\"Venezuela\"],[\"Belgium\"],[\"Germany\"],[\"Russia\"],[\"Croatia\"],[\"Belarus\"],[\"Spain\"],[\"Paraguay\"],[\"New Caledonia\"],[\"South Africa\"],[\"Barbados\"],[\"Lithuania\"],[\"Turkey\"],[\"Estonia\"],[\"Mexico\"],[\"Costa Rica\"],[\"Bolivia\"],[\"Ecuador\"],[\"Panama\"],[\"Czech Republic\"],[\"Romania\"],[\"Colombia\"],[\"Maldives\"],[\"Cyprus\"],[\"Serbia\"],[\"United Arab Emirates\"],[\"Algeria\"],[\"Ukraine\"],[\"Pakistan\"],[\"Swaziland\"],[\"Latvia\"],[\"Bosnia and Herzegovina\"],[\"Fiji\"],[\"South Korea\"],[\"Poland\"],[\"Saudi Arabia\"],[\"Botswana\"],[\"Macedonia\"],[\"Hungary\"],[\"Trinidad and Tobago\"],[\"Tunisia\"],[\"Egypt\"],[\"Mauritius\"],[\"Bulgaria\"],[\"Morocco\"],[\"Slovakia\"],[\"Niger\"],[\"Kenya\"],[\"Jordan\"],[\"Japan\"],[\"Georgia\"],[\"Grenada\"],[\"El Salvador\"],[\"Cuba\"],[\"China\"],[\"Honduras\"],[\"Taiwan. ROC\"],[\"Angola\"],[\"Jamaica\"],[\"Namibia\"],[\"Belize\"],[\"Malaysia\"],[\"Zimbabwe\"],[\"Guatemala\"],[\"Uganda\"],[\"Nepal\"],[\"Iran\"],[\"Tanzania\"],[\"Senegal\"],[\"Peru\"],[\"Nicaragua\"],[\"Vietnam\"],[\"Ethiopia\"],[\"Myanmar\"],[\"Congo\"],[\"Zambia\"],[\"Cameroon\"],[\"Madagascar\"],[\"Malawi\"],[\"Guinea\"],[\"Nigeria\"],[\"Rwanda\"],[\"Philippines\"],[\"Ghana\"],[\"Togo\"],[\"Gambia\"],[\"India\"],[\"Thailand\"],[\"Mozambique\"],[\"Cambodia\"],[\"Sierra Leone\"],[\"Sri Lanka\"],[\"Indonesia\"],[\"Liberia\"],[\"Bangladesh\"]],\"hovertemplate\":\"Category=%{x}\\u003cbr\\u003evalue=%{y}\\u003cbr\\u003ecountry=%{customdata[0]}\\u003cextra\\u003e\\u003c\\u002fextra\\u003e\",\"legendgroup\":\"Non-animal\",\"marker\":{\"color\":\"#EF553B\"},\"name\":\"Non-animal\",\"notched\":false,\"offsetgroup\":\"Non-animal\",\"orientation\":\"v\",\"showlegend\":true,\"x\":[\"Non-animal\",\"Non-animal\",\"Non-animal\",\"Non-animal\",\"Non-animal\",\"Non-animal\",\"Non-animal\",\"Non-animal\",\"Non-animal\",\"Non-animal\",\"Non-animal\",\"Non-animal\",\"Non-animal\",\"Non-animal\",\"Non-animal\",\"Non-animal\",\"Non-animal\",\"Non-animal\",\"Non-animal\",\"Non-animal\",\"Non-animal\",\"Non-animal\",\"Non-animal\",\"Non-animal\",\"Non-animal\",\"Non-animal\",\"Non-animal\",\"Non-animal\",\"Non-animal\",\"Non-animal\",\"Non-animal\",\"Non-animal\",\"Non-animal\",\"Non-animal\",\"Non-animal\",\"Non-animal\",\"Non-animal\",\"Non-animal\",\"Non-animal\",\"Non-animal\",\"Non-animal\",\"Non-animal\",\"Non-animal\",\"Non-animal\",\"Non-animal\",\"Non-animal\",\"Non-animal\",\"Non-animal\",\"Non-animal\",\"Non-animal\",\"Non-animal\",\"Non-animal\",\"Non-animal\",\"Non-animal\",\"Non-animal\",\"Non-animal\",\"Non-animal\",\"Non-animal\",\"Non-animal\",\"Non-animal\",\"Non-animal\",\"Non-animal\",\"Non-animal\",\"Non-animal\",\"Non-animal\",\"Non-animal\",\"Non-animal\",\"Non-animal\",\"Non-animal\",\"Non-animal\",\"Non-animal\",\"Non-animal\",\"Non-animal\",\"Non-animal\",\"Non-animal\",\"Non-animal\",\"Non-animal\",\"Non-animal\",\"Non-animal\",\"Non-animal\",\"Non-animal\",\"Non-animal\",\"Non-animal\",\"Non-animal\",\"Non-animal\",\"Non-animal\",\"Non-animal\",\"Non-animal\",\"Non-animal\",\"Non-animal\",\"Non-animal\",\"Non-animal\",\"Non-animal\",\"Non-animal\",\"Non-animal\",\"Non-animal\",\"Non-animal\",\"Non-animal\",\"Non-animal\",\"Non-animal\",\"Non-animal\",\"Non-animal\",\"Non-animal\",\"Non-animal\",\"Non-animal\",\"Non-animal\",\"Non-animal\",\"Non-animal\",\"Non-animal\",\"Non-animal\",\"Non-animal\",\"Non-animal\",\"Non-animal\",\"Non-animal\",\"Non-animal\",\"Non-animal\",\"Non-animal\",\"Non-animal\",\"Non-animal\",\"Non-animal\",\"Non-animal\",\"Non-animal\",\"Non-animal\",\"Non-animal\",\"Non-animal\",\"Non-animal\",\"Non-animal\",\"Non-animal\",\"Non-animal\",\"Non-animal\",\"Non-animal\",\"Non-animal\",\"Non-animal\",\"Non-animal\",\"Non-animal\",\"Non-animal\",\"Non-animal\",\"Non-animal\",\"Non-animal\",\"Non-animal\",\"Non-animal\",\"Non-animal\",\"Non-animal\",\"Non-animal\",\"Non-animal\",\"Non-animal\",\"Non-animal\",\"Non-animal\",\"Non-animal\",\"Non-animal\",\"Non-animal\",\"Non-animal\",\"Non-animal\",\"Non-animal\",\"Non-animal\",\"Non-animal\",\"Non-animal\",\"Non-animal\",\"Non-animal\",\"Non-animal\",\"Non-animal\",\"Non-animal\",\"Non-animal\",\"Non-animal\",\"Non-animal\",\"Non-animal\",\"Non-animal\",\"Non-animal\",\"Non-animal\",\"Non-animal\",\"Non-animal\",\"Non-animal\",\"Non-animal\",\"Non-animal\",\"Non-animal\",\"Non-animal\",\"Non-animal\",\"Non-animal\",\"Non-animal\",\"Non-animal\",\"Non-animal\",\"Non-animal\",\"Non-animal\",\"Non-animal\",\"Non-animal\",\"Non-animal\",\"Non-animal\",\"Non-animal\",\"Non-animal\",\"Non-animal\",\"Non-animal\",\"Non-animal\",\"Non-animal\",\"Non-animal\",\"Non-animal\",\"Non-animal\",\"Non-animal\",\"Non-animal\",\"Non-animal\",\"Non-animal\",\"Non-animal\",\"Non-animal\",\"Non-animal\",\"Non-animal\",\"Non-animal\",\"Non-animal\",\"Non-animal\",\"Non-animal\",\"Non-animal\",\"Non-animal\",\"Non-animal\",\"Non-animal\",\"Non-animal\",\"Non-animal\",\"Non-animal\",\"Non-animal\",\"Non-animal\",\"Non-animal\",\"Non-animal\",\"Non-animal\",\"Non-animal\",\"Non-animal\",\"Non-animal\",\"Non-animal\",\"Non-animal\",\"Non-animal\",\"Non-animal\",\"Non-animal\",\"Non-animal\",\"Non-animal\",\"Non-animal\",\"Non-animal\",\"Non-animal\",\"Non-animal\",\"Non-animal\",\"Non-animal\",\"Non-animal\",\"Non-animal\",\"Non-animal\",\"Non-animal\",\"Non-animal\",\"Non-animal\",\"Non-animal\",\"Non-animal\",\"Non-animal\",\"Non-animal\",\"Non-animal\",\"Non-animal\",\"Non-animal\",\"Non-animal\",\"Non-animal\",\"Non-animal\",\"Non-animal\",\"Non-animal\",\"Non-animal\",\"Non-animal\",\"Non-animal\",\"Non-animal\",\"Non-animal\",\"Non-animal\",\"Non-animal\",\"Non-animal\",\"Non-animal\",\"Non-animal\",\"Non-animal\",\"Non-animal\",\"Non-animal\",\"Non-animal\",\"Non-animal\",\"Non-animal\",\"Non-animal\",\"Non-animal\",\"Non-animal\",\"Non-animal\",\"Non-animal\",\"Non-animal\",\"Non-animal\",\"Non-animal\",\"Non-animal\",\"Non-animal\",\"Non-animal\",\"Non-animal\",\"Non-animal\",\"Non-animal\",\"Non-animal\",\"Non-animal\",\"Non-animal\",\"Non-animal\",\"Non-animal\",\"Non-animal\",\"Non-animal\",\"Non-animal\",\"Non-animal\",\"Non-animal\",\"Non-animal\",\"Non-animal\",\"Non-animal\",\"Non-animal\",\"Non-animal\",\"Non-animal\",\"Non-animal\",\"Non-animal\",\"Non-animal\",\"Non-animal\",\"Non-animal\",\"Non-animal\",\"Non-animal\",\"Non-animal\",\"Non-animal\",\"Non-animal\",\"Non-animal\",\"Non-animal\",\"Non-animal\",\"Non-animal\",\"Non-animal\",\"Non-animal\",\"Non-animal\",\"Non-animal\",\"Non-animal\",\"Non-animal\",\"Non-animal\",\"Non-animal\",\"Non-animal\",\"Non-animal\",\"Non-animal\",\"Non-animal\",\"Non-animal\",\"Non-animal\",\"Non-animal\",\"Non-animal\",\"Non-animal\",\"Non-animal\",\"Non-animal\",\"Non-animal\",\"Non-animal\",\"Non-animal\",\"Non-animal\",\"Non-animal\",\"Non-animal\",\"Non-animal\",\"Non-animal\",\"Non-animal\",\"Non-animal\",\"Non-animal\",\"Non-animal\",\"Non-animal\",\"Non-animal\",\"Non-animal\",\"Non-animal\",\"Non-animal\",\"Non-animal\",\"Non-animal\",\"Non-animal\",\"Non-animal\",\"Non-animal\",\"Non-animal\",\"Non-animal\",\"Non-animal\",\"Non-animal\",\"Non-animal\",\"Non-animal\",\"Non-animal\",\"Non-animal\",\"Non-animal\",\"Non-animal\",\"Non-animal\",\"Non-animal\",\"Non-animal\",\"Non-animal\",\"Non-animal\",\"Non-animal\",\"Non-animal\",\"Non-animal\",\"Non-animal\",\"Non-animal\",\"Non-animal\",\"Non-animal\",\"Non-animal\",\"Non-animal\",\"Non-animal\",\"Non-animal\",\"Non-animal\",\"Non-animal\",\"Non-animal\",\"Non-animal\",\"Non-animal\",\"Non-animal\",\"Non-animal\",\"Non-animal\",\"Non-animal\",\"Non-animal\",\"Non-animal\",\"Non-animal\",\"Non-animal\",\"Non-animal\",\"Non-animal\",\"Non-animal\",\"Non-animal\",\"Non-animal\",\"Non-animal\",\"Non-animal\",\"Non-animal\",\"Non-animal\",\"Non-animal\",\"Non-animal\",\"Non-animal\",\"Non-animal\",\"Non-animal\",\"Non-animal\",\"Non-animal\",\"Non-animal\",\"Non-animal\",\"Non-animal\",\"Non-animal\",\"Non-animal\",\"Non-animal\",\"Non-animal\",\"Non-animal\",\"Non-animal\",\"Non-animal\",\"Non-animal\",\"Non-animal\",\"Non-animal\",\"Non-animal\",\"Non-animal\",\"Non-animal\",\"Non-animal\",\"Non-animal\",\"Non-animal\",\"Non-animal\",\"Non-animal\",\"Non-animal\",\"Non-animal\",\"Non-animal\",\"Non-animal\",\"Non-animal\",\"Non-animal\",\"Non-animal\",\"Non-animal\",\"Non-animal\",\"Non-animal\",\"Non-animal\",\"Non-animal\",\"Non-animal\",\"Non-animal\",\"Non-animal\",\"Non-animal\",\"Non-animal\",\"Non-animal\",\"Non-animal\",\"Non-animal\",\"Non-animal\",\"Non-animal\",\"Non-animal\",\"Non-animal\",\"Non-animal\",\"Non-animal\",\"Non-animal\",\"Non-animal\",\"Non-animal\",\"Non-animal\",\"Non-animal\",\"Non-animal\",\"Non-animal\",\"Non-animal\",\"Non-animal\",\"Non-animal\",\"Non-animal\",\"Non-animal\",\"Non-animal\",\"Non-animal\",\"Non-animal\",\"Non-animal\",\"Non-animal\",\"Non-animal\",\"Non-animal\",\"Non-animal\",\"Non-animal\",\"Non-animal\",\"Non-animal\",\"Non-animal\",\"Non-animal\",\"Non-animal\",\"Non-animal\",\"Non-animal\",\"Non-animal\",\"Non-animal\",\"Non-animal\",\"Non-animal\",\"Non-animal\",\"Non-animal\",\"Non-animal\",\"Non-animal\",\"Non-animal\",\"Non-animal\",\"Non-animal\",\"Non-animal\",\"Non-animal\",\"Non-animal\",\"Non-animal\",\"Non-animal\",\"Non-animal\",\"Non-animal\",\"Non-animal\",\"Non-animal\",\"Non-animal\",\"Non-animal\",\"Non-animal\",\"Non-animal\",\"Non-animal\",\"Non-animal\",\"Non-animal\",\"Non-animal\",\"Non-animal\",\"Non-animal\",\"Non-animal\",\"Non-animal\",\"Non-animal\",\"Non-animal\",\"Non-animal\"],\"x0\":\" \",\"xaxis\":\"x\",\"y\":[21.74,19.66,13.44,26.44,13.91,14.67,15.34,20.85,19.68,10.11,17.6,15.18,10.47,18.69,15.64,20.59,23.65,20.68,16.2,18.52,10.13,13.1,21.14,17.07,13.38,18.45,18.81,15.47,12.22,27.91,7.62,17.98,26.62,24.91,19.72,19.97,9.38,21.34,15.91,24.98,20.33,11.53,17.9,6.01,15.59,11.47,12.53,23.19,32.41,17.04,6.71,7.5,9.53,7.47,7.43,17.67,25.72,5.68,14.83,15.88,20.19,19.32,35.36,20.05,21.67,7.08,13.76,17.84,16.06,9.7,20.75,17.06,7.28,19.99,20.97,17.2,37.66,28.0,23.11,34.27,23.57,0.91,6.61,26.08,8.59,31.17,11.36,5.38,10.42,12.08,7.12,9.71,7.77,13.48,6.91,10.31,9.73,5.97,6.85,1.93,9.62,29.24,3.04,7.12,10.7,5.37,2.0,5.96,1.19,7.64,2.31,4.31,1.72,2.24,3.54,3.97,2.16,4.41,2.76,2.46,7.23,11.55,2.08,2.79,0.52,1.66,7.06,4.85,2.09,3.33,11.22,14.12,9.96,4.98,11.72,8.8,14.72,5.37,41.12,9.37,7.63,6.88,6.35,5.66,3.84,8.5,6.24,16.19,5.58,55.64,45.54,21.51,3.11,3.75,56.09,8.18,4.73,72.37,7.35,30.67,19.02,6.35,4.07,5.05,11.33,29.93,11.02,4.27,6.03,3.38,4.06,10.65,6.28,22.36,22.28,20.04,3.93,13.74,3.28,7.22,58.47,34.54,57.68,85.0,6.13,3.31,35.86,64.92,6.32,1.56,71.98,3.8,3.84,15.68,27.07,2.83,2.41,58.38,109.0,1.22,46.09,9.03,3.6,2.75,20.96,1.37,50.89,58.3,2.87,1.41,3.69,16.85,16.56,25.17,76.59,3.38,12.23,13.48,86.64,100.05,18.45,58.67,10.39,30.01,8.07,36.37,103.98,12.91,7.24,5.94,112.29,38.33,26.89,92.51,62.6,55.45,184.99,2.88,169.94,21.13,3.9,30.52,131.21,6.08,124.28,36.13,11.13,152.85,40.99,33.26,79.14,88.93,146.62,29.96,203.6,132.19,140.41,172.27,121.25,219.76,0.0,0.09,0.0,0.05,0.2,0.02,0.0,0.02,1.63,0.01,0.06,0.1,0.01,0.04,0.11,0.01,0.02,0.42,0.05,1.26,0.35,0.05,0.2,0.05,0.03,0.02,0.93,0.09,0.0,0.04,0.0,0.02,0.0,0.34,0.02,0.0,0.03,0.4,0.02,0.0,0.14,0.01,0.0,0.25,0.57,0.05,0.01,0.77,0.02,0.01,0.69,0.0,0.0,1.59,0.37,0.0,0.4,0.09,0.02,0.0,0.04,0.0,0.01,0.0,0.25,0.02,0.67,0.14,3.76,0.03,0.02,0.52,0.21,0.0,0.02,0.85,0.29,0.14,0.02,0.0,0.01,0.0,0.09,0.01,3.3,0.0,0.0,0.36,2.85,1.65,0.0,7.63,0.23,0.0,0.03,0.85,0.02,0.24,0.14,0.0,0.0,0.0,0.02,0.0,0.72,0.0,2.59,0.2,0.17,0.0,3.29,0.29,0.0,0.79,0.0,1.17,0.87,0.01,0.0,0.0,0.0,0.18,0.96,0.01,1.95,0.0,0.0,0.5,0.28,0.27,10.12,10.51,0.87,15.45,7.72,6.87,14.55,13.91,1.68,1.65,1.19,9.1,11.03,6.07,7.26,18.59,9.54,14.18,9.35,24.44,4.14,13.65,16.41,14.05,9.26,7.4,13.95,2.97,13.51,7.13,6.92,9.95,4.51,9.35,3.93,0.62,12.96,14.09,2.87,6.87,5.95,13.17,2.83,5.24,1.84,7.36,3.77,14.11,7.59,4.44,2.44,16.21,1.73,1.86,4.37,3.19,0.74,28.02,8.14,5.86,40.76,3.68,4.74,1.47,11.4,6.69,3.54,2.3,8.64,3.95,5.72,1.91,10.39,1.13,6.69,11.22,3.22,4.12,4.0,5.72,6.55,12.3,2.9,6.3,4.58,4.37,0.32,1.95,0.41,11.31,1.33,16.04,4.0,3.22,1.26,9.88,5.13,3.93,3.54,6.67,4.28,21.52,10.51,7.13,1.15,4.18,11.12,2.14,7.97,5.45,8.92,16.44,0.62,8.99,7.33,12.27,1.03,3.68,9.84,6.35,9.33,3.4,2.66,4.62,2.21,9.86,1.93,8.71,2.32,1.27],\"y0\":\" \",\"yaxis\":\"y\",\"type\":\"box\"}],                        {\"template\":{\"data\":{\"histogram2dcontour\":[{\"type\":\"histogram2dcontour\",\"colorbar\":{\"outlinewidth\":0,\"ticks\":\"\"},\"colorscale\":[[0.0,\"#0d0887\"],[0.1111111111111111,\"#46039f\"],[0.2222222222222222,\"#7201a8\"],[0.3333333333333333,\"#9c179e\"],[0.4444444444444444,\"#bd3786\"],[0.5555555555555556,\"#d8576b\"],[0.6666666666666666,\"#ed7953\"],[0.7777777777777778,\"#fb9f3a\"],[0.8888888888888888,\"#fdca26\"],[1.0,\"#f0f921\"]]}],\"choropleth\":[{\"type\":\"choropleth\",\"colorbar\":{\"outlinewidth\":0,\"ticks\":\"\"}}],\"histogram2d\":[{\"type\":\"histogram2d\",\"colorbar\":{\"outlinewidth\":0,\"ticks\":\"\"},\"colorscale\":[[0.0,\"#0d0887\"],[0.1111111111111111,\"#46039f\"],[0.2222222222222222,\"#7201a8\"],[0.3333333333333333,\"#9c179e\"],[0.4444444444444444,\"#bd3786\"],[0.5555555555555556,\"#d8576b\"],[0.6666666666666666,\"#ed7953\"],[0.7777777777777778,\"#fb9f3a\"],[0.8888888888888888,\"#fdca26\"],[1.0,\"#f0f921\"]]}],\"heatmap\":[{\"type\":\"heatmap\",\"colorbar\":{\"outlinewidth\":0,\"ticks\":\"\"},\"colorscale\":[[0.0,\"#0d0887\"],[0.1111111111111111,\"#46039f\"],[0.2222222222222222,\"#7201a8\"],[0.3333333333333333,\"#9c179e\"],[0.4444444444444444,\"#bd3786\"],[0.5555555555555556,\"#d8576b\"],[0.6666666666666666,\"#ed7953\"],[0.7777777777777778,\"#fb9f3a\"],[0.8888888888888888,\"#fdca26\"],[1.0,\"#f0f921\"]]}],\"heatmapgl\":[{\"type\":\"heatmapgl\",\"colorbar\":{\"outlinewidth\":0,\"ticks\":\"\"},\"colorscale\":[[0.0,\"#0d0887\"],[0.1111111111111111,\"#46039f\"],[0.2222222222222222,\"#7201a8\"],[0.3333333333333333,\"#9c179e\"],[0.4444444444444444,\"#bd3786\"],[0.5555555555555556,\"#d8576b\"],[0.6666666666666666,\"#ed7953\"],[0.7777777777777778,\"#fb9f3a\"],[0.8888888888888888,\"#fdca26\"],[1.0,\"#f0f921\"]]}],\"contourcarpet\":[{\"type\":\"contourcarpet\",\"colorbar\":{\"outlinewidth\":0,\"ticks\":\"\"}}],\"contour\":[{\"type\":\"contour\",\"colorbar\":{\"outlinewidth\":0,\"ticks\":\"\"},\"colorscale\":[[0.0,\"#0d0887\"],[0.1111111111111111,\"#46039f\"],[0.2222222222222222,\"#7201a8\"],[0.3333333333333333,\"#9c179e\"],[0.4444444444444444,\"#bd3786\"],[0.5555555555555556,\"#d8576b\"],[0.6666666666666666,\"#ed7953\"],[0.7777777777777778,\"#fb9f3a\"],[0.8888888888888888,\"#fdca26\"],[1.0,\"#f0f921\"]]}],\"surface\":[{\"type\":\"surface\",\"colorbar\":{\"outlinewidth\":0,\"ticks\":\"\"},\"colorscale\":[[0.0,\"#0d0887\"],[0.1111111111111111,\"#46039f\"],[0.2222222222222222,\"#7201a8\"],[0.3333333333333333,\"#9c179e\"],[0.4444444444444444,\"#bd3786\"],[0.5555555555555556,\"#d8576b\"],[0.6666666666666666,\"#ed7953\"],[0.7777777777777778,\"#fb9f3a\"],[0.8888888888888888,\"#fdca26\"],[1.0,\"#f0f921\"]]}],\"mesh3d\":[{\"type\":\"mesh3d\",\"colorbar\":{\"outlinewidth\":0,\"ticks\":\"\"}}],\"scatter\":[{\"fillpattern\":{\"fillmode\":\"overlay\",\"size\":10,\"solidity\":0.2},\"type\":\"scatter\"}],\"parcoords\":[{\"type\":\"parcoords\",\"line\":{\"colorbar\":{\"outlinewidth\":0,\"ticks\":\"\"}}}],\"scatterpolargl\":[{\"type\":\"scatterpolargl\",\"marker\":{\"colorbar\":{\"outlinewidth\":0,\"ticks\":\"\"}}}],\"bar\":[{\"error_x\":{\"color\":\"#2a3f5f\"},\"error_y\":{\"color\":\"#2a3f5f\"},\"marker\":{\"line\":{\"color\":\"#E5ECF6\",\"width\":0.5},\"pattern\":{\"fillmode\":\"overlay\",\"size\":10,\"solidity\":0.2}},\"type\":\"bar\"}],\"scattergeo\":[{\"type\":\"scattergeo\",\"marker\":{\"colorbar\":{\"outlinewidth\":0,\"ticks\":\"\"}}}],\"scatterpolar\":[{\"type\":\"scatterpolar\",\"marker\":{\"colorbar\":{\"outlinewidth\":0,\"ticks\":\"\"}}}],\"histogram\":[{\"marker\":{\"pattern\":{\"fillmode\":\"overlay\",\"size\":10,\"solidity\":0.2}},\"type\":\"histogram\"}],\"scattergl\":[{\"type\":\"scattergl\",\"marker\":{\"colorbar\":{\"outlinewidth\":0,\"ticks\":\"\"}}}],\"scatter3d\":[{\"type\":\"scatter3d\",\"line\":{\"colorbar\":{\"outlinewidth\":0,\"ticks\":\"\"}},\"marker\":{\"colorbar\":{\"outlinewidth\":0,\"ticks\":\"\"}}}],\"scattermapbox\":[{\"type\":\"scattermapbox\",\"marker\":{\"colorbar\":{\"outlinewidth\":0,\"ticks\":\"\"}}}],\"scatterternary\":[{\"type\":\"scatterternary\",\"marker\":{\"colorbar\":{\"outlinewidth\":0,\"ticks\":\"\"}}}],\"scattercarpet\":[{\"type\":\"scattercarpet\",\"marker\":{\"colorbar\":{\"outlinewidth\":0,\"ticks\":\"\"}}}],\"carpet\":[{\"aaxis\":{\"endlinecolor\":\"#2a3f5f\",\"gridcolor\":\"white\",\"linecolor\":\"white\",\"minorgridcolor\":\"white\",\"startlinecolor\":\"#2a3f5f\"},\"baxis\":{\"endlinecolor\":\"#2a3f5f\",\"gridcolor\":\"white\",\"linecolor\":\"white\",\"minorgridcolor\":\"white\",\"startlinecolor\":\"#2a3f5f\"},\"type\":\"carpet\"}],\"table\":[{\"cells\":{\"fill\":{\"color\":\"#EBF0F8\"},\"line\":{\"color\":\"white\"}},\"header\":{\"fill\":{\"color\":\"#C8D4E3\"},\"line\":{\"color\":\"white\"}},\"type\":\"table\"}],\"barpolar\":[{\"marker\":{\"line\":{\"color\":\"#E5ECF6\",\"width\":0.5},\"pattern\":{\"fillmode\":\"overlay\",\"size\":10,\"solidity\":0.2}},\"type\":\"barpolar\"}],\"pie\":[{\"automargin\":true,\"type\":\"pie\"}]},\"layout\":{\"autotypenumbers\":\"strict\",\"colorway\":[\"#636efa\",\"#EF553B\",\"#00cc96\",\"#ab63fa\",\"#FFA15A\",\"#19d3f3\",\"#FF6692\",\"#B6E880\",\"#FF97FF\",\"#FECB52\"],\"font\":{\"color\":\"#2a3f5f\"},\"hovermode\":\"closest\",\"hoverlabel\":{\"align\":\"left\"},\"paper_bgcolor\":\"white\",\"plot_bgcolor\":\"#E5ECF6\",\"polar\":{\"bgcolor\":\"#E5ECF6\",\"angularaxis\":{\"gridcolor\":\"white\",\"linecolor\":\"white\",\"ticks\":\"\"},\"radialaxis\":{\"gridcolor\":\"white\",\"linecolor\":\"white\",\"ticks\":\"\"}},\"ternary\":{\"bgcolor\":\"#E5ECF6\",\"aaxis\":{\"gridcolor\":\"white\",\"linecolor\":\"white\",\"ticks\":\"\"},\"baxis\":{\"gridcolor\":\"white\",\"linecolor\":\"white\",\"ticks\":\"\"},\"caxis\":{\"gridcolor\":\"white\",\"linecolor\":\"white\",\"ticks\":\"\"}},\"coloraxis\":{\"colorbar\":{\"outlinewidth\":0,\"ticks\":\"\"}},\"colorscale\":{\"sequential\":[[0.0,\"#0d0887\"],[0.1111111111111111,\"#46039f\"],[0.2222222222222222,\"#7201a8\"],[0.3333333333333333,\"#9c179e\"],[0.4444444444444444,\"#bd3786\"],[0.5555555555555556,\"#d8576b\"],[0.6666666666666666,\"#ed7953\"],[0.7777777777777778,\"#fb9f3a\"],[0.8888888888888888,\"#fdca26\"],[1.0,\"#f0f921\"]],\"sequentialminus\":[[0.0,\"#0d0887\"],[0.1111111111111111,\"#46039f\"],[0.2222222222222222,\"#7201a8\"],[0.3333333333333333,\"#9c179e\"],[0.4444444444444444,\"#bd3786\"],[0.5555555555555556,\"#d8576b\"],[0.6666666666666666,\"#ed7953\"],[0.7777777777777778,\"#fb9f3a\"],[0.8888888888888888,\"#fdca26\"],[1.0,\"#f0f921\"]],\"diverging\":[[0,\"#8e0152\"],[0.1,\"#c51b7d\"],[0.2,\"#de77ae\"],[0.3,\"#f1b6da\"],[0.4,\"#fde0ef\"],[0.5,\"#f7f7f7\"],[0.6,\"#e6f5d0\"],[0.7,\"#b8e186\"],[0.8,\"#7fbc41\"],[0.9,\"#4d9221\"],[1,\"#276419\"]]},\"xaxis\":{\"gridcolor\":\"white\",\"linecolor\":\"white\",\"ticks\":\"\",\"title\":{\"standoff\":15},\"zerolinecolor\":\"white\",\"automargin\":true,\"zerolinewidth\":2},\"yaxis\":{\"gridcolor\":\"white\",\"linecolor\":\"white\",\"ticks\":\"\",\"title\":{\"standoff\":15},\"zerolinecolor\":\"white\",\"automargin\":true,\"zerolinewidth\":2},\"scene\":{\"xaxis\":{\"backgroundcolor\":\"#E5ECF6\",\"gridcolor\":\"white\",\"linecolor\":\"white\",\"showbackground\":true,\"ticks\":\"\",\"zerolinecolor\":\"white\",\"gridwidth\":2},\"yaxis\":{\"backgroundcolor\":\"#E5ECF6\",\"gridcolor\":\"white\",\"linecolor\":\"white\",\"showbackground\":true,\"ticks\":\"\",\"zerolinecolor\":\"white\",\"gridwidth\":2},\"zaxis\":{\"backgroundcolor\":\"#E5ECF6\",\"gridcolor\":\"white\",\"linecolor\":\"white\",\"showbackground\":true,\"ticks\":\"\",\"zerolinecolor\":\"white\",\"gridwidth\":2}},\"shapedefaults\":{\"line\":{\"color\":\"#2a3f5f\"}},\"annotationdefaults\":{\"arrowcolor\":\"#2a3f5f\",\"arrowhead\":0,\"arrowwidth\":1},\"geo\":{\"bgcolor\":\"white\",\"landcolor\":\"#E5ECF6\",\"subunitcolor\":\"white\",\"showland\":true,\"showlakes\":true,\"lakecolor\":\"white\"},\"title\":{\"x\":0.05},\"mapbox\":{\"style\":\"light\"}}},\"xaxis\":{\"anchor\":\"y\",\"domain\":[0.0,1.0],\"title\":{\"text\":\"Category\"},\"categoryorder\":\"array\",\"categoryarray\":[\"Animal\",\"Non-animal\"]},\"yaxis\":{\"anchor\":\"x\",\"domain\":[0.0,1.0],\"title\":{\"text\":\"value\"}},\"legend\":{\"title\":{\"text\":\"Category\"},\"tracegroupgap\":0},\"title\":{\"text\":\"Kg CO\\u2082\\u002fperson\\u002fyear by Product Category\"},\"boxmode\":\"overlay\"},                        {\"responsive\": true}                    ).then(function(){\n",
       "                            \n",
       "var gd = document.getElementById('6690eb27-0e78-4657-ba07-f63fb912b5e6');\n",
       "var x = new MutationObserver(function (mutations, observer) {{\n",
       "        var display = window.getComputedStyle(gd).display;\n",
       "        if (!display || display === 'none') {{\n",
       "            console.log([gd, 'removed!']);\n",
       "            Plotly.purge(gd);\n",
       "            observer.disconnect();\n",
       "        }}\n",
       "}});\n",
       "\n",
       "// Listen for the removal of the full notebook cells\n",
       "var notebookContainer = gd.closest('#notebook-container');\n",
       "if (notebookContainer) {{\n",
       "    x.observe(notebookContainer, {childList: true});\n",
       "}}\n",
       "\n",
       "// Listen for the clearing of the current output cell\n",
       "var outputEl = gd.closest('.output');\n",
       "if (outputEl) {{\n",
       "    x.observe(outputEl, {childList: true});\n",
       "}}\n",
       "\n",
       "                        })                };                });            </script>        </div>"
      ]
     },
     "metadata": {},
     "output_type": "display_data"
    }
   ],
   "source": [
    "df_co2 = df[df['metric'] == 'Kg CO2/person/year']\n",
    "\n",
    "# Create boxplot for CO2\n",
    "fig_co2 = px.box(\n",
    "    df_co2,\n",
    "    x='product_category',\n",
    "    y='value',\n",
    "    color='product_category',\n",
    "    title='Kg CO₂/person/year by Product Category',\n",
    "    labels={'Total': 'Kg CO₂/person/year', 'product_category': 'Category'},\n",
    "    hover_data= ['country']\n",
    ")\n",
    "\n",
    "fig_co2.show()"
   ]
  },
  {
   "cell_type": "code",
   "execution_count": 63,
   "id": "bb2af87e",
   "metadata": {},
   "outputs": [
    {
     "data": {
      "text/html": [
       "<div>\n",
       "<style scoped>\n",
       "    .dataframe tbody tr th:only-of-type {\n",
       "        vertical-align: middle;\n",
       "    }\n",
       "\n",
       "    .dataframe tbody tr th {\n",
       "        vertical-align: top;\n",
       "    }\n",
       "\n",
       "    .dataframe thead th {\n",
       "        text-align: right;\n",
       "    }\n",
       "</style>\n",
       "<table border=\"1\" class=\"dataframe\">\n",
       "  <thead>\n",
       "    <tr style=\"text-align: right;\">\n",
       "      <th></th>\n",
       "      <th>product_category</th>\n",
       "      <th>metric</th>\n",
       "      <th>min</th>\n",
       "      <th>max</th>\n",
       "    </tr>\n",
       "  </thead>\n",
       "  <tbody>\n",
       "    <tr>\n",
       "      <th>0</th>\n",
       "      <td>Animal</td>\n",
       "      <td>Supplied for Consumption (kg/person/year)</td>\n",
       "      <td>0.0</td>\n",
       "      <td>430.76</td>\n",
       "    </tr>\n",
       "    <tr>\n",
       "      <th>1</th>\n",
       "      <td>Non-animal</td>\n",
       "      <td>Kg CO2/person/year</td>\n",
       "      <td>0.0</td>\n",
       "      <td>219.76</td>\n",
       "    </tr>\n",
       "    <tr>\n",
       "      <th>2</th>\n",
       "      <td>Non-animal</td>\n",
       "      <td>Supplied for Consumption (kg/person/year)</td>\n",
       "      <td>0.0</td>\n",
       "      <td>197.50</td>\n",
       "    </tr>\n",
       "    <tr>\n",
       "      <th>3</th>\n",
       "      <td>Animal</td>\n",
       "      <td>Kg CO2/person/year</td>\n",
       "      <td>0.0</td>\n",
       "      <td>1712.00</td>\n",
       "    </tr>\n",
       "  </tbody>\n",
       "</table>\n",
       "</div>"
      ],
      "text/plain": [
       "  product_category                                     metric  min      max\n",
       "0           Animal  Supplied for Consumption (kg/person/year)  0.0   430.76\n",
       "1       Non-animal                         Kg CO2/person/year  0.0   219.76\n",
       "2       Non-animal  Supplied for Consumption (kg/person/year)  0.0   197.50\n",
       "3           Animal                         Kg CO2/person/year  0.0  1712.00"
      ]
     },
     "execution_count": 63,
     "metadata": {},
     "output_type": "execute_result"
    }
   ],
   "source": [
    "query = \"\"\"\n",
    "    SELECT product_category,\n",
    "           metric,\n",
    "           MIN(value) AS min,\n",
    "           MAX(value) AS max\n",
    "    FROM foodprint1\n",
    "    GROUP BY product_category, metric\n",
    "\"\"\"\n",
    "\n",
    "\n",
    "fetch_query_results('query', query)"
   ]
  },
  {
   "cell_type": "code",
   "execution_count": 65,
   "id": "a922588a",
   "metadata": {},
   "outputs": [
    {
     "data": {
      "text/html": [
       "<div>\n",
       "<style scoped>\n",
       "    .dataframe tbody tr th:only-of-type {\n",
       "        vertical-align: middle;\n",
       "    }\n",
       "\n",
       "    .dataframe tbody tr th {\n",
       "        vertical-align: top;\n",
       "    }\n",
       "\n",
       "    .dataframe thead th {\n",
       "        text-align: right;\n",
       "    }\n",
       "</style>\n",
       "<table border=\"1\" class=\"dataframe\">\n",
       "  <thead>\n",
       "    <tr style=\"text-align: right;\">\n",
       "      <th></th>\n",
       "      <th>product_category</th>\n",
       "      <th>metric</th>\n",
       "      <th>value</th>\n",
       "    </tr>\n",
       "  </thead>\n",
       "  <tbody>\n",
       "    <tr>\n",
       "      <th>0</th>\n",
       "      <td>Kuwait</td>\n",
       "      <td>Supplied for Consumption (kg/person/year)</td>\n",
       "      <td>0.0</td>\n",
       "    </tr>\n",
       "    <tr>\n",
       "      <th>1</th>\n",
       "      <td>United Arab Emirates</td>\n",
       "      <td>Supplied for Consumption (kg/person/year)</td>\n",
       "      <td>0.0</td>\n",
       "    </tr>\n",
       "    <tr>\n",
       "      <th>2</th>\n",
       "      <td>Algeria</td>\n",
       "      <td>Supplied for Consumption (kg/person/year)</td>\n",
       "      <td>0.0</td>\n",
       "    </tr>\n",
       "    <tr>\n",
       "      <th>3</th>\n",
       "      <td>Pakistan</td>\n",
       "      <td>Supplied for Consumption (kg/person/year)</td>\n",
       "      <td>0.0</td>\n",
       "    </tr>\n",
       "    <tr>\n",
       "      <th>4</th>\n",
       "      <td>Saudi Arabia</td>\n",
       "      <td>Supplied for Consumption (kg/person/year)</td>\n",
       "      <td>0.0</td>\n",
       "    </tr>\n",
       "    <tr>\n",
       "      <th>...</th>\n",
       "      <td>...</td>\n",
       "      <td>...</td>\n",
       "      <td>...</td>\n",
       "    </tr>\n",
       "    <tr>\n",
       "      <th>70</th>\n",
       "      <td>Ghana</td>\n",
       "      <td>Kg CO2/person/year</td>\n",
       "      <td>0.0</td>\n",
       "    </tr>\n",
       "    <tr>\n",
       "      <th>71</th>\n",
       "      <td>Togo</td>\n",
       "      <td>Kg CO2/person/year</td>\n",
       "      <td>0.0</td>\n",
       "    </tr>\n",
       "    <tr>\n",
       "      <th>72</th>\n",
       "      <td>Gambia</td>\n",
       "      <td>Kg CO2/person/year</td>\n",
       "      <td>0.0</td>\n",
       "    </tr>\n",
       "    <tr>\n",
       "      <th>73</th>\n",
       "      <td>Sierra Leone</td>\n",
       "      <td>Kg CO2/person/year</td>\n",
       "      <td>0.0</td>\n",
       "    </tr>\n",
       "    <tr>\n",
       "      <th>74</th>\n",
       "      <td>Sri Lanka</td>\n",
       "      <td>Kg CO2/person/year</td>\n",
       "      <td>0.0</td>\n",
       "    </tr>\n",
       "  </tbody>\n",
       "</table>\n",
       "<p>75 rows × 3 columns</p>\n",
       "</div>"
      ],
      "text/plain": [
       "        product_category                                     metric  value\n",
       "0                 Kuwait  Supplied for Consumption (kg/person/year)    0.0\n",
       "1   United Arab Emirates  Supplied for Consumption (kg/person/year)    0.0\n",
       "2                Algeria  Supplied for Consumption (kg/person/year)    0.0\n",
       "3               Pakistan  Supplied for Consumption (kg/person/year)    0.0\n",
       "4           Saudi Arabia  Supplied for Consumption (kg/person/year)    0.0\n",
       "..                   ...                                        ...    ...\n",
       "70                 Ghana                         Kg CO2/person/year    0.0\n",
       "71                  Togo                         Kg CO2/person/year    0.0\n",
       "72                Gambia                         Kg CO2/person/year    0.0\n",
       "73          Sierra Leone                         Kg CO2/person/year    0.0\n",
       "74             Sri Lanka                         Kg CO2/person/year    0.0\n",
       "\n",
       "[75 rows x 3 columns]"
      ]
     },
     "execution_count": 65,
     "metadata": {},
     "output_type": "execute_result"
    }
   ],
   "source": [
    "query = \"\"\"\n",
    "    SELECT country\n",
    "           product_Category,\n",
    "           metric,\n",
    "           value\n",
    "        FROM foodprint1\n",
    "        WHERE value = 0\n",
    "\"\"\"\n",
    "\n",
    "fetch_query_results('query', query)"
   ]
  }
 ],
 "metadata": {
  "kernelspec": {
   "display_name": "DataScience",
   "language": "python",
   "name": "python3"
  },
  "language_info": {
   "codemirror_mode": {
    "name": "ipython",
    "version": 3
   },
   "file_extension": ".py",
   "mimetype": "text/x-python",
   "name": "python",
   "nbconvert_exporter": "python",
   "pygments_lexer": "ipython3",
   "version": "3.8.11"
  }
 },
 "nbformat": 4,
 "nbformat_minor": 5
}
