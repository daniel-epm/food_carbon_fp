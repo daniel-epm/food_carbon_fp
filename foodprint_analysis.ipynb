{
 "cells": [
  {
   "cell_type": "code",
   "execution_count": null,
   "id": "1f896b7f",
   "metadata": {},
   "outputs": [],
   "source": [
    "# Import libraries\n",
    "import os\n",
    "import pandas as pd\n",
    "from sqlalchemy import create_engine, inspect, MetaData, Table, select, func\n",
    "from local_settings import postgresql as settings"
   ]
  },
  {
   "cell_type": "code",
   "execution_count": null,
   "id": "c6e841e2",
   "metadata": {},
   "outputs": [],
   "source": [
    "# Define a function for creating the sqlalchemy engine\n",
    "def get_engine(user, passwd, host, port, db):\n",
    "    url = f\"postgresql+psycopg2://{user}:{passwd}@{host}:{port}/{db}\"\n",
    "    engine = create_engine(url, pool_size= 50, echo= False)\n",
    "\n",
    "    return engine"
   ]
  },
  {
   "cell_type": "code",
   "execution_count": null,
   "id": "b1f8f774",
   "metadata": {},
   "outputs": [],
   "source": [
    "# Create the engine and respective connection\n",
    "\n",
    "engine = get_engine(\n",
    "    user= settings['pguser'],\n",
    "    passwd=settings['pgpasswd'],\n",
    "    host=settings['pghost'],\n",
    "    port=settings['pgport'],\n",
    "    db=settings['pgdb']\n",
    ")\n",
    "\n",
    "connection = engine.connect()"
   ]
  },
  {
   "cell_type": "markdown",
   "id": "d5e5fdae",
   "metadata": {},
   "source": [
    "Once the engine is connected to the remote database, we can use the `inspect` function from SQLAlchemy to examine the contents of the database, i.e. its tables."
   ]
  },
  {
   "cell_type": "code",
   "execution_count": null,
   "id": "657b1cb9",
   "metadata": {},
   "outputs": [
    {
     "name": "stdout",
     "output_type": "stream",
     "text": [
      "[]\n"
     ]
    }
   ],
   "source": [
    "inspector = inspect(engine)\n",
    "\n",
    "print(inspector.get_table_names())"
   ]
  },
  {
   "cell_type": "code",
   "execution_count": 46,
   "id": "fc7f37bf",
   "metadata": {},
   "outputs": [
    {
     "data": {
      "text/plain": [
       "250"
      ]
     },
     "execution_count": 46,
     "metadata": {},
     "output_type": "execute_result"
    }
   ],
   "source": [
    "path = os.getcwd() + '/food_carbon_footprint_2018_long.csv'\n",
    "foodprint_2018 = pd.read_csv(path, sep= ';')\n",
    "foodprint_2018.to_sql(name= 'foodprint', con= connection, if_exists= 'replace', index= False)"
   ]
  },
  {
   "cell_type": "code",
   "execution_count": 4,
   "id": "f227e336",
   "metadata": {},
   "outputs": [
    {
     "name": "stdout",
     "output_type": "stream",
     "text": [
      "['foodprint']\n"
     ]
    }
   ],
   "source": [
    "inspector = inspect(engine)\n",
    "\n",
    "print(inspector.get_table_names())"
   ]
  },
  {
   "cell_type": "code",
   "execution_count": 5,
   "id": "415ef9a7",
   "metadata": {},
   "outputs": [],
   "source": [
    "metadata= MetaData()\n",
    "foodprint = Table('foodprint', metadata, autoload_replace= True, autoload_with= engine)"
   ]
  },
  {
   "cell_type": "code",
   "execution_count": 6,
   "id": "b9458b66",
   "metadata": {},
   "outputs": [
    {
     "name": "stdout",
     "output_type": "stream",
     "text": [
      "SELECT foodprint.country, foodprint.product, foodprint.metric, foodprint.value \n",
      "FROM foodprint \n",
      "\n",
      "       country product                                     metric  value\n",
      "0    Argentina    Pork  Supplied for Consumption (kg/person/year)  10.51\n",
      "1    Australia    Pork  Supplied for Consumption (kg/person/year)  24.14\n",
      "2      Albania    Pork  Supplied for Consumption (kg/person/year)  10.88\n",
      "3      Iceland    Pork  Supplied for Consumption (kg/person/year)  21.69\n",
      "4  New Zealand    Pork  Supplied for Consumption (kg/person/year)  22.29\n"
     ]
    }
   ],
   "source": [
    "stmt = select(foodprint)\n",
    "\n",
    "print(stmt, '\\n')\n",
    "print(pd.DataFrame(connection.execute(stmt).fetchall()).head(5))\n"
   ]
  },
  {
   "cell_type": "code",
   "execution_count": 7,
   "id": "34a3d79b",
   "metadata": {},
   "outputs": [
    {
     "name": "stdout",
     "output_type": "stream",
     "text": [
      "country: TEXT\n",
      "product: TEXT\n",
      "metric: TEXT\n",
      "value: DOUBLE PRECISION\n"
     ]
    }
   ],
   "source": [
    "# Data type of each column\n",
    "for column in foodprint.columns:\n",
    "    print(f\"{column.key}: {column.type}\")"
   ]
  },
  {
   "cell_type": "code",
   "execution_count": 28,
   "id": "f27475ae",
   "metadata": {},
   "outputs": [
    {
     "name": "stdout",
     "output_type": "stream",
     "text": [
      "Missing values: \n",
      "\n",
      "country: 0\n",
      "product: 0\n",
      "metric: 0\n",
      "value: 0\n"
     ]
    }
   ],
   "source": [
    "# Missing data in each column\n",
    "print(\"Missing values: \\n\")\n",
    "for column in foodprint.columns:\n",
    "    stmt = select(func.count()).where(column.is_(None))\n",
    "    result = connection.execute(stmt).scalar()\n",
    "    print(f\"{column.key}: {result}\")"
   ]
  },
  {
   "cell_type": "code",
   "execution_count": 9,
   "id": "05c3c4c6",
   "metadata": {},
   "outputs": [
    {
     "data": {
      "text/html": [
       "<div>\n",
       "<style scoped>\n",
       "    .dataframe tbody tr th:only-of-type {\n",
       "        vertical-align: middle;\n",
       "    }\n",
       "\n",
       "    .dataframe tbody tr th {\n",
       "        vertical-align: top;\n",
       "    }\n",
       "\n",
       "    .dataframe thead th {\n",
       "        text-align: right;\n",
       "    }\n",
       "</style>\n",
       "<table border=\"1\" class=\"dataframe\">\n",
       "  <thead>\n",
       "    <tr style=\"text-align: right;\">\n",
       "      <th></th>\n",
       "      <th>product</th>\n",
       "      <th>metric</th>\n",
       "      <th>count</th>\n",
       "    </tr>\n",
       "  </thead>\n",
       "  <tbody>\n",
       "    <tr>\n",
       "      <th>0</th>\n",
       "      <td>Animal products</td>\n",
       "      <td>Total Kg CO2/year/person</td>\n",
       "      <td>130</td>\n",
       "    </tr>\n",
       "    <tr>\n",
       "      <th>1</th>\n",
       "      <td>Beef</td>\n",
       "      <td>Kg CO2/person/year</td>\n",
       "      <td>130</td>\n",
       "    </tr>\n",
       "    <tr>\n",
       "      <th>2</th>\n",
       "      <td>Beef</td>\n",
       "      <td>Supplied for Consumption (kg/person/year)</td>\n",
       "      <td>130</td>\n",
       "    </tr>\n",
       "    <tr>\n",
       "      <th>3</th>\n",
       "      <td>Difference Animal Non-Animals</td>\n",
       "      <td>Products/person/year in kg</td>\n",
       "      <td>130</td>\n",
       "    </tr>\n",
       "    <tr>\n",
       "      <th>4</th>\n",
       "      <td>Eggs</td>\n",
       "      <td>Kg CO2/person/year</td>\n",
       "      <td>130</td>\n",
       "    </tr>\n",
       "    <tr>\n",
       "      <th>5</th>\n",
       "      <td>Eggs</td>\n",
       "      <td>Supplied for Consumption (kg/person/year)</td>\n",
       "      <td>130</td>\n",
       "    </tr>\n",
       "    <tr>\n",
       "      <th>6</th>\n",
       "      <td>Fish</td>\n",
       "      <td>Kg CO2/person/year</td>\n",
       "      <td>130</td>\n",
       "    </tr>\n",
       "    <tr>\n",
       "      <th>7</th>\n",
       "      <td>Fish</td>\n",
       "      <td>Supplied for Consumption (kg/person/year)</td>\n",
       "      <td>130</td>\n",
       "    </tr>\n",
       "    <tr>\n",
       "      <th>8</th>\n",
       "      <td>Lamb &amp; Goat</td>\n",
       "      <td>Kg CO2/person/year</td>\n",
       "      <td>130</td>\n",
       "    </tr>\n",
       "    <tr>\n",
       "      <th>9</th>\n",
       "      <td>Lamb &amp; Goat</td>\n",
       "      <td>Supplied for Consumption (kg/person/year)</td>\n",
       "      <td>130</td>\n",
       "    </tr>\n",
       "    <tr>\n",
       "      <th>10</th>\n",
       "      <td>Milk - inc. Cheese</td>\n",
       "      <td>Kg CO2/person/year</td>\n",
       "      <td>130</td>\n",
       "    </tr>\n",
       "    <tr>\n",
       "      <th>11</th>\n",
       "      <td>Milk - inc. Cheese</td>\n",
       "      <td>Supplied for Consumption (kg/person/year)</td>\n",
       "      <td>130</td>\n",
       "    </tr>\n",
       "    <tr>\n",
       "      <th>12</th>\n",
       "      <td>Non-animal products</td>\n",
       "      <td>Total Kg CO2/year/person</td>\n",
       "      <td>130</td>\n",
       "    </tr>\n",
       "    <tr>\n",
       "      <th>13</th>\n",
       "      <td>Nuts inc. Peanut Butter</td>\n",
       "      <td>Kg CO2/person/year</td>\n",
       "      <td>130</td>\n",
       "    </tr>\n",
       "    <tr>\n",
       "      <th>14</th>\n",
       "      <td>Nuts inc. Peanut Butter</td>\n",
       "      <td>Supplied for Consumption (kg/person/year)</td>\n",
       "      <td>130</td>\n",
       "    </tr>\n",
       "    <tr>\n",
       "      <th>15</th>\n",
       "      <td>Pork</td>\n",
       "      <td>Kg CO2/person/year</td>\n",
       "      <td>130</td>\n",
       "    </tr>\n",
       "    <tr>\n",
       "      <th>16</th>\n",
       "      <td>Pork</td>\n",
       "      <td>Supplied for Consumption (kg/person/year)</td>\n",
       "      <td>130</td>\n",
       "    </tr>\n",
       "    <tr>\n",
       "      <th>17</th>\n",
       "      <td>Poultry</td>\n",
       "      <td>Kg CO2/person/year</td>\n",
       "      <td>130</td>\n",
       "    </tr>\n",
       "    <tr>\n",
       "      <th>18</th>\n",
       "      <td>Poultry</td>\n",
       "      <td>Supplied for Consumption (kg/person/year)</td>\n",
       "      <td>130</td>\n",
       "    </tr>\n",
       "    <tr>\n",
       "      <th>19</th>\n",
       "      <td>Rice</td>\n",
       "      <td>Kg CO2/person/year</td>\n",
       "      <td>130</td>\n",
       "    </tr>\n",
       "    <tr>\n",
       "      <th>20</th>\n",
       "      <td>Rice</td>\n",
       "      <td>Supplied for Consumption (kg/person/year)</td>\n",
       "      <td>130</td>\n",
       "    </tr>\n",
       "    <tr>\n",
       "      <th>21</th>\n",
       "      <td>Soybeans</td>\n",
       "      <td>Kg CO2/person/year</td>\n",
       "      <td>130</td>\n",
       "    </tr>\n",
       "    <tr>\n",
       "      <th>22</th>\n",
       "      <td>Soybeans</td>\n",
       "      <td>Supplied for Consumption (kg/person/year)</td>\n",
       "      <td>130</td>\n",
       "    </tr>\n",
       "    <tr>\n",
       "      <th>23</th>\n",
       "      <td>Wheat &amp; Wheat Products</td>\n",
       "      <td>Kg CO2/person/year</td>\n",
       "      <td>130</td>\n",
       "    </tr>\n",
       "    <tr>\n",
       "      <th>24</th>\n",
       "      <td>Wheat &amp; Wheat Products</td>\n",
       "      <td>Supplied for Consumption (kg/person/year)</td>\n",
       "      <td>130</td>\n",
       "    </tr>\n",
       "  </tbody>\n",
       "</table>\n",
       "</div>"
      ],
      "text/plain": [
       "                          product                                     metric  \\\n",
       "0                 Animal products                   Total Kg CO2/year/person   \n",
       "1                            Beef                         Kg CO2/person/year   \n",
       "2                            Beef  Supplied for Consumption (kg/person/year)   \n",
       "3   Difference Animal Non-Animals                 Products/person/year in kg   \n",
       "4                            Eggs                         Kg CO2/person/year   \n",
       "5                            Eggs  Supplied for Consumption (kg/person/year)   \n",
       "6                            Fish                         Kg CO2/person/year   \n",
       "7                            Fish  Supplied for Consumption (kg/person/year)   \n",
       "8                     Lamb & Goat                         Kg CO2/person/year   \n",
       "9                     Lamb & Goat  Supplied for Consumption (kg/person/year)   \n",
       "10             Milk - inc. Cheese                         Kg CO2/person/year   \n",
       "11             Milk - inc. Cheese  Supplied for Consumption (kg/person/year)   \n",
       "12            Non-animal products                   Total Kg CO2/year/person   \n",
       "13        Nuts inc. Peanut Butter                         Kg CO2/person/year   \n",
       "14        Nuts inc. Peanut Butter  Supplied for Consumption (kg/person/year)   \n",
       "15                           Pork                         Kg CO2/person/year   \n",
       "16                           Pork  Supplied for Consumption (kg/person/year)   \n",
       "17                        Poultry                         Kg CO2/person/year   \n",
       "18                        Poultry  Supplied for Consumption (kg/person/year)   \n",
       "19                           Rice                         Kg CO2/person/year   \n",
       "20                           Rice  Supplied for Consumption (kg/person/year)   \n",
       "21                       Soybeans                         Kg CO2/person/year   \n",
       "22                       Soybeans  Supplied for Consumption (kg/person/year)   \n",
       "23         Wheat & Wheat Products                         Kg CO2/person/year   \n",
       "24         Wheat & Wheat Products  Supplied for Consumption (kg/person/year)   \n",
       "\n",
       "    count  \n",
       "0     130  \n",
       "1     130  \n",
       "2     130  \n",
       "3     130  \n",
       "4     130  \n",
       "5     130  \n",
       "6     130  \n",
       "7     130  \n",
       "8     130  \n",
       "9     130  \n",
       "10    130  \n",
       "11    130  \n",
       "12    130  \n",
       "13    130  \n",
       "14    130  \n",
       "15    130  \n",
       "16    130  \n",
       "17    130  \n",
       "18    130  \n",
       "19    130  \n",
       "20    130  \n",
       "21    130  \n",
       "22    130  \n",
       "23    130  \n",
       "24    130  "
      ]
     },
     "execution_count": 9,
     "metadata": {},
     "output_type": "execute_result"
    }
   ],
   "source": [
    "# Number of countries under analysis for each product and metric\n",
    "\n",
    "query = \"\"\"\n",
    "    SELECT product,\n",
    "           metric,\n",
    "           COUNT(country)\n",
    "        FROM foodprint\n",
    "        GROUP BY product, metric\n",
    "        ORDER BY product, metric\n",
    "\"\"\"\n",
    "\n",
    "pd.read_sql_query(query, con= connection)\n"
   ]
  },
  {
   "cell_type": "markdown",
   "id": "e0d02f45",
   "metadata": {},
   "source": [
    "In the `product` and `metric` fields, there are a few values that do not correspond directly to individual items in these categories, as they aggregate information at a global level. Specifically, the values `Animal products` and `Non-animal products` appear in the `product` field, and both are associated with the metric `Total Kg CO₂/year/person` in the `metric` field.\n",
    "\n",
    "To address this particular feature of the dataset, it can be transformed by filtering out these values and then creating a new categorical field that distinguishes between the `Animal` and `Non-animal` product categories."
   ]
  },
  {
   "cell_type": "code",
   "execution_count": null,
   "id": "c3bf9065",
   "metadata": {},
   "outputs": [],
   "source": []
  },
  {
   "cell_type": "markdown",
   "id": "748c37ce",
   "metadata": {},
   "source": []
  }
 ],
 "metadata": {
  "kernelspec": {
   "display_name": "DataScience",
   "language": "python",
   "name": "python3"
  },
  "language_info": {
   "codemirror_mode": {
    "name": "ipython",
    "version": 3
   },
   "file_extension": ".py",
   "mimetype": "text/x-python",
   "name": "python",
   "nbconvert_exporter": "python",
   "pygments_lexer": "ipython3",
   "version": "3.8.11"
  }
 },
 "nbformat": 4,
 "nbformat_minor": 5
}
